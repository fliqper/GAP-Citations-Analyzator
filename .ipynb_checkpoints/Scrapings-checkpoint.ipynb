{
 "cells": [
  {
   "cell_type": "markdown",
   "metadata": {},
   "source": [
    "### Full scraping workflow using Requests, BeautifulSoup combined with Regex"
   ]
  },
  {
   "cell_type": "markdown",
   "metadata": {},
   "source": [
    "First we call the libraries needed."
   ]
  },
  {
   "cell_type": "code",
   "execution_count": 1,
   "metadata": {},
   "outputs": [],
   "source": [
    "from bs4 import BeautifulSoup\n",
    "import requests\n",
    "import re\n",
    "import pandas as pd\n",
    "import itertools"
   ]
  },
  {
   "cell_type": "markdown",
   "metadata": {},
   "source": [
    "We load the input .csv file containing the MR number and conver it to a Python ```list```."
   ]
  },
  {
   "cell_type": "code",
   "execution_count": 2,
   "metadata": {},
   "outputs": [
    {
     "name": "stdout",
     "output_type": "stream",
     "text": [
      "['MR3', 'MR4044696', 'MR2900886', 'MR3169623', 'MR4180136', 'MR11', 'MR1111111', 'MR5', 'MR7', 'MR9', 'MRMR4044697']\n"
     ]
    }
   ],
   "source": [
    "input_test = pd.read_csv('test_input.csv')\n",
    "mrn = (input_test['0'].tolist())\n",
    "print(mrn)"
   ]
  },
  {
   "cell_type": "markdown",
   "metadata": {},
   "source": [
    "We define two functions used together to find all GAP citations by HTMl element and text contained inside it. They can be re-used in future we-scraping projects too."
   ]
  },
  {
   "cell_type": "code",
   "execution_count": 3,
   "metadata": {},
   "outputs": [],
   "source": [
    "MATCH_ALL = r'.*'\n",
    "\n",
    "\n",
    "def like(string):\n",
    "    \"\"\"\n",
    "    Return a compiled regular expression that matches the given\n",
    "    string with any prefix and postfix, e.g. if string = \"hello\",\n",
    "    the returned regex matches r\".*hello.*\"\n",
    "    \"\"\"\n",
    "    string_ = string\n",
    "    if not isinstance(string_, str):\n",
    "        string_ = str(string_)\n",
    "    regex = MATCH_ALL + re.escape(string_) + MATCH_ALL\n",
    "    return re.compile(regex, flags=re.DOTALL)\n",
    "\n",
    "\n",
    "def find_by_text(soup, text, tag,mrn, **kwargs):\n",
    "    \"\"\"\n",
    "    Find the tag in soup that matches all provided kwargs, and contains the\n",
    "    text.\n",
    "\n",
    "    If no match is found, raise ValueError.\n",
    "    \"\"\"\n",
    "    empty = 1\n",
    "    elements = soup.find_all(tag, **kwargs)\n",
    "    matches = []\n",
    "    for element in elements:\n",
    "        if element.find(text=like(text)):\n",
    "            matches.append(mrn + \": \" + element.text.strip())\n",
    "    if len(matches) == 0:\n",
    "        pass\n",
    "    else:\n",
    "        return matches"
   ]
  },
  {
   "cell_type": "code",
   "execution_count": null,
   "metadata": {},
   "outputs": [],
   "source": []
  },
  {
   "cell_type": "code",
   "execution_count": 46,
   "metadata": {
    "scrolled": true
   },
   "outputs": [
    {
     "data": {
      "text/plain": [
       "[None,\n",
       " ['MR4044696: The GAP Group, GAP – groups, algorithms and programming, version 4.10, Available from http://www.gap-system.org, 2018.'],\n",
       " ['MR2900886: The GAP Group, $GAP$ groups, algorithms, and programming, version 4.4.12 (2008), http://www.gap-system.org.'],\n",
       " ['MR3169623: Distler, A., Mitchell, J. D. (2011). Smallsemi - A Library of Small Semigroups. http://tinyurl.com/jdmitchell/smallsemi/, Oct A GAP 4 package [5], Version 0.6.4.',\n",
       "  'MR3169623: The GAP Group, (2008). (http://www.gap-system.org). GAP–Groups, Algorithms, and Programming, Version 4.4.12.'],\n",
       " ['MR4180136: The GAP Group, 2019. GAP – Groups, Algorithms, and Programming, Version 4.10.1; https://www.gap-system.org.'],\n",
       " ['MR11: GAP group'],\n",
       " ['MR1111111: Distler, A., Mitchell, J. D. (2011). Smallsemi - A Library of Small Semigroups. http://tinyurl.com/jdmitchell/smallsemi/, Oct A GAP 4 package [5], Version 0.6.4.',\n",
       "  'MR1111111: The GAP Group, (2008). (http://www.gap-system.org). GAP–Groups, Algorithms, and Programming, Version 4.4.12.'],\n",
       " ['MR5: V. A. Artamonov and A. A. Bovdi, Integral gro GAP up rings: Groups of invertible elements and classical $K$-theory, in Algebra, Topology, Geometry, Vol. 27 (Russian), Itogi Nauki i Tekhniki, 232. (Vsesoyuz. Inst. Nauchn. i Tekhn. Inform., Moscow, 1989), pp. 3–43. \\nMR1039822',\n",
       "  \"MR5: V. Bovdi, A. Grishkov and A. Konovalov, Kimmerle @GAP a lapa conjecture for the Held and O'Nan sporadic simple groups, Sci. Math. Jpn. 69(3) (2009) 353–361. \\nMR2510100\",\n",
       "  'MR5: V. Bovdi and A. Konovalov, Integral group ringaper GAP? eg of the McLaughlin simple group, Algebra Discrete Math. 2 (2007) 43–53. \\nMR2364062'],\n",
       " ['MR7: V. A. Artamonov and A. A. Bovdi, Integral gro GAP up rings: Groups of invertible elements and classical $K$-theory, in Algebra, Topology, Geometry, Vol. 27 (Russian), Itogi Nauki i Tekhniki, 232. (Vsesoyuz. Inst. Nauchn. i Tekhn. Inform., Moscow, 1989), pp. 3–43. \\nMR1039822',\n",
       "  \"MR7: V. Bovdi, A. Grishkov and A. Konovalov, Kimmerle @GAP a lapa conjecture for the Held and O'Nan sporadic simple groups, Sci. Math. Jpn. 69(3) (2009) 353–361. \\nMR2510100\",\n",
       "  'MR7: V. Bovdi, E. Jespers and A. Konovalov, Tors gap ion gap GAP gappen units in integral group rings of Janko sgapimple groups, Math. Comp. 80 (2011) 593–615. \\nMR2728996',\n",
       "  'MR7: V. Bovdi and A. Konovalov, Integral group ringaper GAP? eg of the McLaughlin simple group, Algebra Discrete Math. 2 (2007) 43–53. \\nMR2364062'],\n",
       " ['MR9: The GAP Group, $GAP$ groups, algorithms, and programming, version 4.4.12 (2008), http://www.gap-system.org.'],\n",
       " None]"
      ]
     },
     "execution_count": 46,
     "metadata": {},
     "output_type": "execute_result"
    }
   ],
   "source": [
    "base_URL = \"https://sis1.host.cs.st-andrews.ac.uk/GAP/\"\n",
    "#mrn = [\"MR3\", \"MR4044696\", \"MR2900886\", \"MR3169623\", \"MR4180136\", \"MR4044697\", \"MR7\", \"MR5\", \"MR1111111\", \"MR11\"]\n",
    "url_list = []\n",
    "all_matches = []\n",
    "\n",
    "for i in range(len(mrn)):\n",
    "    url = (base_URL + mrn[i] + '.html')\n",
    "    url_list.append(url) #for records keeping only, not really needed \n",
    "    page = requests.get(url)\n",
    "    soup = BeautifulSoup(page.content, 'html.parser')\n",
    "    match = (find_by_text(soup, 'GAP', 'li', mrn[i]))\n",
    "    all_matches.append(match)\n",
    "    \n",
    "all_matches"
   ]
  },
  {
   "cell_type": "code",
   "execution_count": 6,
   "metadata": {
    "scrolled": true
   },
   "outputs": [
    {
     "name": "stdout",
     "output_type": "stream",
     "text": [
      "<class 'NoneType'>\n"
     ]
    }
   ],
   "source": [
    "print(type(all_matches[0]))"
   ]
  },
  {
   "cell_type": "markdown",
   "metadata": {},
   "source": [
    "Some of the test HTMLs did not contain the word GAP and they returned NoneType elements. Using the following list comprehension we will remove them from the results before we continue."
   ]
  },
  {
   "cell_type": "code",
   "execution_count": 7,
   "metadata": {},
   "outputs": [],
   "source": [
    "all_matches = [i for i in all_matches if i is not None]\n",
    "print(all_matches)"
   ]
  },
  {
   "cell_type": "code",
   "execution_count": 9,
   "metadata": {
    "scrolled": true
   },
   "outputs": [
    {
     "name": "stdout",
     "output_type": "stream",
     "text": [
      "<class 'NoneType'>\n",
      "<class 'list'>\n",
      "Results count is: 9\n",
      "['MR3169623: Distler, A., Mitchell, J. D. (2011). Smallsemi - A Library of Small Semigroups. http://tinyurl.com/jdmitchell/smallsemi/, Oct A GAP 4 package [5], Version 0.6.4.', 'MR3169623: The GAP Group, (2008). (http://www.gap-system.org). GAP–Groups, Algorithms, and Programming, Version 4.4.12.']\n"
     ]
    }
   ],
   "source": [
    "print(type(match))\n",
    "print(type(all_matches))\n",
    "print('Results count is:', len(all_matches))\n",
    "print(all_matches[2])"
   ]
  },
  {
   "cell_type": "code",
   "execution_count": 45,
   "metadata": {},
   "outputs": [
    {
     "data": {
      "text/plain": [
       "['MR4044696: The GAP Group, GAP – groups, algorithms and programming, version 4.10, Available from http://www.gap-system.org, 2018.',\n",
       " 'MR2900886: The GAP Group, $GAP$ groups, algorithms, and programming, version 4.4.12 (2008), http://www.gap-system.org.',\n",
       " 'MR3169623: Distler, A., Mitchell, J. D. (2011). Smallsemi - A Library of Small Semigroups. http://tinyurl.com/jdmitchell/smallsemi/, Oct A GAP 4 package [5], Version 0.6.4.',\n",
       " 'MR3169623: The GAP Group, (2008). (http://www.gap-system.org). GAP–Groups, Algorithms, and Programming, Version 4.4.12.',\n",
       " 'MR4180136: The GAP Group, 2019. GAP – Groups, Algorithms, and Programming, Version 4.10.1; https://www.gap-system.org.',\n",
       " 'MR11: GAP group',\n",
       " 'MR1111111: Distler, A., Mitchell, J. D. (2011). Smallsemi - A Library of Small Semigroups. http://tinyurl.com/jdmitchell/smallsemi/, Oct A GAP 4 package [5], Version 0.6.4.',\n",
       " 'MR1111111: The GAP Group, (2008). (http://www.gap-system.org). GAP–Groups, Algorithms, and Programming, Version 4.4.12.',\n",
       " 'MR5: V. A. Artamonov and A. A. Bovdi, Integral gro GAP up rings: Groups of invertible elements and classical $K$-theory, in Algebra, Topology, Geometry, Vol. 27 (Russian), Itogi Nauki i Tekhniki, 232. (Vsesoyuz. Inst. Nauchn. i Tekhn. Inform., Moscow, 1989), pp. 3–43. \\nMR1039822',\n",
       " \"MR5: V. Bovdi, A. Grishkov and A. Konovalov, Kimmerle @GAP a lapa conjecture for the Held and O'Nan sporadic simple groups, Sci. Math. Jpn. 69(3) (2009) 353–361. \\nMR2510100\",\n",
       " 'MR5: V. Bovdi and A. Konovalov, Integral group ringaper GAP? eg of the McLaughlin simple group, Algebra Discrete Math. 2 (2007) 43–53. \\nMR2364062',\n",
       " 'MR7: V. A. Artamonov and A. A. Bovdi, Integral gro GAP up rings: Groups of invertible elements and classical $K$-theory, in Algebra, Topology, Geometry, Vol. 27 (Russian), Itogi Nauki i Tekhniki, 232. (Vsesoyuz. Inst. Nauchn. i Tekhn. Inform., Moscow, 1989), pp. 3–43. \\nMR1039822',\n",
       " \"MR7: V. Bovdi, A. Grishkov and A. Konovalov, Kimmerle @GAP a lapa conjecture for the Held and O'Nan sporadic simple groups, Sci. Math. Jpn. 69(3) (2009) 353–361. \\nMR2510100\",\n",
       " 'MR7: V. Bovdi, E. Jespers and A. Konovalov, Tors gap ion gap GAP gappen units in integral group rings of Janko sgapimple groups, Math. Comp. 80 (2011) 593–615. \\nMR2728996',\n",
       " 'MR7: V. Bovdi and A. Konovalov, Integral group ringaper GAP? eg of the McLaughlin simple group, Algebra Discrete Math. 2 (2007) 43–53. \\nMR2364062',\n",
       " 'MR9: The GAP Group, $GAP$ groups, algorithms, and programming, version 4.4.12 (2008), http://www.gap-system.org.']"
      ]
     },
     "execution_count": 45,
     "metadata": {},
     "output_type": "execute_result"
    }
   ],
   "source": [
    "joined = list(itertools.chain(*all_matches))\n",
    "joined"
   ]
  },
  {
   "cell_type": "code",
   "execution_count": 11,
   "metadata": {
    "scrolled": true
   },
   "outputs": [
    {
     "name": "stdout",
     "output_type": "stream",
     "text": [
      "MR3169623: The GAP Group, (2008). (http://www.gap-system.org). GAP–Groups, Algorithms, and Programming, Version 4.4.12.\n",
      "<class 'list'>\n",
      "<class 'str'>\n",
      "Now the Results count is: 16  which confirms that our program also catches GAP Packages citation as separate results.\n"
     ]
    }
   ],
   "source": [
    "print(joined[3])\n",
    "print(type(joined))\n",
    "print(type(joined[1]))\n",
    "print('Now the Results count is:', len(joined), ' which confirms that our program also catches GAP Packages citation as separate results.')"
   ]
  },
  {
   "cell_type": "code",
   "execution_count": 19,
   "metadata": {},
   "outputs": [
    {
     "data": {
      "text/plain": [
       "['MR4044696: The GAP Group, GAP – groups, algorithms and programming, version 4.10, Available from http://www.gap-system.org, 2018.',\n",
       " 'MR2900886: The GAP Group, $GAP$ groups, algorithms, and programming, version 4.4.12 (2008), http://www.gap-system.org.',\n",
       " 'MR3169623: Distler, A., Mitchell, J. D. (2011). Smallsemi - A Library of Small Semigroups. http://tinyurl.com/jdmitchell/smallsemi/, Oct A GAP 4 package [5], Version 0.6.4.',\n",
       " 'MR3169623: The GAP Group, (2008). (http://www.gap-system.org). GAP–Groups, Algorithms, and Programming, Version 4.4.12.',\n",
       " 'MR4180136: The GAP Group, 2019. GAP – Groups, Algorithms, and Programming, Version 4.10.1; https://www.gap-system.org.',\n",
       " 'MR11: GAP group',\n",
       " 'MR1111111: Distler, A., Mitchell, J. D. (2011). Smallsemi - A Library of Small Semigroups. http://tinyurl.com/jdmitchell/smallsemi/, Oct A GAP 4 package [5], Version 0.6.4.',\n",
       " 'MR1111111: The GAP Group, (2008). (http://www.gap-system.org). GAP–Groups, Algorithms, and Programming, Version 4.4.12.',\n",
       " 'MR5: V. A. Artamonov and A. A. Bovdi, Integral gro GAP up rings: Groups of invertible elements and classical $K$-theory, in Algebra, Topology, Geometry, Vol. 27 (Russian), Itogi Nauki i Tekhniki, 232. (Vsesoyuz. Inst. Nauchn. i Tekhn. Inform., Moscow, 1989), pp. 3–43. \\nMR1039822',\n",
       " \"MR5: V. Bovdi, A. Grishkov and A. Konovalov, Kimmerle @GAP a lapa conjecture for the Held and O'Nan sporadic simple groups, Sci. Math. Jpn. 69(3) (2009) 353–361. \\nMR2510100\",\n",
       " 'MR5: V. Bovdi and A. Konovalov, Integral group ringaper GAP? eg of the McLaughlin simple group, Algebra Discrete Math. 2 (2007) 43–53. \\nMR2364062',\n",
       " 'MR7: V. A. Artamonov and A. A. Bovdi, Integral gro GAP up rings: Groups of invertible elements and classical $K$-theory, in Algebra, Topology, Geometry, Vol. 27 (Russian), Itogi Nauki i Tekhniki, 232. (Vsesoyuz. Inst. Nauchn. i Tekhn. Inform., Moscow, 1989), pp. 3–43. \\nMR1039822',\n",
       " \"MR7: V. Bovdi, A. Grishkov and A. Konovalov, Kimmerle @GAP a lapa conjecture for the Held and O'Nan sporadic simple groups, Sci. Math. Jpn. 69(3) (2009) 353–361. \\nMR2510100\",\n",
       " 'MR7: V. Bovdi, E. Jespers and A. Konovalov, Tors gap ion gap GAP gappen units in integral group rings of Janko sgapimple groups, Math. Comp. 80 (2011) 593–615. \\nMR2728996',\n",
       " 'MR7: V. Bovdi and A. Konovalov, Integral group ringaper GAP? eg of the McLaughlin simple group, Algebra Discrete Math. 2 (2007) 43–53. \\nMR2364062',\n",
       " 'MR9: The GAP Group, $GAP$ groups, algorithms, and programming, version 4.4.12 (2008), http://www.gap-system.org.']"
      ]
     },
     "execution_count": 19,
     "metadata": {},
     "output_type": "execute_result"
    }
   ],
   "source": [
    "joined"
   ]
  },
  {
   "cell_type": "code",
   "execution_count": 12,
   "metadata": {
    "scrolled": false
   },
   "outputs": [
    {
     "data": {
      "text/plain": [
       "['MR4044696: The GAP Group, GAP – groups, algorithms and programming, version 4.10, Available from http://www.gap-system.org, 2018.',\n",
       " 'MR2900886: The GAP Group, $GAP$ groups, algorithms, and programming, version 4.4.12 (2008), http://www.gap-system.org.',\n",
       " 'MR3169623: Distler, A., Mitchell, J. D. (2011). Smallsemi - A Library of Small Semigroups. http://tinyurl.com/jdmitchell/smallsemi/, Oct A GAP 4 package [5], Version 0.6.4.',\n",
       " 'MR3169623: The GAP Group, (2008). (http://www.gap-system.org). GAP–Groups, Algorithms, and Programming, Version 4.4.12.',\n",
       " 'MR4180136: The GAP Group, 2019. GAP – Groups, Algorithms, and Programming, Version 4.10.1; https://www.gap-system.org.',\n",
       " 'MR11: GAP group',\n",
       " 'MR1111111: Distler, A., Mitchell, J. D. (2011). Smallsemi - A Library of Small Semigroups. http://tinyurl.com/jdmitchell/smallsemi/, Oct A GAP 4 package [5], Version 0.6.4.',\n",
       " 'MR1111111: The GAP Group, (2008). (http://www.gap-system.org). GAP–Groups, Algorithms, and Programming, Version 4.4.12.',\n",
       " 'MR5: V. A. Artamonov and A. A. Bovdi, Integral gro GAP up rings: Groups of invertible elements and classical $K$-theory, in Algebra, Topology, Geometry, Vol. 27 (Russian), Itogi Nauki i Tekhniki, 232. (Vsesoyuz. Inst. Nauchn. i Tekhn. Inform., Moscow, 1989), pp. 3–43. \\nMR1039822',\n",
       " \"MR5: V. Bovdi, A. Grishkov and A. Konovalov, Kimmerle @GAP a lapa conjecture for the Held and O'Nan sporadic simple groups, Sci. Math. Jpn. 69(3) (2009) 353–361. \\nMR2510100\",\n",
       " 'MR5: V. Bovdi and A. Konovalov, Integral group ringaper GAP? eg of the McLaughlin simple group, Algebra Discrete Math. 2 (2007) 43–53. \\nMR2364062',\n",
       " 'MR7: V. A. Artamonov and A. A. Bovdi, Integral gro GAP up rings: Groups of invertible elements and classical $K$-theory, in Algebra, Topology, Geometry, Vol. 27 (Russian), Itogi Nauki i Tekhniki, 232. (Vsesoyuz. Inst. Nauchn. i Tekhn. Inform., Moscow, 1989), pp. 3–43. \\nMR1039822',\n",
       " \"MR7: V. Bovdi, A. Grishkov and A. Konovalov, Kimmerle @GAP a lapa conjecture for the Held and O'Nan sporadic simple groups, Sci. Math. Jpn. 69(3) (2009) 353–361. \\nMR2510100\",\n",
       " 'MR7: V. Bovdi, E. Jespers and A. Konovalov, Tors gap ion gap GAP gappen units in integral group rings of Janko sgapimple groups, Math. Comp. 80 (2011) 593–615. \\nMR2728996',\n",
       " 'MR7: V. Bovdi and A. Konovalov, Integral group ringaper GAP? eg of the McLaughlin simple group, Algebra Discrete Math. 2 (2007) 43–53. \\nMR2364062',\n",
       " 'MR9: The GAP Group, $GAP$ groups, algorithms, and programming, version 4.4.12 (2008), http://www.gap-system.org.']"
      ]
     },
     "execution_count": 12,
     "metadata": {},
     "output_type": "execute_result"
    }
   ],
   "source": [
    "final = []\n",
    "for i in range(len(joined)):\n",
    "    clean = (joined[i].strip())\n",
    "    final.append(clean)\n",
    "final"
   ]
  },
  {
   "cell_type": "markdown",
   "metadata": {},
   "source": [
    "### Converting our data to Pandas dataframe for further analysis"
   ]
  },
  {
   "cell_type": "code",
   "execution_count": 32,
   "metadata": {
    "scrolled": true
   },
   "outputs": [],
   "source": [
    "df = pd.DataFrame(final)"
   ]
  },
  {
   "cell_type": "code",
   "execution_count": 33,
   "metadata": {},
   "outputs": [
    {
     "data": {
      "text/plain": [
       "0    MR2900886: The GAP Group, $GAP$ groups, algori...\n",
       "Name: 1, dtype: object"
      ]
     },
     "metadata": {},
     "output_type": "display_data"
    }
   ],
   "source": [
    "display(df.iloc[1])"
   ]
  },
  {
   "cell_type": "code",
   "execution_count": 34,
   "metadata": {
    "scrolled": false
   },
   "outputs": [
    {
     "data": {
      "text/html": [
       "<div>\n",
       "<style scoped>\n",
       "    .dataframe tbody tr th:only-of-type {\n",
       "        vertical-align: middle;\n",
       "    }\n",
       "\n",
       "    .dataframe tbody tr th {\n",
       "        vertical-align: top;\n",
       "    }\n",
       "\n",
       "    .dataframe thead th {\n",
       "        text-align: right;\n",
       "    }\n",
       "</style>\n",
       "<table border=\"1\" class=\"dataframe\">\n",
       "  <thead>\n",
       "    <tr style=\"text-align: right;\">\n",
       "      <th></th>\n",
       "      <th>0</th>\n",
       "    </tr>\n",
       "  </thead>\n",
       "  <tbody>\n",
       "    <tr>\n",
       "      <th>0</th>\n",
       "      <td>MR4044696: The GAP Group, GAP – groups, algori...</td>\n",
       "    </tr>\n",
       "    <tr>\n",
       "      <th>1</th>\n",
       "      <td>MR2900886: The GAP Group, $GAP$ groups, algori...</td>\n",
       "    </tr>\n",
       "    <tr>\n",
       "      <th>2</th>\n",
       "      <td>MR3169623: Distler, A., Mitchell, J. D. (2011)...</td>\n",
       "    </tr>\n",
       "    <tr>\n",
       "      <th>3</th>\n",
       "      <td>MR3169623: The GAP Group, (2008). (http://www....</td>\n",
       "    </tr>\n",
       "    <tr>\n",
       "      <th>4</th>\n",
       "      <td>MR4180136: The GAP Group, 2019. GAP – Groups, ...</td>\n",
       "    </tr>\n",
       "    <tr>\n",
       "      <th>5</th>\n",
       "      <td>MR11: GAP group</td>\n",
       "    </tr>\n",
       "    <tr>\n",
       "      <th>6</th>\n",
       "      <td>MR1111111: Distler, A., Mitchell, J. D. (2011)...</td>\n",
       "    </tr>\n",
       "    <tr>\n",
       "      <th>7</th>\n",
       "      <td>MR1111111: The GAP Group, (2008). (http://www....</td>\n",
       "    </tr>\n",
       "    <tr>\n",
       "      <th>8</th>\n",
       "      <td>MR5: V. A. Artamonov and A. A. Bovdi, Integral...</td>\n",
       "    </tr>\n",
       "    <tr>\n",
       "      <th>9</th>\n",
       "      <td>MR5: V. Bovdi, A. Grishkov and A. Konovalov, K...</td>\n",
       "    </tr>\n",
       "    <tr>\n",
       "      <th>10</th>\n",
       "      <td>MR5: V. Bovdi and A. Konovalov, Integral group...</td>\n",
       "    </tr>\n",
       "    <tr>\n",
       "      <th>11</th>\n",
       "      <td>MR7: V. A. Artamonov and A. A. Bovdi, Integral...</td>\n",
       "    </tr>\n",
       "    <tr>\n",
       "      <th>12</th>\n",
       "      <td>MR7: V. Bovdi, A. Grishkov and A. Konovalov, K...</td>\n",
       "    </tr>\n",
       "    <tr>\n",
       "      <th>13</th>\n",
       "      <td>MR7: V. Bovdi, E. Jespers and A. Konovalov, To...</td>\n",
       "    </tr>\n",
       "    <tr>\n",
       "      <th>14</th>\n",
       "      <td>MR7: V. Bovdi and A. Konovalov, Integral group...</td>\n",
       "    </tr>\n",
       "    <tr>\n",
       "      <th>15</th>\n",
       "      <td>MR9: The GAP Group, $GAP$ groups, algorithms, ...</td>\n",
       "    </tr>\n",
       "  </tbody>\n",
       "</table>\n",
       "</div>"
      ],
      "text/plain": [
       "                                                    0\n",
       "0   MR4044696: The GAP Group, GAP – groups, algori...\n",
       "1   MR2900886: The GAP Group, $GAP$ groups, algori...\n",
       "2   MR3169623: Distler, A., Mitchell, J. D. (2011)...\n",
       "3   MR3169623: The GAP Group, (2008). (http://www....\n",
       "4   MR4180136: The GAP Group, 2019. GAP – Groups, ...\n",
       "5                                     MR11: GAP group\n",
       "6   MR1111111: Distler, A., Mitchell, J. D. (2011)...\n",
       "7   MR1111111: The GAP Group, (2008). (http://www....\n",
       "8   MR5: V. A. Artamonov and A. A. Bovdi, Integral...\n",
       "9   MR5: V. Bovdi, A. Grishkov and A. Konovalov, K...\n",
       "10  MR5: V. Bovdi and A. Konovalov, Integral group...\n",
       "11  MR7: V. A. Artamonov and A. A. Bovdi, Integral...\n",
       "12  MR7: V. Bovdi, A. Grishkov and A. Konovalov, K...\n",
       "13  MR7: V. Bovdi, E. Jespers and A. Konovalov, To...\n",
       "14  MR7: V. Bovdi and A. Konovalov, Integral group...\n",
       "15  MR9: The GAP Group, $GAP$ groups, algorithms, ..."
      ]
     },
     "execution_count": 34,
     "metadata": {},
     "output_type": "execute_result"
    }
   ],
   "source": [
    "df"
   ]
  },
  {
   "cell_type": "markdown",
   "metadata": {},
   "source": [
    "Now we convert the dataframe to a .csv file which can be loaded by the next notebook for pre-processing and analysis."
   ]
  },
  {
   "cell_type": "code",
   "execution_count": 35,
   "metadata": {},
   "outputs": [],
   "source": [
    "df.to_csv('output.csv', encoding='utf-8', index=False, header=['MR'])"
   ]
  },
  {
   "cell_type": "code",
   "execution_count": 36,
   "metadata": {},
   "outputs": [],
   "source": [
    "output = pd.read_csv('output.csv')"
   ]
  },
  {
   "cell_type": "code",
   "execution_count": 37,
   "metadata": {
    "scrolled": true
   },
   "outputs": [
    {
     "data": {
      "text/html": [
       "<div>\n",
       "<style scoped>\n",
       "    .dataframe tbody tr th:only-of-type {\n",
       "        vertical-align: middle;\n",
       "    }\n",
       "\n",
       "    .dataframe tbody tr th {\n",
       "        vertical-align: top;\n",
       "    }\n",
       "\n",
       "    .dataframe thead th {\n",
       "        text-align: right;\n",
       "    }\n",
       "</style>\n",
       "<table border=\"1\" class=\"dataframe\">\n",
       "  <thead>\n",
       "    <tr style=\"text-align: right;\">\n",
       "      <th></th>\n",
       "      <th>MR</th>\n",
       "    </tr>\n",
       "  </thead>\n",
       "  <tbody>\n",
       "    <tr>\n",
       "      <th>0</th>\n",
       "      <td>MR4044696: The GAP Group, GAP – groups, algori...</td>\n",
       "    </tr>\n",
       "    <tr>\n",
       "      <th>1</th>\n",
       "      <td>MR2900886: The GAP Group, $GAP$ groups, algori...</td>\n",
       "    </tr>\n",
       "    <tr>\n",
       "      <th>2</th>\n",
       "      <td>MR3169623: Distler, A., Mitchell, J. D. (2011)...</td>\n",
       "    </tr>\n",
       "    <tr>\n",
       "      <th>3</th>\n",
       "      <td>MR3169623: The GAP Group, (2008). (http://www....</td>\n",
       "    </tr>\n",
       "    <tr>\n",
       "      <th>4</th>\n",
       "      <td>MR4180136: The GAP Group, 2019. GAP – Groups, ...</td>\n",
       "    </tr>\n",
       "    <tr>\n",
       "      <th>5</th>\n",
       "      <td>MR11: GAP group</td>\n",
       "    </tr>\n",
       "    <tr>\n",
       "      <th>6</th>\n",
       "      <td>MR1111111: Distler, A., Mitchell, J. D. (2011)...</td>\n",
       "    </tr>\n",
       "    <tr>\n",
       "      <th>7</th>\n",
       "      <td>MR1111111: The GAP Group, (2008). (http://www....</td>\n",
       "    </tr>\n",
       "    <tr>\n",
       "      <th>8</th>\n",
       "      <td>MR5: V. A. Artamonov and A. A. Bovdi, Integral...</td>\n",
       "    </tr>\n",
       "    <tr>\n",
       "      <th>9</th>\n",
       "      <td>MR5: V. Bovdi, A. Grishkov and A. Konovalov, K...</td>\n",
       "    </tr>\n",
       "    <tr>\n",
       "      <th>10</th>\n",
       "      <td>MR5: V. Bovdi and A. Konovalov, Integral group...</td>\n",
       "    </tr>\n",
       "    <tr>\n",
       "      <th>11</th>\n",
       "      <td>MR7: V. A. Artamonov and A. A. Bovdi, Integral...</td>\n",
       "    </tr>\n",
       "    <tr>\n",
       "      <th>12</th>\n",
       "      <td>MR7: V. Bovdi, A. Grishkov and A. Konovalov, K...</td>\n",
       "    </tr>\n",
       "    <tr>\n",
       "      <th>13</th>\n",
       "      <td>MR7: V. Bovdi, E. Jespers and A. Konovalov, To...</td>\n",
       "    </tr>\n",
       "    <tr>\n",
       "      <th>14</th>\n",
       "      <td>MR7: V. Bovdi and A. Konovalov, Integral group...</td>\n",
       "    </tr>\n",
       "    <tr>\n",
       "      <th>15</th>\n",
       "      <td>MR9: The GAP Group, $GAP$ groups, algorithms, ...</td>\n",
       "    </tr>\n",
       "  </tbody>\n",
       "</table>\n",
       "</div>"
      ],
      "text/plain": [
       "                                                   MR\n",
       "0   MR4044696: The GAP Group, GAP – groups, algori...\n",
       "1   MR2900886: The GAP Group, $GAP$ groups, algori...\n",
       "2   MR3169623: Distler, A., Mitchell, J. D. (2011)...\n",
       "3   MR3169623: The GAP Group, (2008). (http://www....\n",
       "4   MR4180136: The GAP Group, 2019. GAP – Groups, ...\n",
       "5                                     MR11: GAP group\n",
       "6   MR1111111: Distler, A., Mitchell, J. D. (2011)...\n",
       "7   MR1111111: The GAP Group, (2008). (http://www....\n",
       "8   MR5: V. A. Artamonov and A. A. Bovdi, Integral...\n",
       "9   MR5: V. Bovdi, A. Grishkov and A. Konovalov, K...\n",
       "10  MR5: V. Bovdi and A. Konovalov, Integral group...\n",
       "11  MR7: V. A. Artamonov and A. A. Bovdi, Integral...\n",
       "12  MR7: V. Bovdi, A. Grishkov and A. Konovalov, K...\n",
       "13  MR7: V. Bovdi, E. Jespers and A. Konovalov, To...\n",
       "14  MR7: V. Bovdi and A. Konovalov, Integral group...\n",
       "15  MR9: The GAP Group, $GAP$ groups, algorithms, ..."
      ]
     },
     "execution_count": 37,
     "metadata": {},
     "output_type": "execute_result"
    }
   ],
   "source": [
    "output"
   ]
  },
  {
   "cell_type": "code",
   "execution_count": 38,
   "metadata": {},
   "outputs": [],
   "source": [
    "import csv"
   ]
  },
  {
   "cell_type": "code",
   "execution_count": 41,
   "metadata": {},
   "outputs": [
    {
     "name": "stdout",
     "output_type": "stream",
     "text": [
      "['MR']\n",
      "['MR4044696: The GAP Group, GAP â€“ groups, algorithms and programming, version 4.10, Available from http://www.gap-system.org, 2018.']\n",
      "['MR2900886: The GAP Group, $GAP$ groups, algorithms, and programming, version 4.4.12 (2008), http://www.gap-system.org.']\n",
      "['MR3169623: Distler, A., Mitchell, J. D. (2011). Smallsemi - A Library of Small Semigroups. http://tinyurl.com/jdmitchell/smallsemi/, Oct A GAP 4 package [5], Version 0.6.4.']\n",
      "['MR3169623: The GAP Group, (2008). (http://www.gap-system.org). GAPâ€“Groups, Algorithms, and Programming, Version 4.4.12.']\n",
      "['MR4180136: The GAP Group, 2019. GAP â€“ Groups, Algorithms, and Programming, Version 4.10.1; https://www.gap-system.org.']\n",
      "['MR11: GAP group']\n",
      "['MR1111111: Distler, A., Mitchell, J. D. (2011). Smallsemi - A Library of Small Semigroups. http://tinyurl.com/jdmitchell/smallsemi/, Oct A GAP 4 package [5], Version 0.6.4.']\n",
      "['MR1111111: The GAP Group, (2008). (http://www.gap-system.org). GAPâ€“Groups, Algorithms, and Programming, Version 4.4.12.']\n",
      "['MR5: V. A. Artamonov and A. A. Bovdi, Integral gro GAP up rings: Groups of invertible elements and classical $K$-theory, in Algebra, Topology, Geometry, Vol. 27 (Russian), Itogi Nauki i Tekhniki, 232. (Vsesoyuz. Inst. Nauchn. i Tekhn. Inform., Moscow, 1989), pp. 3â€“43. \\nMR1039822']\n",
      "[\"MR5: V. Bovdi, A. Grishkov and A. Konovalov, Kimmerle @GAP a lapa conjecture for the Held and O'Nan sporadic simple groups, Sci. Math. Jpn. 69(3) (2009) 353â€“361. \\nMR2510100\"]\n",
      "['MR5: V. Bovdi and A. Konovalov, Integral group ringaper GAP? eg of the McLaughlin simple group, Algebra Discrete Math. 2 (2007) 43â€“53. \\nMR2364062']\n",
      "['MR7: V. A. Artamonov and A. A. Bovdi, Integral gro GAP up rings: Groups of invertible elements and classical $K$-theory, in Algebra, Topology, Geometry, Vol. 27 (Russian), Itogi Nauki i Tekhniki, 232. (Vsesoyuz. Inst. Nauchn. i Tekhn. Inform., Moscow, 1989), pp. 3â€“43. \\nMR1039822']\n",
      "[\"MR7: V. Bovdi, A. Grishkov and A. Konovalov, Kimmerle @GAP a lapa conjecture for the Held and O'Nan sporadic simple groups, Sci. Math. Jpn. 69(3) (2009) 353â€“361. \\nMR2510100\"]\n",
      "['MR7: V. Bovdi, E. Jespers and A. Konovalov, Tors gap ion gap GAP gappen units in integral group rings of Janko sgapimple groups, Math. Comp. 80 (2011) 593â€“615. \\nMR2728996']\n",
      "['MR7: V. Bovdi and A. Konovalov, Integral group ringaper GAP? eg of the McLaughlin simple group, Algebra Discrete Math. 2 (2007) 43â€“53. \\nMR2364062']\n",
      "['MR9: The GAP Group, $GAP$ groups, algorithms, and programming, version 4.4.12 (2008), http://www.gap-system.org.']\n"
     ]
    }
   ],
   "source": [
    "with open('output.csv', newline='') as csvfile:\n",
    "    reader = csv.reader(csvfile, delimiter=',', quotechar='\"')\n",
    "    for row in reader:\n",
    "         print(row)"
   ]
  },
  {
   "cell_type": "code",
   "execution_count": null,
   "metadata": {},
   "outputs": [],
   "source": []
  }
 ],
 "metadata": {
  "kernelspec": {
   "display_name": "Python 3",
   "language": "python",
   "name": "python3"
  },
  "language_info": {
   "codemirror_mode": {
    "name": "ipython",
    "version": 3
   },
   "file_extension": ".py",
   "mimetype": "text/x-python",
   "name": "python",
   "nbconvert_exporter": "python",
   "pygments_lexer": "ipython3",
   "version": "3.8.5"
  }
 },
 "nbformat": 4,
 "nbformat_minor": 4
}
