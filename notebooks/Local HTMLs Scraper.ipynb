{
 "cells": [
  {
   "cell_type": "markdown",
   "metadata": {},
   "source": [
    "### Full scraping workflow using Requests, BeautifulSoup combined with Regex"
   ]
  },
  {
   "cell_type": "markdown",
   "metadata": {},
   "source": [
    "First we call the libraries needed."
   ]
  },
  {
   "cell_type": "code",
   "execution_count": 1,
   "metadata": {},
   "outputs": [],
   "source": [
    "import sys\n",
    "import time\n",
    "import bibtexparser\n",
    "import itertools\n",
    "import requests\n",
    "import re\n",
    "import pandas as pd\n",
    "from bs4 import BeautifulSoup"
   ]
  },
  {
   "cell_type": "markdown",
   "metadata": {},
   "source": [
    "We load the input .csv file containing the MR number and conver it to a Python ```list```."
   ]
  },
  {
   "cell_type": "code",
   "execution_count": 2,
   "metadata": {},
   "outputs": [
    {
     "data": {
      "text/plain": [
       "[4044696, 2900886, 3169623, 4180136, 7777777]"
      ]
     },
     "execution_count": 2,
     "metadata": {},
     "output_type": "execute_result"
    }
   ],
   "source": [
    "input_test = pd.read_csv('test_input.csv')\n",
    "type_change = input_test.values.tolist()\n",
    "mrn_numbers_only = list(itertools.chain(*type_change))\n",
    "type(mrn_numbers_only)\n",
    "mrn_numbers_only"
   ]
  },
  {
   "cell_type": "code",
   "execution_count": 3,
   "metadata": {},
   "outputs": [
    {
     "name": "stdout",
     "output_type": "stream",
     "text": [
      "Total input elements:\n",
      "5\n",
      "Number of non-standart elements isolated for updating:\n",
      "0\n",
      "Number of standard MR elements, that will be searched for GAP citations:\n",
      "5\n"
     ]
    }
   ],
   "source": [
    "mrn = [] # list of all good MR numbers, made up from exactly 7 digits, that we will search for citations\n",
    "non_standard_mrn = [] # list of non-standard MR numbers\n",
    "\n",
    "for i in range(len(mrn_numbers_only)):\n",
    "\t#if (mrn_numbers_only[i].isnumeric() and len(mrn_numbers_only[i]) == 7):\n",
    "\teach_mrn = ('MR' + str(mrn_numbers_only[i]))\n",
    "\tmrn.append(each_mrn)\n",
    "\t#else:\n",
    "#\t\tnon_standard_mrn.append(mrn_numbers_only[i])\n",
    "print('Total input elements:')\n",
    "print(len(mrn_numbers_only))\n",
    "print('Number of non-standart elements isolated for updating:')\n",
    "print(len(non_standard_mrn))\n",
    "print('Number of standard MR elements, that will be searched for GAP citations:')\n",
    "print(len(mrn))"
   ]
  },
  {
   "cell_type": "markdown",
   "metadata": {},
   "source": [
    "We define two functions used together to find all GAP citations by HTMl element and text contained inside it. They can be re-used in future we-scraping projects too."
   ]
  },
  {
   "cell_type": "code",
   "execution_count": 4,
   "metadata": {},
   "outputs": [],
   "source": [
    "MATCH_ALL = r'.*'\n",
    "\n",
    "\n",
    "def like(string):\n",
    "    \"\"\"\n",
    "    Return a compiled regular expression that matches the given\n",
    "    string with any prefix and postfix, e.g. if string = \"hello\",\n",
    "    the returned regex matches r\".*hello.*\"\n",
    "    \"\"\"\n",
    "    string_ = string\n",
    "    if not isinstance(string_, str):\n",
    "        string_ = str(string_)\n",
    "    regex = MATCH_ALL + re.escape(string_) + MATCH_ALL\n",
    "    return re.compile(regex, flags=re.DOTALL)\n",
    "\n",
    "\n",
    "def find_by_text(soup, text, tag, mrn, **kwargs):\n",
    "    \"\"\"\n",
    "    Find the tag in soup that matches all provided kwargs, and contains the\n",
    "    text.\n",
    "\n",
    "    If no match is found, raise ValueError.\n",
    "    \"\"\"\n",
    "    empty = 1\n",
    "    elements = soup.find_all(tag, **kwargs)\n",
    "    matches = []\n",
    "    for element in elements:\n",
    "        if element.find(text=like(text)):\n",
    "            matches.append(mrn + ':')\n",
    "            matches.append(element.text.strip())\n",
    "    if len(matches) == 0:\n",
    "        pass\n",
    "    else:\n",
    "        return matches"
   ]
  },
  {
   "cell_type": "code",
   "execution_count": 5,
   "metadata": {},
   "outputs": [
    {
     "name": "stdout",
     "output_type": "stream",
     "text": [
      "Working on page:\n",
      "0\n",
      "from a total of:\n",
      "5\n",
      "Citations found in page:\n",
      "['MR4044696:', 'The GAP Group, GAP – groups, algorithms and programming, version 4.10, Available from http://www.gap-system.org, 2018.']\n",
      " \n",
      "Working on page:\n",
      "1\n",
      "from a total of:\n",
      "5\n",
      "Citations found in page:\n",
      "['MR2900886:', 'The GAP Group, $GAP$ groups, algorithms, and programming, version 4.4.12 (2008), http://www.gap-system.org.']\n",
      " \n",
      "Working on page:\n",
      "2\n",
      "from a total of:\n",
      "5\n",
      "Citations found in page:\n",
      "['MR3169623:', 'Distler, A., Mitchell, J. D. (2011). Smallsemi - A Library of Small Semigroups. http://tinyurl.com/jdmitchell/smallsemi/, Oct A GAP 4 package [5], Version 0.6.4.', 'MR3169623:', 'The GAP Group, (2008). (http://www.gap-system.org). GAP–Groups, Algorithms, and Programming, Version 4.4.12.']\n",
      " \n",
      "Working on page:\n",
      "3\n",
      "from a total of:\n",
      "5\n",
      "Citations found in page:\n",
      "['MR4180136:', 'The GAP Group, 2019. GAP – Groups, Algorithms, and Programming, Version 4.10.1; https://www.gap-system.org.']\n",
      " \n",
      "Working on page:\n",
      "4\n",
      "from a total of:\n",
      "5\n",
      "Citations found in page:\n",
      "None\n",
      " \n",
      "Finished GAP citation scan...\n"
     ]
    }
   ],
   "source": [
    "base_URL = \"D:\\\\\"\n",
    "\n",
    "all_matches = []\n",
    "review_later = []\n",
    "actual_scrapes = []\n",
    "\n",
    "for i in range(len(mrn)):\n",
    "    url = (base_URL + mrn[i] + '.html')\n",
    "    page = open(url, encoding=\"utf8\") \n",
    "    soup = BeautifulSoup(page, 'html.parser')\n",
    "    match = (find_by_text(soup, 'GAP', 'li', mrn[i]))\n",
    "    if match is None:\n",
    "        review_later.append(mrn[i])\n",
    "    else:\n",
    "        all_matches.append(match)\n",
    "        actual_scrapes.append(mrn[i])\n",
    "# the following print statements allow user to track progress.\n",
    "    print('Working on page:')\n",
    "    print(i)\n",
    "    print('from a total of:')\n",
    "    print(len(mrn))\n",
    "    print('Citations found in page:')\n",
    "    print(match)\n",
    "    print(' ') # to skip a line for better readability\n",
    "    # time.sleep(5) # adding 5 seconds rest interval between iterations  \n",
    "    # to avoid overloading the source website and also not to risk activating \n",
    "    # their security sentinel algorithms\n",
    "print('Finished GAP citation scan...')\n",
    "#all_matches"
   ]
  },
  {
   "cell_type": "code",
   "execution_count": 6,
   "metadata": {},
   "outputs": [],
   "source": [
    "further_review = pd.DataFrame(review_later)\n",
    "further_review.to_csv('review.csv', index=False, encoding='utf-8')"
   ]
  },
  {
   "cell_type": "markdown",
   "metadata": {},
   "source": [
    "Some of the test HTMLs did not contain the word GAP and they returned NoneType elements. Using the following list comprehension we will remove them from the results before we continue."
   ]
  },
  {
   "cell_type": "code",
   "execution_count": 7,
   "metadata": {},
   "outputs": [
    {
     "data": {
      "text/plain": [
       "[['MR4044696:',\n",
       "  'The GAP Group, GAP – groups, algorithms and programming, version 4.10, Available from http://www.gap-system.org, 2018.'],\n",
       " ['MR2900886:',\n",
       "  'The GAP Group, $GAP$ groups, algorithms, and programming, version 4.4.12 (2008), http://www.gap-system.org.'],\n",
       " ['MR3169623:',\n",
       "  'Distler, A., Mitchell, J. D. (2011). Smallsemi - A Library of Small Semigroups. http://tinyurl.com/jdmitchell/smallsemi/, Oct A GAP 4 package [5], Version 0.6.4.',\n",
       "  'MR3169623:',\n",
       "  'The GAP Group, (2008). (http://www.gap-system.org). GAP–Groups, Algorithms, and Programming, Version 4.4.12.'],\n",
       " ['MR4180136:',\n",
       "  'The GAP Group, 2019. GAP – Groups, Algorithms, and Programming, Version 4.10.1; https://www.gap-system.org.']]"
      ]
     },
     "execution_count": 7,
     "metadata": {},
     "output_type": "execute_result"
    }
   ],
   "source": [
    "all_matches = [i for i in all_matches if i is not None]\n",
    "all_matches"
   ]
  },
  {
   "cell_type": "code",
   "execution_count": 8,
   "metadata": {},
   "outputs": [
    {
     "name": "stdout",
     "output_type": "stream",
     "text": [
      "<class 'NoneType'>\n",
      "<class 'list'>\n",
      "Results count is: 4\n",
      "['MR3169623:', 'Distler, A., Mitchell, J. D. (2011). Smallsemi - A Library of Small Semigroups. http://tinyurl.com/jdmitchell/smallsemi/, Oct A GAP 4 package [5], Version 0.6.4.', 'MR3169623:', 'The GAP Group, (2008). (http://www.gap-system.org). GAP–Groups, Algorithms, and Programming, Version 4.4.12.']\n"
     ]
    }
   ],
   "source": [
    "print(type(match))\n",
    "print(type(all_matches))\n",
    "print('Results count is:', len(all_matches))\n",
    "print(all_matches[2])"
   ]
  },
  {
   "cell_type": "code",
   "execution_count": 9,
   "metadata": {},
   "outputs": [
    {
     "data": {
      "text/plain": [
       "['MR4044696:',\n",
       " 'The GAP Group, GAP – groups, algorithms and programming, version 4.10, Available from http://www.gap-system.org, 2018.',\n",
       " 'MR2900886:',\n",
       " 'The GAP Group, $GAP$ groups, algorithms, and programming, version 4.4.12 (2008), http://www.gap-system.org.',\n",
       " 'MR3169623:',\n",
       " 'Distler, A., Mitchell, J. D. (2011). Smallsemi - A Library of Small Semigroups. http://tinyurl.com/jdmitchell/smallsemi/, Oct A GAP 4 package [5], Version 0.6.4.',\n",
       " 'MR3169623:',\n",
       " 'The GAP Group, (2008). (http://www.gap-system.org). GAP–Groups, Algorithms, and Programming, Version 4.4.12.',\n",
       " 'MR4180136:',\n",
       " 'The GAP Group, 2019. GAP – Groups, Algorithms, and Programming, Version 4.10.1; https://www.gap-system.org.']"
      ]
     },
     "execution_count": 9,
     "metadata": {},
     "output_type": "execute_result"
    }
   ],
   "source": [
    "joined = list(itertools.chain(*all_matches))\n",
    "joined"
   ]
  },
  {
   "cell_type": "code",
   "execution_count": 10,
   "metadata": {
    "scrolled": true
   },
   "outputs": [
    {
     "name": "stdout",
     "output_type": "stream",
     "text": [
      "The GAP Group, $GAP$ groups, algorithms, and programming, version 4.4.12 (2008), http://www.gap-system.org.\n",
      "<class 'list'>\n",
      "<class 'str'>\n",
      "Now the Results count is: 10  which confirms that our program also catches GAP Packages citation as separate results.\n"
     ]
    }
   ],
   "source": [
    "print(joined[3])\n",
    "print(type(joined))\n",
    "print(type(joined[1]))\n",
    "print('Now the Results count is:', len(joined), ' which confirms that our program also catches GAP Packages citation as separate results.')"
   ]
  },
  {
   "cell_type": "code",
   "execution_count": 11,
   "metadata": {},
   "outputs": [
    {
     "name": "stdout",
     "output_type": "stream",
     "text": [
      "Total number of results is: 10\n"
     ]
    }
   ],
   "source": [
    "print('Total number of results is: ' + str(len(joined)))"
   ]
  },
  {
   "cell_type": "code",
   "execution_count": 12,
   "metadata": {},
   "outputs": [
    {
     "data": {
      "text/plain": [
       "['MR4044696:',\n",
       " 'The GAP Group, GAP – groups, algorithms and programming, version 4.10, Available from http://www.gap-system.org, 2018.',\n",
       " 'MR2900886:',\n",
       " 'The GAP Group, $GAP$ groups, algorithms, and programming, version 4.4.12 (2008), http://www.gap-system.org.',\n",
       " 'MR3169623:',\n",
       " 'Distler, A., Mitchell, J. D. (2011). Smallsemi - A Library of Small Semigroups. http://tinyurl.com/jdmitchell/smallsemi/, Oct A GAP 4 package [5], Version 0.6.4.',\n",
       " 'MR3169623:',\n",
       " 'The GAP Group, (2008). (http://www.gap-system.org). GAP–Groups, Algorithms, and Programming, Version 4.4.12.',\n",
       " 'MR4180136:',\n",
       " 'The GAP Group, 2019. GAP – Groups, Algorithms, and Programming, Version 4.10.1; https://www.gap-system.org.']"
      ]
     },
     "execution_count": 12,
     "metadata": {},
     "output_type": "execute_result"
    }
   ],
   "source": [
    "final = []\n",
    "for i in range(len(joined)):\n",
    "    clean = (joined[i].strip())\n",
    "    final.append(clean)\n",
    "final"
   ]
  },
  {
   "cell_type": "markdown",
   "metadata": {},
   "source": [
    "### Converting our data to Pandas dataframe for further analysis"
   ]
  },
  {
   "cell_type": "code",
   "execution_count": 13,
   "metadata": {},
   "outputs": [
    {
     "data": {
      "text/html": [
       "<div>\n",
       "<style scoped>\n",
       "    .dataframe tbody tr th:only-of-type {\n",
       "        vertical-align: middle;\n",
       "    }\n",
       "\n",
       "    .dataframe tbody tr th {\n",
       "        vertical-align: top;\n",
       "    }\n",
       "\n",
       "    .dataframe thead th {\n",
       "        text-align: right;\n",
       "    }\n",
       "</style>\n",
       "<table border=\"1\" class=\"dataframe\">\n",
       "  <thead>\n",
       "    <tr style=\"text-align: right;\">\n",
       "      <th></th>\n",
       "      <th>0</th>\n",
       "    </tr>\n",
       "  </thead>\n",
       "  <tbody>\n",
       "    <tr>\n",
       "      <th>0</th>\n",
       "      <td>MR4044696:</td>\n",
       "    </tr>\n",
       "    <tr>\n",
       "      <th>1</th>\n",
       "      <td>The GAP Group, GAP – groups, algorithms and pr...</td>\n",
       "    </tr>\n",
       "    <tr>\n",
       "      <th>2</th>\n",
       "      <td>MR2900886:</td>\n",
       "    </tr>\n",
       "    <tr>\n",
       "      <th>3</th>\n",
       "      <td>The GAP Group, $GAP$ groups, algorithms, and p...</td>\n",
       "    </tr>\n",
       "    <tr>\n",
       "      <th>4</th>\n",
       "      <td>MR3169623:</td>\n",
       "    </tr>\n",
       "    <tr>\n",
       "      <th>5</th>\n",
       "      <td>Distler, A., Mitchell, J. D. (2011). Smallsemi...</td>\n",
       "    </tr>\n",
       "    <tr>\n",
       "      <th>6</th>\n",
       "      <td>MR3169623:</td>\n",
       "    </tr>\n",
       "    <tr>\n",
       "      <th>7</th>\n",
       "      <td>The GAP Group, (2008). (http://www.gap-system....</td>\n",
       "    </tr>\n",
       "    <tr>\n",
       "      <th>8</th>\n",
       "      <td>MR4180136:</td>\n",
       "    </tr>\n",
       "    <tr>\n",
       "      <th>9</th>\n",
       "      <td>The GAP Group, 2019. GAP – Groups, Algorithms,...</td>\n",
       "    </tr>\n",
       "  </tbody>\n",
       "</table>\n",
       "</div>"
      ],
      "text/plain": [
       "                                                   0\n",
       "0                                         MR4044696:\n",
       "1  The GAP Group, GAP – groups, algorithms and pr...\n",
       "2                                         MR2900886:\n",
       "3  The GAP Group, $GAP$ groups, algorithms, and p...\n",
       "4                                         MR3169623:\n",
       "5  Distler, A., Mitchell, J. D. (2011). Smallsemi...\n",
       "6                                         MR3169623:\n",
       "7  The GAP Group, (2008). (http://www.gap-system....\n",
       "8                                         MR4180136:\n",
       "9  The GAP Group, 2019. GAP – Groups, Algorithms,..."
      ]
     },
     "execution_count": 13,
     "metadata": {},
     "output_type": "execute_result"
    }
   ],
   "source": [
    "df = pd.DataFrame(final)\n",
    "df"
   ]
  },
  {
   "cell_type": "markdown",
   "metadata": {},
   "source": [
    "Some MR numbers contain more than one GAP citations which produces extra columns. We need to take every odd element from the whole data and assign it to separate row in one 'MR' column. And then take every even element containing the corresponding citation and join it to its MR number in a second column called 'Citation'."
   ]
  },
  {
   "cell_type": "code",
   "execution_count": 14,
   "metadata": {},
   "outputs": [],
   "source": [
    "check = df.index%2==0  #checking if the index is even because the values are in consicutive order\n",
    "final_df = pd.DataFrame([df.loc[check, 0].str.strip(':').tolist(), # taking every odd element which is MR number\n",
    "                         df.loc[~check, 0].tolist()], # taking every even element which is Citation\n",
    "                         index=['MR','Citation']).T # assigning the corresponding value names to each column"
   ]
  },
  {
   "cell_type": "code",
   "execution_count": 15,
   "metadata": {
    "scrolled": true
   },
   "outputs": [
    {
     "data": {
      "text/html": [
       "<div>\n",
       "<style scoped>\n",
       "    .dataframe tbody tr th:only-of-type {\n",
       "        vertical-align: middle;\n",
       "    }\n",
       "\n",
       "    .dataframe tbody tr th {\n",
       "        vertical-align: top;\n",
       "    }\n",
       "\n",
       "    .dataframe thead th {\n",
       "        text-align: right;\n",
       "    }\n",
       "</style>\n",
       "<table border=\"1\" class=\"dataframe\">\n",
       "  <thead>\n",
       "    <tr style=\"text-align: right;\">\n",
       "      <th></th>\n",
       "      <th>MR</th>\n",
       "      <th>Citation</th>\n",
       "    </tr>\n",
       "  </thead>\n",
       "  <tbody>\n",
       "    <tr>\n",
       "      <th>0</th>\n",
       "      <td>MR4044696</td>\n",
       "      <td>The GAP Group, GAP – groups, algorithms and pr...</td>\n",
       "    </tr>\n",
       "    <tr>\n",
       "      <th>1</th>\n",
       "      <td>MR2900886</td>\n",
       "      <td>The GAP Group, $GAP$ groups, algorithms, and p...</td>\n",
       "    </tr>\n",
       "    <tr>\n",
       "      <th>2</th>\n",
       "      <td>MR3169623</td>\n",
       "      <td>Distler, A., Mitchell, J. D. (2011). Smallsemi...</td>\n",
       "    </tr>\n",
       "    <tr>\n",
       "      <th>3</th>\n",
       "      <td>MR3169623</td>\n",
       "      <td>The GAP Group, (2008). (http://www.gap-system....</td>\n",
       "    </tr>\n",
       "    <tr>\n",
       "      <th>4</th>\n",
       "      <td>MR4180136</td>\n",
       "      <td>The GAP Group, 2019. GAP – Groups, Algorithms,...</td>\n",
       "    </tr>\n",
       "  </tbody>\n",
       "</table>\n",
       "</div>"
      ],
      "text/plain": [
       "          MR                                           Citation\n",
       "0  MR4044696  The GAP Group, GAP – groups, algorithms and pr...\n",
       "1  MR2900886  The GAP Group, $GAP$ groups, algorithms, and p...\n",
       "2  MR3169623  Distler, A., Mitchell, J. D. (2011). Smallsemi...\n",
       "3  MR3169623  The GAP Group, (2008). (http://www.gap-system....\n",
       "4  MR4180136  The GAP Group, 2019. GAP – Groups, Algorithms,..."
      ]
     },
     "execution_count": 15,
     "metadata": {},
     "output_type": "execute_result"
    }
   ],
   "source": [
    "final_df"
   ]
  },
  {
   "cell_type": "markdown",
   "metadata": {},
   "source": [
    "The resultung Pandas Data-frame has two columns. Now we can export it to a .CSV file which will be taken over by the next Jupyter Notebook in our pipeline."
   ]
  },
  {
   "cell_type": "code",
   "execution_count": 16,
   "metadata": {
    "scrolled": true
   },
   "outputs": [],
   "source": [
    "final_df.to_csv('local_test_output.csv', index=False, encoding='utf-8')"
   ]
  },
  {
   "cell_type": "code",
   "execution_count": null,
   "metadata": {},
   "outputs": [],
   "source": []
  },
  {
   "cell_type": "markdown",
   "metadata": {},
   "source": [
    "### Obtaining more data"
   ]
  },
  {
   "cell_type": "code",
   "execution_count": null,
   "metadata": {},
   "outputs": [],
   "source": [
    "import bibtexparser\n",
    "bibtex_file = open('gap-publishednicer.bib.txt', encoding='utf-8')\n",
    "bib_data = bibtexparser.load(bibtex_file)"
   ]
  },
  {
   "cell_type": "code",
   "execution_count": 17,
   "id": "special-establishment",
   "metadata": {
    "scrolled": true
   },
   "outputs": [
    {
     "ename": "NameError",
     "evalue": "name 'bib_data' is not defined",
     "output_type": "error",
     "traceback": [
      "\u001b[1;31m---------------------------------------------------------------------------\u001b[0m",
      "\u001b[1;31mNameError\u001b[0m                                 Traceback (most recent call last)",
      "\u001b[1;32m<ipython-input-17-ea843a3709b1>\u001b[0m in \u001b[0;36m<module>\u001b[1;34m\u001b[0m\n\u001b[1;32m----> 1\u001b[1;33m \u001b[0mbib\u001b[0m \u001b[1;33m=\u001b[0m \u001b[0mbib_data\u001b[0m\u001b[1;33m.\u001b[0m\u001b[0mentries\u001b[0m\u001b[1;33m\u001b[0m\u001b[1;33m\u001b[0m\u001b[0m\n\u001b[0m",
      "\u001b[1;31mNameError\u001b[0m: name 'bib_data' is not defined"
     ]
    }
   ],
   "source": [
    "bib = bib_data.entries"
   ]
  },
  {
   "cell_type": "code",
   "execution_count": null,
   "metadata": {},
   "outputs": [],
   "source": [
    "mrs = final_df['MR']"
   ]
  },
  {
   "cell_type": "code",
   "execution_count": null,
   "id": "posted-address",
   "metadata": {},
   "outputs": [],
   "source": [
    "print(type(bib))\n",
    "print(type(bib[5]))\n",
    "print(bib[5])"
   ]
  },
  {
   "cell_type": "code",
   "execution_count": null,
   "metadata": {
    "scrolled": false
   },
   "outputs": [],
   "source": [
    "bib[5]"
   ]
  },
  {
   "cell_type": "code",
   "execution_count": null,
   "metadata": {},
   "outputs": [],
   "source": [
    "bib[5].keys()\n",
    "bib[5]['year']\n",
    "bib[5]['fjournal']"
   ]
  },
  {
   "cell_type": "code",
   "execution_count": null,
   "metadata": {},
   "outputs": [],
   "source": [
    "years = []\n",
    "journals = []\n",
    "for mrs in bib:\n",
    "    if mrs == bib[i]['ID']:\n",
    "        year = bib[i]['mrreviewer']\n",
    "        \n",
    "    journals.append(year)\n",
    "   "
   ]
  },
  {
   "cell_type": "code",
   "execution_count": null,
   "metadata": {},
   "outputs": [],
   "source": [
    "journals"
   ]
  },
  {
   "cell_type": "code",
   "execution_count": null,
   "metadata": {},
   "outputs": [],
   "source": []
  },
  {
   "cell_type": "markdown",
   "metadata": {},
   "source": [
    "# Data pre-processing"
   ]
  }
 ],
 "metadata": {
  "kernelspec": {
   "display_name": "Python 3",
   "language": "python",
   "name": "python3"
  },
  "language_info": {
   "codemirror_mode": {
    "name": "ipython",
    "version": 3
   },
   "file_extension": ".py",
   "mimetype": "text/x-python",
   "name": "python",
   "nbconvert_exporter": "python",
   "pygments_lexer": "ipython3",
   "version": "3.8.5"
  }
 },
 "nbformat": 4,
 "nbformat_minor": 4
}
