{
 "cells": [
  {
   "cell_type": "markdown",
   "metadata": {},
   "source": [
    "### Full scraping workflow using Requests, BeautifulSoup combined with Regex"
   ]
  },
  {
   "cell_type": "markdown",
   "metadata": {},
   "source": [
    "First we call the libraries needed."
   ]
  },
  {
   "cell_type": "code",
   "execution_count": 18,
   "metadata": {},
   "outputs": [],
   "source": [
    "from bs4 import BeautifulSoup\n",
    "import requests\n",
    "import re\n",
    "import pandas as pd\n",
    "import itertools"
   ]
  },
  {
   "cell_type": "markdown",
   "metadata": {},
   "source": [
    "We load the input .csv file containing the MR number and conver it to a Python ```list```."
   ]
  },
  {
   "cell_type": "code",
   "execution_count": 21,
   "metadata": {},
   "outputs": [
    {
     "data": {
      "text/plain": [
       "['MR3',\n",
       " 'MR4044696',\n",
       " 'MR2900886',\n",
       " 'MR3169623',\n",
       " 'MR4180136',\n",
       " 'MR11',\n",
       " 'MR1111111',\n",
       " 'MR5',\n",
       " 'MR7',\n",
       " 'MR9',\n",
       " 'MRMR4044697']"
      ]
     },
     "execution_count": 21,
     "metadata": {},
     "output_type": "execute_result"
    }
   ],
   "source": [
    "input_test = pd.read_csv('test_input.csv')\n",
    "type_change = input_test.values.tolist()\n",
    "mrn_numbers_only = list(itertools.chain(*type_change))\n",
    "type(mrn_numbers_only)\n",
    "mrn_numbers_only"
   ]
  },
  {
   "cell_type": "markdown",
   "metadata": {},
   "source": [
    "We define two functions used together to find all GAP citations by HTMl element and text contained inside it. They can be re-used in future we-scraping projects too."
   ]
  },
  {
   "cell_type": "code",
   "execution_count": 2,
   "metadata": {},
   "outputs": [],
   "source": [
    "MATCH_ALL = r'.*'\n",
    "\n",
    "\n",
    "def like(string):\n",
    "    \"\"\"\n",
    "    Return a compiled regular expression that matches the given\n",
    "    string with any prefix and postfix, e.g. if string = \"hello\",\n",
    "    the returned regex matches r\".*hello.*\"\n",
    "    \"\"\"\n",
    "    string_ = string\n",
    "    if not isinstance(string_, str):\n",
    "        string_ = str(string_)\n",
    "    regex = MATCH_ALL + re.escape(string_) + MATCH_ALL\n",
    "    return re.compile(regex, flags=re.DOTALL)\n",
    "\n",
    "\n",
    "def find_by_text(soup, text, tag, mrn, **kwargs):\n",
    "    \"\"\"\n",
    "    Find the tag in soup that matches all provided kwargs, and contains the\n",
    "    text.\n",
    "\n",
    "    If no match is found, raise ValueError.\n",
    "    \"\"\"\n",
    "    empty = 1\n",
    "    elements = soup.find_all(tag, **kwargs)\n",
    "    matches = []\n",
    "    for element in elements:\n",
    "        if element.find(text=like(text)):\n",
    "            matches.append(mrn + ':')\n",
    "            matches.append(element.text.strip())\n",
    "    if len(matches) == 0:\n",
    "        pass\n",
    "    else:\n",
    "        return matches"
   ]
  },
  {
   "cell_type": "code",
   "execution_count": 7,
   "metadata": {},
   "outputs": [
    {
     "name": "stdout",
     "output_type": "stream",
     "text": [
      "D:\\MR3.html\n",
      "D:\\MR4044696.html\n",
      "D:\\MR2900886.html\n",
      "D:\\MR4180136.html\n",
      "D:\\MR4044697.html\n",
      "D:\\MR7.html\n",
      "D:\\MR5.html\n",
      "D:\\MR11.html\n"
     ]
    },
    {
     "data": {
      "text/plain": [
       "[None,\n",
       " ['MR4044696:',\n",
       "  'The GAP Group, GAP â€“ groups, algorithms and programming, version 4.10, Available from http://www.gap-system.org, 2018.'],\n",
       " ['MR2900886:',\n",
       "  'The GAP Group, $GAP$ groups, algorithms, and programming, version 4.4.12 (2008), http://www.gap-system.org.'],\n",
       " ['MR4180136:',\n",
       "  'The GAP Group, 2019. GAP â€“ Groups, Algorithms, and Programming, Version 4.10.1; https://www.gap-system.org.'],\n",
       " ['MR4044697:',\n",
       "  'The GAP Group, GAP â€“ groups, algorithms and programming, version 4.10, Available from http://www.gap-system.org, 2018.'],\n",
       " ['MR7:',\n",
       "  'V. A. Artamonov and A. A. Bovdi, Integral gro GAP up rings: Groups of invertible elements and classical $K$-theory, in Algebra, Topology, Geometry, Vol. 27 (Russian), Itogi Nauki i Tekhniki, 232. (Vsesoyuz. Inst. Nauchn. i Tekhn. Inform., Moscow, 1989), pp. 3â€“43. \\nMR1039822',\n",
       "  'MR7:',\n",
       "  \"V. Bovdi, A. Grishkov and A. Konovalov, Kimmerle @GAP a lapa conjecture for the Held and O'Nan sporadic simple groups, Sci. Math. Jpn. 69(3) (2009) 353â€“361. \\nMR2510100\",\n",
       "  'MR7:',\n",
       "  'V. Bovdi, E. Jespers and A. Konovalov, Tors gap ion gap GAP gappen units in integral group rings of Janko sgapimple groups, Math. Comp. 80 (2011) 593â€“615. \\nMR2728996',\n",
       "  'MR7:',\n",
       "  'V. Bovdi and A. Konovalov, Integral group ringaper GAP? eg of the McLaughlin simple group, Algebra Discrete Math. 2 (2007) 43â€“53. \\nMR2364062'],\n",
       " ['MR5:',\n",
       "  'V. A. Artamonov and A. A. Bovdi, Integral gro GAP up rings: Groups of invertible elements and classical $K$-theory, in Algebra, Topology, Geometry, Vol. 27 (Russian), Itogi Nauki i Tekhniki, 232. (Vsesoyuz. Inst. Nauchn. i Tekhn. Inform., Moscow, 1989), pp. 3â€“43. \\nMR1039822',\n",
       "  'MR5:',\n",
       "  \"V. Bovdi, A. Grishkov and A. Konovalov, Kimmerle @GAP a lapa conjecture for the Held and O'Nan sporadic simple groups, Sci. Math. Jpn. 69(3) (2009) 353â€“361. \\nMR2510100\",\n",
       "  'MR5:',\n",
       "  'V. Bovdi and A. Konovalov, Integral group ringaper GAP? eg of the McLaughlin simple group, Algebra Discrete Math. 2 (2007) 43â€“53. \\nMR2364062'],\n",
       " ['MR11:', 'GAP group']]"
      ]
     },
     "execution_count": 7,
     "metadata": {},
     "output_type": "execute_result"
    }
   ],
   "source": [
    "base_URL = \"D:\\\\\"\n",
    "mrn = [\"MR3\", \"MR4044696\", \"MR2900886\", \"MR4180136\", \"MR4044697\", \"MR7\", \"MR5\", \"MR11\"]\n",
    "url_list = []\n",
    "all_matches = []\n",
    "\n",
    "for i in range(len(mrn)):\n",
    "    url = (base_URL + mrn[i] + '.html')\n",
    "    #url_list.append(url) #for records keeping only, not really needed \n",
    "    #url = \"D:\\MR2900886.html\"\n",
    "    print(url)\n",
    "    page = open(url)\n",
    "    soup = BeautifulSoup(page.read())\n",
    "    match = (find_by_text(soup, 'GAP', 'li', mrn[i]))\n",
    "    all_matches.append(match)\n",
    "    \n",
    "all_matches"
   ]
  },
  {
   "cell_type": "code",
   "execution_count": 8,
   "metadata": {
    "scrolled": true
   },
   "outputs": [
    {
     "name": "stdout",
     "output_type": "stream",
     "text": [
      "<class 'NoneType'>\n"
     ]
    }
   ],
   "source": [
    "print(type(all_matches[0]))"
   ]
  },
  {
   "cell_type": "markdown",
   "metadata": {},
   "source": [
    "Some of the test HTMLs did not contain the word GAP and they returned NoneType elements. Using the following list comprehension we will remove them from the results before we continue."
   ]
  },
  {
   "cell_type": "code",
   "execution_count": 9,
   "metadata": {},
   "outputs": [
    {
     "data": {
      "text/plain": [
       "[['MR4044696:',\n",
       "  'The GAP Group, GAP â€“ groups, algorithms and programming, version 4.10, Available from http://www.gap-system.org, 2018.'],\n",
       " ['MR2900886:',\n",
       "  'The GAP Group, $GAP$ groups, algorithms, and programming, version 4.4.12 (2008), http://www.gap-system.org.'],\n",
       " ['MR4180136:',\n",
       "  'The GAP Group, 2019. GAP â€“ Groups, Algorithms, and Programming, Version 4.10.1; https://www.gap-system.org.'],\n",
       " ['MR4044697:',\n",
       "  'The GAP Group, GAP â€“ groups, algorithms and programming, version 4.10, Available from http://www.gap-system.org, 2018.'],\n",
       " ['MR7:',\n",
       "  'V. A. Artamonov and A. A. Bovdi, Integral gro GAP up rings: Groups of invertible elements and classical $K$-theory, in Algebra, Topology, Geometry, Vol. 27 (Russian), Itogi Nauki i Tekhniki, 232. (Vsesoyuz. Inst. Nauchn. i Tekhn. Inform., Moscow, 1989), pp. 3â€“43. \\nMR1039822',\n",
       "  'MR7:',\n",
       "  \"V. Bovdi, A. Grishkov and A. Konovalov, Kimmerle @GAP a lapa conjecture for the Held and O'Nan sporadic simple groups, Sci. Math. Jpn. 69(3) (2009) 353â€“361. \\nMR2510100\",\n",
       "  'MR7:',\n",
       "  'V. Bovdi, E. Jespers and A. Konovalov, Tors gap ion gap GAP gappen units in integral group rings of Janko sgapimple groups, Math. Comp. 80 (2011) 593â€“615. \\nMR2728996',\n",
       "  'MR7:',\n",
       "  'V. Bovdi and A. Konovalov, Integral group ringaper GAP? eg of the McLaughlin simple group, Algebra Discrete Math. 2 (2007) 43â€“53. \\nMR2364062'],\n",
       " ['MR5:',\n",
       "  'V. A. Artamonov and A. A. Bovdi, Integral gro GAP up rings: Groups of invertible elements and classical $K$-theory, in Algebra, Topology, Geometry, Vol. 27 (Russian), Itogi Nauki i Tekhniki, 232. (Vsesoyuz. Inst. Nauchn. i Tekhn. Inform., Moscow, 1989), pp. 3â€“43. \\nMR1039822',\n",
       "  'MR5:',\n",
       "  \"V. Bovdi, A. Grishkov and A. Konovalov, Kimmerle @GAP a lapa conjecture for the Held and O'Nan sporadic simple groups, Sci. Math. Jpn. 69(3) (2009) 353â€“361. \\nMR2510100\",\n",
       "  'MR5:',\n",
       "  'V. Bovdi and A. Konovalov, Integral group ringaper GAP? eg of the McLaughlin simple group, Algebra Discrete Math. 2 (2007) 43â€“53. \\nMR2364062'],\n",
       " ['MR11:', 'GAP group']]"
      ]
     },
     "execution_count": 9,
     "metadata": {},
     "output_type": "execute_result"
    }
   ],
   "source": [
    "all_matches = [i for i in all_matches if i is not None]\n",
    "all_matches"
   ]
  },
  {
   "cell_type": "code",
   "execution_count": 10,
   "metadata": {
    "scrolled": false
   },
   "outputs": [
    {
     "name": "stdout",
     "output_type": "stream",
     "text": [
      "<class 'list'>\n",
      "<class 'list'>\n",
      "Results count is: 7\n",
      "['MR4180136:', 'The GAP Group, 2019. GAP â€“ Groups, Algorithms, and Programming, Version 4.10.1; https://www.gap-system.org.']\n"
     ]
    }
   ],
   "source": [
    "print(type(match))\n",
    "print(type(all_matches))\n",
    "print('Results count is:', len(all_matches))\n",
    "print(all_matches[2])"
   ]
  },
  {
   "cell_type": "code",
   "execution_count": 11,
   "metadata": {},
   "outputs": [
    {
     "data": {
      "text/plain": [
       "['MR4044696:',\n",
       " 'The GAP Group, GAP â€“ groups, algorithms and programming, version 4.10, Available from http://www.gap-system.org, 2018.',\n",
       " 'MR2900886:',\n",
       " 'The GAP Group, $GAP$ groups, algorithms, and programming, version 4.4.12 (2008), http://www.gap-system.org.',\n",
       " 'MR4180136:',\n",
       " 'The GAP Group, 2019. GAP â€“ Groups, Algorithms, and Programming, Version 4.10.1; https://www.gap-system.org.',\n",
       " 'MR4044697:',\n",
       " 'The GAP Group, GAP â€“ groups, algorithms and programming, version 4.10, Available from http://www.gap-system.org, 2018.',\n",
       " 'MR7:',\n",
       " 'V. A. Artamonov and A. A. Bovdi, Integral gro GAP up rings: Groups of invertible elements and classical $K$-theory, in Algebra, Topology, Geometry, Vol. 27 (Russian), Itogi Nauki i Tekhniki, 232. (Vsesoyuz. Inst. Nauchn. i Tekhn. Inform., Moscow, 1989), pp. 3â€“43. \\nMR1039822',\n",
       " 'MR7:',\n",
       " \"V. Bovdi, A. Grishkov and A. Konovalov, Kimmerle @GAP a lapa conjecture for the Held and O'Nan sporadic simple groups, Sci. Math. Jpn. 69(3) (2009) 353â€“361. \\nMR2510100\",\n",
       " 'MR7:',\n",
       " 'V. Bovdi, E. Jespers and A. Konovalov, Tors gap ion gap GAP gappen units in integral group rings of Janko sgapimple groups, Math. Comp. 80 (2011) 593â€“615. \\nMR2728996',\n",
       " 'MR7:',\n",
       " 'V. Bovdi and A. Konovalov, Integral group ringaper GAP? eg of the McLaughlin simple group, Algebra Discrete Math. 2 (2007) 43â€“53. \\nMR2364062',\n",
       " 'MR5:',\n",
       " 'V. A. Artamonov and A. A. Bovdi, Integral gro GAP up rings: Groups of invertible elements and classical $K$-theory, in Algebra, Topology, Geometry, Vol. 27 (Russian), Itogi Nauki i Tekhniki, 232. (Vsesoyuz. Inst. Nauchn. i Tekhn. Inform., Moscow, 1989), pp. 3â€“43. \\nMR1039822',\n",
       " 'MR5:',\n",
       " \"V. Bovdi, A. Grishkov and A. Konovalov, Kimmerle @GAP a lapa conjecture for the Held and O'Nan sporadic simple groups, Sci. Math. Jpn. 69(3) (2009) 353â€“361. \\nMR2510100\",\n",
       " 'MR5:',\n",
       " 'V. Bovdi and A. Konovalov, Integral group ringaper GAP? eg of the McLaughlin simple group, Algebra Discrete Math. 2 (2007) 43â€“53. \\nMR2364062',\n",
       " 'MR11:',\n",
       " 'GAP group']"
      ]
     },
     "execution_count": 11,
     "metadata": {},
     "output_type": "execute_result"
    }
   ],
   "source": [
    "joined = list(itertools.chain(*all_matches))\n",
    "joined"
   ]
  },
  {
   "cell_type": "code",
   "execution_count": 12,
   "metadata": {
    "scrolled": true
   },
   "outputs": [
    {
     "name": "stdout",
     "output_type": "stream",
     "text": [
      "The GAP Group, $GAP$ groups, algorithms, and programming, version 4.4.12 (2008), http://www.gap-system.org.\n",
      "<class 'list'>\n",
      "<class 'str'>\n",
      "Now the Results count is: 24  which confirms that our program also catches GAP Packages citation as separate results.\n"
     ]
    }
   ],
   "source": [
    "print(joined[3])\n",
    "print(type(joined))\n",
    "print(type(joined[1]))\n",
    "print('Now the Results count is:', len(joined), ' which confirms that our program also catches GAP Packages citation as separate results.')"
   ]
  },
  {
   "cell_type": "code",
   "execution_count": 13,
   "metadata": {},
   "outputs": [
    {
     "data": {
      "text/plain": [
       "['MR4044696:',\n",
       " 'The GAP Group, GAP â€“ groups, algorithms and programming, version 4.10, Available from http://www.gap-system.org, 2018.',\n",
       " 'MR2900886:',\n",
       " 'The GAP Group, $GAP$ groups, algorithms, and programming, version 4.4.12 (2008), http://www.gap-system.org.',\n",
       " 'MR4180136:',\n",
       " 'The GAP Group, 2019. GAP â€“ Groups, Algorithms, and Programming, Version 4.10.1; https://www.gap-system.org.',\n",
       " 'MR4044697:',\n",
       " 'The GAP Group, GAP â€“ groups, algorithms and programming, version 4.10, Available from http://www.gap-system.org, 2018.',\n",
       " 'MR7:',\n",
       " 'V. A. Artamonov and A. A. Bovdi, Integral gro GAP up rings: Groups of invertible elements and classical $K$-theory, in Algebra, Topology, Geometry, Vol. 27 (Russian), Itogi Nauki i Tekhniki, 232. (Vsesoyuz. Inst. Nauchn. i Tekhn. Inform., Moscow, 1989), pp. 3â€“43. \\nMR1039822',\n",
       " 'MR7:',\n",
       " \"V. Bovdi, A. Grishkov and A. Konovalov, Kimmerle @GAP a lapa conjecture for the Held and O'Nan sporadic simple groups, Sci. Math. Jpn. 69(3) (2009) 353â€“361. \\nMR2510100\",\n",
       " 'MR7:',\n",
       " 'V. Bovdi, E. Jespers and A. Konovalov, Tors gap ion gap GAP gappen units in integral group rings of Janko sgapimple groups, Math. Comp. 80 (2011) 593â€“615. \\nMR2728996',\n",
       " 'MR7:',\n",
       " 'V. Bovdi and A. Konovalov, Integral group ringaper GAP? eg of the McLaughlin simple group, Algebra Discrete Math. 2 (2007) 43â€“53. \\nMR2364062',\n",
       " 'MR5:',\n",
       " 'V. A. Artamonov and A. A. Bovdi, Integral gro GAP up rings: Groups of invertible elements and classical $K$-theory, in Algebra, Topology, Geometry, Vol. 27 (Russian), Itogi Nauki i Tekhniki, 232. (Vsesoyuz. Inst. Nauchn. i Tekhn. Inform., Moscow, 1989), pp. 3â€“43. \\nMR1039822',\n",
       " 'MR5:',\n",
       " \"V. Bovdi, A. Grishkov and A. Konovalov, Kimmerle @GAP a lapa conjecture for the Held and O'Nan sporadic simple groups, Sci. Math. Jpn. 69(3) (2009) 353â€“361. \\nMR2510100\",\n",
       " 'MR5:',\n",
       " 'V. Bovdi and A. Konovalov, Integral group ringaper GAP? eg of the McLaughlin simple group, Algebra Discrete Math. 2 (2007) 43â€“53. \\nMR2364062',\n",
       " 'MR11:',\n",
       " 'GAP group']"
      ]
     },
     "execution_count": 13,
     "metadata": {},
     "output_type": "execute_result"
    }
   ],
   "source": [
    "final = []\n",
    "for i in range(len(joined)):\n",
    "    clean = (joined[i].strip())\n",
    "    final.append(clean)\n",
    "final"
   ]
  },
  {
   "cell_type": "markdown",
   "metadata": {},
   "source": [
    "### Converting our data to Pandas dataframe for further analysis"
   ]
  },
  {
   "cell_type": "code",
   "execution_count": 14,
   "metadata": {},
   "outputs": [
    {
     "data": {
      "text/html": [
       "<div>\n",
       "<style scoped>\n",
       "    .dataframe tbody tr th:only-of-type {\n",
       "        vertical-align: middle;\n",
       "    }\n",
       "\n",
       "    .dataframe tbody tr th {\n",
       "        vertical-align: top;\n",
       "    }\n",
       "\n",
       "    .dataframe thead th {\n",
       "        text-align: right;\n",
       "    }\n",
       "</style>\n",
       "<table border=\"1\" class=\"dataframe\">\n",
       "  <thead>\n",
       "    <tr style=\"text-align: right;\">\n",
       "      <th></th>\n",
       "      <th>0</th>\n",
       "    </tr>\n",
       "  </thead>\n",
       "  <tbody>\n",
       "    <tr>\n",
       "      <th>0</th>\n",
       "      <td>MR4044696:</td>\n",
       "    </tr>\n",
       "    <tr>\n",
       "      <th>1</th>\n",
       "      <td>The GAP Group, GAP â€“ groups, algorithms and ...</td>\n",
       "    </tr>\n",
       "    <tr>\n",
       "      <th>2</th>\n",
       "      <td>MR2900886:</td>\n",
       "    </tr>\n",
       "    <tr>\n",
       "      <th>3</th>\n",
       "      <td>The GAP Group, $GAP$ groups, algorithms, and p...</td>\n",
       "    </tr>\n",
       "    <tr>\n",
       "      <th>4</th>\n",
       "      <td>MR4180136:</td>\n",
       "    </tr>\n",
       "    <tr>\n",
       "      <th>5</th>\n",
       "      <td>The GAP Group, 2019. GAP â€“ Groups, Algorithm...</td>\n",
       "    </tr>\n",
       "    <tr>\n",
       "      <th>6</th>\n",
       "      <td>MR4044697:</td>\n",
       "    </tr>\n",
       "    <tr>\n",
       "      <th>7</th>\n",
       "      <td>The GAP Group, GAP â€“ groups, algorithms and ...</td>\n",
       "    </tr>\n",
       "    <tr>\n",
       "      <th>8</th>\n",
       "      <td>MR7:</td>\n",
       "    </tr>\n",
       "    <tr>\n",
       "      <th>9</th>\n",
       "      <td>V. A. Artamonov and A. A. Bovdi, Integral gro ...</td>\n",
       "    </tr>\n",
       "    <tr>\n",
       "      <th>10</th>\n",
       "      <td>MR7:</td>\n",
       "    </tr>\n",
       "    <tr>\n",
       "      <th>11</th>\n",
       "      <td>V. Bovdi, A. Grishkov and A. Konovalov, Kimmer...</td>\n",
       "    </tr>\n",
       "    <tr>\n",
       "      <th>12</th>\n",
       "      <td>MR7:</td>\n",
       "    </tr>\n",
       "    <tr>\n",
       "      <th>13</th>\n",
       "      <td>V. Bovdi, E. Jespers and A. Konovalov, Tors ga...</td>\n",
       "    </tr>\n",
       "    <tr>\n",
       "      <th>14</th>\n",
       "      <td>MR7:</td>\n",
       "    </tr>\n",
       "    <tr>\n",
       "      <th>15</th>\n",
       "      <td>V. Bovdi and A. Konovalov, Integral group ring...</td>\n",
       "    </tr>\n",
       "    <tr>\n",
       "      <th>16</th>\n",
       "      <td>MR5:</td>\n",
       "    </tr>\n",
       "    <tr>\n",
       "      <th>17</th>\n",
       "      <td>V. A. Artamonov and A. A. Bovdi, Integral gro ...</td>\n",
       "    </tr>\n",
       "    <tr>\n",
       "      <th>18</th>\n",
       "      <td>MR5:</td>\n",
       "    </tr>\n",
       "    <tr>\n",
       "      <th>19</th>\n",
       "      <td>V. Bovdi, A. Grishkov and A. Konovalov, Kimmer...</td>\n",
       "    </tr>\n",
       "    <tr>\n",
       "      <th>20</th>\n",
       "      <td>MR5:</td>\n",
       "    </tr>\n",
       "    <tr>\n",
       "      <th>21</th>\n",
       "      <td>V. Bovdi and A. Konovalov, Integral group ring...</td>\n",
       "    </tr>\n",
       "    <tr>\n",
       "      <th>22</th>\n",
       "      <td>MR11:</td>\n",
       "    </tr>\n",
       "    <tr>\n",
       "      <th>23</th>\n",
       "      <td>GAP group</td>\n",
       "    </tr>\n",
       "  </tbody>\n",
       "</table>\n",
       "</div>"
      ],
      "text/plain": [
       "                                                    0\n",
       "0                                          MR4044696:\n",
       "1   The GAP Group, GAP â€“ groups, algorithms and ...\n",
       "2                                          MR2900886:\n",
       "3   The GAP Group, $GAP$ groups, algorithms, and p...\n",
       "4                                          MR4180136:\n",
       "5   The GAP Group, 2019. GAP â€“ Groups, Algorithm...\n",
       "6                                          MR4044697:\n",
       "7   The GAP Group, GAP â€“ groups, algorithms and ...\n",
       "8                                                MR7:\n",
       "9   V. A. Artamonov and A. A. Bovdi, Integral gro ...\n",
       "10                                               MR7:\n",
       "11  V. Bovdi, A. Grishkov and A. Konovalov, Kimmer...\n",
       "12                                               MR7:\n",
       "13  V. Bovdi, E. Jespers and A. Konovalov, Tors ga...\n",
       "14                                               MR7:\n",
       "15  V. Bovdi and A. Konovalov, Integral group ring...\n",
       "16                                               MR5:\n",
       "17  V. A. Artamonov and A. A. Bovdi, Integral gro ...\n",
       "18                                               MR5:\n",
       "19  V. Bovdi, A. Grishkov and A. Konovalov, Kimmer...\n",
       "20                                               MR5:\n",
       "21  V. Bovdi and A. Konovalov, Integral group ring...\n",
       "22                                              MR11:\n",
       "23                                          GAP group"
      ]
     },
     "execution_count": 14,
     "metadata": {},
     "output_type": "execute_result"
    }
   ],
   "source": [
    "df=pd.DataFrame(final)\n",
    "df"
   ]
  },
  {
   "cell_type": "markdown",
   "metadata": {},
   "source": [
    "Some MR numbers contain more than one GAP citations which produces extra columns. We need to take every odd element from the whole data and assign it to separate row in one 'MR' column. And then take every even element containing the corresponding citation and join it to its MR number in a second column called 'Citation'."
   ]
  },
  {
   "cell_type": "code",
   "execution_count": 15,
   "metadata": {},
   "outputs": [],
   "source": [
    "check = df.index%2==0  #checking if the index is even because the values are in consicutive order\n",
    "separated = pd.DataFrame([df.loc[check, 0].str.strip(':').tolist(), # taking every odd element which is MR number\n",
    "                         df.loc[~check, 0].tolist()], # taking every even element which is Citation\n",
    "                         index=['MR','Citation']).T # assigning the corresponding value names to each column"
   ]
  },
  {
   "cell_type": "code",
   "execution_count": 16,
   "metadata": {
    "scrolled": true
   },
   "outputs": [
    {
     "data": {
      "text/html": [
       "<div>\n",
       "<style scoped>\n",
       "    .dataframe tbody tr th:only-of-type {\n",
       "        vertical-align: middle;\n",
       "    }\n",
       "\n",
       "    .dataframe tbody tr th {\n",
       "        vertical-align: top;\n",
       "    }\n",
       "\n",
       "    .dataframe thead th {\n",
       "        text-align: right;\n",
       "    }\n",
       "</style>\n",
       "<table border=\"1\" class=\"dataframe\">\n",
       "  <thead>\n",
       "    <tr style=\"text-align: right;\">\n",
       "      <th></th>\n",
       "      <th>MR</th>\n",
       "      <th>Citation</th>\n",
       "    </tr>\n",
       "  </thead>\n",
       "  <tbody>\n",
       "    <tr>\n",
       "      <th>0</th>\n",
       "      <td>MR4044696</td>\n",
       "      <td>The GAP Group, GAP â€“ groups, algorithms and ...</td>\n",
       "    </tr>\n",
       "    <tr>\n",
       "      <th>1</th>\n",
       "      <td>MR2900886</td>\n",
       "      <td>The GAP Group, $GAP$ groups, algorithms, and p...</td>\n",
       "    </tr>\n",
       "    <tr>\n",
       "      <th>2</th>\n",
       "      <td>MR4180136</td>\n",
       "      <td>The GAP Group, 2019. GAP â€“ Groups, Algorithm...</td>\n",
       "    </tr>\n",
       "    <tr>\n",
       "      <th>3</th>\n",
       "      <td>MR4044697</td>\n",
       "      <td>The GAP Group, GAP â€“ groups, algorithms and ...</td>\n",
       "    </tr>\n",
       "    <tr>\n",
       "      <th>4</th>\n",
       "      <td>MR7</td>\n",
       "      <td>V. A. Artamonov and A. A. Bovdi, Integral gro ...</td>\n",
       "    </tr>\n",
       "    <tr>\n",
       "      <th>5</th>\n",
       "      <td>MR7</td>\n",
       "      <td>V. Bovdi, A. Grishkov and A. Konovalov, Kimmer...</td>\n",
       "    </tr>\n",
       "    <tr>\n",
       "      <th>6</th>\n",
       "      <td>MR7</td>\n",
       "      <td>V. Bovdi, E. Jespers and A. Konovalov, Tors ga...</td>\n",
       "    </tr>\n",
       "    <tr>\n",
       "      <th>7</th>\n",
       "      <td>MR7</td>\n",
       "      <td>V. Bovdi and A. Konovalov, Integral group ring...</td>\n",
       "    </tr>\n",
       "    <tr>\n",
       "      <th>8</th>\n",
       "      <td>MR5</td>\n",
       "      <td>V. A. Artamonov and A. A. Bovdi, Integral gro ...</td>\n",
       "    </tr>\n",
       "    <tr>\n",
       "      <th>9</th>\n",
       "      <td>MR5</td>\n",
       "      <td>V. Bovdi, A. Grishkov and A. Konovalov, Kimmer...</td>\n",
       "    </tr>\n",
       "    <tr>\n",
       "      <th>10</th>\n",
       "      <td>MR5</td>\n",
       "      <td>V. Bovdi and A. Konovalov, Integral group ring...</td>\n",
       "    </tr>\n",
       "    <tr>\n",
       "      <th>11</th>\n",
       "      <td>MR11</td>\n",
       "      <td>GAP group</td>\n",
       "    </tr>\n",
       "  </tbody>\n",
       "</table>\n",
       "</div>"
      ],
      "text/plain": [
       "           MR                                           Citation\n",
       "0   MR4044696  The GAP Group, GAP â€“ groups, algorithms and ...\n",
       "1   MR2900886  The GAP Group, $GAP$ groups, algorithms, and p...\n",
       "2   MR4180136  The GAP Group, 2019. GAP â€“ Groups, Algorithm...\n",
       "3   MR4044697  The GAP Group, GAP â€“ groups, algorithms and ...\n",
       "4         MR7  V. A. Artamonov and A. A. Bovdi, Integral gro ...\n",
       "5         MR7  V. Bovdi, A. Grishkov and A. Konovalov, Kimmer...\n",
       "6         MR7  V. Bovdi, E. Jespers and A. Konovalov, Tors ga...\n",
       "7         MR7  V. Bovdi and A. Konovalov, Integral group ring...\n",
       "8         MR5  V. A. Artamonov and A. A. Bovdi, Integral gro ...\n",
       "9         MR5  V. Bovdi, A. Grishkov and A. Konovalov, Kimmer...\n",
       "10        MR5  V. Bovdi and A. Konovalov, Integral group ring...\n",
       "11       MR11                                          GAP group"
      ]
     },
     "execution_count": 16,
     "metadata": {},
     "output_type": "execute_result"
    }
   ],
   "source": [
    "separated"
   ]
  },
  {
   "cell_type": "markdown",
   "metadata": {},
   "source": [
    "The resultung Pandas Data-frame has two columns. Now we can export it to a .CSV file which will be taken over by the next Jupyter Notebook in our pipeline."
   ]
  },
  {
   "cell_type": "code",
   "execution_count": 17,
   "metadata": {
    "scrolled": true
   },
   "outputs": [],
   "source": [
    "separated.to_csv('local_test_output.csv', index=False, encoding='utf-8')"
   ]
  },
  {
   "cell_type": "code",
   "execution_count": null,
   "metadata": {},
   "outputs": [],
   "source": []
  },
  {
   "cell_type": "code",
   "execution_count": null,
   "metadata": {},
   "outputs": [],
   "source": []
  },
  {
   "cell_type": "code",
   "execution_count": null,
   "metadata": {},
   "outputs": [],
   "source": []
  }
 ],
 "metadata": {
  "kernelspec": {
   "display_name": "Python 3",
   "language": "python",
   "name": "python3"
  },
  "language_info": {
   "codemirror_mode": {
    "name": "ipython",
    "version": 3
   },
   "file_extension": ".py",
   "mimetype": "text/x-python",
   "name": "python",
   "nbconvert_exporter": "python",
   "pygments_lexer": "ipython3",
   "version": "3.8.5"
  }
 },
 "nbformat": 4,
 "nbformat_minor": 4
}
