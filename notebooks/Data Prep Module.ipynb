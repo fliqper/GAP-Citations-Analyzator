{
 "cells": [
  {
   "cell_type": "code",
   "execution_count": 1,
   "id": "outdoor-temple",
   "metadata": {},
   "outputs": [],
   "source": [
    "import sys\n",
    "import time\n",
    "import bibtexparser\n",
    "import itertools\n",
    "import requests\n",
    "import re\n",
    "import pandas as pd\n",
    "from bs4 import BeautifulSoup"
   ]
  },
  {
   "cell_type": "code",
   "execution_count": 4,
   "id": "nearby-ferry",
   "metadata": {},
   "outputs": [],
   "source": [
    "import bibtexparser\n",
    "bibtex_file = open('gap-publishednicer.bib.txt', encoding='utf-8')\n",
    "bib_data = bibtexparser.load(bibtex_file)"
   ]
  },
  {
   "cell_type": "code",
   "execution_count": 5,
   "id": "special-establishment",
   "metadata": {
    "scrolled": true
   },
   "outputs": [],
   "source": [
    "bib = bib_data.entries"
   ]
  },
  {
   "cell_type": "code",
   "execution_count": 10,
   "id": "settled-psychology",
   "metadata": {},
   "outputs": [],
   "source": [
    "final_df = pd.read_csv('local_test_output.csv', dtype='str')"
   ]
  },
  {
   "cell_type": "code",
   "execution_count": 15,
   "id": "loving-access",
   "metadata": {
    "scrolled": true
   },
   "outputs": [
    {
     "data": {
      "text/html": [
       "<div>\n",
       "<style scoped>\n",
       "    .dataframe tbody tr th:only-of-type {\n",
       "        vertical-align: middle;\n",
       "    }\n",
       "\n",
       "    .dataframe tbody tr th {\n",
       "        vertical-align: top;\n",
       "    }\n",
       "\n",
       "    .dataframe thead th {\n",
       "        text-align: right;\n",
       "    }\n",
       "</style>\n",
       "<table border=\"1\" class=\"dataframe\">\n",
       "  <thead>\n",
       "    <tr style=\"text-align: right;\">\n",
       "      <th></th>\n",
       "      <th>MR</th>\n",
       "      <th>Citation</th>\n",
       "    </tr>\n",
       "  </thead>\n",
       "  <tbody>\n",
       "    <tr>\n",
       "      <th>0</th>\n",
       "      <td>MR4044696</td>\n",
       "      <td>The GAP Group, GAP – groups, algorithms and pr...</td>\n",
       "    </tr>\n",
       "    <tr>\n",
       "      <th>1</th>\n",
       "      <td>MR2900886</td>\n",
       "      <td>The GAP Group, $GAP$ groups, algorithms, and p...</td>\n",
       "    </tr>\n",
       "    <tr>\n",
       "      <th>2</th>\n",
       "      <td>MR3169623</td>\n",
       "      <td>Distler, A., Mitchell, J. D. (2011). Smallsemi...</td>\n",
       "    </tr>\n",
       "    <tr>\n",
       "      <th>3</th>\n",
       "      <td>MR3169623</td>\n",
       "      <td>The GAP Group, (2008). (http://www.gap-system....</td>\n",
       "    </tr>\n",
       "    <tr>\n",
       "      <th>4</th>\n",
       "      <td>MR4180136</td>\n",
       "      <td>The GAP Group, 2019. GAP – Groups, Algorithms,...</td>\n",
       "    </tr>\n",
       "  </tbody>\n",
       "</table>\n",
       "</div>"
      ],
      "text/plain": [
       "          MR                                           Citation\n",
       "0  MR4044696  The GAP Group, GAP – groups, algorithms and pr...\n",
       "1  MR2900886  The GAP Group, $GAP$ groups, algorithms, and p...\n",
       "2  MR3169623  Distler, A., Mitchell, J. D. (2011). Smallsemi...\n",
       "3  MR3169623  The GAP Group, (2008). (http://www.gap-system....\n",
       "4  MR4180136  The GAP Group, 2019. GAP – Groups, Algorithms,..."
      ]
     },
     "execution_count": 15,
     "metadata": {},
     "output_type": "execute_result"
    }
   ],
   "source": [
    "final_df"
   ]
  },
  {
   "cell_type": "code",
   "execution_count": 85,
   "id": "competitive-voice",
   "metadata": {},
   "outputs": [],
   "source": [
    "mrs = final_df['MR']"
   ]
  },
  {
   "cell_type": "code",
   "execution_count": 86,
   "id": "disabled-minnesota",
   "metadata": {},
   "outputs": [
    {
     "data": {
      "text/plain": [
       "0    MR4044696\n",
       "1    MR2900886\n",
       "2    MR3169623\n",
       "3    MR3169623\n",
       "4    MR4180136\n",
       "Name: MR, dtype: object"
      ]
     },
     "execution_count": 86,
     "metadata": {},
     "output_type": "execute_result"
    }
   ],
   "source": [
    "mrs"
   ]
  },
  {
   "cell_type": "code",
   "execution_count": 12,
   "id": "posted-address",
   "metadata": {},
   "outputs": [
    {
     "name": "stdout",
     "output_type": "stream",
     "text": [
      "<class 'list'>\n",
      "<class 'dict'>\n",
      "{'printedkey': 'A01', 'mrreviewer': 'H. Heineken', 'mrnumber': '1864795', 'mrclass': '20F45 (20D60 20F19)', 'issn': '0362-1588', 'fjournal': 'Houston Journal of Mathematics', 'pages': '511–522', 'year': '2001', 'number': '3', 'volume': '27', 'journal': 'Houston J. Math.', 'title': 'Some {E}ngel conditions on finite subsets of certain groups', 'author': 'Abdollahi, A.', 'ENTRYTYPE': 'article', 'ID': 'MR1864795'}\n"
     ]
    }
   ],
   "source": [
    "print(type(bib))\n",
    "print(type(bib[5]))\n",
    "print(bib[5])"
   ]
  },
  {
   "cell_type": "code",
   "execution_count": 13,
   "id": "heavy-sweet",
   "metadata": {
    "scrolled": false
   },
   "outputs": [
    {
     "data": {
      "text/plain": [
       "{'printedkey': 'A01',\n",
       " 'mrreviewer': 'H. Heineken',\n",
       " 'mrnumber': '1864795',\n",
       " 'mrclass': '20F45 (20D60 20F19)',\n",
       " 'issn': '0362-1588',\n",
       " 'fjournal': 'Houston Journal of Mathematics',\n",
       " 'pages': '511–522',\n",
       " 'year': '2001',\n",
       " 'number': '3',\n",
       " 'volume': '27',\n",
       " 'journal': 'Houston J. Math.',\n",
       " 'title': 'Some {E}ngel conditions on finite subsets of certain groups',\n",
       " 'author': 'Abdollahi, A.',\n",
       " 'ENTRYTYPE': 'article',\n",
       " 'ID': 'MR1864795'}"
      ]
     },
     "execution_count": 13,
     "metadata": {},
     "output_type": "execute_result"
    }
   ],
   "source": [
    "bib[5]"
   ]
  },
  {
   "cell_type": "code",
   "execution_count": 14,
   "id": "radio-injection",
   "metadata": {},
   "outputs": [
    {
     "data": {
      "text/plain": [
       "'Houston Journal of Mathematics'"
      ]
     },
     "execution_count": 14,
     "metadata": {},
     "output_type": "execute_result"
    }
   ],
   "source": [
    "bib[5].keys()\n",
    "bib[5]['year']\n",
    "bib[5]['fjournal']"
   ]
  },
  {
   "cell_type": "code",
   "execution_count": 79,
   "id": "cardiovascular-thumb",
   "metadata": {},
   "outputs": [],
   "source": [
    "df = pd.DataFrame(bib)\n"
   ]
  },
  {
   "cell_type": "code",
   "execution_count": 82,
   "id": "honest-hayes",
   "metadata": {},
   "outputs": [],
   "source": [
    "df_filtered = df[df.ID.isin(mrs)]"
   ]
  },
  {
   "cell_type": "code",
   "execution_count": 83,
   "id": "organizational-background",
   "metadata": {},
   "outputs": [
    {
     "data": {
      "text/html": [
       "<div>\n",
       "<style scoped>\n",
       "    .dataframe tbody tr th:only-of-type {\n",
       "        vertical-align: middle;\n",
       "    }\n",
       "\n",
       "    .dataframe tbody tr th {\n",
       "        vertical-align: top;\n",
       "    }\n",
       "\n",
       "    .dataframe thead th {\n",
       "        text-align: right;\n",
       "    }\n",
       "</style>\n",
       "<table border=\"1\" class=\"dataframe\">\n",
       "  <thead>\n",
       "    <tr style=\"text-align: right;\">\n",
       "      <th></th>\n",
       "      <th>printedkey</th>\n",
       "      <th>doi</th>\n",
       "      <th>url</th>\n",
       "      <th>mrreviewer</th>\n",
       "      <th>mrnumber</th>\n",
       "      <th>mrclass</th>\n",
       "      <th>issn</th>\n",
       "      <th>fjournal</th>\n",
       "      <th>pages</th>\n",
       "      <th>year</th>\n",
       "      <th>...</th>\n",
       "      <th>annote</th>\n",
       "      <th>type</th>\n",
       "      <th>address</th>\n",
       "      <th>institution</th>\n",
       "      <th>howpublished</th>\n",
       "      <th>editor</th>\n",
       "      <th>bookeditor</th>\n",
       "      <th>edition</th>\n",
       "      <th>key</th>\n",
       "      <th>organization</th>\n",
       "    </tr>\n",
       "  </thead>\n",
       "  <tbody>\n",
       "  </tbody>\n",
       "</table>\n",
       "<p>0 rows × 36 columns</p>\n",
       "</div>"
      ],
      "text/plain": [
       "Empty DataFrame\n",
       "Columns: [printedkey, doi, url, mrreviewer, mrnumber, mrclass, issn, fjournal, pages, year, volume, journal, title, author, ENTRYTYPE, ID, number, school, booktitle, isbn, note, publisher, day, keywords, month, series, annote, type, address, institution, howpublished, editor, bookeditor, edition, key, organization]\n",
       "Index: []\n",
       "\n",
       "[0 rows x 36 columns]"
      ]
     },
     "execution_count": 83,
     "metadata": {},
     "output_type": "execute_result"
    }
   ],
   "source": [
    "df_filtered"
   ]
  },
  {
   "cell_type": "code",
   "execution_count": 65,
   "id": "military-coverage",
   "metadata": {
    "scrolled": true
   },
   "outputs": [],
   "source": [
    "bib_mr = ['MR' + d['mrnumber'] for d in bib if 'mrnumber' in d]\n",
    "journal = [d['fjournal'] for d in bib if 'fjournal' in d]\n",
    "year =  [d['year'] for d in bib if 'year' in d]\n",
    "pub_type =  [d['ENTRYTYPE'] for d in bib if 'ENTRYTYPE' in d]\n",
    "author = [d['author'] for d in bib if 'author' in d]"
   ]
  },
  {
   "cell_type": "code",
   "execution_count": 77,
   "id": "surgical-bronze",
   "metadata": {},
   "outputs": [
    {
     "ename": "SyntaxError",
     "evalue": "invalid syntax (<ipython-input-77-b3794065cff7>, line 1)",
     "output_type": "error",
     "traceback": [
      "\u001b[1;36m  File \u001b[1;32m\"<ipython-input-77-b3794065cff7>\"\u001b[1;36m, line \u001b[1;32m1\u001b[0m\n\u001b[1;33m    for i in bib if mrs in bib_mr\u001b[0m\n\u001b[1;37m                                 ^\u001b[0m\n\u001b[1;31mSyntaxError\u001b[0m\u001b[1;31m:\u001b[0m invalid syntax\n"
     ]
    }
   ],
   "source": [
    "for i in bib if mrs in bib_mr\n",
    "bib[i]"
   ]
  },
  {
   "cell_type": "code",
   "execution_count": 67,
   "id": "macro-clerk",
   "metadata": {},
   "outputs": [
    {
     "name": "stdout",
     "output_type": "stream",
     "text": [
      "<class 'list'>\n",
      "['MR4056124', 'MR3942387', 'MR3354065', 'MR3646312', 'MR1864795']\n"
     ]
    }
   ],
   "source": [
    "print(type(bib_mr))\n",
    "print(bib_mr[0:5])"
   ]
  },
  {
   "cell_type": "code",
   "execution_count": null,
   "id": "eastern-mortgage",
   "metadata": {},
   "outputs": [],
   "source": []
  }
 ],
 "metadata": {
  "kernelspec": {
   "display_name": "Python 3",
   "language": "python",
   "name": "python3"
  },
  "language_info": {
   "codemirror_mode": {
    "name": "ipython",
    "version": 3
   },
   "file_extension": ".py",
   "mimetype": "text/x-python",
   "name": "python",
   "nbconvert_exporter": "python",
   "pygments_lexer": "ipython3",
   "version": "3.8.5"
  }
 },
 "nbformat": 4,
 "nbformat_minor": 5
}
