{
 "cells": [
  {
   "cell_type": "code",
   "execution_count": 6,
   "id": "daily-summer",
   "metadata": {},
   "outputs": [],
   "source": [
    "import sys\n",
    "import time\n",
    "import bibtexparser\n",
    "import itertools\n",
    "import requests\n",
    "import re\n",
    "import pandas as pd\n",
    "from bs4 import BeautifulSoup"
   ]
  },
  {
   "cell_type": "code",
   "execution_count": 2,
   "id": "focal-river",
   "metadata": {},
   "outputs": [],
   "source": [
    "import bibtexparser\n",
    "bibtex_file = open('gap-publishednicer.bib.txt', encoding='utf-8')\n",
    "bib_data = bibtexparser.load(bibtex_file)"
   ]
  },
  {
   "cell_type": "code",
   "execution_count": 106,
   "id": "special-establishment",
   "metadata": {
    "scrolled": true
   },
   "outputs": [],
   "source": [
    "bib = bib_data.entries"
   ]
  },
  {
   "cell_type": "code",
   "execution_count": 163,
   "id": "according-recorder",
   "metadata": {
    "scrolled": false
   },
   "outputs": [],
   "source": [
    "bib_df = pd.DataFrame.from_dict(bib)\n",
    "review_df = pd.read_csv('no_citation_text.csv', dtype='str')\n",
    "corpus_df = pd.read_csv('gap_citations_corpus.csv', dtype='str')"
   ]
  },
  {
   "cell_type": "code",
   "execution_count": 164,
   "id": "grave-spanking",
   "metadata": {
    "scrolled": false
   },
   "outputs": [
    {
     "data": {
      "text/plain": [
       "Index(['printedkey', 'doi', 'url', 'mrreviewer', 'mrnumber', 'mrclass', 'issn',\n",
       "       'fjournal', 'pages', 'year', 'volume', 'journal', 'title', 'author',\n",
       "       'ENTRYTYPE', 'ID', 'number', 'school', 'booktitle', 'isbn', 'note',\n",
       "       'publisher', 'day', 'keywords', 'month', 'series', 'annote', 'type',\n",
       "       'address', 'institution', 'howpublished', 'editor', 'bookeditor',\n",
       "       'edition', 'key', 'organization'],\n",
       "      dtype='object')"
      ]
     },
     "execution_count": 164,
     "metadata": {},
     "output_type": "execute_result"
    }
   ],
   "source": [
    "bib_df.columns"
   ]
  },
  {
   "cell_type": "markdown",
   "id": "cellular-magazine",
   "metadata": {},
   "source": [
    "# Larger dataset from Bibliography"
   ]
  },
  {
   "cell_type": "markdown",
   "id": "typical-father",
   "metadata": {},
   "source": [
    "We only need some of these columns, hence we `drop` the rest."
   ]
  },
  {
   "cell_type": "code",
   "execution_count": 169,
   "id": "musical-league",
   "metadata": {},
   "outputs": [],
   "source": [
    "bib_df.drop(bib_df.columns[[0, 1, 2, 3, 5, 6, 7, 8, 10, 12, 15, 16, 17, 18, 19, 20, 21, 22, 23, 24, 25, 26, 27, 28, 29, 30, 31, 32, 33, 34, 35]], axis = 1, inplace = True)"
   ]
  },
  {
   "cell_type": "code",
   "execution_count": 170,
   "id": "christian-coordination",
   "metadata": {},
   "outputs": [
    {
     "data": {
      "text/plain": [
       "Index(['mrnumber', 'year', 'journal', 'author', 'ENTRYTYPE'], dtype='object')"
      ]
     },
     "execution_count": 170,
     "metadata": {},
     "output_type": "execute_result"
    }
   ],
   "source": [
    "bib_df.columns"
   ]
  },
  {
   "cell_type": "code",
   "execution_count": 172,
   "id": "undefined-absence",
   "metadata": {},
   "outputs": [],
   "source": [
    "bib_df = bib_df[['mrnumber', 'author', 'journal', 'year', 'ENTRYTYPE']]"
   ]
  },
  {
   "cell_type": "markdown",
   "id": "offshore-screening",
   "metadata": {},
   "source": [
    "Then we change the `mrnumber` coulmn name to `MRN` so we cane later merge this dataframe with the other one."
   ]
  },
  {
   "cell_type": "code",
   "execution_count": 173,
   "id": "referenced-campus",
   "metadata": {},
   "outputs": [],
   "source": [
    "bib_df.columns = ['MRN', 'author', 'journal', 'year', 'ENTRYTYPE']"
   ]
  },
  {
   "cell_type": "code",
   "execution_count": 178,
   "id": "bearing-intersection",
   "metadata": {
    "scrolled": false
   },
   "outputs": [
    {
     "data": {
      "text/html": [
       "<div>\n",
       "<style scoped>\n",
       "    .dataframe tbody tr th:only-of-type {\n",
       "        vertical-align: middle;\n",
       "    }\n",
       "\n",
       "    .dataframe tbody tr th {\n",
       "        vertical-align: top;\n",
       "    }\n",
       "\n",
       "    .dataframe thead th {\n",
       "        text-align: right;\n",
       "    }\n",
       "</style>\n",
       "<table border=\"1\" class=\"dataframe\">\n",
       "  <thead>\n",
       "    <tr style=\"text-align: right;\">\n",
       "      <th></th>\n",
       "      <th>MRN</th>\n",
       "      <th>author</th>\n",
       "      <th>journal</th>\n",
       "      <th>year</th>\n",
       "      <th>ENTRYTYPE</th>\n",
       "    </tr>\n",
       "  </thead>\n",
       "  <tbody>\n",
       "    <tr>\n",
       "      <th>0</th>\n",
       "      <td>4056124</td>\n",
       "      <td>Abas, M. and Vetrík, T.</td>\n",
       "      <td>Theoret. Comput. Sci.</td>\n",
       "      <td>2020</td>\n",
       "      <td>article</td>\n",
       "    </tr>\n",
       "    <tr>\n",
       "      <th>1</th>\n",
       "      <td>3942387</td>\n",
       "      <td>Abbas, A. and Assi, A. and García-Sánchez, P. A.</td>\n",
       "      <td>Rev. R. Acad. Cienc. Exactas Fís. Nat. Ser. A ...</td>\n",
       "      <td>2019</td>\n",
       "      <td>article</td>\n",
       "    </tr>\n",
       "    <tr>\n",
       "      <th>2</th>\n",
       "      <td>NaN</td>\n",
       "      <td>Abdeljaouad, I.</td>\n",
       "      <td>RAIRO-INF THEOR APPL</td>\n",
       "      <td>1999</td>\n",
       "      <td>article</td>\n",
       "    </tr>\n",
       "    <tr>\n",
       "      <th>3</th>\n",
       "      <td>3354065</td>\n",
       "      <td>Abdolghafourian, A. and Iranmanesh, M. A.</td>\n",
       "      <td>Comm. Algebra</td>\n",
       "      <td>2015</td>\n",
       "      <td>article</td>\n",
       "    </tr>\n",
       "    <tr>\n",
       "      <th>4</th>\n",
       "      <td>3646312</td>\n",
       "      <td>Abdolghafourian, A. and Iranmanesh, M. A. and ...</td>\n",
       "      <td>J. Pure Appl. Algebra</td>\n",
       "      <td>2017</td>\n",
       "      <td>article</td>\n",
       "    </tr>\n",
       "    <tr>\n",
       "      <th>5</th>\n",
       "      <td>1864795</td>\n",
       "      <td>Abdollahi, A.</td>\n",
       "      <td>Houston J. Math.</td>\n",
       "      <td>2001</td>\n",
       "      <td>article</td>\n",
       "    </tr>\n",
       "    <tr>\n",
       "      <th>6</th>\n",
       "      <td>2371966</td>\n",
       "      <td>Abdollahi, A.</td>\n",
       "      <td>J. Algebra</td>\n",
       "      <td>2007</td>\n",
       "      <td>article</td>\n",
       "    </tr>\n",
       "  </tbody>\n",
       "</table>\n",
       "</div>"
      ],
      "text/plain": [
       "       MRN                                             author  \\\n",
       "0  4056124                            Abas, M. and Vetrík, T.   \n",
       "1  3942387   Abbas, A. and Assi, A. and García-Sánchez, P. A.   \n",
       "2      NaN                                    Abdeljaouad, I.   \n",
       "3  3354065          Abdolghafourian, A. and Iranmanesh, M. A.   \n",
       "4  3646312  Abdolghafourian, A. and Iranmanesh, M. A. and ...   \n",
       "5  1864795                                      Abdollahi, A.   \n",
       "6  2371966                                      Abdollahi, A.   \n",
       "\n",
       "                                             journal  year ENTRYTYPE  \n",
       "0                              Theoret. Comput. Sci.  2020   article  \n",
       "1  Rev. R. Acad. Cienc. Exactas Fís. Nat. Ser. A ...  2019   article  \n",
       "2                               RAIRO-INF THEOR APPL  1999   article  \n",
       "3                                      Comm. Algebra  2015   article  \n",
       "4                              J. Pure Appl. Algebra  2017   article  \n",
       "5                                   Houston J. Math.  2001   article  \n",
       "6                                         J. Algebra  2007   article  "
      ]
     },
     "execution_count": 178,
     "metadata": {},
     "output_type": "execute_result"
    }
   ],
   "source": [
    "bib_df.head(7)"
   ]
  },
  {
   "cell_type": "markdown",
   "id": "expected-establishment",
   "metadata": {},
   "source": [
    "Data types and count of non-null values for each columns."
   ]
  },
  {
   "cell_type": "code",
   "execution_count": 180,
   "id": "announced-arrangement",
   "metadata": {
    "scrolled": false
   },
   "outputs": [
    {
     "name": "stdout",
     "output_type": "stream",
     "text": [
      "<class 'pandas.core.frame.DataFrame'>\n",
      "RangeIndex: 3367 entries, 0 to 3366\n",
      "Data columns (total 5 columns):\n",
      " #   Column     Non-Null Count  Dtype \n",
      "---  ------     --------------  ----- \n",
      " 0   MRN        3159 non-null   object\n",
      " 1   author     3367 non-null   object\n",
      " 2   journal    3047 non-null   object\n",
      " 3   year       3367 non-null   object\n",
      " 4   ENTRYTYPE  3367 non-null   object\n",
      "dtypes: object(5)\n",
      "memory usage: 65.8+ KB\n"
     ]
    }
   ],
   "source": [
    "bib_df.info(show_counts  = True)"
   ]
  },
  {
   "cell_type": "markdown",
   "id": "irish-lithuania",
   "metadata": {},
   "source": [
    "Looking at the `MRN` columns, some cells are empty - `NaN`"
   ]
  },
  {
   "cell_type": "code",
   "execution_count": 177,
   "id": "stopped-gregory",
   "metadata": {
    "scrolled": true
   },
   "outputs": [
    {
     "data": {
      "text/plain": [
       "MRN                    NaN\n",
       "author          Wegner, A.\n",
       "journal                NaN\n",
       "year                  1989\n",
       "ENTRYTYPE    mastersthesis\n",
       "Name: 3274, dtype: object"
      ]
     },
     "execution_count": 177,
     "metadata": {},
     "output_type": "execute_result"
    }
   ],
   "source": [
    "bib_df.iloc[3274]"
   ]
  },
  {
   "cell_type": "code",
   "execution_count": null,
   "id": "liberal-significance",
   "metadata": {},
   "outputs": [],
   "source": []
  },
  {
   "cell_type": "code",
   "execution_count": null,
   "id": "driving-electron",
   "metadata": {},
   "outputs": [],
   "source": []
  },
  {
   "cell_type": "code",
   "execution_count": 122,
   "id": "backed-parker",
   "metadata": {
    "scrolled": false
   },
   "outputs": [
    {
     "data": {
      "text/html": [
       "<div>\n",
       "<style scoped>\n",
       "    .dataframe tbody tr th:only-of-type {\n",
       "        vertical-align: middle;\n",
       "    }\n",
       "\n",
       "    .dataframe tbody tr th {\n",
       "        vertical-align: top;\n",
       "    }\n",
       "\n",
       "    .dataframe thead th {\n",
       "        text-align: right;\n",
       "    }\n",
       "</style>\n",
       "<table border=\"1\" class=\"dataframe\">\n",
       "  <thead>\n",
       "    <tr style=\"text-align: right;\">\n",
       "      <th></th>\n",
       "      <th>ID</th>\n",
       "      <th>author</th>\n",
       "      <th>journal</th>\n",
       "      <th>year</th>\n",
       "      <th>ENTRYTYPE</th>\n",
       "    </tr>\n",
       "  </thead>\n",
       "  <tbody>\n",
       "    <tr>\n",
       "      <th>count</th>\n",
       "      <td>3367</td>\n",
       "      <td>3367</td>\n",
       "      <td>3047</td>\n",
       "      <td>3367</td>\n",
       "      <td>3367</td>\n",
       "    </tr>\n",
       "    <tr>\n",
       "      <th>unique</th>\n",
       "      <td>3366</td>\n",
       "      <td>2511</td>\n",
       "      <td>384</td>\n",
       "      <td>43</td>\n",
       "      <td>10</td>\n",
       "    </tr>\n",
       "    <tr>\n",
       "      <th>top</th>\n",
       "      <td>MR3656296</td>\n",
       "      <td>Sambale, B.</td>\n",
       "      <td>J. Algebra</td>\n",
       "      <td>2017</td>\n",
       "      <td>article</td>\n",
       "    </tr>\n",
       "    <tr>\n",
       "      <th>freq</th>\n",
       "      <td>2</td>\n",
       "      <td>18</td>\n",
       "      <td>387</td>\n",
       "      <td>188</td>\n",
       "      <td>2976</td>\n",
       "    </tr>\n",
       "  </tbody>\n",
       "</table>\n",
       "</div>"
      ],
      "text/plain": [
       "               ID       author     journal  year ENTRYTYPE\n",
       "count        3367         3367        3047  3367      3367\n",
       "unique       3366         2511         384    43        10\n",
       "top     MR3656296  Sambale, B.  J. Algebra  2017   article\n",
       "freq            2           18         387   188      2976"
      ]
     },
     "execution_count": 122,
     "metadata": {},
     "output_type": "execute_result"
    }
   ],
   "source": [
    "bib_df.describe()"
   ]
  },
  {
   "cell_type": "markdown",
   "id": "portable-mumbai",
   "metadata": {},
   "source": [
    "##### We will look at the `year` coulumn. There are several anomalies and we need just 4 digits in each cell."
   ]
  },
  {
   "cell_type": "code",
   "execution_count": 181,
   "id": "daily-development",
   "metadata": {
    "scrolled": false
   },
   "outputs": [
    {
     "data": {
      "text/html": [
       "<div>\n",
       "<style scoped>\n",
       "    .dataframe tbody tr th:only-of-type {\n",
       "        vertical-align: middle;\n",
       "    }\n",
       "\n",
       "    .dataframe tbody tr th {\n",
       "        vertical-align: top;\n",
       "    }\n",
       "\n",
       "    .dataframe thead th {\n",
       "        text-align: right;\n",
       "    }\n",
       "</style>\n",
       "<table border=\"1\" class=\"dataframe\">\n",
       "  <thead>\n",
       "    <tr style=\"text-align: right;\">\n",
       "      <th></th>\n",
       "      <th>MRN</th>\n",
       "      <th>author</th>\n",
       "      <th>journal</th>\n",
       "      <th>year</th>\n",
       "      <th>ENTRYTYPE</th>\n",
       "    </tr>\n",
       "  </thead>\n",
       "  <tbody>\n",
       "    <tr>\n",
       "      <th>3165</th>\n",
       "      <td>3973299</td>\n",
       "      <td>Then, H.</td>\n",
       "      <td>NaN</td>\n",
       "      <td>[2019] \\copyright 2019</td>\n",
       "      <td>incollection</td>\n",
       "    </tr>\n",
       "    <tr>\n",
       "      <th>1546</th>\n",
       "      <td>3898507</td>\n",
       "      <td>Greer, M.</td>\n",
       "      <td>NaN</td>\n",
       "      <td>[2019] \\copyright 2019</td>\n",
       "      <td>incollection</td>\n",
       "    </tr>\n",
       "    <tr>\n",
       "      <th>3133</th>\n",
       "      <td>3898514</td>\n",
       "      <td>Stuhl, I. and Vojtěchovský, P.</td>\n",
       "      <td>NaN</td>\n",
       "      <td>[2019] \\copyright 2019</td>\n",
       "      <td>incollection</td>\n",
       "    </tr>\n",
       "    <tr>\n",
       "      <th>3147</th>\n",
       "      <td>3782458</td>\n",
       "      <td>Swinarski, D.</td>\n",
       "      <td>NaN</td>\n",
       "      <td>[2018] \\copyright 2018</td>\n",
       "      <td>incollection</td>\n",
       "    </tr>\n",
       "    <tr>\n",
       "      <th>1981</th>\n",
       "      <td>4167659</td>\n",
       "      <td>Kaushik, R. and Yadav, M. K.</td>\n",
       "      <td>J. Algebra</td>\n",
       "      <td>2021</td>\n",
       "      <td>article</td>\n",
       "    </tr>\n",
       "    <tr>\n",
       "      <th>...</th>\n",
       "      <td>...</td>\n",
       "      <td>...</td>\n",
       "      <td>...</td>\n",
       "      <td>...</td>\n",
       "      <td>...</td>\n",
       "    </tr>\n",
       "    <tr>\n",
       "      <th>3274</th>\n",
       "      <td>NaN</td>\n",
       "      <td>Wegner, A.</td>\n",
       "      <td>NaN</td>\n",
       "      <td>1989</td>\n",
       "      <td>mastersthesis</td>\n",
       "    </tr>\n",
       "    <tr>\n",
       "      <th>2689</th>\n",
       "      <td>NaN</td>\n",
       "      <td>Niemeyer, A.</td>\n",
       "      <td>NaN</td>\n",
       "      <td>1988</td>\n",
       "      <td>mastersthesis</td>\n",
       "    </tr>\n",
       "    <tr>\n",
       "      <th>2673</th>\n",
       "      <td>NaN</td>\n",
       "      <td>Nickel, W.</td>\n",
       "      <td>NaN</td>\n",
       "      <td>1988</td>\n",
       "      <td>mastersthesis</td>\n",
       "    </tr>\n",
       "    <tr>\n",
       "      <th>3018</th>\n",
       "      <td>NaN</td>\n",
       "      <td>Schönert, M.</td>\n",
       "      <td>NaN</td>\n",
       "      <td>1987</td>\n",
       "      <td>mastersthesis</td>\n",
       "    </tr>\n",
       "    <tr>\n",
       "      <th>2459</th>\n",
       "      <td>NaN</td>\n",
       "      <td>Meier, J.</td>\n",
       "      <td>NaN</td>\n",
       "      <td>1987</td>\n",
       "      <td>mastersthesis</td>\n",
       "    </tr>\n",
       "  </tbody>\n",
       "</table>\n",
       "<p>3367 rows × 5 columns</p>\n",
       "</div>"
      ],
      "text/plain": [
       "          MRN                          author     journal  \\\n",
       "3165  3973299                        Then, H.         NaN   \n",
       "1546  3898507                       Greer, M.         NaN   \n",
       "3133  3898514  Stuhl, I. and Vojtěchovský, P.         NaN   \n",
       "3147  3782458                   Swinarski, D.         NaN   \n",
       "1981  4167659    Kaushik, R. and Yadav, M. K.  J. Algebra   \n",
       "...       ...                             ...         ...   \n",
       "3274      NaN                      Wegner, A.         NaN   \n",
       "2689      NaN                    Niemeyer, A.         NaN   \n",
       "2673      NaN                      Nickel, W.         NaN   \n",
       "3018      NaN                    Schönert, M.         NaN   \n",
       "2459      NaN                       Meier, J.         NaN   \n",
       "\n",
       "                        year      ENTRYTYPE  \n",
       "3165  [2019] \\copyright 2019   incollection  \n",
       "1546  [2019] \\copyright 2019   incollection  \n",
       "3133  [2019] \\copyright 2019   incollection  \n",
       "3147  [2018] \\copyright 2018   incollection  \n",
       "1981                    2021        article  \n",
       "...                      ...            ...  \n",
       "3274                    1989  mastersthesis  \n",
       "2689                    1988  mastersthesis  \n",
       "2673                    1988  mastersthesis  \n",
       "3018                    1987  mastersthesis  \n",
       "2459                    1987  mastersthesis  \n",
       "\n",
       "[3367 rows x 5 columns]"
      ]
     },
     "execution_count": 181,
     "metadata": {},
     "output_type": "execute_result"
    }
   ],
   "source": [
    "bib_df.sort_values('year', ascending=False)"
   ]
  },
  {
   "cell_type": "markdown",
   "id": "finite-story",
   "metadata": {},
   "source": [
    "We will use `.str` and a regular expresion `(r'^(\\d{4})'` which first converts all year cells to strings then takes the first 4 digits from each. We then replace the old values with the filtered ones."
   ]
  },
  {
   "cell_type": "code",
   "execution_count": 184,
   "id": "married-hughes",
   "metadata": {},
   "outputs": [],
   "source": [
    "bib_df['year'] = bib_df['year'].str.extract(r'^(\\d{4})', expand=False)"
   ]
  },
  {
   "cell_type": "code",
   "execution_count": 185,
   "id": "changing-southeast",
   "metadata": {
    "scrolled": true
   },
   "outputs": [
    {
     "data": {
      "text/plain": [
       "2017    188\n",
       "2013    175\n",
       "2018    168\n",
       "2020    166\n",
       "2019    165\n",
       "2010    163\n",
       "2015    162\n",
       "2016    158\n",
       "2014    154\n",
       "2011    152\n",
       "2007    142\n",
       "2012    142\n",
       "2008    132\n",
       "2004    131\n",
       "2005    128\n",
       "2009    124\n",
       "2006    118\n",
       "2001    107\n",
       "2003    101\n",
       "1999     84\n",
       "2002     84\n",
       "2000     78\n",
       "1997     76\n",
       "1998     58\n",
       "1995     56\n",
       "2021     39\n",
       "1996     34\n",
       "1994     28\n",
       "1993     25\n",
       "1992     13\n",
       "1991      5\n",
       "1987      2\n",
       "1988      2\n",
       "1989      2\n",
       "1990      1\n",
       "Name: year, dtype: int64"
      ]
     },
     "execution_count": 185,
     "metadata": {},
     "output_type": "execute_result"
    }
   ],
   "source": [
    "bib_df['year'].value_counts()"
   ]
  },
  {
   "cell_type": "markdown",
   "id": "younger-spouse",
   "metadata": {},
   "source": [
    "We inspect the result and no more anomalies are visible. Data type is integer which is also fine."
   ]
  },
  {
   "cell_type": "code",
   "execution_count": 186,
   "id": "owned-marker",
   "metadata": {
    "scrolled": false
   },
   "outputs": [
    {
     "data": {
      "text/plain": [
       "count     3363\n",
       "unique      35\n",
       "top       2017\n",
       "freq       188\n",
       "Name: year, dtype: object"
      ]
     },
     "execution_count": 186,
     "metadata": {},
     "output_type": "execute_result"
    }
   ],
   "source": [
    "bib_df['year'].describe()"
   ]
  },
  {
   "cell_type": "markdown",
   "id": "soviet-vintage",
   "metadata": {},
   "source": [
    "Barchart dislaying number of GAP citations per year."
   ]
  },
  {
   "cell_type": "code",
   "execution_count": 152,
   "id": "endangered-democrat",
   "metadata": {
    "scrolled": true
   },
   "outputs": [
    {
     "data": {
      "text/plain": [
       "<AxesSubplot:>"
      ]
     },
     "execution_count": 152,
     "metadata": {},
     "output_type": "execute_result"
    },
    {
     "data": {
      "image/png": "[encoded data removed]",
      "text/plain": [
       "<Figure size 432x288 with 1 Axes>"
      ]
     },
     "metadata": {
      "needs_background": "light"
     },
     "output_type": "display_data"
    }
   ],
   "source": [
    "bib_df['year'].value_counts().plot(kind=\"bar\")"
   ]
  },
  {
   "cell_type": "code",
   "execution_count": 190,
   "id": "considered-layer",
   "metadata": {
    "scrolled": false
   },
   "outputs": [],
   "source": [
    "top_journals = bib_df.sort_values('year', ascending=False)"
   ]
  },
  {
   "cell_type": "code",
   "execution_count": 191,
   "id": "uniform-inspection",
   "metadata": {},
   "outputs": [
    {
     "data": {
      "text/html": [
       "<div>\n",
       "<style scoped>\n",
       "    .dataframe tbody tr th:only-of-type {\n",
       "        vertical-align: middle;\n",
       "    }\n",
       "\n",
       "    .dataframe tbody tr th {\n",
       "        vertical-align: top;\n",
       "    }\n",
       "\n",
       "    .dataframe thead th {\n",
       "        text-align: right;\n",
       "    }\n",
       "</style>\n",
       "<table border=\"1\" class=\"dataframe\">\n",
       "  <thead>\n",
       "    <tr style=\"text-align: right;\">\n",
       "      <th></th>\n",
       "      <th>MRN</th>\n",
       "      <th>author</th>\n",
       "      <th>journal</th>\n",
       "      <th>year</th>\n",
       "      <th>ENTRYTYPE</th>\n",
       "    </tr>\n",
       "  </thead>\n",
       "  <tbody>\n",
       "    <tr>\n",
       "      <th>1644</th>\n",
       "      <td>4208094</td>\n",
       "      <td>Hauck, P. and Kazarin, L. S. and Martínez-Past...</td>\n",
       "      <td>Ann. Mat. Pura Appl. (4)</td>\n",
       "      <td>2021</td>\n",
       "      <td>article</td>\n",
       "    </tr>\n",
       "    <tr>\n",
       "      <th>186</th>\n",
       "      <td>4163065</td>\n",
       "      <td>Araújo, J. and Bentz, W. and Cameron, P. J.</td>\n",
       "      <td>J. Algebra</td>\n",
       "      <td>2021</td>\n",
       "      <td>article</td>\n",
       "    </tr>\n",
       "    <tr>\n",
       "      <th>2303</th>\n",
       "      <td>4196561</td>\n",
       "      <td>Lübeck, F. and Prasad, D.</td>\n",
       "      <td>J. Combin. Theory Ser. A</td>\n",
       "      <td>2021</td>\n",
       "      <td>article</td>\n",
       "    </tr>\n",
       "    <tr>\n",
       "      <th>1519</th>\n",
       "      <td>4186638</td>\n",
       "      <td>Gow, R. and Murray, J.</td>\n",
       "      <td>J. Algebra</td>\n",
       "      <td>2021</td>\n",
       "      <td>article</td>\n",
       "    </tr>\n",
       "    <tr>\n",
       "      <th>2845</th>\n",
       "      <td>4204560</td>\n",
       "      <td>Posur, S.</td>\n",
       "      <td>Appl. Categ. Structures</td>\n",
       "      <td>2021</td>\n",
       "      <td>article</td>\n",
       "    </tr>\n",
       "    <tr>\n",
       "      <th>2115</th>\n",
       "      <td>4213626</td>\n",
       "      <td>Koshitani, S. and Lassueur, C.</td>\n",
       "      <td>J. Algebra</td>\n",
       "      <td>2021</td>\n",
       "      <td>article</td>\n",
       "    </tr>\n",
       "    <tr>\n",
       "      <th>1362</th>\n",
       "      <td>4192835</td>\n",
       "      <td>Gaddis, J. and Rogalski, D.</td>\n",
       "      <td>J. Pure Appl. Algebra</td>\n",
       "      <td>2021</td>\n",
       "      <td>article</td>\n",
       "    </tr>\n",
       "    <tr>\n",
       "      <th>2560</th>\n",
       "      <td>4187238</td>\n",
       "      <td>Morgan, L. and Morris, J. and Verret, G.</td>\n",
       "      <td>J. Algebra</td>\n",
       "      <td>2021</td>\n",
       "      <td>article</td>\n",
       "    </tr>\n",
       "    <tr>\n",
       "      <th>2775</th>\n",
       "      <td>4200815</td>\n",
       "      <td>Pan, H. and Hung, N. N. and Yang, Y.</td>\n",
       "      <td>J. Pure Appl. Algebra</td>\n",
       "      <td>2021</td>\n",
       "      <td>article</td>\n",
       "    </tr>\n",
       "    <tr>\n",
       "      <th>737</th>\n",
       "      <td>4203538</td>\n",
       "      <td>Carocca, Á. and Hidalgo, R. A. and Rodríguez, ...</td>\n",
       "      <td>J. Algebra</td>\n",
       "      <td>2021</td>\n",
       "      <td>article</td>\n",
       "    </tr>\n",
       "    <tr>\n",
       "      <th>3150</th>\n",
       "      <td>4163146</td>\n",
       "      <td>Szántó, C. and Szöll\\H{o}si, I.</td>\n",
       "      <td>J. Pure Appl. Algebra</td>\n",
       "      <td>2021</td>\n",
       "      <td>article</td>\n",
       "    </tr>\n",
       "    <tr>\n",
       "      <th>578</th>\n",
       "      <td>4193641</td>\n",
       "      <td>Brenner, S.</td>\n",
       "      <td>Comm. Algebra</td>\n",
       "      <td>2021</td>\n",
       "      <td>article</td>\n",
       "    </tr>\n",
       "    <tr>\n",
       "      <th>1344</th>\n",
       "      <td>4164544</td>\n",
       "      <td>Fresán-Figueroa, J. and González-Moreno, D. an...</td>\n",
       "      <td>Discrete Appl. Math.</td>\n",
       "      <td>2021</td>\n",
       "      <td>article</td>\n",
       "    </tr>\n",
       "    <tr>\n",
       "      <th>113</th>\n",
       "      <td>4180130</td>\n",
       "      <td>Ali, S. and Azad, H. and Biswas, I. and de Gra...</td>\n",
       "      <td>J. Symbolic Comput.</td>\n",
       "      <td>2021</td>\n",
       "      <td>article</td>\n",
       "    </tr>\n",
       "    <tr>\n",
       "      <th>187</th>\n",
       "      <td>4196390</td>\n",
       "      <td>Araújo, J. and Bentz, W. and Cameron, P. J.</td>\n",
       "      <td>Trans. Amer. Math. Soc.</td>\n",
       "      <td>2021</td>\n",
       "      <td>article</td>\n",
       "    </tr>\n",
       "    <tr>\n",
       "      <th>2189</th>\n",
       "      <td>4217096</td>\n",
       "      <td>Lazorec, M.</td>\n",
       "      <td>Bull. Malays. Math. Sci. Soc.</td>\n",
       "      <td>2021</td>\n",
       "      <td>article</td>\n",
       "    </tr>\n",
       "    <tr>\n",
       "      <th>2190</th>\n",
       "      <td>4205764</td>\n",
       "      <td>Lazorec, M. and Shen, R. and T\\u{a}rn\\u{a}ucea...</td>\n",
       "      <td>Bull. Aust. Math. Soc.</td>\n",
       "      <td>2021</td>\n",
       "      <td>article</td>\n",
       "    </tr>\n",
       "    <tr>\n",
       "      <th>1765</th>\n",
       "      <td>4180136</td>\n",
       "      <td>Holt, D. and Linton, S. and Neunhöffer, M. and...</td>\n",
       "      <td>J. Symbolic Comput.</td>\n",
       "      <td>2021</td>\n",
       "      <td>article</td>\n",
       "    </tr>\n",
       "    <tr>\n",
       "      <th>494</th>\n",
       "      <td>4148294</td>\n",
       "      <td>Bonatto, M. and Kinyon, M. and Stanovský, D. a...</td>\n",
       "      <td>J. Algebra</td>\n",
       "      <td>2021</td>\n",
       "      <td>article</td>\n",
       "    </tr>\n",
       "    <tr>\n",
       "      <th>1357</th>\n",
       "      <td>4171682</td>\n",
       "      <td>Fu, H. and Kang, M. and Wang, B. and Zhou, J.</td>\n",
       "      <td>J. Algebra</td>\n",
       "      <td>2021</td>\n",
       "      <td>article</td>\n",
       "    </tr>\n",
       "  </tbody>\n",
       "</table>\n",
       "</div>"
      ],
      "text/plain": [
       "          MRN                                             author  \\\n",
       "1644  4208094  Hauck, P. and Kazarin, L. S. and Martínez-Past...   \n",
       "186   4163065        Araújo, J. and Bentz, W. and Cameron, P. J.   \n",
       "2303  4196561                          Lübeck, F. and Prasad, D.   \n",
       "1519  4186638                             Gow, R. and Murray, J.   \n",
       "2845  4204560                                          Posur, S.   \n",
       "2115  4213626                     Koshitani, S. and Lassueur, C.   \n",
       "1362  4192835                        Gaddis, J. and Rogalski, D.   \n",
       "2560  4187238           Morgan, L. and Morris, J. and Verret, G.   \n",
       "2775  4200815               Pan, H. and Hung, N. N. and Yang, Y.   \n",
       "737   4203538  Carocca, Á. and Hidalgo, R. A. and Rodríguez, ...   \n",
       "3150  4163146                    Szántó, C. and Szöll\\H{o}si, I.   \n",
       "578   4193641                                        Brenner, S.   \n",
       "1344  4164544  Fresán-Figueroa, J. and González-Moreno, D. an...   \n",
       "113   4180130  Ali, S. and Azad, H. and Biswas, I. and de Gra...   \n",
       "187   4196390        Araújo, J. and Bentz, W. and Cameron, P. J.   \n",
       "2189  4217096                                        Lazorec, M.   \n",
       "2190  4205764  Lazorec, M. and Shen, R. and T\\u{a}rn\\u{a}ucea...   \n",
       "1765  4180136  Holt, D. and Linton, S. and Neunhöffer, M. and...   \n",
       "494   4148294  Bonatto, M. and Kinyon, M. and Stanovský, D. a...   \n",
       "1357  4171682      Fu, H. and Kang, M. and Wang, B. and Zhou, J.   \n",
       "\n",
       "                            journal  year ENTRYTYPE  \n",
       "1644       Ann. Mat. Pura Appl. (4)  2021   article  \n",
       "186                      J. Algebra  2021   article  \n",
       "2303       J. Combin. Theory Ser. A  2021   article  \n",
       "1519                     J. Algebra  2021   article  \n",
       "2845        Appl. Categ. Structures  2021   article  \n",
       "2115                     J. Algebra  2021   article  \n",
       "1362          J. Pure Appl. Algebra  2021   article  \n",
       "2560                     J. Algebra  2021   article  \n",
       "2775          J. Pure Appl. Algebra  2021   article  \n",
       "737                      J. Algebra  2021   article  \n",
       "3150          J. Pure Appl. Algebra  2021   article  \n",
       "578                   Comm. Algebra  2021   article  \n",
       "1344           Discrete Appl. Math.  2021   article  \n",
       "113             J. Symbolic Comput.  2021   article  \n",
       "187         Trans. Amer. Math. Soc.  2021   article  \n",
       "2189  Bull. Malays. Math. Sci. Soc.  2021   article  \n",
       "2190         Bull. Aust. Math. Soc.  2021   article  \n",
       "1765            J. Symbolic Comput.  2021   article  \n",
       "494                      J. Algebra  2021   article  \n",
       "1357                     J. Algebra  2021   article  "
      ]
     },
     "execution_count": 191,
     "metadata": {},
     "output_type": "execute_result"
    }
   ],
   "source": [
    "top_journals[:20]"
   ]
  },
  {
   "cell_type": "code",
   "execution_count": null,
   "id": "adverse-intent",
   "metadata": {},
   "outputs": [],
   "source": []
  },
  {
   "cell_type": "code",
   "execution_count": 83,
   "id": "altered-render",
   "metadata": {
    "scrolled": true
   },
   "outputs": [
    {
     "data": {
      "text/plain": [
       "count        3367\n",
       "unique         10\n",
       "top       article\n",
       "freq         2976\n",
       "Name: ENTRYTYPE, dtype: object"
      ]
     },
     "execution_count": 83,
     "metadata": {},
     "output_type": "execute_result"
    }
   ],
   "source": [
    "bib_df['ENTRYTYPE'].describe()"
   ]
  },
  {
   "cell_type": "code",
   "execution_count": 120,
   "id": "golden-coupon",
   "metadata": {
    "scrolled": true
   },
   "outputs": [
    {
     "data": {
      "text/plain": [
       "article          2976\n",
       "incollection      204\n",
       "inproceedings      54\n",
       "phdthesis          47\n",
       "mastersthesis      46\n",
       "book               31\n",
       "misc                5\n",
       "techreport          2\n",
       "inbook              1\n",
       "manual              1\n",
       "Name: ENTRYTYPE, dtype: int64"
      ]
     },
     "execution_count": 120,
     "metadata": {},
     "output_type": "execute_result"
    }
   ],
   "source": [
    "bib_df['ENTRYTYPE'].value_counts()"
   ]
  },
  {
   "cell_type": "markdown",
   "id": "hairy-mineral",
   "metadata": {},
   "source": [
    "##### The most frequent type of work citing GAP is article."
   ]
  },
  {
   "cell_type": "code",
   "execution_count": 84,
   "id": "packed-classroom",
   "metadata": {
    "scrolled": true
   },
   "outputs": [
    {
     "data": {
      "text/plain": [
       "<AxesSubplot:>"
      ]
     },
     "execution_count": 84,
     "metadata": {},
     "output_type": "execute_result"
    },
    {
     "data": {
      "image/png": "[encoded data removed]",
      "text/plain": [
       "<Figure size 432x288 with 1 Axes>"
      ]
     },
     "metadata": {
      "needs_background": "light"
     },
     "output_type": "display_data"
    }
   ],
   "source": [
    "bib_df['ENTRYTYPE'].value_counts().plot(kind=\"bar\") # base from leccture 8 CS2006"
   ]
  },
  {
   "cell_type": "markdown",
   "id": "optional-spare",
   "metadata": {},
   "source": [
    "Top 20 journals citing GAP."
   ]
  },
  {
   "cell_type": "code",
   "execution_count": 189,
   "id": "proof-mambo",
   "metadata": {
    "scrolled": false
   },
   "outputs": [
    {
     "data": {
      "text/plain": [
       "<bound method NDFrame.describe of 0                                   Theoret. Comput. Sci.\n",
       "1       Rev. R. Acad. Cienc. Exactas Fís. Nat. Ser. A ...\n",
       "2                                    RAIRO-INF THEOR APPL\n",
       "3                                           Comm. Algebra\n",
       "4                                   J. Pure Appl. Algebra\n",
       "                              ...                        \n",
       "3362                                       J. Geom. Phys.\n",
       "3363                                           J. Algebra\n",
       "3364                                           J. Algebra\n",
       "3365                                 Linear Algebra Appl.\n",
       "3366                                    Sibirsk. Mat. Zh.\n",
       "Name: journal, Length: 3367, dtype: object>"
      ]
     },
     "execution_count": 189,
     "metadata": {},
     "output_type": "execute_result"
    }
   ],
   "source": [
    "bib_df['journal'].describe"
   ]
  },
  {
   "cell_type": "code",
   "execution_count": 159,
   "id": "offensive-typing",
   "metadata": {},
   "outputs": [
    {
     "data": {
      "text/html": [
       "<div>\n",
       "<style scoped>\n",
       "    .dataframe tbody tr th:only-of-type {\n",
       "        vertical-align: middle;\n",
       "    }\n",
       "\n",
       "    .dataframe tbody tr th {\n",
       "        vertical-align: top;\n",
       "    }\n",
       "\n",
       "    .dataframe thead th {\n",
       "        text-align: right;\n",
       "    }\n",
       "</style>\n",
       "<table border=\"1\" class=\"dataframe\">\n",
       "  <thead>\n",
       "    <tr style=\"text-align: right;\">\n",
       "      <th></th>\n",
       "      <th>MR</th>\n",
       "      <th>author</th>\n",
       "      <th>journal</th>\n",
       "      <th>year</th>\n",
       "      <th>ENTRYTYPE</th>\n",
       "    </tr>\n",
       "  </thead>\n",
       "  <tbody>\n",
       "    <tr>\n",
       "      <th>1931</th>\n",
       "      <td>joyner2004d</td>\n",
       "      <td>Joyner, D. and Traves, W.</td>\n",
       "      <td>(submitted)</td>\n",
       "      <td>2004</td>\n",
       "      <td>article</td>\n",
       "    </tr>\n",
       "    <tr>\n",
       "      <th>1928</th>\n",
       "      <td>joyner2004f</td>\n",
       "      <td>Joyner, D. and Ksir, A.</td>\n",
       "      <td>(submitted)</td>\n",
       "      <td>2004</td>\n",
       "      <td>article</td>\n",
       "    </tr>\n",
       "    <tr>\n",
       "      <th>1932</th>\n",
       "      <td>joyner2004c</td>\n",
       "      <td>Joyner, D. and Verrill, H.</td>\n",
       "      <td>(submitted)</td>\n",
       "      <td>2004</td>\n",
       "      <td>article</td>\n",
       "    </tr>\n",
       "    <tr>\n",
       "      <th>2092</th>\n",
       "      <td>Kon01</td>\n",
       "      <td>Konovalov, A. B.</td>\n",
       "      <td>3rd Internat. Conf. on Algebra in Ukraine</td>\n",
       "      <td>2001</td>\n",
       "      <td>article</td>\n",
       "    </tr>\n",
       "    <tr>\n",
       "      <th>1169</th>\n",
       "      <td>effenberger2011</td>\n",
       "      <td>Effenberger, F. and Spreer, J.</td>\n",
       "      <td>ACM Communications in Computer Algebra</td>\n",
       "      <td>2011</td>\n",
       "      <td>article</td>\n",
       "    </tr>\n",
       "    <tr>\n",
       "      <th>...</th>\n",
       "      <td>...</td>\n",
       "      <td>...</td>\n",
       "      <td>...</td>\n",
       "      <td>...</td>\n",
       "      <td>...</td>\n",
       "    </tr>\n",
       "    <tr>\n",
       "      <th>3301</th>\n",
       "      <td>wondratschek2004a</td>\n",
       "      <td>Wondratschek, H. and Müller, U.</td>\n",
       "      <td>NaN</td>\n",
       "      <td>2004</td>\n",
       "      <td>book</td>\n",
       "    </tr>\n",
       "    <tr>\n",
       "      <th>3310</th>\n",
       "      <td>wright2003c</td>\n",
       "      <td>Wright, D.</td>\n",
       "      <td>NaN</td>\n",
       "      <td>2003</td>\n",
       "      <td>inproceedings</td>\n",
       "    </tr>\n",
       "    <tr>\n",
       "      <th>3354</th>\n",
       "      <td>MR3905073</td>\n",
       "      <td>Zidaric, N. and Aagaard, M. and Gong, G.</td>\n",
       "      <td>NaN</td>\n",
       "      <td>2018</td>\n",
       "      <td>incollection</td>\n",
       "    </tr>\n",
       "    <tr>\n",
       "      <th>3355</th>\n",
       "      <td>Ziegler93</td>\n",
       "      <td>Ziegler, G.</td>\n",
       "      <td>NaN</td>\n",
       "      <td>1993</td>\n",
       "      <td>mastersthesis</td>\n",
       "    </tr>\n",
       "    <tr>\n",
       "      <th>3360</th>\n",
       "      <td>zinchenko2004a</td>\n",
       "      <td>Zinchenko, A.</td>\n",
       "      <td>NaN</td>\n",
       "      <td>2004</td>\n",
       "      <td>inproceedings</td>\n",
       "    </tr>\n",
       "  </tbody>\n",
       "</table>\n",
       "<p>3367 rows × 5 columns</p>\n",
       "</div>"
      ],
      "text/plain": [
       "                     MR                                    author  \\\n",
       "1931        joyner2004d                 Joyner, D. and Traves, W.   \n",
       "1928        joyner2004f                   Joyner, D. and Ksir, A.   \n",
       "1932        joyner2004c                Joyner, D. and Verrill, H.   \n",
       "2092              Kon01                          Konovalov, A. B.   \n",
       "1169    effenberger2011            Effenberger, F. and Spreer, J.   \n",
       "...                 ...                                       ...   \n",
       "3301  wondratschek2004a           Wondratschek, H. and Müller, U.   \n",
       "3310        wright2003c                                Wright, D.   \n",
       "3354          MR3905073  Zidaric, N. and Aagaard, M. and Gong, G.   \n",
       "3355          Ziegler93                               Ziegler, G.   \n",
       "3360     zinchenko2004a                             Zinchenko, A.   \n",
       "\n",
       "                                        journal  year      ENTRYTYPE  \n",
       "1931                                (submitted)  2004        article  \n",
       "1928                                (submitted)  2004        article  \n",
       "1932                                (submitted)  2004        article  \n",
       "2092  3rd Internat. Conf. on Algebra in Ukraine  2001        article  \n",
       "1169     ACM Communications in Computer Algebra  2011        article  \n",
       "...                                         ...   ...            ...  \n",
       "3301                                        NaN  2004           book  \n",
       "3310                                        NaN  2003  inproceedings  \n",
       "3354                                        NaN  2018   incollection  \n",
       "3355                                        NaN  1993  mastersthesis  \n",
       "3360                                        NaN  2004  inproceedings  \n",
       "\n",
       "[3367 rows x 5 columns]"
      ]
     },
     "execution_count": 159,
     "metadata": {},
     "output_type": "execute_result"
    }
   ],
   "source": [
    "bib_df.sort_values('journal')"
   ]
  },
  {
   "cell_type": "code",
   "execution_count": null,
   "id": "noted-relation",
   "metadata": {},
   "outputs": [],
   "source": []
  },
  {
   "cell_type": "code",
   "execution_count": null,
   "id": "informational-bookmark",
   "metadata": {},
   "outputs": [],
   "source": []
  },
  {
   "cell_type": "code",
   "execution_count": null,
   "id": "heard-video",
   "metadata": {},
   "outputs": [],
   "source": []
  },
  {
   "cell_type": "code",
   "execution_count": 154,
   "id": "tracked-screen",
   "metadata": {},
   "outputs": [],
   "source": [
    "from __future__ import print_function\n",
    "from ipywidgets import interact, interactive, fixed, interact_manual\n",
    "import ipywidgets as widgets\n",
    "%matplotlib inline\n",
    "import matplotlib.pyplot as plt\n",
    "import numpy as np"
   ]
  },
  {
   "cell_type": "code",
   "execution_count": null,
   "id": "played-tobago",
   "metadata": {},
   "outputs": [],
   "source": [
    "interact(f, x=['apples','oranges']);"
   ]
  },
  {
   "cell_type": "code",
   "execution_count": null,
   "id": "israeli-science",
   "metadata": {},
   "outputs": [],
   "source": []
  },
  {
   "cell_type": "markdown",
   "id": "governmental-consent",
   "metadata": {},
   "source": [
    "#  Corpus and Review"
   ]
  },
  {
   "cell_type": "markdown",
   "id": "lyric-messaging",
   "metadata": {},
   "source": [
    "To do\n",
    "+ check Citations strings lenghts to isolate too short ones\n",
    "+ version\n",
    "+ website\n",
    "+ remaining HTML characters"
   ]
  },
  {
   "cell_type": "code",
   "execution_count": 20,
   "id": "occasional-tours",
   "metadata": {
    "scrolled": false
   },
   "outputs": [
    {
     "data": {
      "text/html": [
       "<div>\n",
       "<style scoped>\n",
       "    .dataframe tbody tr th:only-of-type {\n",
       "        vertical-align: middle;\n",
       "    }\n",
       "\n",
       "    .dataframe tbody tr th {\n",
       "        vertical-align: top;\n",
       "    }\n",
       "\n",
       "    .dataframe thead th {\n",
       "        text-align: right;\n",
       "    }\n",
       "</style>\n",
       "<table border=\"1\" class=\"dataframe\">\n",
       "  <thead>\n",
       "    <tr style=\"text-align: right;\">\n",
       "      <th></th>\n",
       "      <th>MR</th>\n",
       "      <th>Citation</th>\n",
       "    </tr>\n",
       "  </thead>\n",
       "  <tbody>\n",
       "    <tr>\n",
       "      <th>0</th>\n",
       "      <td>MR4056124</td>\n",
       "      <td>GAP – Groups, algorithms, programming - a syst...</td>\n",
       "    </tr>\n",
       "    <tr>\n",
       "      <th>1</th>\n",
       "      <td>MR3942387</td>\n",
       "      <td>Delgado, M., García-Sánchez, P.A., Morais, J.:...</td>\n",
       "    </tr>\n",
       "    <tr>\n",
       "      <th>2</th>\n",
       "      <td>MR3942387</td>\n",
       "      <td>The GAP Group: GAP—groups, algorithms, and pro...</td>\n",
       "    </tr>\n",
       "    <tr>\n",
       "      <th>3</th>\n",
       "      <td>MR3354065</td>\n",
       "      <td>The GAP – Groups, Algorithms and Programming. ...</td>\n",
       "    </tr>\n",
       "    <tr>\n",
       "      <th>4</th>\n",
       "      <td>MR3646312</td>\n",
       "      <td>The $\\ssf{GAP}$ Group, $\\ssf{GAP}$–Groups, Alg...</td>\n",
       "    </tr>\n",
       "    <tr>\n",
       "      <th>...</th>\n",
       "      <td>...</td>\n",
       "      <td>...</td>\n",
       "    </tr>\n",
       "    <tr>\n",
       "      <th>3537</th>\n",
       "      <td>MR3988630</td>\n",
       "      <td>M. Delgado, P. A. García-Sánchez and J. Morais...</td>\n",
       "    </tr>\n",
       "    <tr>\n",
       "      <th>3538</th>\n",
       "      <td>MR1801202</td>\n",
       "      <td>L.H. Soicher, GRAPE: a system for computing wi...</td>\n",
       "    </tr>\n",
       "    <tr>\n",
       "      <th>3539</th>\n",
       "      <td>MR2558870</td>\n",
       "      <td>L. Bartholdi, Functionally recursive groups, h...</td>\n",
       "    </tr>\n",
       "    <tr>\n",
       "      <th>3540</th>\n",
       "      <td>MR2824780</td>\n",
       "      <td>X. Sun, C. Liu, D. Li and J. Gao, On duality g...</td>\n",
       "    </tr>\n",
       "    <tr>\n",
       "      <th>3541</th>\n",
       "      <td>MR1981371</td>\n",
       "      <td>Schönert M. et al., Groups, Algorithms and Pro...</td>\n",
       "    </tr>\n",
       "  </tbody>\n",
       "</table>\n",
       "<p>3542 rows × 2 columns</p>\n",
       "</div>"
      ],
      "text/plain": [
       "             MR                                           Citation\n",
       "0     MR4056124  GAP – Groups, algorithms, programming - a syst...\n",
       "1     MR3942387  Delgado, M., García-Sánchez, P.A., Morais, J.:...\n",
       "2     MR3942387  The GAP Group: GAP—groups, algorithms, and pro...\n",
       "3     MR3354065  The GAP – Groups, Algorithms and Programming. ...\n",
       "4     MR3646312  The $\\ssf{GAP}$ Group, $\\ssf{GAP}$–Groups, Alg...\n",
       "...         ...                                                ...\n",
       "3537  MR3988630  M. Delgado, P. A. García-Sánchez and J. Morais...\n",
       "3538  MR1801202  L.H. Soicher, GRAPE: a system for computing wi...\n",
       "3539  MR2558870  L. Bartholdi, Functionally recursive groups, h...\n",
       "3540  MR2824780  X. Sun, C. Liu, D. Li and J. Gao, On duality g...\n",
       "3541  MR1981371  Schönert M. et al., Groups, Algorithms and Pro...\n",
       "\n",
       "[3542 rows x 2 columns]"
      ]
     },
     "execution_count": 20,
     "metadata": {},
     "output_type": "execute_result"
    }
   ],
   "source": [
    "corpus_df"
   ]
  },
  {
   "cell_type": "code",
   "execution_count": 49,
   "id": "changing-importance",
   "metadata": {
    "scrolled": true
   },
   "outputs": [
    {
     "name": "stdout",
     "output_type": "stream",
     "text": [
      "          MR                                           Citation\n",
      "1  MR3942387  Delgado, M., García-Sánchez, P.A., Morais, J.:...\n",
      "2  MR3942387  The GAP Group: GAP—groups, algorithms, and pro...\n"
     ]
    }
   ],
   "source": [
    "print(corpus_df[corpus_df['MR'].str.contains(\"MR3942387\")])"
   ]
  },
  {
   "cell_type": "code",
   "execution_count": 50,
   "id": "three-bhutan",
   "metadata": {},
   "outputs": [],
   "source": [
    "exa = corpus_df[corpus_df['MR'].str.contains(\"MR3942387\")]"
   ]
  },
  {
   "cell_type": "code",
   "execution_count": 57,
   "id": "acting-dayton",
   "metadata": {},
   "outputs": [
    {
     "data": {
      "text/plain": [
       "'Delgado, M., García-Sánchez, P.A., Morais, J.: \"Numerical Sgps\", A GAP package for numerical semi-groups. https://gap-packages.github.io/numericalsgps. Accessed 19 Aug 2017 \\nMR3493240'"
      ]
     },
     "execution_count": 57,
     "metadata": {},
     "output_type": "execute_result"
    }
   ],
   "source": [
    "exa.iloc[0]['Citation']"
   ]
  },
  {
   "cell_type": "code",
   "execution_count": 58,
   "id": "promising-flower",
   "metadata": {},
   "outputs": [
    {
     "data": {
      "text/plain": [
       "'The GAP Group: GAP—groups, algorithms, and programming, version 4.7.5 (2014). http://www.gap-system.org. Accessed 19 Aug 2017'"
      ]
     },
     "execution_count": 58,
     "metadata": {},
     "output_type": "execute_result"
    }
   ],
   "source": [
    "exa.iloc[1]['Citation']"
   ]
  },
  {
   "cell_type": "code",
   "execution_count": 59,
   "id": "relevant-remove",
   "metadata": {},
   "outputs": [],
   "source": [
    "exa1 = corpus_df[corpus_df['MR'].str.contains(\"MR2822510\")]"
   ]
  },
  {
   "cell_type": "code",
   "execution_count": 60,
   "id": "alive-writing",
   "metadata": {
    "scrolled": false
   },
   "outputs": [
    {
     "data": {
      "text/html": [
       "<div>\n",
       "<style scoped>\n",
       "    .dataframe tbody tr th:only-of-type {\n",
       "        vertical-align: middle;\n",
       "    }\n",
       "\n",
       "    .dataframe tbody tr th {\n",
       "        vertical-align: top;\n",
       "    }\n",
       "\n",
       "    .dataframe thead th {\n",
       "        text-align: right;\n",
       "    }\n",
       "</style>\n",
       "<table border=\"1\" class=\"dataframe\">\n",
       "  <thead>\n",
       "    <tr style=\"text-align: right;\">\n",
       "      <th></th>\n",
       "      <th>MR</th>\n",
       "      <th>Citation</th>\n",
       "    </tr>\n",
       "  </thead>\n",
       "  <tbody>\n",
       "    <tr>\n",
       "      <th>3523</th>\n",
       "      <td>MR2822510</td>\n",
       "      <td>http://www.gap-system.org.</td>\n",
       "    </tr>\n",
       "  </tbody>\n",
       "</table>\n",
       "</div>"
      ],
      "text/plain": [
       "             MR                    Citation\n",
       "3523  MR2822510  http://www.gap-system.org."
      ]
     },
     "execution_count": 60,
     "metadata": {},
     "output_type": "execute_result"
    }
   ],
   "source": [
    "exa1"
   ]
  },
  {
   "cell_type": "code",
   "execution_count": null,
   "id": "cheap-permission",
   "metadata": {},
   "outputs": [],
   "source": []
  },
  {
   "cell_type": "code",
   "execution_count": null,
   "id": "spiritual-timeline",
   "metadata": {},
   "outputs": [],
   "source": []
  },
  {
   "cell_type": "code",
   "execution_count": null,
   "id": "significant-seller",
   "metadata": {},
   "outputs": [],
   "source": []
  },
  {
   "cell_type": "markdown",
   "id": "agreed-machine",
   "metadata": {},
   "source": [
    "df = pd.DataFrame(lis_dic)\n",
    "df = df[df.ID.isin(targets)]"
   ]
  },
  {
   "cell_type": "markdown",
   "id": "designed-print",
   "metadata": {},
   "source": [
    "df_filtered = df[df.mrnumber.isin(mrs)]"
   ]
  },
  {
   "cell_type": "code",
   "execution_count": null,
   "id": "analyzed-zealand",
   "metadata": {},
   "outputs": [],
   "source": []
  },
  {
   "cell_type": "code",
   "execution_count": null,
   "id": "technical-donna",
   "metadata": {},
   "outputs": [],
   "source": []
  },
  {
   "cell_type": "markdown",
   "id": "basic-chile",
   "metadata": {},
   "source": [
    "# Merging the two dataframes with the equivalent of SQL `join`"
   ]
  },
  {
   "cell_type": "code",
   "execution_count": 121,
   "id": "attempted-release",
   "metadata": {
    "collapsed": true
   },
   "outputs": [
    {
     "ename": "KeyError",
     "evalue": "'ID'",
     "output_type": "error",
     "traceback": [
      "\u001b[1;31m---------------------------------------------------------------------------\u001b[0m",
      "\u001b[1;31mKeyError\u001b[0m                                  Traceback (most recent call last)",
      "\u001b[1;32m<ipython-input-121-790e707b7f4c>\u001b[0m in \u001b[0;36m<module>\u001b[1;34m\u001b[0m\n\u001b[1;32m----> 1\u001b[1;33m \u001b[0mmerged_df\u001b[0m \u001b[1;33m=\u001b[0m \u001b[0mpd\u001b[0m\u001b[1;33m.\u001b[0m\u001b[0mmerge\u001b[0m\u001b[1;33m(\u001b[0m\u001b[0mbib_df\u001b[0m\u001b[1;33m,\u001b[0m\u001b[0mcorpus_df\u001b[0m\u001b[1;33m,\u001b[0m\u001b[0mon\u001b[0m\u001b[1;33m=\u001b[0m\u001b[1;34m'ID'\u001b[0m\u001b[1;33m,\u001b[0m\u001b[0mhow\u001b[0m\u001b[1;33m=\u001b[0m\u001b[1;34m'outer'\u001b[0m\u001b[1;33m,\u001b[0m\u001b[0mindicator\u001b[0m\u001b[1;33m=\u001b[0m\u001b[1;32mTrue\u001b[0m\u001b[1;33m)\u001b[0m\u001b[1;33m\u001b[0m\u001b[1;33m\u001b[0m\u001b[0m\n\u001b[0m",
      "\u001b[1;32mc:\\users\\fliqp_000\\appdata\\local\\programs\\python\\python38-32\\lib\\site-packages\\pandas\\core\\reshape\\merge.py\u001b[0m in \u001b[0;36mmerge\u001b[1;34m(left, right, how, on, left_on, right_on, left_index, right_index, sort, suffixes, copy, indicator, validate)\u001b[0m\n\u001b[0;32m     72\u001b[0m     \u001b[0mvalidate\u001b[0m\u001b[1;33m=\u001b[0m\u001b[1;32mNone\u001b[0m\u001b[1;33m,\u001b[0m\u001b[1;33m\u001b[0m\u001b[1;33m\u001b[0m\u001b[0m\n\u001b[0;32m     73\u001b[0m ) -> \"DataFrame\":\n\u001b[1;32m---> 74\u001b[1;33m     op = _MergeOperation(\n\u001b[0m\u001b[0;32m     75\u001b[0m         \u001b[0mleft\u001b[0m\u001b[1;33m,\u001b[0m\u001b[1;33m\u001b[0m\u001b[1;33m\u001b[0m\u001b[0m\n\u001b[0;32m     76\u001b[0m         \u001b[0mright\u001b[0m\u001b[1;33m,\u001b[0m\u001b[1;33m\u001b[0m\u001b[1;33m\u001b[0m\u001b[0m\n",
      "\u001b[1;32mc:\\users\\fliqp_000\\appdata\\local\\programs\\python\\python38-32\\lib\\site-packages\\pandas\\core\\reshape\\merge.py\u001b[0m in \u001b[0;36m__init__\u001b[1;34m(self, left, right, how, on, left_on, right_on, axis, left_index, right_index, sort, suffixes, copy, indicator, validate)\u001b[0m\n\u001b[0;32m    666\u001b[0m             \u001b[0mself\u001b[0m\u001b[1;33m.\u001b[0m\u001b[0mright_join_keys\u001b[0m\u001b[1;33m,\u001b[0m\u001b[1;33m\u001b[0m\u001b[1;33m\u001b[0m\u001b[0m\n\u001b[0;32m    667\u001b[0m             \u001b[0mself\u001b[0m\u001b[1;33m.\u001b[0m\u001b[0mjoin_names\u001b[0m\u001b[1;33m,\u001b[0m\u001b[1;33m\u001b[0m\u001b[1;33m\u001b[0m\u001b[0m\n\u001b[1;32m--> 668\u001b[1;33m         ) = self._get_merge_keys()\n\u001b[0m\u001b[0;32m    669\u001b[0m \u001b[1;33m\u001b[0m\u001b[0m\n\u001b[0;32m    670\u001b[0m         \u001b[1;31m# validate the merge keys dtypes. We may need to coerce\u001b[0m\u001b[1;33m\u001b[0m\u001b[1;33m\u001b[0m\u001b[1;33m\u001b[0m\u001b[0m\n",
      "\u001b[1;32mc:\\users\\fliqp_000\\appdata\\local\\programs\\python\\python38-32\\lib\\site-packages\\pandas\\core\\reshape\\merge.py\u001b[0m in \u001b[0;36m_get_merge_keys\u001b[1;34m(self)\u001b[0m\n\u001b[0;32m   1031\u001b[0m                     \u001b[1;32mif\u001b[0m \u001b[1;32mnot\u001b[0m \u001b[0mis_rkey\u001b[0m\u001b[1;33m(\u001b[0m\u001b[0mrk\u001b[0m\u001b[1;33m)\u001b[0m\u001b[1;33m:\u001b[0m\u001b[1;33m\u001b[0m\u001b[1;33m\u001b[0m\u001b[0m\n\u001b[0;32m   1032\u001b[0m                         \u001b[1;32mif\u001b[0m \u001b[0mrk\u001b[0m \u001b[1;32mis\u001b[0m \u001b[1;32mnot\u001b[0m \u001b[1;32mNone\u001b[0m\u001b[1;33m:\u001b[0m\u001b[1;33m\u001b[0m\u001b[1;33m\u001b[0m\u001b[0m\n\u001b[1;32m-> 1033\u001b[1;33m                             \u001b[0mright_keys\u001b[0m\u001b[1;33m.\u001b[0m\u001b[0mappend\u001b[0m\u001b[1;33m(\u001b[0m\u001b[0mright\u001b[0m\u001b[1;33m.\u001b[0m\u001b[0m_get_label_or_level_values\u001b[0m\u001b[1;33m(\u001b[0m\u001b[0mrk\u001b[0m\u001b[1;33m)\u001b[0m\u001b[1;33m)\u001b[0m\u001b[1;33m\u001b[0m\u001b[1;33m\u001b[0m\u001b[0m\n\u001b[0m\u001b[0;32m   1034\u001b[0m                         \u001b[1;32melse\u001b[0m\u001b[1;33m:\u001b[0m\u001b[1;33m\u001b[0m\u001b[1;33m\u001b[0m\u001b[0m\n\u001b[0;32m   1035\u001b[0m                             \u001b[1;31m# work-around for merge_asof(right_index=True)\u001b[0m\u001b[1;33m\u001b[0m\u001b[1;33m\u001b[0m\u001b[1;33m\u001b[0m\u001b[0m\n",
      "\u001b[1;32mc:\\users\\fliqp_000\\appdata\\local\\programs\\python\\python38-32\\lib\\site-packages\\pandas\\core\\generic.py\u001b[0m in \u001b[0;36m_get_label_or_level_values\u001b[1;34m(self, key, axis)\u001b[0m\n\u001b[0;32m   1681\u001b[0m             \u001b[0mvalues\u001b[0m \u001b[1;33m=\u001b[0m \u001b[0mself\u001b[0m\u001b[1;33m.\u001b[0m\u001b[0maxes\u001b[0m\u001b[1;33m[\u001b[0m\u001b[0maxis\u001b[0m\u001b[1;33m]\u001b[0m\u001b[1;33m.\u001b[0m\u001b[0mget_level_values\u001b[0m\u001b[1;33m(\u001b[0m\u001b[0mkey\u001b[0m\u001b[1;33m)\u001b[0m\u001b[1;33m.\u001b[0m\u001b[0m_values\u001b[0m\u001b[1;33m\u001b[0m\u001b[1;33m\u001b[0m\u001b[0m\n\u001b[0;32m   1682\u001b[0m         \u001b[1;32melse\u001b[0m\u001b[1;33m:\u001b[0m\u001b[1;33m\u001b[0m\u001b[1;33m\u001b[0m\u001b[0m\n\u001b[1;32m-> 1683\u001b[1;33m             \u001b[1;32mraise\u001b[0m \u001b[0mKeyError\u001b[0m\u001b[1;33m(\u001b[0m\u001b[0mkey\u001b[0m\u001b[1;33m)\u001b[0m\u001b[1;33m\u001b[0m\u001b[1;33m\u001b[0m\u001b[0m\n\u001b[0m\u001b[0;32m   1684\u001b[0m \u001b[1;33m\u001b[0m\u001b[0m\n\u001b[0;32m   1685\u001b[0m         \u001b[1;31m# Check for duplicates\u001b[0m\u001b[1;33m\u001b[0m\u001b[1;33m\u001b[0m\u001b[1;33m\u001b[0m\u001b[0m\n",
      "\u001b[1;31mKeyError\u001b[0m: 'ID'"
     ]
    }
   ],
   "source": [
    "merged_df = pd.merge(bib_df,corpus_df,on='ID',how='outer',indicator=True)"
   ]
  },
  {
   "cell_type": "code",
   "execution_count": null,
   "id": "active-filename",
   "metadata": {},
   "outputs": [],
   "source": []
  }
 ],
 "metadata": {
  "kernelspec": {
   "display_name": "Python 3",
   "language": "python",
   "name": "python3"
  },
  "language_info": {
   "codemirror_mode": {
    "name": "ipython",
    "version": 3
   },
   "file_extension": ".py",
   "mimetype": "text/x-python",
   "name": "python",
   "nbconvert_exporter": "python",
   "pygments_lexer": "ipython3",
   "version": "3.8.5"
  }
 },
 "nbformat": 4,
 "nbformat_minor": 5
}
