{
 "cells": [
  {
   "cell_type": "code",
   "execution_count": 6,
   "id": "daily-summer",
   "metadata": {},
   "outputs": [],
   "source": [
    "import sys\n",
    "import time\n",
    "import bibtexparser\n",
    "import itertools\n",
    "import requests\n",
    "import re\n",
    "import pandas as pd\n",
    "from bs4 import BeautifulSoup"
   ]
  },
  {
   "cell_type": "code",
   "execution_count": 2,
   "id": "focal-river",
   "metadata": {},
   "outputs": [],
   "source": [
    "import bibtexparser\n",
    "bibtex_file = open('gap-publishednicer.bib.txt', encoding='utf-8')\n",
    "bib_data = bibtexparser.load(bibtex_file)"
   ]
  },
  {
   "cell_type": "code",
   "execution_count": 4,
   "id": "special-establishment",
   "metadata": {
    "scrolled": true
   },
   "outputs": [],
   "source": [
    "bib = bib_data.entries"
   ]
  },
  {
   "cell_type": "code",
   "execution_count": 19,
   "id": "according-recorder",
   "metadata": {
    "scrolled": false
   },
   "outputs": [],
   "source": [
    "bib_df = pd.DataFrame.from_dict(bib)\n",
    "review_df = pd.read_csv('no_citation_text.csv', dtype='str')\n",
    "corpus_df = pd.read_csv('gap_citations_corpus.csv', dtype='str')"
   ]
  },
  {
   "cell_type": "code",
   "execution_count": 20,
   "id": "occasional-tours",
   "metadata": {
    "scrolled": false
   },
   "outputs": [
    {
     "data": {
      "text/html": [
       "<div>\n",
       "<style scoped>\n",
       "    .dataframe tbody tr th:only-of-type {\n",
       "        vertical-align: middle;\n",
       "    }\n",
       "\n",
       "    .dataframe tbody tr th {\n",
       "        vertical-align: top;\n",
       "    }\n",
       "\n",
       "    .dataframe thead th {\n",
       "        text-align: right;\n",
       "    }\n",
       "</style>\n",
       "<table border=\"1\" class=\"dataframe\">\n",
       "  <thead>\n",
       "    <tr style=\"text-align: right;\">\n",
       "      <th></th>\n",
       "      <th>MR</th>\n",
       "      <th>Citation</th>\n",
       "    </tr>\n",
       "  </thead>\n",
       "  <tbody>\n",
       "    <tr>\n",
       "      <th>0</th>\n",
       "      <td>MR4056124</td>\n",
       "      <td>GAP – Groups, algorithms, programming - a syst...</td>\n",
       "    </tr>\n",
       "    <tr>\n",
       "      <th>1</th>\n",
       "      <td>MR3942387</td>\n",
       "      <td>Delgado, M., García-Sánchez, P.A., Morais, J.:...</td>\n",
       "    </tr>\n",
       "    <tr>\n",
       "      <th>2</th>\n",
       "      <td>MR3942387</td>\n",
       "      <td>The GAP Group: GAP—groups, algorithms, and pro...</td>\n",
       "    </tr>\n",
       "    <tr>\n",
       "      <th>3</th>\n",
       "      <td>MR3354065</td>\n",
       "      <td>The GAP – Groups, Algorithms and Programming. ...</td>\n",
       "    </tr>\n",
       "    <tr>\n",
       "      <th>4</th>\n",
       "      <td>MR3646312</td>\n",
       "      <td>The $\\ssf{GAP}$ Group, $\\ssf{GAP}$–Groups, Alg...</td>\n",
       "    </tr>\n",
       "    <tr>\n",
       "      <th>...</th>\n",
       "      <td>...</td>\n",
       "      <td>...</td>\n",
       "    </tr>\n",
       "    <tr>\n",
       "      <th>3537</th>\n",
       "      <td>MR3988630</td>\n",
       "      <td>M. Delgado, P. A. García-Sánchez and J. Morais...</td>\n",
       "    </tr>\n",
       "    <tr>\n",
       "      <th>3538</th>\n",
       "      <td>MR1801202</td>\n",
       "      <td>L.H. Soicher, GRAPE: a system for computing wi...</td>\n",
       "    </tr>\n",
       "    <tr>\n",
       "      <th>3539</th>\n",
       "      <td>MR2558870</td>\n",
       "      <td>L. Bartholdi, Functionally recursive groups, h...</td>\n",
       "    </tr>\n",
       "    <tr>\n",
       "      <th>3540</th>\n",
       "      <td>MR2824780</td>\n",
       "      <td>X. Sun, C. Liu, D. Li and J. Gao, On duality g...</td>\n",
       "    </tr>\n",
       "    <tr>\n",
       "      <th>3541</th>\n",
       "      <td>MR1981371</td>\n",
       "      <td>Schönert M. et al., Groups, Algorithms and Pro...</td>\n",
       "    </tr>\n",
       "  </tbody>\n",
       "</table>\n",
       "<p>3542 rows × 2 columns</p>\n",
       "</div>"
      ],
      "text/plain": [
       "             MR                                           Citation\n",
       "0     MR4056124  GAP – Groups, algorithms, programming - a syst...\n",
       "1     MR3942387  Delgado, M., García-Sánchez, P.A., Morais, J.:...\n",
       "2     MR3942387  The GAP Group: GAP—groups, algorithms, and pro...\n",
       "3     MR3354065  The GAP – Groups, Algorithms and Programming. ...\n",
       "4     MR3646312  The $\\ssf{GAP}$ Group, $\\ssf{GAP}$–Groups, Alg...\n",
       "...         ...                                                ...\n",
       "3537  MR3988630  M. Delgado, P. A. García-Sánchez and J. Morais...\n",
       "3538  MR1801202  L.H. Soicher, GRAPE: a system for computing wi...\n",
       "3539  MR2558870  L. Bartholdi, Functionally recursive groups, h...\n",
       "3540  MR2824780  X. Sun, C. Liu, D. Li and J. Gao, On duality g...\n",
       "3541  MR1981371  Schönert M. et al., Groups, Algorithms and Pro...\n",
       "\n",
       "[3542 rows x 2 columns]"
      ]
     },
     "execution_count": 20,
     "metadata": {},
     "output_type": "execute_result"
    }
   ],
   "source": [
    "corpus_df"
   ]
  },
  {
   "cell_type": "code",
   "execution_count": 23,
   "id": "musical-league",
   "metadata": {},
   "outputs": [],
   "source": [
    "bib_df.drop(bib_df.columns[[0, 1, 2, 3, 4, 6, 8, 9, 10, 11]], axis = 1, inplace = True)"
   ]
  },
  {
   "cell_type": "code",
   "execution_count": 30,
   "id": "modified-nickname",
   "metadata": {
    "collapsed": true
   },
   "outputs": [
    {
     "data": {
      "text/plain": [
       "Index(['mrclass', 'fjournal', 'title', 'author', 'ENTRYTYPE', 'ID', 'number',\n",
       "       'school', 'booktitle', 'isbn', 'note', 'publisher', 'day', 'keywords',\n",
       "       'month', 'series', 'annote', 'type', 'address', 'institution',\n",
       "       'howpublished', 'editor', 'bookeditor', 'edition', 'key',\n",
       "       'organization'],\n",
       "      dtype='object')"
      ]
     },
     "execution_count": 30,
     "metadata": {},
     "output_type": "execute_result"
    }
   ],
   "source": [
    "bib_df.columns"
   ]
  },
  {
   "cell_type": "code",
   "execution_count": 33,
   "id": "studied-garden",
   "metadata": {
    "collapsed": true
   },
   "outputs": [
    {
     "ename": "IndexError",
     "evalue": "index 6 is out of bounds for axis 0 with size 6",
     "output_type": "error",
     "traceback": [
      "\u001b[1;31m---------------------------------------------------------------------------\u001b[0m",
      "\u001b[1;31mIndexError\u001b[0m                                Traceback (most recent call last)",
      "\u001b[1;32m<ipython-input-33-fc0765beef39>\u001b[0m in \u001b[0;36m<module>\u001b[1;34m\u001b[0m\n\u001b[1;32m----> 1\u001b[1;33m \u001b[0mbib_df\u001b[0m\u001b[1;33m.\u001b[0m\u001b[0mdrop\u001b[0m\u001b[1;33m(\u001b[0m\u001b[0mbib_df\u001b[0m\u001b[1;33m.\u001b[0m\u001b[0mcolumns\u001b[0m\u001b[1;33m[\u001b[0m\u001b[1;33m[\u001b[0m\u001b[1;36m0\u001b[0m\u001b[1;33m,\u001b[0m \u001b[1;36m6\u001b[0m\u001b[1;33m,\u001b[0m \u001b[1;36m7\u001b[0m\u001b[1;33m,\u001b[0m \u001b[1;36m8\u001b[0m\u001b[1;33m,\u001b[0m \u001b[1;36m9\u001b[0m\u001b[1;33m,\u001b[0m \u001b[1;36m10\u001b[0m\u001b[1;33m,\u001b[0m \u001b[1;36m11\u001b[0m\u001b[1;33m,\u001b[0m \u001b[1;36m12\u001b[0m\u001b[1;33m,\u001b[0m \u001b[1;36m13\u001b[0m\u001b[1;33m,\u001b[0m \u001b[1;36m14\u001b[0m\u001b[1;33m,\u001b[0m \u001b[1;36m15\u001b[0m\u001b[1;33m,\u001b[0m \u001b[1;36m16\u001b[0m\u001b[1;33m,\u001b[0m \u001b[1;36m17\u001b[0m\u001b[1;33m,\u001b[0m \u001b[1;36m18\u001b[0m\u001b[1;33m,\u001b[0m \u001b[1;36m19\u001b[0m\u001b[1;33m,\u001b[0m \u001b[1;36m20\u001b[0m\u001b[1;33m,\u001b[0m \u001b[1;36m21\u001b[0m\u001b[1;33m,\u001b[0m \u001b[1;36m22\u001b[0m\u001b[1;33m,\u001b[0m \u001b[1;36m23\u001b[0m\u001b[1;33m,\u001b[0m \u001b[1;36m24\u001b[0m\u001b[1;33m,\u001b[0m \u001b[1;36m25\u001b[0m\u001b[1;33m]\u001b[0m\u001b[1;33m]\u001b[0m\u001b[1;33m,\u001b[0m \u001b[0maxis\u001b[0m \u001b[1;33m=\u001b[0m \u001b[1;36m1\u001b[0m\u001b[1;33m,\u001b[0m \u001b[0minplace\u001b[0m \u001b[1;33m=\u001b[0m \u001b[1;32mTrue\u001b[0m\u001b[1;33m)\u001b[0m\u001b[1;33m\u001b[0m\u001b[1;33m\u001b[0m\u001b[0m\n\u001b[0m",
      "\u001b[1;32mc:\\users\\fliqp_000\\appdata\\local\\programs\\python\\python38-32\\lib\\site-packages\\pandas\\core\\indexes\\base.py\u001b[0m in \u001b[0;36m__getitem__\u001b[1;34m(self, key)\u001b[0m\n\u001b[0;32m   4305\u001b[0m             \u001b[0mkey\u001b[0m \u001b[1;33m=\u001b[0m \u001b[0mnp\u001b[0m\u001b[1;33m.\u001b[0m\u001b[0masarray\u001b[0m\u001b[1;33m(\u001b[0m\u001b[0mkey\u001b[0m\u001b[1;33m,\u001b[0m \u001b[0mdtype\u001b[0m\u001b[1;33m=\u001b[0m\u001b[0mbool\u001b[0m\u001b[1;33m)\u001b[0m\u001b[1;33m\u001b[0m\u001b[1;33m\u001b[0m\u001b[0m\n\u001b[0;32m   4306\u001b[0m \u001b[1;33m\u001b[0m\u001b[0m\n\u001b[1;32m-> 4307\u001b[1;33m         \u001b[0mresult\u001b[0m \u001b[1;33m=\u001b[0m \u001b[0mgetitem\u001b[0m\u001b[1;33m(\u001b[0m\u001b[0mkey\u001b[0m\u001b[1;33m)\u001b[0m\u001b[1;33m\u001b[0m\u001b[1;33m\u001b[0m\u001b[0m\n\u001b[0m\u001b[0;32m   4308\u001b[0m         \u001b[1;32mif\u001b[0m \u001b[1;32mnot\u001b[0m \u001b[0mis_scalar\u001b[0m\u001b[1;33m(\u001b[0m\u001b[0mresult\u001b[0m\u001b[1;33m)\u001b[0m\u001b[1;33m:\u001b[0m\u001b[1;33m\u001b[0m\u001b[1;33m\u001b[0m\u001b[0m\n\u001b[0;32m   4309\u001b[0m             \u001b[1;32mif\u001b[0m \u001b[0mnp\u001b[0m\u001b[1;33m.\u001b[0m\u001b[0mndim\u001b[0m\u001b[1;33m(\u001b[0m\u001b[0mresult\u001b[0m\u001b[1;33m)\u001b[0m \u001b[1;33m>\u001b[0m \u001b[1;36m1\u001b[0m\u001b[1;33m:\u001b[0m\u001b[1;33m\u001b[0m\u001b[1;33m\u001b[0m\u001b[0m\n",
      "\u001b[1;31mIndexError\u001b[0m: index 6 is out of bounds for axis 0 with size 6"
     ]
    }
   ],
   "source": [
    "bib_df.drop(bib_df.columns[[0, 6, 8, 9, 10, 11, 12, 13, 14, 15, 16, 17, 18, 19, 20, 21, 22, 23, 24, 25]], axis = 1, inplace = True)"
   ]
  },
  {
   "cell_type": "code",
   "execution_count": 34,
   "id": "three-greene",
   "metadata": {},
   "outputs": [],
   "source": [
    "bib_df.drop(bib_df.columns[[5]], axis = 1, inplace = True)"
   ]
  },
  {
   "cell_type": "code",
   "execution_count": 35,
   "id": "received-course",
   "metadata": {},
   "outputs": [
    {
     "data": {
      "text/html": [
       "<div>\n",
       "<style scoped>\n",
       "    .dataframe tbody tr th:only-of-type {\n",
       "        vertical-align: middle;\n",
       "    }\n",
       "\n",
       "    .dataframe tbody tr th {\n",
       "        vertical-align: top;\n",
       "    }\n",
       "\n",
       "    .dataframe thead th {\n",
       "        text-align: right;\n",
       "    }\n",
       "</style>\n",
       "<table border=\"1\" class=\"dataframe\">\n",
       "  <thead>\n",
       "    <tr style=\"text-align: right;\">\n",
       "      <th></th>\n",
       "      <th>fjournal</th>\n",
       "      <th>title</th>\n",
       "      <th>author</th>\n",
       "      <th>ENTRYTYPE</th>\n",
       "      <th>ID</th>\n",
       "    </tr>\n",
       "  </thead>\n",
       "  <tbody>\n",
       "    <tr>\n",
       "      <th>0</th>\n",
       "      <td>Theoretical Computer Science</td>\n",
       "      <td>Metric dimension of {C}ayley digraphs of split...</td>\n",
       "      <td>Abas, M. and Vetrík, T.</td>\n",
       "      <td>article</td>\n",
       "      <td>MR4056124</td>\n",
       "    </tr>\n",
       "    <tr>\n",
       "      <th>1</th>\n",
       "      <td>Revista de la Real Academia de Ciencias Exacta...</td>\n",
       "      <td>Canonical bases of modules over one dimensiona...</td>\n",
       "      <td>Abbas, A. and Assi, A. and García-Sánchez, P. A.</td>\n",
       "      <td>article</td>\n",
       "      <td>MR3942387</td>\n",
       "    </tr>\n",
       "    <tr>\n",
       "      <th>2</th>\n",
       "      <td>NaN</td>\n",
       "      <td>Calculation of primitive invariants of finite ...</td>\n",
       "      <td>Abdeljaouad, I.</td>\n",
       "      <td>article</td>\n",
       "      <td>Abdeljaouad99</td>\n",
       "    </tr>\n",
       "    <tr>\n",
       "      <th>3</th>\n",
       "      <td>Communications in Algebra</td>\n",
       "      <td>Divisibility graph for symmetric and alternati...</td>\n",
       "      <td>Abdolghafourian, A. and Iranmanesh, M. A.</td>\n",
       "      <td>article</td>\n",
       "      <td>MR3354065</td>\n",
       "    </tr>\n",
       "    <tr>\n",
       "      <th>4</th>\n",
       "      <td>Journal of Pure and Applied Algebra</td>\n",
       "      <td>The divisibility graph of finite groups of {L}...</td>\n",
       "      <td>Abdolghafourian, A. and Iranmanesh, M. A. and ...</td>\n",
       "      <td>article</td>\n",
       "      <td>MR3646312</td>\n",
       "    </tr>\n",
       "    <tr>\n",
       "      <th>...</th>\n",
       "      <td>...</td>\n",
       "      <td>...</td>\n",
       "      <td>...</td>\n",
       "      <td>...</td>\n",
       "      <td>...</td>\n",
       "    </tr>\n",
       "    <tr>\n",
       "      <th>3362</th>\n",
       "      <td>Journal of Geometry and Physics</td>\n",
       "      <td>{$\\omega$}-{L}ie algebras</td>\n",
       "      <td>Zusmanovich, P.</td>\n",
       "      <td>article</td>\n",
       "      <td>MR2647300</td>\n",
       "    </tr>\n",
       "    <tr>\n",
       "      <th>3363</th>\n",
       "      <td>Journal of Algebra</td>\n",
       "      <td>On {$\\delta$}-derivations of {L}ie algebras an...</td>\n",
       "      <td>Zusmanovich, P.</td>\n",
       "      <td>article</td>\n",
       "      <td>MR2735394</td>\n",
       "    </tr>\n",
       "    <tr>\n",
       "      <th>3364</th>\n",
       "      <td>Journal of Algebra</td>\n",
       "      <td>Erratum  to  ``{O}n  {$\\delta$}-derivations of...</td>\n",
       "      <td>Zusmanovich, P.</td>\n",
       "      <td>article</td>\n",
       "      <td>MR3201064</td>\n",
       "    </tr>\n",
       "    <tr>\n",
       "      <th>3365</th>\n",
       "      <td>Linear Algebra and its Applications</td>\n",
       "      <td>Special and exceptional mock-{L}ie algebras</td>\n",
       "      <td>Zusmanovich, P.</td>\n",
       "      <td>article</td>\n",
       "      <td>MR3598575</td>\n",
       "    </tr>\n",
       "    <tr>\n",
       "      <th>3366</th>\n",
       "      <td>Rossiĭskaya    Akademiya    Nauk.    Sibirskoe...</td>\n",
       "      <td>On nonabelian simple groups with the same prim...</td>\n",
       "      <td>Zvezdina, M. A.</td>\n",
       "      <td>article</td>\n",
       "      <td>MR3089327</td>\n",
       "    </tr>\n",
       "  </tbody>\n",
       "</table>\n",
       "<p>3367 rows × 5 columns</p>\n",
       "</div>"
      ],
      "text/plain": [
       "                                               fjournal  \\\n",
       "0                          Theoretical Computer Science   \n",
       "1     Revista de la Real Academia de Ciencias Exacta...   \n",
       "2                                                   NaN   \n",
       "3                             Communications in Algebra   \n",
       "4                   Journal of Pure and Applied Algebra   \n",
       "...                                                 ...   \n",
       "3362                    Journal of Geometry and Physics   \n",
       "3363                                 Journal of Algebra   \n",
       "3364                                 Journal of Algebra   \n",
       "3365                Linear Algebra and its Applications   \n",
       "3366  Rossiĭskaya    Akademiya    Nauk.    Sibirskoe...   \n",
       "\n",
       "                                                  title  \\\n",
       "0     Metric dimension of {C}ayley digraphs of split...   \n",
       "1     Canonical bases of modules over one dimensiona...   \n",
       "2     Calculation of primitive invariants of finite ...   \n",
       "3     Divisibility graph for symmetric and alternati...   \n",
       "4     The divisibility graph of finite groups of {L}...   \n",
       "...                                                 ...   \n",
       "3362                          {$\\omega$}-{L}ie algebras   \n",
       "3363  On {$\\delta$}-derivations of {L}ie algebras an...   \n",
       "3364  Erratum  to  ``{O}n  {$\\delta$}-derivations of...   \n",
       "3365        Special and exceptional mock-{L}ie algebras   \n",
       "3366  On nonabelian simple groups with the same prim...   \n",
       "\n",
       "                                                 author ENTRYTYPE  \\\n",
       "0                               Abas, M. and Vetrík, T.   article   \n",
       "1      Abbas, A. and Assi, A. and García-Sánchez, P. A.   article   \n",
       "2                                       Abdeljaouad, I.   article   \n",
       "3             Abdolghafourian, A. and Iranmanesh, M. A.   article   \n",
       "4     Abdolghafourian, A. and Iranmanesh, M. A. and ...   article   \n",
       "...                                                 ...       ...   \n",
       "3362                                    Zusmanovich, P.   article   \n",
       "3363                                    Zusmanovich, P.   article   \n",
       "3364                                    Zusmanovich, P.   article   \n",
       "3365                                    Zusmanovich, P.   article   \n",
       "3366                                    Zvezdina, M. A.   article   \n",
       "\n",
       "                 ID  \n",
       "0         MR4056124  \n",
       "1         MR3942387  \n",
       "2     Abdeljaouad99  \n",
       "3         MR3354065  \n",
       "4         MR3646312  \n",
       "...             ...  \n",
       "3362      MR2647300  \n",
       "3363      MR2735394  \n",
       "3364      MR3201064  \n",
       "3365      MR3598575  \n",
       "3366      MR3089327  \n",
       "\n",
       "[3367 rows x 5 columns]"
      ]
     },
     "execution_count": 35,
     "metadata": {},
     "output_type": "execute_result"
    }
   ],
   "source": [
    "bib_df"
   ]
  },
  {
   "cell_type": "code",
   "execution_count": null,
   "id": "animated-pittsburgh",
   "metadata": {},
   "outputs": [],
   "source": []
  },
  {
   "cell_type": "code",
   "execution_count": null,
   "id": "prostate-mercury",
   "metadata": {},
   "outputs": [],
   "source": []
  },
  {
   "cell_type": "markdown",
   "id": "approved-fellowship",
   "metadata": {},
   "source": [
    "df = pd.DataFrame(lis_dic)\n",
    "df = df[df.ID.isin(targets)]"
   ]
  },
  {
   "cell_type": "markdown",
   "id": "reported-april",
   "metadata": {},
   "source": [
    "df_filtered = df[df.mrnumber.isin(mrs)]"
   ]
  },
  {
   "cell_type": "code",
   "execution_count": null,
   "id": "quick-magnet",
   "metadata": {},
   "outputs": [],
   "source": []
  },
  {
   "cell_type": "code",
   "execution_count": null,
   "id": "legislative-merchandise",
   "metadata": {},
   "outputs": [],
   "source": []
  }
 ],
 "metadata": {
  "kernelspec": {
   "display_name": "Python 3",
   "language": "python",
   "name": "python3"
  },
  "language_info": {
   "codemirror_mode": {
    "name": "ipython",
    "version": 3
   },
   "file_extension": ".py",
   "mimetype": "text/x-python",
   "name": "python",
   "nbconvert_exporter": "python",
   "pygments_lexer": "ipython3",
   "version": "3.8.5"
  }
 },
 "nbformat": 4,
 "nbformat_minor": 5
}
