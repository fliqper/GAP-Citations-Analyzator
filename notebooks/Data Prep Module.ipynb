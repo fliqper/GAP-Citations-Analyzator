{
 "cells": [
  {
   "cell_type": "code",
   "execution_count": 6,
   "id": "daily-summer",
   "metadata": {},
   "outputs": [],
   "source": [
    "import sys\n",
    "import time\n",
    "import bibtexparser\n",
    "import itertools\n",
    "import requests\n",
    "import re\n",
    "import pandas as pd\n",
    "from bs4 import BeautifulSoup"
   ]
  },
  {
   "cell_type": "code",
   "execution_count": 2,
   "id": "focal-river",
   "metadata": {},
   "outputs": [],
   "source": [
    "import bibtexparser\n",
    "bibtex_file = open('gap-publishednicer.bib.txt', encoding='utf-8')\n",
    "bib_data = bibtexparser.load(bibtex_file)"
   ]
  },
  {
   "cell_type": "code",
   "execution_count": 106,
   "id": "special-establishment",
   "metadata": {
    "scrolled": true
   },
   "outputs": [],
   "source": [
    "bib = bib_data.entries"
   ]
  },
  {
   "cell_type": "code",
   "execution_count": 107,
   "id": "according-recorder",
   "metadata": {
    "scrolled": false
   },
   "outputs": [],
   "source": [
    "bib_df = pd.DataFrame.from_dict(bib)\n",
    "review_df = pd.read_csv('no_citation_text.csv', dtype='str')\n",
    "corpus_df = pd.read_csv('gap_citations_corpus.csv', dtype='str')"
   ]
  },
  {
   "cell_type": "markdown",
   "id": "different-recognition",
   "metadata": {},
   "source": [
    "# Larger dataset from Bibliography"
   ]
  },
  {
   "cell_type": "code",
   "execution_count": 108,
   "id": "musical-league",
   "metadata": {},
   "outputs": [],
   "source": [
    "bib_df.drop(bib_df.columns[[0, 1, 2, 3, 4, 5, 6, 7, 8, 10, 12, 16, 17, 18, 19, 20, 21, 22, 23, 24, 25, 26, 27, 28, 29, 30, 31, 32, 33, 34, 35]], axis = 1, inplace = True)"
   ]
  },
  {
   "cell_type": "code",
   "execution_count": 109,
   "id": "hispanic-formula",
   "metadata": {},
   "outputs": [
    {
     "data": {
      "text/plain": [
       "Index(['year', 'journal', 'author', 'ENTRYTYPE', 'ID'], dtype='object')"
      ]
     },
     "execution_count": 109,
     "metadata": {},
     "output_type": "execute_result"
    }
   ],
   "source": [
    "bib_df.columns"
   ]
  },
  {
   "cell_type": "code",
   "execution_count": 111,
   "id": "apparent-kenya",
   "metadata": {},
   "outputs": [],
   "source": [
    "bib_df = bib_df[['ID', 'author', 'journal', 'year', 'ENTRYTYPE']]"
   ]
  },
  {
   "cell_type": "markdown",
   "id": "brave-fantasy",
   "metadata": {},
   "source": [
    "Then we change the `ID` coulmn name to `MR` so we cane later merge this dataframe with the other one."
   ]
  },
  {
   "cell_type": "code",
   "execution_count": 123,
   "id": "least-crossing",
   "metadata": {},
   "outputs": [],
   "source": [
    "bib_df.columns = ['MR', 'author', 'journal', 'year', 'ENTRYTYPE']"
   ]
  },
  {
   "cell_type": "code",
   "execution_count": 124,
   "id": "funny-cardiff",
   "metadata": {
    "scrolled": true
   },
   "outputs": [
    {
     "data": {
      "text/html": [
       "<div>\n",
       "<style scoped>\n",
       "    .dataframe tbody tr th:only-of-type {\n",
       "        vertical-align: middle;\n",
       "    }\n",
       "\n",
       "    .dataframe tbody tr th {\n",
       "        vertical-align: top;\n",
       "    }\n",
       "\n",
       "    .dataframe thead th {\n",
       "        text-align: right;\n",
       "    }\n",
       "</style>\n",
       "<table border=\"1\" class=\"dataframe\">\n",
       "  <thead>\n",
       "    <tr style=\"text-align: right;\">\n",
       "      <th></th>\n",
       "      <th>MR</th>\n",
       "      <th>author</th>\n",
       "      <th>journal</th>\n",
       "      <th>year</th>\n",
       "      <th>ENTRYTYPE</th>\n",
       "    </tr>\n",
       "  </thead>\n",
       "  <tbody>\n",
       "    <tr>\n",
       "      <th>0</th>\n",
       "      <td>MR4056124</td>\n",
       "      <td>Abas, M. and Vetrík, T.</td>\n",
       "      <td>Theoret. Comput. Sci.</td>\n",
       "      <td>2020</td>\n",
       "      <td>article</td>\n",
       "    </tr>\n",
       "    <tr>\n",
       "      <th>1</th>\n",
       "      <td>MR3942387</td>\n",
       "      <td>Abbas, A. and Assi, A. and García-Sánchez, P. A.</td>\n",
       "      <td>Rev. R. Acad. Cienc. Exactas Fís. Nat. Ser. A ...</td>\n",
       "      <td>2019</td>\n",
       "      <td>article</td>\n",
       "    </tr>\n",
       "    <tr>\n",
       "      <th>2</th>\n",
       "      <td>Abdeljaouad99</td>\n",
       "      <td>Abdeljaouad, I.</td>\n",
       "      <td>RAIRO-INF THEOR APPL</td>\n",
       "      <td>1999</td>\n",
       "      <td>article</td>\n",
       "    </tr>\n",
       "    <tr>\n",
       "      <th>3</th>\n",
       "      <td>MR3354065</td>\n",
       "      <td>Abdolghafourian, A. and Iranmanesh, M. A.</td>\n",
       "      <td>Comm. Algebra</td>\n",
       "      <td>2015</td>\n",
       "      <td>article</td>\n",
       "    </tr>\n",
       "    <tr>\n",
       "      <th>4</th>\n",
       "      <td>MR3646312</td>\n",
       "      <td>Abdolghafourian, A. and Iranmanesh, M. A. and ...</td>\n",
       "      <td>J. Pure Appl. Algebra</td>\n",
       "      <td>2017</td>\n",
       "      <td>article</td>\n",
       "    </tr>\n",
       "    <tr>\n",
       "      <th>5</th>\n",
       "      <td>MR1864795</td>\n",
       "      <td>Abdollahi, A.</td>\n",
       "      <td>Houston J. Math.</td>\n",
       "      <td>2001</td>\n",
       "      <td>article</td>\n",
       "    </tr>\n",
       "    <tr>\n",
       "      <th>6</th>\n",
       "      <td>MR2371966</td>\n",
       "      <td>Abdollahi, A.</td>\n",
       "      <td>J. Algebra</td>\n",
       "      <td>2007</td>\n",
       "      <td>article</td>\n",
       "    </tr>\n",
       "  </tbody>\n",
       "</table>\n",
       "</div>"
      ],
      "text/plain": [
       "              MR                                             author  \\\n",
       "0      MR4056124                            Abas, M. and Vetrík, T.   \n",
       "1      MR3942387   Abbas, A. and Assi, A. and García-Sánchez, P. A.   \n",
       "2  Abdeljaouad99                                    Abdeljaouad, I.   \n",
       "3      MR3354065          Abdolghafourian, A. and Iranmanesh, M. A.   \n",
       "4      MR3646312  Abdolghafourian, A. and Iranmanesh, M. A. and ...   \n",
       "5      MR1864795                                      Abdollahi, A.   \n",
       "6      MR2371966                                      Abdollahi, A.   \n",
       "\n",
       "                                             journal  year ENTRYTYPE  \n",
       "0                              Theoret. Comput. Sci.  2020   article  \n",
       "1  Rev. R. Acad. Cienc. Exactas Fís. Nat. Ser. A ...  2019   article  \n",
       "2                               RAIRO-INF THEOR APPL  1999   article  \n",
       "3                                      Comm. Algebra  2015   article  \n",
       "4                              J. Pure Appl. Algebra  2017   article  \n",
       "5                                   Houston J. Math.  2001   article  \n",
       "6                                         J. Algebra  2007   article  "
      ]
     },
     "execution_count": 124,
     "metadata": {},
     "output_type": "execute_result"
    }
   ],
   "source": [
    "bib_df.head(7)"
   ]
  },
  {
   "cell_type": "code",
   "execution_count": 114,
   "id": "scientific-recycling",
   "metadata": {
    "scrolled": true
   },
   "outputs": [
    {
     "data": {
      "text/html": [
       "<div>\n",
       "<style scoped>\n",
       "    .dataframe tbody tr th:only-of-type {\n",
       "        vertical-align: middle;\n",
       "    }\n",
       "\n",
       "    .dataframe tbody tr th {\n",
       "        vertical-align: top;\n",
       "    }\n",
       "\n",
       "    .dataframe thead th {\n",
       "        text-align: right;\n",
       "    }\n",
       "</style>\n",
       "<table border=\"1\" class=\"dataframe\">\n",
       "  <thead>\n",
       "    <tr style=\"text-align: right;\">\n",
       "      <th></th>\n",
       "      <th>ID</th>\n",
       "      <th>author</th>\n",
       "      <th>journal</th>\n",
       "      <th>year</th>\n",
       "      <th>ENTRYTYPE</th>\n",
       "    </tr>\n",
       "  </thead>\n",
       "  <tbody>\n",
       "    <tr>\n",
       "      <th>3165</th>\n",
       "      <td>MR3973299</td>\n",
       "      <td>Then, H.</td>\n",
       "      <td>NaN</td>\n",
       "      <td>[2019] \\copyright 2019</td>\n",
       "      <td>incollection</td>\n",
       "    </tr>\n",
       "    <tr>\n",
       "      <th>1546</th>\n",
       "      <td>MR3898507</td>\n",
       "      <td>Greer, M.</td>\n",
       "      <td>NaN</td>\n",
       "      <td>[2019] \\copyright 2019</td>\n",
       "      <td>incollection</td>\n",
       "    </tr>\n",
       "    <tr>\n",
       "      <th>3133</th>\n",
       "      <td>MR3898514</td>\n",
       "      <td>Stuhl, I. and Vojtěchovský, P.</td>\n",
       "      <td>NaN</td>\n",
       "      <td>[2019] \\copyright 2019</td>\n",
       "      <td>incollection</td>\n",
       "    </tr>\n",
       "    <tr>\n",
       "      <th>3147</th>\n",
       "      <td>MR3782458</td>\n",
       "      <td>Swinarski, D.</td>\n",
       "      <td>NaN</td>\n",
       "      <td>[2018] \\copyright 2018</td>\n",
       "      <td>incollection</td>\n",
       "    </tr>\n",
       "    <tr>\n",
       "      <th>1981</th>\n",
       "      <td>MR4167659</td>\n",
       "      <td>Kaushik, R. and Yadav, M. K.</td>\n",
       "      <td>J. Algebra</td>\n",
       "      <td>2021</td>\n",
       "      <td>article</td>\n",
       "    </tr>\n",
       "    <tr>\n",
       "      <th>...</th>\n",
       "      <td>...</td>\n",
       "      <td>...</td>\n",
       "      <td>...</td>\n",
       "      <td>...</td>\n",
       "      <td>...</td>\n",
       "    </tr>\n",
       "    <tr>\n",
       "      <th>3274</th>\n",
       "      <td>Wegner89</td>\n",
       "      <td>Wegner, A.</td>\n",
       "      <td>NaN</td>\n",
       "      <td>1989</td>\n",
       "      <td>mastersthesis</td>\n",
       "    </tr>\n",
       "    <tr>\n",
       "      <th>2689</th>\n",
       "      <td>Niemeyer88</td>\n",
       "      <td>Niemeyer, A.</td>\n",
       "      <td>NaN</td>\n",
       "      <td>1988</td>\n",
       "      <td>mastersthesis</td>\n",
       "    </tr>\n",
       "    <tr>\n",
       "      <th>2673</th>\n",
       "      <td>Nickel88</td>\n",
       "      <td>Nickel, W.</td>\n",
       "      <td>NaN</td>\n",
       "      <td>1988</td>\n",
       "      <td>mastersthesis</td>\n",
       "    </tr>\n",
       "    <tr>\n",
       "      <th>3018</th>\n",
       "      <td>Schonert88</td>\n",
       "      <td>Schönert, M.</td>\n",
       "      <td>NaN</td>\n",
       "      <td>1987</td>\n",
       "      <td>mastersthesis</td>\n",
       "    </tr>\n",
       "    <tr>\n",
       "      <th>2459</th>\n",
       "      <td>Meier87</td>\n",
       "      <td>Meier, J.</td>\n",
       "      <td>NaN</td>\n",
       "      <td>1987</td>\n",
       "      <td>mastersthesis</td>\n",
       "    </tr>\n",
       "  </tbody>\n",
       "</table>\n",
       "<p>3367 rows × 5 columns</p>\n",
       "</div>"
      ],
      "text/plain": [
       "              ID                          author     journal  \\\n",
       "3165   MR3973299                        Then, H.         NaN   \n",
       "1546   MR3898507                       Greer, M.         NaN   \n",
       "3133   MR3898514  Stuhl, I. and Vojtěchovský, P.         NaN   \n",
       "3147   MR3782458                   Swinarski, D.         NaN   \n",
       "1981   MR4167659    Kaushik, R. and Yadav, M. K.  J. Algebra   \n",
       "...          ...                             ...         ...   \n",
       "3274    Wegner89                      Wegner, A.         NaN   \n",
       "2689  Niemeyer88                    Niemeyer, A.         NaN   \n",
       "2673    Nickel88                      Nickel, W.         NaN   \n",
       "3018  Schonert88                    Schönert, M.         NaN   \n",
       "2459     Meier87                       Meier, J.         NaN   \n",
       "\n",
       "                        year      ENTRYTYPE  \n",
       "3165  [2019] \\copyright 2019   incollection  \n",
       "1546  [2019] \\copyright 2019   incollection  \n",
       "3133  [2019] \\copyright 2019   incollection  \n",
       "3147  [2018] \\copyright 2018   incollection  \n",
       "1981                    2021        article  \n",
       "...                      ...            ...  \n",
       "3274                    1989  mastersthesis  \n",
       "2689                    1988  mastersthesis  \n",
       "2673                    1988  mastersthesis  \n",
       "3018                    1987  mastersthesis  \n",
       "2459                    1987  mastersthesis  \n",
       "\n",
       "[3367 rows x 5 columns]"
      ]
     },
     "execution_count": 114,
     "metadata": {},
     "output_type": "execute_result"
    }
   ],
   "source": [
    "bib_df.sort_values('year', ascending=False)"
   ]
  },
  {
   "cell_type": "code",
   "execution_count": 125,
   "id": "veterinary-wayne",
   "metadata": {
    "scrolled": true
   },
   "outputs": [
    {
     "data": {
      "text/plain": [
       "MR                  Abdeljaouad99\n",
       "author            Abdeljaouad, I.\n",
       "journal      RAIRO-INF THEOR APPL\n",
       "year                         1999\n",
       "ENTRYTYPE                 article\n",
       "Name: 2, dtype: object"
      ]
     },
     "execution_count": 125,
     "metadata": {},
     "output_type": "execute_result"
    }
   ],
   "source": [
    "bib_df.iloc[2]"
   ]
  },
  {
   "cell_type": "code",
   "execution_count": null,
   "id": "public-narrow",
   "metadata": {},
   "outputs": [],
   "source": []
  },
  {
   "cell_type": "code",
   "execution_count": null,
   "id": "metropolitan-partition",
   "metadata": {},
   "outputs": [],
   "source": []
  },
  {
   "cell_type": "code",
   "execution_count": 104,
   "id": "comfortable-diploma",
   "metadata": {
    "scrolled": false
   },
   "outputs": [
    {
     "name": "stdout",
     "output_type": "stream",
     "text": [
      "<class 'pandas.core.frame.DataFrame'>\n",
      "Index: 3367 entries, MR4056124 to MR3089327\n",
      "Data columns (total 4 columns):\n",
      " #   Column     Non-Null Count  Dtype \n",
      "---  ------     --------------  ----- \n",
      " 0   year       3367 non-null   object\n",
      " 1   journal    3047 non-null   object\n",
      " 2   author     3367 non-null   object\n",
      " 3   ENTRYTYPE  3367 non-null   object\n",
      "dtypes: object(4)\n",
      "memory usage: 130.8+ KB\n"
     ]
    }
   ],
   "source": [
    "bib_df.info(show_counts  = True)"
   ]
  },
  {
   "cell_type": "code",
   "execution_count": 122,
   "id": "downtown-brain",
   "metadata": {
    "scrolled": false
   },
   "outputs": [
    {
     "data": {
      "text/html": [
       "<div>\n",
       "<style scoped>\n",
       "    .dataframe tbody tr th:only-of-type {\n",
       "        vertical-align: middle;\n",
       "    }\n",
       "\n",
       "    .dataframe tbody tr th {\n",
       "        vertical-align: top;\n",
       "    }\n",
       "\n",
       "    .dataframe thead th {\n",
       "        text-align: right;\n",
       "    }\n",
       "</style>\n",
       "<table border=\"1\" class=\"dataframe\">\n",
       "  <thead>\n",
       "    <tr style=\"text-align: right;\">\n",
       "      <th></th>\n",
       "      <th>ID</th>\n",
       "      <th>author</th>\n",
       "      <th>journal</th>\n",
       "      <th>year</th>\n",
       "      <th>ENTRYTYPE</th>\n",
       "    </tr>\n",
       "  </thead>\n",
       "  <tbody>\n",
       "    <tr>\n",
       "      <th>count</th>\n",
       "      <td>3367</td>\n",
       "      <td>3367</td>\n",
       "      <td>3047</td>\n",
       "      <td>3367</td>\n",
       "      <td>3367</td>\n",
       "    </tr>\n",
       "    <tr>\n",
       "      <th>unique</th>\n",
       "      <td>3366</td>\n",
       "      <td>2511</td>\n",
       "      <td>384</td>\n",
       "      <td>43</td>\n",
       "      <td>10</td>\n",
       "    </tr>\n",
       "    <tr>\n",
       "      <th>top</th>\n",
       "      <td>MR3656296</td>\n",
       "      <td>Sambale, B.</td>\n",
       "      <td>J. Algebra</td>\n",
       "      <td>2017</td>\n",
       "      <td>article</td>\n",
       "    </tr>\n",
       "    <tr>\n",
       "      <th>freq</th>\n",
       "      <td>2</td>\n",
       "      <td>18</td>\n",
       "      <td>387</td>\n",
       "      <td>188</td>\n",
       "      <td>2976</td>\n",
       "    </tr>\n",
       "  </tbody>\n",
       "</table>\n",
       "</div>"
      ],
      "text/plain": [
       "               ID       author     journal  year ENTRYTYPE\n",
       "count        3367         3367        3047  3367      3367\n",
       "unique       3366         2511         384    43        10\n",
       "top     MR3656296  Sambale, B.  J. Algebra  2017   article\n",
       "freq            2           18         387   188      2976"
      ]
     },
     "execution_count": 122,
     "metadata": {},
     "output_type": "execute_result"
    }
   ],
   "source": [
    "bib_df.describe()"
   ]
  },
  {
   "cell_type": "markdown",
   "id": "disturbed-observation",
   "metadata": {},
   "source": []
  },
  {
   "cell_type": "code",
   "execution_count": 92,
   "id": "frozen-norwegian",
   "metadata": {},
   "outputs": [
    {
     "data": {
      "text/plain": [
       "count     3367\n",
       "unique      43\n",
       "top       2017\n",
       "freq       188\n",
       "Name: year, dtype: object"
      ]
     },
     "execution_count": 92,
     "metadata": {},
     "output_type": "execute_result"
    }
   ],
   "source": [
    "bib_df['year'].describe()"
   ]
  },
  {
   "cell_type": "code",
   "execution_count": 85,
   "id": "intelligent-gravity",
   "metadata": {},
   "outputs": [
    {
     "data": {
      "text/plain": [
       "<AxesSubplot:>"
      ]
     },
     "execution_count": 85,
     "metadata": {},
     "output_type": "execute_result"
    },
    {
     "data": {
      "image/png": "[encoded data removed]",
      "text/plain": [
       "<Figure size 432x288 with 1 Axes>"
      ]
     },
     "metadata": {
      "needs_background": "light"
     },
     "output_type": "display_data"
    }
   ],
   "source": [
    "bib_df['year'].value_counts().plot(kind=\"bar\")"
   ]
  },
  {
   "cell_type": "code",
   "execution_count": 83,
   "id": "through-episode",
   "metadata": {
    "scrolled": true
   },
   "outputs": [
    {
     "data": {
      "text/plain": [
       "count        3367\n",
       "unique         10\n",
       "top       article\n",
       "freq         2976\n",
       "Name: ENTRYTYPE, dtype: object"
      ]
     },
     "execution_count": 83,
     "metadata": {},
     "output_type": "execute_result"
    }
   ],
   "source": [
    "bib_df['ENTRYTYPE'].describe()"
   ]
  },
  {
   "cell_type": "code",
   "execution_count": 120,
   "id": "constitutional-parts",
   "metadata": {
    "scrolled": true
   },
   "outputs": [
    {
     "data": {
      "text/plain": [
       "article          2976\n",
       "incollection      204\n",
       "inproceedings      54\n",
       "phdthesis          47\n",
       "mastersthesis      46\n",
       "book               31\n",
       "misc                5\n",
       "techreport          2\n",
       "inbook              1\n",
       "manual              1\n",
       "Name: ENTRYTYPE, dtype: int64"
      ]
     },
     "execution_count": 120,
     "metadata": {},
     "output_type": "execute_result"
    }
   ],
   "source": [
    "bib_df['ENTRYTYPE'].value_counts()"
   ]
  },
  {
   "cell_type": "markdown",
   "id": "undefined-driving",
   "metadata": {},
   "source": [
    "##### The most frequent type of work citing GAP is article."
   ]
  },
  {
   "cell_type": "code",
   "execution_count": 84,
   "id": "approximate-homework",
   "metadata": {
    "scrolled": false
   },
   "outputs": [
    {
     "data": {
      "text/plain": [
       "<AxesSubplot:>"
      ]
     },
     "execution_count": 84,
     "metadata": {},
     "output_type": "execute_result"
    },
    {
     "data": {
      "image/png": "[encoded data removed]",
      "text/plain": [
       "<Figure size 432x288 with 1 Axes>"
      ]
     },
     "metadata": {
      "needs_background": "light"
     },
     "output_type": "display_data"
    }
   ],
   "source": [
    "bib_df['ENTRYTYPE'].value_counts().plot(kind=\"bar\") # base from leccture 8 CS2006"
   ]
  },
  {
   "cell_type": "code",
   "execution_count": null,
   "id": "suspected-hands",
   "metadata": {},
   "outputs": [],
   "source": []
  },
  {
   "cell_type": "markdown",
   "id": "outdoor-specialist",
   "metadata": {},
   "source": [
    "#  Corpus and Review"
   ]
  },
  {
   "cell_type": "markdown",
   "id": "several-burst",
   "metadata": {},
   "source": [
    "To do\n",
    "+ check Citations strings lenghts to isolate too short ones\n",
    "+ version\n",
    "+ website\n",
    "+ remaining HTML characters"
   ]
  },
  {
   "cell_type": "code",
   "execution_count": 20,
   "id": "occasional-tours",
   "metadata": {
    "scrolled": false
   },
   "outputs": [
    {
     "data": {
      "text/html": [
       "<div>\n",
       "<style scoped>\n",
       "    .dataframe tbody tr th:only-of-type {\n",
       "        vertical-align: middle;\n",
       "    }\n",
       "\n",
       "    .dataframe tbody tr th {\n",
       "        vertical-align: top;\n",
       "    }\n",
       "\n",
       "    .dataframe thead th {\n",
       "        text-align: right;\n",
       "    }\n",
       "</style>\n",
       "<table border=\"1\" class=\"dataframe\">\n",
       "  <thead>\n",
       "    <tr style=\"text-align: right;\">\n",
       "      <th></th>\n",
       "      <th>MR</th>\n",
       "      <th>Citation</th>\n",
       "    </tr>\n",
       "  </thead>\n",
       "  <tbody>\n",
       "    <tr>\n",
       "      <th>0</th>\n",
       "      <td>MR4056124</td>\n",
       "      <td>GAP – Groups, algorithms, programming - a syst...</td>\n",
       "    </tr>\n",
       "    <tr>\n",
       "      <th>1</th>\n",
       "      <td>MR3942387</td>\n",
       "      <td>Delgado, M., García-Sánchez, P.A., Morais, J.:...</td>\n",
       "    </tr>\n",
       "    <tr>\n",
       "      <th>2</th>\n",
       "      <td>MR3942387</td>\n",
       "      <td>The GAP Group: GAP—groups, algorithms, and pro...</td>\n",
       "    </tr>\n",
       "    <tr>\n",
       "      <th>3</th>\n",
       "      <td>MR3354065</td>\n",
       "      <td>The GAP – Groups, Algorithms and Programming. ...</td>\n",
       "    </tr>\n",
       "    <tr>\n",
       "      <th>4</th>\n",
       "      <td>MR3646312</td>\n",
       "      <td>The $\\ssf{GAP}$ Group, $\\ssf{GAP}$–Groups, Alg...</td>\n",
       "    </tr>\n",
       "    <tr>\n",
       "      <th>...</th>\n",
       "      <td>...</td>\n",
       "      <td>...</td>\n",
       "    </tr>\n",
       "    <tr>\n",
       "      <th>3537</th>\n",
       "      <td>MR3988630</td>\n",
       "      <td>M. Delgado, P. A. García-Sánchez and J. Morais...</td>\n",
       "    </tr>\n",
       "    <tr>\n",
       "      <th>3538</th>\n",
       "      <td>MR1801202</td>\n",
       "      <td>L.H. Soicher, GRAPE: a system for computing wi...</td>\n",
       "    </tr>\n",
       "    <tr>\n",
       "      <th>3539</th>\n",
       "      <td>MR2558870</td>\n",
       "      <td>L. Bartholdi, Functionally recursive groups, h...</td>\n",
       "    </tr>\n",
       "    <tr>\n",
       "      <th>3540</th>\n",
       "      <td>MR2824780</td>\n",
       "      <td>X. Sun, C. Liu, D. Li and J. Gao, On duality g...</td>\n",
       "    </tr>\n",
       "    <tr>\n",
       "      <th>3541</th>\n",
       "      <td>MR1981371</td>\n",
       "      <td>Schönert M. et al., Groups, Algorithms and Pro...</td>\n",
       "    </tr>\n",
       "  </tbody>\n",
       "</table>\n",
       "<p>3542 rows × 2 columns</p>\n",
       "</div>"
      ],
      "text/plain": [
       "             MR                                           Citation\n",
       "0     MR4056124  GAP – Groups, algorithms, programming - a syst...\n",
       "1     MR3942387  Delgado, M., García-Sánchez, P.A., Morais, J.:...\n",
       "2     MR3942387  The GAP Group: GAP—groups, algorithms, and pro...\n",
       "3     MR3354065  The GAP – Groups, Algorithms and Programming. ...\n",
       "4     MR3646312  The $\\ssf{GAP}$ Group, $\\ssf{GAP}$–Groups, Alg...\n",
       "...         ...                                                ...\n",
       "3537  MR3988630  M. Delgado, P. A. García-Sánchez and J. Morais...\n",
       "3538  MR1801202  L.H. Soicher, GRAPE: a system for computing wi...\n",
       "3539  MR2558870  L. Bartholdi, Functionally recursive groups, h...\n",
       "3540  MR2824780  X. Sun, C. Liu, D. Li and J. Gao, On duality g...\n",
       "3541  MR1981371  Schönert M. et al., Groups, Algorithms and Pro...\n",
       "\n",
       "[3542 rows x 2 columns]"
      ]
     },
     "execution_count": 20,
     "metadata": {},
     "output_type": "execute_result"
    }
   ],
   "source": [
    "corpus_df"
   ]
  },
  {
   "cell_type": "code",
   "execution_count": 49,
   "id": "beneficial-davis",
   "metadata": {
    "scrolled": true
   },
   "outputs": [
    {
     "name": "stdout",
     "output_type": "stream",
     "text": [
      "          MR                                           Citation\n",
      "1  MR3942387  Delgado, M., García-Sánchez, P.A., Morais, J.:...\n",
      "2  MR3942387  The GAP Group: GAP—groups, algorithms, and pro...\n"
     ]
    }
   ],
   "source": [
    "print(corpus_df[corpus_df['MR'].str.contains(\"MR3942387\")])"
   ]
  },
  {
   "cell_type": "code",
   "execution_count": 50,
   "id": "least-strap",
   "metadata": {},
   "outputs": [],
   "source": [
    "exa = corpus_df[corpus_df['MR'].str.contains(\"MR3942387\")]"
   ]
  },
  {
   "cell_type": "code",
   "execution_count": 57,
   "id": "optimum-details",
   "metadata": {},
   "outputs": [
    {
     "data": {
      "text/plain": [
       "'Delgado, M., García-Sánchez, P.A., Morais, J.: \"Numerical Sgps\", A GAP package for numerical semi-groups. https://gap-packages.github.io/numericalsgps. Accessed 19 Aug 2017 \\nMR3493240'"
      ]
     },
     "execution_count": 57,
     "metadata": {},
     "output_type": "execute_result"
    }
   ],
   "source": [
    "exa.iloc[0]['Citation']"
   ]
  },
  {
   "cell_type": "code",
   "execution_count": 58,
   "id": "joint-thong",
   "metadata": {},
   "outputs": [
    {
     "data": {
      "text/plain": [
       "'The GAP Group: GAP—groups, algorithms, and programming, version 4.7.5 (2014). http://www.gap-system.org. Accessed 19 Aug 2017'"
      ]
     },
     "execution_count": 58,
     "metadata": {},
     "output_type": "execute_result"
    }
   ],
   "source": [
    "exa.iloc[1]['Citation']"
   ]
  },
  {
   "cell_type": "code",
   "execution_count": 59,
   "id": "atmospheric-uruguay",
   "metadata": {},
   "outputs": [],
   "source": [
    "exa1 = corpus_df[corpus_df['MR'].str.contains(\"MR2822510\")]"
   ]
  },
  {
   "cell_type": "code",
   "execution_count": 60,
   "id": "indoor-edwards",
   "metadata": {
    "scrolled": false
   },
   "outputs": [
    {
     "data": {
      "text/html": [
       "<div>\n",
       "<style scoped>\n",
       "    .dataframe tbody tr th:only-of-type {\n",
       "        vertical-align: middle;\n",
       "    }\n",
       "\n",
       "    .dataframe tbody tr th {\n",
       "        vertical-align: top;\n",
       "    }\n",
       "\n",
       "    .dataframe thead th {\n",
       "        text-align: right;\n",
       "    }\n",
       "</style>\n",
       "<table border=\"1\" class=\"dataframe\">\n",
       "  <thead>\n",
       "    <tr style=\"text-align: right;\">\n",
       "      <th></th>\n",
       "      <th>MR</th>\n",
       "      <th>Citation</th>\n",
       "    </tr>\n",
       "  </thead>\n",
       "  <tbody>\n",
       "    <tr>\n",
       "      <th>3523</th>\n",
       "      <td>MR2822510</td>\n",
       "      <td>http://www.gap-system.org.</td>\n",
       "    </tr>\n",
       "  </tbody>\n",
       "</table>\n",
       "</div>"
      ],
      "text/plain": [
       "             MR                    Citation\n",
       "3523  MR2822510  http://www.gap-system.org."
      ]
     },
     "execution_count": 60,
     "metadata": {},
     "output_type": "execute_result"
    }
   ],
   "source": [
    "exa1"
   ]
  },
  {
   "cell_type": "code",
   "execution_count": null,
   "id": "broadband-peter",
   "metadata": {},
   "outputs": [],
   "source": []
  },
  {
   "cell_type": "code",
   "execution_count": null,
   "id": "original-charity",
   "metadata": {},
   "outputs": [],
   "source": []
  },
  {
   "cell_type": "code",
   "execution_count": null,
   "id": "substantial-sheffield",
   "metadata": {},
   "outputs": [],
   "source": []
  },
  {
   "cell_type": "markdown",
   "id": "female-nepal",
   "metadata": {},
   "source": [
    "df = pd.DataFrame(lis_dic)\n",
    "df = df[df.ID.isin(targets)]"
   ]
  },
  {
   "cell_type": "markdown",
   "id": "dramatic-metabolism",
   "metadata": {},
   "source": [
    "df_filtered = df[df.mrnumber.isin(mrs)]"
   ]
  },
  {
   "cell_type": "code",
   "execution_count": null,
   "id": "steady-quilt",
   "metadata": {},
   "outputs": [],
   "source": []
  },
  {
   "cell_type": "code",
   "execution_count": null,
   "id": "dietary-electric",
   "metadata": {},
   "outputs": [],
   "source": []
  },
  {
   "cell_type": "markdown",
   "id": "amended-chuck",
   "metadata": {},
   "source": [
    "# Merging the two dataframes with the equivalent of SQL `join`"
   ]
  },
  {
   "cell_type": "code",
   "execution_count": 121,
   "id": "international-wound",
   "metadata": {
    "collapsed": true
   },
   "outputs": [
    {
     "ename": "KeyError",
     "evalue": "'ID'",
     "output_type": "error",
     "traceback": [
      "\u001b[1;31m---------------------------------------------------------------------------\u001b[0m",
      "\u001b[1;31mKeyError\u001b[0m                                  Traceback (most recent call last)",
      "\u001b[1;32m<ipython-input-121-790e707b7f4c>\u001b[0m in \u001b[0;36m<module>\u001b[1;34m\u001b[0m\n\u001b[1;32m----> 1\u001b[1;33m \u001b[0mmerged_df\u001b[0m \u001b[1;33m=\u001b[0m \u001b[0mpd\u001b[0m\u001b[1;33m.\u001b[0m\u001b[0mmerge\u001b[0m\u001b[1;33m(\u001b[0m\u001b[0mbib_df\u001b[0m\u001b[1;33m,\u001b[0m\u001b[0mcorpus_df\u001b[0m\u001b[1;33m,\u001b[0m\u001b[0mon\u001b[0m\u001b[1;33m=\u001b[0m\u001b[1;34m'ID'\u001b[0m\u001b[1;33m,\u001b[0m\u001b[0mhow\u001b[0m\u001b[1;33m=\u001b[0m\u001b[1;34m'outer'\u001b[0m\u001b[1;33m,\u001b[0m\u001b[0mindicator\u001b[0m\u001b[1;33m=\u001b[0m\u001b[1;32mTrue\u001b[0m\u001b[1;33m)\u001b[0m\u001b[1;33m\u001b[0m\u001b[1;33m\u001b[0m\u001b[0m\n\u001b[0m",
      "\u001b[1;32mc:\\users\\fliqp_000\\appdata\\local\\programs\\python\\python38-32\\lib\\site-packages\\pandas\\core\\reshape\\merge.py\u001b[0m in \u001b[0;36mmerge\u001b[1;34m(left, right, how, on, left_on, right_on, left_index, right_index, sort, suffixes, copy, indicator, validate)\u001b[0m\n\u001b[0;32m     72\u001b[0m     \u001b[0mvalidate\u001b[0m\u001b[1;33m=\u001b[0m\u001b[1;32mNone\u001b[0m\u001b[1;33m,\u001b[0m\u001b[1;33m\u001b[0m\u001b[1;33m\u001b[0m\u001b[0m\n\u001b[0;32m     73\u001b[0m ) -> \"DataFrame\":\n\u001b[1;32m---> 74\u001b[1;33m     op = _MergeOperation(\n\u001b[0m\u001b[0;32m     75\u001b[0m         \u001b[0mleft\u001b[0m\u001b[1;33m,\u001b[0m\u001b[1;33m\u001b[0m\u001b[1;33m\u001b[0m\u001b[0m\n\u001b[0;32m     76\u001b[0m         \u001b[0mright\u001b[0m\u001b[1;33m,\u001b[0m\u001b[1;33m\u001b[0m\u001b[1;33m\u001b[0m\u001b[0m\n",
      "\u001b[1;32mc:\\users\\fliqp_000\\appdata\\local\\programs\\python\\python38-32\\lib\\site-packages\\pandas\\core\\reshape\\merge.py\u001b[0m in \u001b[0;36m__init__\u001b[1;34m(self, left, right, how, on, left_on, right_on, axis, left_index, right_index, sort, suffixes, copy, indicator, validate)\u001b[0m\n\u001b[0;32m    666\u001b[0m             \u001b[0mself\u001b[0m\u001b[1;33m.\u001b[0m\u001b[0mright_join_keys\u001b[0m\u001b[1;33m,\u001b[0m\u001b[1;33m\u001b[0m\u001b[1;33m\u001b[0m\u001b[0m\n\u001b[0;32m    667\u001b[0m             \u001b[0mself\u001b[0m\u001b[1;33m.\u001b[0m\u001b[0mjoin_names\u001b[0m\u001b[1;33m,\u001b[0m\u001b[1;33m\u001b[0m\u001b[1;33m\u001b[0m\u001b[0m\n\u001b[1;32m--> 668\u001b[1;33m         ) = self._get_merge_keys()\n\u001b[0m\u001b[0;32m    669\u001b[0m \u001b[1;33m\u001b[0m\u001b[0m\n\u001b[0;32m    670\u001b[0m         \u001b[1;31m# validate the merge keys dtypes. We may need to coerce\u001b[0m\u001b[1;33m\u001b[0m\u001b[1;33m\u001b[0m\u001b[1;33m\u001b[0m\u001b[0m\n",
      "\u001b[1;32mc:\\users\\fliqp_000\\appdata\\local\\programs\\python\\python38-32\\lib\\site-packages\\pandas\\core\\reshape\\merge.py\u001b[0m in \u001b[0;36m_get_merge_keys\u001b[1;34m(self)\u001b[0m\n\u001b[0;32m   1031\u001b[0m                     \u001b[1;32mif\u001b[0m \u001b[1;32mnot\u001b[0m \u001b[0mis_rkey\u001b[0m\u001b[1;33m(\u001b[0m\u001b[0mrk\u001b[0m\u001b[1;33m)\u001b[0m\u001b[1;33m:\u001b[0m\u001b[1;33m\u001b[0m\u001b[1;33m\u001b[0m\u001b[0m\n\u001b[0;32m   1032\u001b[0m                         \u001b[1;32mif\u001b[0m \u001b[0mrk\u001b[0m \u001b[1;32mis\u001b[0m \u001b[1;32mnot\u001b[0m \u001b[1;32mNone\u001b[0m\u001b[1;33m:\u001b[0m\u001b[1;33m\u001b[0m\u001b[1;33m\u001b[0m\u001b[0m\n\u001b[1;32m-> 1033\u001b[1;33m                             \u001b[0mright_keys\u001b[0m\u001b[1;33m.\u001b[0m\u001b[0mappend\u001b[0m\u001b[1;33m(\u001b[0m\u001b[0mright\u001b[0m\u001b[1;33m.\u001b[0m\u001b[0m_get_label_or_level_values\u001b[0m\u001b[1;33m(\u001b[0m\u001b[0mrk\u001b[0m\u001b[1;33m)\u001b[0m\u001b[1;33m)\u001b[0m\u001b[1;33m\u001b[0m\u001b[1;33m\u001b[0m\u001b[0m\n\u001b[0m\u001b[0;32m   1034\u001b[0m                         \u001b[1;32melse\u001b[0m\u001b[1;33m:\u001b[0m\u001b[1;33m\u001b[0m\u001b[1;33m\u001b[0m\u001b[0m\n\u001b[0;32m   1035\u001b[0m                             \u001b[1;31m# work-around for merge_asof(right_index=True)\u001b[0m\u001b[1;33m\u001b[0m\u001b[1;33m\u001b[0m\u001b[1;33m\u001b[0m\u001b[0m\n",
      "\u001b[1;32mc:\\users\\fliqp_000\\appdata\\local\\programs\\python\\python38-32\\lib\\site-packages\\pandas\\core\\generic.py\u001b[0m in \u001b[0;36m_get_label_or_level_values\u001b[1;34m(self, key, axis)\u001b[0m\n\u001b[0;32m   1681\u001b[0m             \u001b[0mvalues\u001b[0m \u001b[1;33m=\u001b[0m \u001b[0mself\u001b[0m\u001b[1;33m.\u001b[0m\u001b[0maxes\u001b[0m\u001b[1;33m[\u001b[0m\u001b[0maxis\u001b[0m\u001b[1;33m]\u001b[0m\u001b[1;33m.\u001b[0m\u001b[0mget_level_values\u001b[0m\u001b[1;33m(\u001b[0m\u001b[0mkey\u001b[0m\u001b[1;33m)\u001b[0m\u001b[1;33m.\u001b[0m\u001b[0m_values\u001b[0m\u001b[1;33m\u001b[0m\u001b[1;33m\u001b[0m\u001b[0m\n\u001b[0;32m   1682\u001b[0m         \u001b[1;32melse\u001b[0m\u001b[1;33m:\u001b[0m\u001b[1;33m\u001b[0m\u001b[1;33m\u001b[0m\u001b[0m\n\u001b[1;32m-> 1683\u001b[1;33m             \u001b[1;32mraise\u001b[0m \u001b[0mKeyError\u001b[0m\u001b[1;33m(\u001b[0m\u001b[0mkey\u001b[0m\u001b[1;33m)\u001b[0m\u001b[1;33m\u001b[0m\u001b[1;33m\u001b[0m\u001b[0m\n\u001b[0m\u001b[0;32m   1684\u001b[0m \u001b[1;33m\u001b[0m\u001b[0m\n\u001b[0;32m   1685\u001b[0m         \u001b[1;31m# Check for duplicates\u001b[0m\u001b[1;33m\u001b[0m\u001b[1;33m\u001b[0m\u001b[1;33m\u001b[0m\u001b[0m\n",
      "\u001b[1;31mKeyError\u001b[0m: 'ID'"
     ]
    }
   ],
   "source": [
    "merged_df = pd.merge(bib_df,corpus_df,on='ID',how='outer',indicator=True)"
   ]
  },
  {
   "cell_type": "code",
   "execution_count": null,
   "id": "matched-connectivity",
   "metadata": {},
   "outputs": [],
   "source": []
  }
 ],
 "metadata": {
  "kernelspec": {
   "display_name": "Python 3",
   "language": "python",
   "name": "python3"
  },
  "language_info": {
   "codemirror_mode": {
    "name": "ipython",
    "version": 3
   },
   "file_extension": ".py",
   "mimetype": "text/x-python",
   "name": "python",
   "nbconvert_exporter": "python",
   "pygments_lexer": "ipython3",
   "version": "3.8.5"
  }
 },
 "nbformat": 4,
 "nbformat_minor": 5
}
