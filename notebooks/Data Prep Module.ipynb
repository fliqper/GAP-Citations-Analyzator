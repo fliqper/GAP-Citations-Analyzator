{
 "cells": [
  {
   "cell_type": "code",
   "execution_count": 6,
   "id": "daily-summer",
   "metadata": {},
   "outputs": [],
   "source": [
    "import sys\n",
    "import time\n",
    "import bibtexparser\n",
    "import itertools\n",
    "import requests\n",
    "import re\n",
    "import pandas as pd\n",
    "from bs4 import BeautifulSoup"
   ]
  },
  {
   "cell_type": "code",
   "execution_count": 2,
   "id": "focal-river",
   "metadata": {},
   "outputs": [],
   "source": [
    "import bibtexparser\n",
    "bibtex_file = open('gap-publishednicer.bib.txt', encoding='utf-8')\n",
    "bib_data = bibtexparser.load(bibtex_file)"
   ]
  },
  {
   "cell_type": "code",
   "execution_count": 4,
   "id": "special-establishment",
   "metadata": {
    "scrolled": true
   },
   "outputs": [],
   "source": [
    "bib = bib_data.entries"
   ]
  },
  {
   "cell_type": "code",
   "execution_count": 61,
   "id": "according-recorder",
   "metadata": {
    "scrolled": false
   },
   "outputs": [],
   "source": [
    "bib_df = pd.DataFrame.from_dict(bib)\n",
    "review_df = pd.read_csv('no_citation_text.csv', dtype='str')\n",
    "corpus_df = pd.read_csv('gap_citations_corpus.csv', dtype='str')"
   ]
  },
  {
   "cell_type": "code",
   "execution_count": 20,
   "id": "occasional-tours",
   "metadata": {
    "scrolled": false
   },
   "outputs": [
    {
     "data": {
      "text/html": [
       "<div>\n",
       "<style scoped>\n",
       "    .dataframe tbody tr th:only-of-type {\n",
       "        vertical-align: middle;\n",
       "    }\n",
       "\n",
       "    .dataframe tbody tr th {\n",
       "        vertical-align: top;\n",
       "    }\n",
       "\n",
       "    .dataframe thead th {\n",
       "        text-align: right;\n",
       "    }\n",
       "</style>\n",
       "<table border=\"1\" class=\"dataframe\">\n",
       "  <thead>\n",
       "    <tr style=\"text-align: right;\">\n",
       "      <th></th>\n",
       "      <th>MR</th>\n",
       "      <th>Citation</th>\n",
       "    </tr>\n",
       "  </thead>\n",
       "  <tbody>\n",
       "    <tr>\n",
       "      <th>0</th>\n",
       "      <td>MR4056124</td>\n",
       "      <td>GAP – Groups, algorithms, programming - a syst...</td>\n",
       "    </tr>\n",
       "    <tr>\n",
       "      <th>1</th>\n",
       "      <td>MR3942387</td>\n",
       "      <td>Delgado, M., García-Sánchez, P.A., Morais, J.:...</td>\n",
       "    </tr>\n",
       "    <tr>\n",
       "      <th>2</th>\n",
       "      <td>MR3942387</td>\n",
       "      <td>The GAP Group: GAP—groups, algorithms, and pro...</td>\n",
       "    </tr>\n",
       "    <tr>\n",
       "      <th>3</th>\n",
       "      <td>MR3354065</td>\n",
       "      <td>The GAP – Groups, Algorithms and Programming. ...</td>\n",
       "    </tr>\n",
       "    <tr>\n",
       "      <th>4</th>\n",
       "      <td>MR3646312</td>\n",
       "      <td>The $\\ssf{GAP}$ Group, $\\ssf{GAP}$–Groups, Alg...</td>\n",
       "    </tr>\n",
       "    <tr>\n",
       "      <th>...</th>\n",
       "      <td>...</td>\n",
       "      <td>...</td>\n",
       "    </tr>\n",
       "    <tr>\n",
       "      <th>3537</th>\n",
       "      <td>MR3988630</td>\n",
       "      <td>M. Delgado, P. A. García-Sánchez and J. Morais...</td>\n",
       "    </tr>\n",
       "    <tr>\n",
       "      <th>3538</th>\n",
       "      <td>MR1801202</td>\n",
       "      <td>L.H. Soicher, GRAPE: a system for computing wi...</td>\n",
       "    </tr>\n",
       "    <tr>\n",
       "      <th>3539</th>\n",
       "      <td>MR2558870</td>\n",
       "      <td>L. Bartholdi, Functionally recursive groups, h...</td>\n",
       "    </tr>\n",
       "    <tr>\n",
       "      <th>3540</th>\n",
       "      <td>MR2824780</td>\n",
       "      <td>X. Sun, C. Liu, D. Li and J. Gao, On duality g...</td>\n",
       "    </tr>\n",
       "    <tr>\n",
       "      <th>3541</th>\n",
       "      <td>MR1981371</td>\n",
       "      <td>Schönert M. et al., Groups, Algorithms and Pro...</td>\n",
       "    </tr>\n",
       "  </tbody>\n",
       "</table>\n",
       "<p>3542 rows × 2 columns</p>\n",
       "</div>"
      ],
      "text/plain": [
       "             MR                                           Citation\n",
       "0     MR4056124  GAP – Groups, algorithms, programming - a syst...\n",
       "1     MR3942387  Delgado, M., García-Sánchez, P.A., Morais, J.:...\n",
       "2     MR3942387  The GAP Group: GAP—groups, algorithms, and pro...\n",
       "3     MR3354065  The GAP – Groups, Algorithms and Programming. ...\n",
       "4     MR3646312  The $\\ssf{GAP}$ Group, $\\ssf{GAP}$–Groups, Alg...\n",
       "...         ...                                                ...\n",
       "3537  MR3988630  M. Delgado, P. A. García-Sánchez and J. Morais...\n",
       "3538  MR1801202  L.H. Soicher, GRAPE: a system for computing wi...\n",
       "3539  MR2558870  L. Bartholdi, Functionally recursive groups, h...\n",
       "3540  MR2824780  X. Sun, C. Liu, D. Li and J. Gao, On duality g...\n",
       "3541  MR1981371  Schönert M. et al., Groups, Algorithms and Pro...\n",
       "\n",
       "[3542 rows x 2 columns]"
      ]
     },
     "execution_count": 20,
     "metadata": {},
     "output_type": "execute_result"
    }
   ],
   "source": [
    "corpus_df"
   ]
  },
  {
   "cell_type": "code",
   "execution_count": 64,
   "id": "musical-league",
   "metadata": {},
   "outputs": [],
   "source": [
    "bib_df.drop(bib_df.columns[[0, 1, 2, 3, 4, 5, 6, 7, 8,10, 12, 16, 17, 18, 19, 20, 21, 22, 23, 24, 25, 26, 27, 28, 29, 30, 31, 32, 33, 34, 35]], axis = 1, inplace = True)"
   ]
  },
  {
   "cell_type": "code",
   "execution_count": 65,
   "id": "chinese-account",
   "metadata": {},
   "outputs": [
    {
     "data": {
      "text/plain": [
       "Index(['year', 'journal', 'author', 'ENTRYTYPE', 'ID'], dtype='object')"
      ]
     },
     "execution_count": 65,
     "metadata": {},
     "output_type": "execute_result"
    }
   ],
   "source": [
    "bib_df.columns"
   ]
  },
  {
   "cell_type": "code",
   "execution_count": 66,
   "id": "leading-alcohol",
   "metadata": {},
   "outputs": [
    {
     "data": {
      "text/html": [
       "<div>\n",
       "<style scoped>\n",
       "    .dataframe tbody tr th:only-of-type {\n",
       "        vertical-align: middle;\n",
       "    }\n",
       "\n",
       "    .dataframe tbody tr th {\n",
       "        vertical-align: top;\n",
       "    }\n",
       "\n",
       "    .dataframe thead th {\n",
       "        text-align: right;\n",
       "    }\n",
       "</style>\n",
       "<table border=\"1\" class=\"dataframe\">\n",
       "  <thead>\n",
       "    <tr style=\"text-align: right;\">\n",
       "      <th></th>\n",
       "      <th>year</th>\n",
       "      <th>journal</th>\n",
       "      <th>author</th>\n",
       "      <th>ENTRYTYPE</th>\n",
       "      <th>ID</th>\n",
       "    </tr>\n",
       "  </thead>\n",
       "  <tbody>\n",
       "    <tr>\n",
       "      <th>0</th>\n",
       "      <td>2020</td>\n",
       "      <td>Theoret. Comput. Sci.</td>\n",
       "      <td>Abas, M. and Vetrík, T.</td>\n",
       "      <td>article</td>\n",
       "      <td>MR4056124</td>\n",
       "    </tr>\n",
       "    <tr>\n",
       "      <th>1</th>\n",
       "      <td>2019</td>\n",
       "      <td>Rev. R. Acad. Cienc. Exactas Fís. Nat. Ser. A ...</td>\n",
       "      <td>Abbas, A. and Assi, A. and García-Sánchez, P. A.</td>\n",
       "      <td>article</td>\n",
       "      <td>MR3942387</td>\n",
       "    </tr>\n",
       "    <tr>\n",
       "      <th>2</th>\n",
       "      <td>1999</td>\n",
       "      <td>RAIRO-INF THEOR APPL</td>\n",
       "      <td>Abdeljaouad, I.</td>\n",
       "      <td>article</td>\n",
       "      <td>Abdeljaouad99</td>\n",
       "    </tr>\n",
       "    <tr>\n",
       "      <th>3</th>\n",
       "      <td>2015</td>\n",
       "      <td>Comm. Algebra</td>\n",
       "      <td>Abdolghafourian, A. and Iranmanesh, M. A.</td>\n",
       "      <td>article</td>\n",
       "      <td>MR3354065</td>\n",
       "    </tr>\n",
       "    <tr>\n",
       "      <th>4</th>\n",
       "      <td>2017</td>\n",
       "      <td>J. Pure Appl. Algebra</td>\n",
       "      <td>Abdolghafourian, A. and Iranmanesh, M. A. and ...</td>\n",
       "      <td>article</td>\n",
       "      <td>MR3646312</td>\n",
       "    </tr>\n",
       "    <tr>\n",
       "      <th>...</th>\n",
       "      <td>...</td>\n",
       "      <td>...</td>\n",
       "      <td>...</td>\n",
       "      <td>...</td>\n",
       "      <td>...</td>\n",
       "    </tr>\n",
       "    <tr>\n",
       "      <th>3362</th>\n",
       "      <td>2010</td>\n",
       "      <td>J. Geom. Phys.</td>\n",
       "      <td>Zusmanovich, P.</td>\n",
       "      <td>article</td>\n",
       "      <td>MR2647300</td>\n",
       "    </tr>\n",
       "    <tr>\n",
       "      <th>3363</th>\n",
       "      <td>2010</td>\n",
       "      <td>J. Algebra</td>\n",
       "      <td>Zusmanovich, P.</td>\n",
       "      <td>article</td>\n",
       "      <td>MR2735394</td>\n",
       "    </tr>\n",
       "    <tr>\n",
       "      <th>3364</th>\n",
       "      <td>2014</td>\n",
       "      <td>J. Algebra</td>\n",
       "      <td>Zusmanovich, P.</td>\n",
       "      <td>article</td>\n",
       "      <td>MR3201064</td>\n",
       "    </tr>\n",
       "    <tr>\n",
       "      <th>3365</th>\n",
       "      <td>2017</td>\n",
       "      <td>Linear Algebra Appl.</td>\n",
       "      <td>Zusmanovich, P.</td>\n",
       "      <td>article</td>\n",
       "      <td>MR3598575</td>\n",
       "    </tr>\n",
       "    <tr>\n",
       "      <th>3366</th>\n",
       "      <td>2013</td>\n",
       "      <td>Sibirsk. Mat. Zh.</td>\n",
       "      <td>Zvezdina, M. A.</td>\n",
       "      <td>article</td>\n",
       "      <td>MR3089327</td>\n",
       "    </tr>\n",
       "  </tbody>\n",
       "</table>\n",
       "<p>3367 rows × 5 columns</p>\n",
       "</div>"
      ],
      "text/plain": [
       "      year                                            journal  \\\n",
       "0     2020                              Theoret. Comput. Sci.   \n",
       "1     2019  Rev. R. Acad. Cienc. Exactas Fís. Nat. Ser. A ...   \n",
       "2     1999                               RAIRO-INF THEOR APPL   \n",
       "3     2015                                      Comm. Algebra   \n",
       "4     2017                              J. Pure Appl. Algebra   \n",
       "...    ...                                                ...   \n",
       "3362  2010                                     J. Geom. Phys.   \n",
       "3363  2010                                         J. Algebra   \n",
       "3364  2014                                         J. Algebra   \n",
       "3365  2017                               Linear Algebra Appl.   \n",
       "3366  2013                                  Sibirsk. Mat. Zh.   \n",
       "\n",
       "                                                 author ENTRYTYPE  \\\n",
       "0                               Abas, M. and Vetrík, T.   article   \n",
       "1      Abbas, A. and Assi, A. and García-Sánchez, P. A.   article   \n",
       "2                                       Abdeljaouad, I.   article   \n",
       "3             Abdolghafourian, A. and Iranmanesh, M. A.   article   \n",
       "4     Abdolghafourian, A. and Iranmanesh, M. A. and ...   article   \n",
       "...                                                 ...       ...   \n",
       "3362                                    Zusmanovich, P.   article   \n",
       "3363                                    Zusmanovich, P.   article   \n",
       "3364                                    Zusmanovich, P.   article   \n",
       "3365                                    Zusmanovich, P.   article   \n",
       "3366                                    Zvezdina, M. A.   article   \n",
       "\n",
       "                 ID  \n",
       "0         MR4056124  \n",
       "1         MR3942387  \n",
       "2     Abdeljaouad99  \n",
       "3         MR3354065  \n",
       "4         MR3646312  \n",
       "...             ...  \n",
       "3362      MR2647300  \n",
       "3363      MR2735394  \n",
       "3364      MR3201064  \n",
       "3365      MR3598575  \n",
       "3366      MR3089327  \n",
       "\n",
       "[3367 rows x 5 columns]"
      ]
     },
     "execution_count": 66,
     "metadata": {},
     "output_type": "execute_result"
    }
   ],
   "source": [
    "bib_df"
   ]
  },
  {
   "cell_type": "code",
   "execution_count": null,
   "id": "minute-standing",
   "metadata": {},
   "outputs": [],
   "source": []
  },
  {
   "cell_type": "markdown",
   "id": "welcome-primary",
   "metadata": {},
   "source": [
    "df = pd.DataFrame(lis_dic)\n",
    "df = df[df.ID.isin(targets)]"
   ]
  },
  {
   "cell_type": "markdown",
   "id": "copyrighted-mission",
   "metadata": {},
   "source": [
    "df_filtered = df[df.mrnumber.isin(mrs)]"
   ]
  },
  {
   "cell_type": "code",
   "execution_count": null,
   "id": "secondary-meaning",
   "metadata": {},
   "outputs": [],
   "source": []
  },
  {
   "cell_type": "code",
   "execution_count": 49,
   "id": "committed-national",
   "metadata": {},
   "outputs": [
    {
     "name": "stdout",
     "output_type": "stream",
     "text": [
      "          MR                                           Citation\n",
      "1  MR3942387  Delgado, M., García-Sánchez, P.A., Morais, J.:...\n",
      "2  MR3942387  The GAP Group: GAP—groups, algorithms, and pro...\n"
     ]
    }
   ],
   "source": [
    "print(corpus_df[corpus_df['MR'].str.contains(\"MR3942387\")])"
   ]
  },
  {
   "cell_type": "code",
   "execution_count": 50,
   "id": "particular-tribune",
   "metadata": {},
   "outputs": [],
   "source": [
    "exa = corpus_df[corpus_df['MR'].str.contains(\"MR3942387\")]"
   ]
  },
  {
   "cell_type": "code",
   "execution_count": 57,
   "id": "correct-removal",
   "metadata": {},
   "outputs": [
    {
     "data": {
      "text/plain": [
       "'Delgado, M., García-Sánchez, P.A., Morais, J.: \"Numerical Sgps\", A GAP package for numerical semi-groups. https://gap-packages.github.io/numericalsgps. Accessed 19 Aug 2017 \\nMR3493240'"
      ]
     },
     "execution_count": 57,
     "metadata": {},
     "output_type": "execute_result"
    }
   ],
   "source": [
    "exa.iloc[0]['Citation']"
   ]
  },
  {
   "cell_type": "code",
   "execution_count": 58,
   "id": "protecting-ebony",
   "metadata": {},
   "outputs": [
    {
     "data": {
      "text/plain": [
       "'The GAP Group: GAP—groups, algorithms, and programming, version 4.7.5 (2014). http://www.gap-system.org. Accessed 19 Aug 2017'"
      ]
     },
     "execution_count": 58,
     "metadata": {},
     "output_type": "execute_result"
    }
   ],
   "source": [
    "exa.iloc[1]['Citation']"
   ]
  },
  {
   "cell_type": "code",
   "execution_count": 59,
   "id": "internal-throw",
   "metadata": {},
   "outputs": [],
   "source": [
    "exa1 = corpus_df[corpus_df['MR'].str.contains(\"MR2822510\")]"
   ]
  },
  {
   "cell_type": "code",
   "execution_count": 60,
   "id": "sophisticated-think",
   "metadata": {},
   "outputs": [
    {
     "data": {
      "text/html": [
       "<div>\n",
       "<style scoped>\n",
       "    .dataframe tbody tr th:only-of-type {\n",
       "        vertical-align: middle;\n",
       "    }\n",
       "\n",
       "    .dataframe tbody tr th {\n",
       "        vertical-align: top;\n",
       "    }\n",
       "\n",
       "    .dataframe thead th {\n",
       "        text-align: right;\n",
       "    }\n",
       "</style>\n",
       "<table border=\"1\" class=\"dataframe\">\n",
       "  <thead>\n",
       "    <tr style=\"text-align: right;\">\n",
       "      <th></th>\n",
       "      <th>MR</th>\n",
       "      <th>Citation</th>\n",
       "    </tr>\n",
       "  </thead>\n",
       "  <tbody>\n",
       "    <tr>\n",
       "      <th>3523</th>\n",
       "      <td>MR2822510</td>\n",
       "      <td>http://www.gap-system.org.</td>\n",
       "    </tr>\n",
       "  </tbody>\n",
       "</table>\n",
       "</div>"
      ],
      "text/plain": [
       "             MR                    Citation\n",
       "3523  MR2822510  http://www.gap-system.org."
      ]
     },
     "execution_count": 60,
     "metadata": {},
     "output_type": "execute_result"
    }
   ],
   "source": [
    "exa1"
   ]
  },
  {
   "cell_type": "code",
   "execution_count": null,
   "id": "apparent-consultancy",
   "metadata": {},
   "outputs": [],
   "source": []
  },
  {
   "cell_type": "code",
   "execution_count": 67,
   "id": "introductory-conditioning",
   "metadata": {
    "collapsed": true
   },
   "outputs": [
    {
     "data": {
      "text/plain": [
       "2017                      188\n",
       "2013                      174\n",
       "2018                      168\n",
       "2020                      166\n",
       "2019                      165\n",
       "2010                      163\n",
       "2015                      162\n",
       "2016                      158\n",
       "2014                      153\n",
       "2011                      151\n",
       "2012                      142\n",
       "2007                      141\n",
       "2008                      132\n",
       "2004                      131\n",
       "2005                      128\n",
       "2009                      123\n",
       "2006                      118\n",
       "2001                      106\n",
       "2003                      101\n",
       "1999                       84\n",
       "2002                       84\n",
       "2000                       78\n",
       "1997                       76\n",
       "1998                       58\n",
       "1995                       56\n",
       "2021                       39\n",
       "1996                       34\n",
       "1994                       28\n",
       "1993                       25\n",
       "1992                       13\n",
       "1991                        5\n",
       "[2019] \\copyright 2019      3\n",
       "1989                        2\n",
       "1988                        2\n",
       "1987                        2\n",
       "2013/14                     1\n",
       "2011/12                     1\n",
       "2001/02                     1\n",
       "[2018] \\copyright 2018      1\n",
       "2014/15                     1\n",
       "1990                        1\n",
       "2007/08                     1\n",
       "2009/11                     1\n",
       "Name: year, dtype: int64"
      ]
     },
     "execution_count": 67,
     "metadata": {},
     "output_type": "execute_result"
    }
   ],
   "source": [
    "bib_df['year'].value_counts()"
   ]
  },
  {
   "cell_type": "code",
   "execution_count": 77,
   "id": "handled-validity",
   "metadata": {},
   "outputs": [
    {
     "data": {
      "text/plain": [
       "<AxesSubplot:>"
      ]
     },
     "execution_count": 77,
     "metadata": {},
     "output_type": "execute_result"
    },
    {
     "data": {
      "image/png": "[encoded data removed]",
      "text/plain": [
       "<Figure size 432x288 with 1 Axes>"
      ]
     },
     "metadata": {
      "needs_background": "light"
     },
     "output_type": "display_data"
    }
   ],
   "source": [
    "bib_df['year'].value_counts().plot(kind=\"bar\")"
   ]
  },
  {
   "cell_type": "code",
   "execution_count": null,
   "id": "painful-weight",
   "metadata": {},
   "outputs": [],
   "source": []
  }
 ],
 "metadata": {
  "kernelspec": {
   "display_name": "Python 3",
   "language": "python",
   "name": "python3"
  },
  "language_info": {
   "codemirror_mode": {
    "name": "ipython",
    "version": 3
   },
   "file_extension": ".py",
   "mimetype": "text/x-python",
   "name": "python",
   "nbconvert_exporter": "python",
   "pygments_lexer": "ipython3",
   "version": "3.8.5"
  }
 },
 "nbformat": 4,
 "nbformat_minor": 5
}
