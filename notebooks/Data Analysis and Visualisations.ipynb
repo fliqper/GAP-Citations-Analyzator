{
 "cells": [
  {
   "cell_type": "markdown",
   "id": "guilty-strain",
   "metadata": {},
   "source": [
    "# Visualisations"
   ]
  },
  {
   "cell_type": "code",
   "execution_count": 1,
   "id": "superior-monaco",
   "metadata": {},
   "outputs": [],
   "source": [
    "import sys\n",
    "import time\n",
    "import re\n",
    "import matplotlib as plt\n",
    "import pandas as pd\n",
    "import numpy as np\n",
    "import matplotlib.pyplot as plt"
   ]
  },
  {
   "cell_type": "markdown",
   "id": "portable-variance",
   "metadata": {},
   "source": [
    "* We load the data from the Data Preparation Notebook."
   ]
  },
  {
   "cell_type": "code",
   "execution_count": 2,
   "id": "burning-ensemble",
   "metadata": {},
   "outputs": [],
   "source": [
    "merged_df = pd.read_csv('full.csv') # the whole data\n",
    "gap_df = pd.read_csv('gap.csv')     # GAP citations\n",
    "pac_df = pd.read_csv('pac.csv')     # GAP Packages citations"
   ]
  },
  {
   "cell_type": "markdown",
   "id": "enhanced-heaven",
   "metadata": {},
   "source": [
    "### Website"
   ]
  },
  {
   "cell_type": "code",
   "execution_count": 3,
   "id": "improving-concentration",
   "metadata": {},
   "outputs": [
    {
     "data": {
      "text/plain": [
       "<AxesSubplot:title={'center':'Website statistics on the whole data'}, ylabel='Provided?'>"
      ]
     },
     "execution_count": 3,
     "metadata": {},
     "output_type": "execute_result"
    },
    {
     "data": {
      "image/png": "[encoded data removed]",
      "text/plain": [
       "<Figure size 504x216 with 1 Axes>"
      ]
     },
     "metadata": {
      "needs_background": "light"
     },
     "output_type": "display_data"
    }
   ],
   "source": [
    "web_chart = merged_df['Website'].value_counts()\n",
    "web_chart = web_chart.sort_values(ascending=True)\n",
    "web_chart.plot(kind=\"barh\", figsize=(7, 3), title='Website statistics on the whole data', \n",
    "                xlabel='Provided?', ylabel='Count', color='pink')"
   ]
  },
  {
   "cell_type": "code",
   "execution_count": 4,
   "id": "exclusive-crossing",
   "metadata": {},
   "outputs": [
    {
     "data": {
      "text/plain": [
       "<AxesSubplot:ylabel='Website'>"
      ]
     },
     "execution_count": 4,
     "metadata": {},
     "output_type": "execute_result"
    },
    {
     "data": {
      "image/png": "[encoded data removed]",
      "text/plain": [
       "<Figure size 432x288 with 1 Axes>"
      ]
     },
     "metadata": {},
     "output_type": "display_data"
    }
   ],
   "source": [
    "web_chart.plot(kind=\"pie\")"
   ]
  },
  {
   "cell_type": "code",
   "execution_count": 5,
   "id": "subject-turkey",
   "metadata": {
    "scrolled": true
   },
   "outputs": [
    {
     "data": {
      "text/plain": [
       "<AxesSubplot:title={'center':'Website statistics on the Pure GAP data only'}, ylabel='Provided?'>"
      ]
     },
     "execution_count": 5,
     "metadata": {},
     "output_type": "execute_result"
    },
    {
     "data": {
      "image/png": "[encoded data removed]",
      "text/plain": [
       "<Figure size 504x216 with 1 Axes>"
      ]
     },
     "metadata": {
      "needs_background": "light"
     },
     "output_type": "display_data"
    }
   ],
   "source": [
    "web_gap = gap_df['Website'].value_counts()\n",
    "web_gap = web_gap.sort_values(ascending=True)\n",
    "web_gap.plot(kind=\"barh\", figsize=(7, 3), title='Website statistics on the Pure GAP data only', \n",
    "                xlabel='Provided?', ylabel='Count', color='pink')"
   ]
  },
  {
   "cell_type": "code",
   "execution_count": 6,
   "id": "distinct-thread",
   "metadata": {
    "scrolled": true
   },
   "outputs": [
    {
     "data": {
      "text/plain": [
       "<AxesSubplot:title={'center':'Website statistics on the Package citation data'}, ylabel='Provided?'>"
      ]
     },
     "execution_count": 6,
     "metadata": {},
     "output_type": "execute_result"
    },
    {
     "data": {
      "image/png": "[encoded data removed]",
      "text/plain": [
       "<Figure size 504x216 with 1 Axes>"
      ]
     },
     "metadata": {
      "needs_background": "light"
     },
     "output_type": "display_data"
    }
   ],
   "source": [
    "web_pac = pac_df['Website'].value_counts()\n",
    "web_pac = web_pac.sort_values(ascending=True)\n",
    "web_pac.plot(kind=\"barh\", figsize=(7, 3), title='Website statistics on the Package citation data', \n",
    "                xlabel='Provided?', ylabel='Count', color='pink')"
   ]
  },
  {
   "cell_type": "markdown",
   "id": "artificial-climate",
   "metadata": {},
   "source": [
    "* Website statistics by Year"
   ]
  },
  {
   "cell_type": "code",
   "execution_count": 7,
   "id": "imperial-invention",
   "metadata": {
    "collapsed": true
   },
   "outputs": [
    {
     "data": {
      "text/html": [
       "<div>\n",
       "<style scoped>\n",
       "    .dataframe tbody tr th:only-of-type {\n",
       "        vertical-align: middle;\n",
       "    }\n",
       "\n",
       "    .dataframe tbody tr th {\n",
       "        vertical-align: top;\n",
       "    }\n",
       "\n",
       "    .dataframe thead th {\n",
       "        text-align: right;\n",
       "    }\n",
       "</style>\n",
       "<table border=\"1\" class=\"dataframe\">\n",
       "  <thead>\n",
       "    <tr style=\"text-align: right;\">\n",
       "      <th>Website</th>\n",
       "      <th>No</th>\n",
       "      <th>Yes</th>\n",
       "    </tr>\n",
       "    <tr>\n",
       "      <th>Year</th>\n",
       "      <th></th>\n",
       "      <th></th>\n",
       "    </tr>\n",
       "  </thead>\n",
       "  <tbody>\n",
       "    <tr>\n",
       "      <th>1992</th>\n",
       "      <td>1.0</td>\n",
       "      <td>NaN</td>\n",
       "    </tr>\n",
       "    <tr>\n",
       "      <th>1993</th>\n",
       "      <td>2.0</td>\n",
       "      <td>NaN</td>\n",
       "    </tr>\n",
       "    <tr>\n",
       "      <th>1994</th>\n",
       "      <td>1.0</td>\n",
       "      <td>NaN</td>\n",
       "    </tr>\n",
       "    <tr>\n",
       "      <th>1997</th>\n",
       "      <td>20.0</td>\n",
       "      <td>NaN</td>\n",
       "    </tr>\n",
       "    <tr>\n",
       "      <th>1998</th>\n",
       "      <td>14.0</td>\n",
       "      <td>2.0</td>\n",
       "    </tr>\n",
       "    <tr>\n",
       "      <th>1999</th>\n",
       "      <td>20.0</td>\n",
       "      <td>1.0</td>\n",
       "    </tr>\n",
       "    <tr>\n",
       "      <th>2000</th>\n",
       "      <td>45.0</td>\n",
       "      <td>16.0</td>\n",
       "    </tr>\n",
       "    <tr>\n",
       "      <th>2001</th>\n",
       "      <td>44.0</td>\n",
       "      <td>46.0</td>\n",
       "    </tr>\n",
       "    <tr>\n",
       "      <th>2002</th>\n",
       "      <td>30.0</td>\n",
       "      <td>37.0</td>\n",
       "    </tr>\n",
       "    <tr>\n",
       "      <th>2003</th>\n",
       "      <td>29.0</td>\n",
       "      <td>61.0</td>\n",
       "    </tr>\n",
       "    <tr>\n",
       "      <th>2004</th>\n",
       "      <td>31.0</td>\n",
       "      <td>84.0</td>\n",
       "    </tr>\n",
       "    <tr>\n",
       "      <th>2005</th>\n",
       "      <td>25.0</td>\n",
       "      <td>96.0</td>\n",
       "    </tr>\n",
       "    <tr>\n",
       "      <th>2006</th>\n",
       "      <td>16.0</td>\n",
       "      <td>105.0</td>\n",
       "    </tr>\n",
       "    <tr>\n",
       "      <th>2007</th>\n",
       "      <td>16.0</td>\n",
       "      <td>145.0</td>\n",
       "    </tr>\n",
       "    <tr>\n",
       "      <th>2008</th>\n",
       "      <td>7.0</td>\n",
       "      <td>141.0</td>\n",
       "    </tr>\n",
       "    <tr>\n",
       "      <th>2009</th>\n",
       "      <td>6.0</td>\n",
       "      <td>130.0</td>\n",
       "    </tr>\n",
       "    <tr>\n",
       "      <th>2010</th>\n",
       "      <td>10.0</td>\n",
       "      <td>175.0</td>\n",
       "    </tr>\n",
       "    <tr>\n",
       "      <th>2011</th>\n",
       "      <td>11.0</td>\n",
       "      <td>178.0</td>\n",
       "    </tr>\n",
       "    <tr>\n",
       "      <th>2012</th>\n",
       "      <td>5.0</td>\n",
       "      <td>165.0</td>\n",
       "    </tr>\n",
       "    <tr>\n",
       "      <th>2013</th>\n",
       "      <td>12.0</td>\n",
       "      <td>196.0</td>\n",
       "    </tr>\n",
       "    <tr>\n",
       "      <th>2014</th>\n",
       "      <td>20.0</td>\n",
       "      <td>185.0</td>\n",
       "    </tr>\n",
       "    <tr>\n",
       "      <th>2015</th>\n",
       "      <td>15.0</td>\n",
       "      <td>185.0</td>\n",
       "    </tr>\n",
       "    <tr>\n",
       "      <th>2016</th>\n",
       "      <td>20.0</td>\n",
       "      <td>189.0</td>\n",
       "    </tr>\n",
       "    <tr>\n",
       "      <th>2017</th>\n",
       "      <td>8.0</td>\n",
       "      <td>219.0</td>\n",
       "    </tr>\n",
       "    <tr>\n",
       "      <th>2018</th>\n",
       "      <td>11.0</td>\n",
       "      <td>184.0</td>\n",
       "    </tr>\n",
       "    <tr>\n",
       "      <th>2019</th>\n",
       "      <td>16.0</td>\n",
       "      <td>200.0</td>\n",
       "    </tr>\n",
       "    <tr>\n",
       "      <th>2020</th>\n",
       "      <td>13.0</td>\n",
       "      <td>202.0</td>\n",
       "    </tr>\n",
       "    <tr>\n",
       "      <th>2021</th>\n",
       "      <td>7.0</td>\n",
       "      <td>43.0</td>\n",
       "    </tr>\n",
       "  </tbody>\n",
       "</table>\n",
       "</div>"
      ],
      "text/plain": [
       "Website    No    Yes\n",
       "Year                \n",
       "1992      1.0    NaN\n",
       "1993      2.0    NaN\n",
       "1994      1.0    NaN\n",
       "1997     20.0    NaN\n",
       "1998     14.0    2.0\n",
       "1999     20.0    1.0\n",
       "2000     45.0   16.0\n",
       "2001     44.0   46.0\n",
       "2002     30.0   37.0\n",
       "2003     29.0   61.0\n",
       "2004     31.0   84.0\n",
       "2005     25.0   96.0\n",
       "2006     16.0  105.0\n",
       "2007     16.0  145.0\n",
       "2008      7.0  141.0\n",
       "2009      6.0  130.0\n",
       "2010     10.0  175.0\n",
       "2011     11.0  178.0\n",
       "2012      5.0  165.0\n",
       "2013     12.0  196.0\n",
       "2014     20.0  185.0\n",
       "2015     15.0  185.0\n",
       "2016     20.0  189.0\n",
       "2017      8.0  219.0\n",
       "2018     11.0  184.0\n",
       "2019     16.0  200.0\n",
       "2020     13.0  202.0\n",
       "2021      7.0   43.0"
      ]
     },
     "execution_count": 7,
     "metadata": {},
     "output_type": "execute_result"
    }
   ],
   "source": [
    "site_year = merged_df.groupby(['Website', 'Year'])['Year'].count().unstack('Website')\n",
    "site_year_df = pd.DataFrame(data=site_year)\n",
    "site_year_df"
   ]
  },
  {
   "cell_type": "code",
   "execution_count": 8,
   "id": "victorian-filename",
   "metadata": {},
   "outputs": [
    {
     "data": {
      "image/png": "[encoded data removed]",
      "text/plain": [
       "<Figure size 792x360 with 1 Axes>"
      ]
     },
     "metadata": {
      "needs_background": "light"
     },
     "output_type": "display_data"
    }
   ],
   "source": [
    "site_year_df.plot(kind=\"bar\", subplots=False, figsize=(11, 5),\n",
    "                  title='Website statistics by Year', \n",
    "                  xlabel='Year', ylabel='Count')\n",
    "plt.show()"
   ]
  },
  {
   "cell_type": "markdown",
   "id": "legislative-future",
   "metadata": {},
   "source": [
    "* We can see that in the beginning, up to 2000 the number of citations without a website reference was much higher. Then this trend reverses. On this barchart we can also observe the sharp increase of recorded citations altogether starting from 1997 and reaching a pique in 2017. "
   ]
  },
  {
   "cell_type": "markdown",
   "id": "clear-flight",
   "metadata": {
    "collapsed": true
   },
   "source": [
    "from pandas.plotting import parallel_coordinates\n",
    "\n",
    "parallel_coordinates(all_years, \"Year\")"
   ]
  },
  {
   "cell_type": "code",
   "execution_count": null,
   "id": "identified-equilibrium",
   "metadata": {},
   "outputs": [],
   "source": []
  },
  {
   "cell_type": "markdown",
   "id": "blocked-pharmaceutical",
   "metadata": {},
   "source": [
    "### Lenght\n",
    "* Most citations are around 110 characters long."
   ]
  },
  {
   "cell_type": "code",
   "execution_count": 9,
   "id": "controlled-tourism",
   "metadata": {
    "scrolled": false
   },
   "outputs": [
    {
     "data": {
      "image/png": "[encoded data removed]",
      "text/plain": [
       "<Figure size 792x648 with 1 Axes>"
      ]
     },
     "metadata": {
      "needs_background": "light"
     },
     "output_type": "display_data"
    }
   ],
   "source": [
    "merged_df['Lentght'] = merged_df['Citation'].apply(len)\n",
    "cit_len = merged_df['Lentght'].plot(kind='hist', bins=50, figsize=(11,9), stacked=True, \n",
    "                         xticks = range(0, 300, 50), \n",
    "                         range=(0, 300), \n",
    "                         color='gold', \n",
    "                         title='Citations Lenght', \n",
    "                         xlabel=\"lenght\")\n",
    "cit_len.set_facecolor('#ebeced')\n"
   ]
  },
  {
   "cell_type": "code",
   "execution_count": null,
   "id": "favorite-permission",
   "metadata": {},
   "outputs": [],
   "source": []
  },
  {
   "cell_type": "markdown",
   "id": "educational-dinner",
   "metadata": {},
   "source": [
    "year_df = merged_df.sort_values(by='Year', ascending=False)\n",
    "year_df.dropna()\n",
    "num = year_df['Journal'].count()\n",
    "year_df.plot(x='Year', y=num, kind='barh')\n"
   ]
  },
  {
   "cell_type": "code",
   "execution_count": null,
   "id": "logical-reform",
   "metadata": {},
   "outputs": [],
   "source": []
  },
  {
   "cell_type": "markdown",
   "id": "mysterious-crossing",
   "metadata": {},
   "source": [
    "### Version"
   ]
  },
  {
   "cell_type": "code",
   "execution_count": 10,
   "id": "increased-works",
   "metadata": {},
   "outputs": [
    {
     "data": {
      "text/plain": [
       "<AxesSubplot:title={'center':'Top 35 most cited GAP versions'}, xlabel='Version', ylabel='Count'>"
      ]
     },
     "execution_count": 10,
     "metadata": {},
     "output_type": "execute_result"
    },
    {
     "data": {
      "image/png": "[encoded data removed]",
      "text/plain": [
       "<Figure size 1080x360 with 1 Axes>"
      ]
     },
     "metadata": {
      "needs_background": "light"
     },
     "output_type": "display_data"
    }
   ],
   "source": [
    "ver = gap_df['Version'].value_counts()\n",
    "ver = ver.head(35)\n",
    "ver = ver.to_frame()\n",
    "ver = ver.sort_values(by='Version', ascending=True) # sort chrono. compare version numbers\n",
    "ver = ver.dropna()\n",
    "ver.plot(kind=\"bar\", figsize=(15, 5), title='Top 35 most cited GAP versions', xlabel='Version', \n",
    "                ylabel='Count', color='#f20000')"
   ]
  },
  {
   "cell_type": "markdown",
   "id": "accredited-agriculture",
   "metadata": {},
   "source": [
    "* We can see that the most popular GAP versions cited are subversions of GAP 4, between 4.2 and 4.4"
   ]
  },
  {
   "cell_type": "code",
   "execution_count": null,
   "id": "false-railway",
   "metadata": {},
   "outputs": [],
   "source": []
  },
  {
   "cell_type": "markdown",
   "id": "overall-italy",
   "metadata": {},
   "source": [
    "### Authors\n",
    "\n",
    "* Top 20 authors citing GAP and its packages in their work."
   ]
  },
  {
   "cell_type": "code",
   "execution_count": 11,
   "id": "clinical-twenty",
   "metadata": {
    "scrolled": false
   },
   "outputs": [
    {
     "data": {
      "image/png": "[encoded data removed]",
      "text/plain": [
       "<Figure size 648x360 with 1 Axes>"
      ]
     },
     "metadata": {
      "needs_background": "light"
     },
     "output_type": "display_data"
    }
   ],
   "source": [
    "authors = gap_df['Author'].value_counts()\n",
    "top = authors.head(20)\n",
    "top = top.sort_values(ascending=True)\n",
    "top = top.to_frame()\n",
    "chart = top.plot(kind=\"barh\",\n",
    "                 figsize=(9,5), title='Top 20 authors citing GAP in their work', \n",
    "                 xlabel='Author', \n",
    "                 ylabel='Count', color='cyan', \n",
    "                  xticks=range(0, 19, 1))\n",
    "# how do we treat joint papers ?"
   ]
  },
  {
   "cell_type": "markdown",
   "id": "unable-payday",
   "metadata": {},
   "source": [
    "* Top 20 authors citing GAP Packages"
   ]
  },
  {
   "cell_type": "code",
   "execution_count": 12,
   "id": "incorporated-responsibility",
   "metadata": {},
   "outputs": [
    {
     "data": {
      "text/html": [
       "<div>\n",
       "<style scoped>\n",
       "    .dataframe tbody tr th:only-of-type {\n",
       "        vertical-align: middle;\n",
       "    }\n",
       "\n",
       "    .dataframe tbody tr th {\n",
       "        vertical-align: top;\n",
       "    }\n",
       "\n",
       "    .dataframe thead th {\n",
       "        text-align: right;\n",
       "    }\n",
       "</style>\n",
       "<table border=\"1\" class=\"dataframe\">\n",
       "  <thead>\n",
       "    <tr style=\"text-align: right;\">\n",
       "      <th></th>\n",
       "      <th>Author</th>\n",
       "    </tr>\n",
       "  </thead>\n",
       "  <tbody>\n",
       "    <tr>\n",
       "      <th>Koshitani, S. and Müller, J. and Noeske, F.</th>\n",
       "      <td>10</td>\n",
       "    </tr>\n",
       "    <tr>\n",
       "      <th>Bächle, A. and Margolis, L.</th>\n",
       "      <td>10</td>\n",
       "    </tr>\n",
       "    <tr>\n",
       "      <th>Soicher, L. H.</th>\n",
       "      <td>8</td>\n",
       "    </tr>\n",
       "    <tr>\n",
       "      <th>Eick, B.</th>\n",
       "      <td>7</td>\n",
       "    </tr>\n",
       "    <tr>\n",
       "      <th>Kohl, S.</th>\n",
       "      <td>6</td>\n",
       "    </tr>\n",
       "    <tr>\n",
       "      <th>Douglas, A. and Repka, J.</th>\n",
       "      <td>6</td>\n",
       "    </tr>\n",
       "    <tr>\n",
       "      <th>Eick, B. and Horn, M.</th>\n",
       "      <td>6</td>\n",
       "    </tr>\n",
       "    <tr>\n",
       "      <th>de Graaf, W. A.</th>\n",
       "      <td>5</td>\n",
       "    </tr>\n",
       "    <tr>\n",
       "      <th>Dabbaghian-Abdoly, V.</th>\n",
       "      <td>5</td>\n",
       "    </tr>\n",
       "    <tr>\n",
       "      <th>Cant, A. and Eick, B.</th>\n",
       "      <td>5</td>\n",
       "    </tr>\n",
       "    <tr>\n",
       "      <th>Linton,  S.  and Hammond, K. and Konovalov, A. and Brown, C. and Trinder, P. W. and Loidl, H. -. and Horn, P. and\\nRoozemond, D.</th>\n",
       "      <td>5</td>\n",
       "    </tr>\n",
       "    <tr>\n",
       "      <th>Assmann, B. and Eick, B.</th>\n",
       "      <td>5</td>\n",
       "    </tr>\n",
       "    <tr>\n",
       "      <th>Fernandes, V. H.</th>\n",
       "      <td>5</td>\n",
       "    </tr>\n",
       "    <tr>\n",
       "      <th>Eick, B. and Moede, T.</th>\n",
       "      <td>4</td>\n",
       "    </tr>\n",
       "    <tr>\n",
       "      <th>Spreer, J.</th>\n",
       "      <td>4</td>\n",
       "    </tr>\n",
       "    <tr>\n",
       "      <th>Huffman, W. C.</th>\n",
       "      <td>4</td>\n",
       "    </tr>\n",
       "    <tr>\n",
       "      <th>Bailey, R. F.</th>\n",
       "      <td>4</td>\n",
       "    </tr>\n",
       "    <tr>\n",
       "      <th>Margolis, L.</th>\n",
       "      <td>4</td>\n",
       "    </tr>\n",
       "    <tr>\n",
       "      <th>Andruskiewitsch, N. and Fantino, F. and Graña, M. and Vendramin, L.</th>\n",
       "      <td>4</td>\n",
       "    </tr>\n",
       "    <tr>\n",
       "      <th>Alp, M.</th>\n",
       "      <td>4</td>\n",
       "    </tr>\n",
       "  </tbody>\n",
       "</table>\n",
       "</div>"
      ],
      "text/plain": [
       "                                                    Author\n",
       "Koshitani, S. and Müller, J. and Noeske, F.             10\n",
       "Bächle, A. and Margolis, L.                             10\n",
       "Soicher, L. H.                                           8\n",
       "Eick, B.                                                 7\n",
       "Kohl, S.                                                 6\n",
       "Douglas, A. and Repka, J.                                6\n",
       "Eick, B. and Horn, M.                                    6\n",
       "de Graaf, W. A.                                          5\n",
       "Dabbaghian-Abdoly, V.                                    5\n",
       "Cant, A. and Eick, B.                                    5\n",
       "Linton,  S.  and Hammond, K. and Konovalov, A. ...       5\n",
       "Assmann, B. and Eick, B.                                 5\n",
       "Fernandes, V. H.                                         5\n",
       "Eick, B. and Moede, T.                                   4\n",
       "Spreer, J.                                               4\n",
       "Huffman, W. C.                                           4\n",
       "Bailey, R. F.                                            4\n",
       "Margolis, L.                                             4\n",
       "Andruskiewitsch, N. and Fantino, F. and Graña, ...       4\n",
       "Alp, M.                                                  4"
      ]
     },
     "execution_count": 12,
     "metadata": {},
     "output_type": "execute_result"
    }
   ],
   "source": [
    "author = pac_df['Author'].value_counts()\n",
    "top20 = author.head(20)\n",
    "top20 = top20.sort_values(ascending=False)\n",
    "top20 = top20.to_frame()\n",
    "top20\n",
    "\n",
    "#chart = top20.plot(kind=\"bar\",\n",
    "#                 figsize=(9,5), title='Top 20 authors citing GAP Packages', \n",
    "#                 xlabel='Author', \n",
    "#                 ylabel='Count', color='brown', \n",
    "#                  xticks=range(0, 19, 1))"
   ]
  },
  {
   "cell_type": "code",
   "execution_count": null,
   "id": "silver-grace",
   "metadata": {},
   "outputs": [],
   "source": []
  },
  {
   "cell_type": "markdown",
   "id": "found-planner",
   "metadata": {},
   "source": [
    "* Accuracy + site, ver, year\n",
    "* Countries + to be provided\n",
    "* GET function + simplicity is key"
   ]
  },
  {
   "cell_type": "markdown",
   "id": "lightweight-association",
   "metadata": {},
   "source": [
    "### Year"
   ]
  },
  {
   "cell_type": "code",
   "execution_count": null,
   "id": "armed-brooks",
   "metadata": {},
   "outputs": [],
   "source": []
  },
  {
   "cell_type": "markdown",
   "id": "attempted-barbados",
   "metadata": {},
   "source": [
    "##### Barchart dislaying number of GAP citations per year."
   ]
  },
  {
   "cell_type": "markdown",
   "id": "vanilla-workshop",
   "metadata": {},
   "source": [
    "* GAP citation counts for each year, sorted chronologically."
   ]
  },
  {
   "cell_type": "code",
   "execution_count": 13,
   "id": "relative-uzbekistan",
   "metadata": {
    "scrolled": false
   },
   "outputs": [
    {
     "data": {
      "text/plain": [
       "<AxesSubplot:title={'center':'Annual GAP citations data'}, xlabel='Year', ylabel='Count'>"
      ]
     },
     "execution_count": 13,
     "metadata": {},
     "output_type": "execute_result"
    },
    {
     "data": {
      "image/png": "[encoded data removed]",
      "text/plain": [
       "<Figure size 1080x504 with 1 Axes>"
      ]
     },
     "metadata": {
      "needs_background": "light"
     },
     "output_type": "display_data"
    }
   ],
   "source": [
    "year_chrono = merged_df['Year'].value_counts()\n",
    "chrono_df = year_chrono.to_frame()\n",
    "chrono = chrono_df.sort_index()\n",
    "chrono.plot(kind=\"bar\", figsize=(15, 7), title='Annual GAP citations data', xlabel='Year', \n",
    "                ylabel='Count', color='purple')"
   ]
  },
  {
   "cell_type": "markdown",
   "id": "concrete-transaction",
   "metadata": {},
   "source": [
    "### Top 20 journals citing GAP."
   ]
  },
  {
   "cell_type": "code",
   "execution_count": 14,
   "id": "embedded-identifier",
   "metadata": {
    "scrolled": true
   },
   "outputs": [
    {
     "data": {
      "text/html": [
       "<div>\n",
       "<style scoped>\n",
       "    .dataframe tbody tr th:only-of-type {\n",
       "        vertical-align: middle;\n",
       "    }\n",
       "\n",
       "    .dataframe tbody tr th {\n",
       "        vertical-align: top;\n",
       "    }\n",
       "\n",
       "    .dataframe thead th {\n",
       "        text-align: right;\n",
       "    }\n",
       "</style>\n",
       "<table border=\"1\" class=\"dataframe\">\n",
       "  <thead>\n",
       "    <tr style=\"text-align: right;\">\n",
       "      <th></th>\n",
       "      <th>index</th>\n",
       "      <th>Journal</th>\n",
       "    </tr>\n",
       "  </thead>\n",
       "  <tbody>\n",
       "    <tr>\n",
       "      <th>0</th>\n",
       "      <td>J. Algebra</td>\n",
       "      <td>380</td>\n",
       "    </tr>\n",
       "    <tr>\n",
       "      <th>1</th>\n",
       "      <td>Comm. Algebra</td>\n",
       "      <td>176</td>\n",
       "    </tr>\n",
       "    <tr>\n",
       "      <th>2</th>\n",
       "      <td>J. Symbolic Comput.</td>\n",
       "      <td>96</td>\n",
       "    </tr>\n",
       "    <tr>\n",
       "      <th>3</th>\n",
       "      <td>Discrete Math.</td>\n",
       "      <td>87</td>\n",
       "    </tr>\n",
       "    <tr>\n",
       "      <th>4</th>\n",
       "      <td>J. Algebra Appl.</td>\n",
       "      <td>85</td>\n",
       "    </tr>\n",
       "    <tr>\n",
       "      <th>5</th>\n",
       "      <td>J. Group Theory</td>\n",
       "      <td>69</td>\n",
       "    </tr>\n",
       "    <tr>\n",
       "      <th>6</th>\n",
       "      <td>Des. Codes Cryptogr.</td>\n",
       "      <td>59</td>\n",
       "    </tr>\n",
       "    <tr>\n",
       "      <th>7</th>\n",
       "      <td>Internat. J. Algebra Comput.</td>\n",
       "      <td>59</td>\n",
       "    </tr>\n",
       "    <tr>\n",
       "      <th>8</th>\n",
       "      <td>J. Pure Appl. Algebra</td>\n",
       "      <td>56</td>\n",
       "    </tr>\n",
       "    <tr>\n",
       "      <th>9</th>\n",
       "      <td>LMS J. Comput. Math.</td>\n",
       "      <td>46</td>\n",
       "    </tr>\n",
       "    <tr>\n",
       "      <th>10</th>\n",
       "      <td>Israel J. Math.</td>\n",
       "      <td>38</td>\n",
       "    </tr>\n",
       "    <tr>\n",
       "      <th>11</th>\n",
       "      <td>Experiment. Math.</td>\n",
       "      <td>37</td>\n",
       "    </tr>\n",
       "    <tr>\n",
       "      <th>12</th>\n",
       "      <td>European J. Combin.</td>\n",
       "      <td>37</td>\n",
       "    </tr>\n",
       "    <tr>\n",
       "      <th>13</th>\n",
       "      <td>Math. Comp.</td>\n",
       "      <td>36</td>\n",
       "    </tr>\n",
       "    <tr>\n",
       "      <th>14</th>\n",
       "      <td>J. Combin. Des.</td>\n",
       "      <td>36</td>\n",
       "    </tr>\n",
       "    <tr>\n",
       "      <th>15</th>\n",
       "      <td>Arch. Math. (Basel)</td>\n",
       "      <td>35</td>\n",
       "    </tr>\n",
       "    <tr>\n",
       "      <th>16</th>\n",
       "      <td>Algebra Colloq.</td>\n",
       "      <td>33</td>\n",
       "    </tr>\n",
       "    <tr>\n",
       "      <th>17</th>\n",
       "      <td>Trans. Amer. Math. Soc.</td>\n",
       "      <td>32</td>\n",
       "    </tr>\n",
       "    <tr>\n",
       "      <th>18</th>\n",
       "      <td>Electron. J. Combin.</td>\n",
       "      <td>31</td>\n",
       "    </tr>\n",
       "    <tr>\n",
       "      <th>19</th>\n",
       "      <td>J. Combin. Theory Ser. A</td>\n",
       "      <td>30</td>\n",
       "    </tr>\n",
       "  </tbody>\n",
       "</table>\n",
       "</div>"
      ],
      "text/plain": [
       "                           index  Journal\n",
       "0                     J. Algebra      380\n",
       "1                  Comm. Algebra      176\n",
       "2            J. Symbolic Comput.       96\n",
       "3                 Discrete Math.       87\n",
       "4               J. Algebra Appl.       85\n",
       "5                J. Group Theory       69\n",
       "6           Des. Codes Cryptogr.       59\n",
       "7   Internat. J. Algebra Comput.       59\n",
       "8          J. Pure Appl. Algebra       56\n",
       "9           LMS J. Comput. Math.       46\n",
       "10               Israel J. Math.       38\n",
       "11             Experiment. Math.       37\n",
       "12           European J. Combin.       37\n",
       "13                   Math. Comp.       36\n",
       "14               J. Combin. Des.       36\n",
       "15           Arch. Math. (Basel)       35\n",
       "16               Algebra Colloq.       33\n",
       "17       Trans. Amer. Math. Soc.       32\n",
       "18          Electron. J. Combin.       31\n",
       "19      J. Combin. Theory Ser. A       30"
      ]
     },
     "execution_count": 14,
     "metadata": {},
     "output_type": "execute_result"
    }
   ],
   "source": [
    "top_journals = gap_df['Journal'].value_counts()\n",
    "top_20 = pd.DataFrame(top_journals.head(20))\n",
    "top_20.reset_index()"
   ]
  },
  {
   "cell_type": "markdown",
   "id": "urban-shooting",
   "metadata": {},
   "source": [
    "Only for alternative, useful for copy/paste plain text - quick to load.\n",
    "Try to allign on the left - journals."
   ]
  },
  {
   "cell_type": "code",
   "execution_count": 15,
   "id": "noble-truth",
   "metadata": {},
   "outputs": [
    {
     "ename": "NameError",
     "evalue": "name 'tabulate' is not defined",
     "output_type": "error",
     "traceback": [
      "\u001b[1;31m---------------------------------------------------------------------------\u001b[0m",
      "\u001b[1;31mNameError\u001b[0m                                 Traceback (most recent call last)",
      "\u001b[1;32m<ipython-input-15-a69421427c47>\u001b[0m in \u001b[0;36m<module>\u001b[1;34m\u001b[0m\n\u001b[0;32m      1\u001b[0m \u001b[0mheaders\u001b[0m \u001b[1;33m=\u001b[0m \u001b[1;33m[\u001b[0m\u001b[1;34m'Journal name'\u001b[0m\u001b[1;33m,\u001b[0m \u001b[1;34m'GAP Citations count'\u001b[0m\u001b[1;33m]\u001b[0m\u001b[1;33m\u001b[0m\u001b[1;33m\u001b[0m\u001b[0m\n\u001b[1;32m----> 2\u001b[1;33m \u001b[0mprint\u001b[0m\u001b[1;33m(\u001b[0m\u001b[0mtabulate\u001b[0m\u001b[1;33m(\u001b[0m\u001b[0mtop_20\u001b[0m\u001b[1;33m,\u001b[0m \u001b[0mheaders\u001b[0m \u001b[1;33m=\u001b[0m \u001b[0mheaders\u001b[0m\u001b[1;33m,\u001b[0m \u001b[0mtablefmt\u001b[0m \u001b[1;33m=\u001b[0m \u001b[1;34m'pretty'\u001b[0m\u001b[1;33m)\u001b[0m\u001b[1;33m)\u001b[0m\u001b[1;33m\u001b[0m\u001b[1;33m\u001b[0m\u001b[0m\n\u001b[0m",
      "\u001b[1;31mNameError\u001b[0m: name 'tabulate' is not defined"
     ]
    }
   ],
   "source": [
    "headers = ['Journal name', 'GAP Citations count']\n",
    "print(tabulate(top_20, headers = headers, tablefmt = 'pretty'))"
   ]
  },
  {
   "cell_type": "markdown",
   "id": "round-adventure",
   "metadata": {},
   "source": [
    "* Journals by year"
   ]
  },
  {
   "cell_type": "code",
   "execution_count": null,
   "id": "aware-accent",
   "metadata": {},
   "outputs": [],
   "source": [
    "jou_year = merged_df.groupby(['Year'])['Journal'].count()\n",
    "jou_year = pd.DataFrame(data=jou_year)\n",
    "jou_year.head"
   ]
  },
  {
   "cell_type": "markdown",
   "id": "transsexual-billy",
   "metadata": {},
   "source": [
    "### The most frequent type of work citing GAP: we can see that GAP is predominantly cited in articles - 2976 times."
   ]
  },
  {
   "cell_type": "code",
   "execution_count": null,
   "id": "pursuant-privilege",
   "metadata": {
    "scrolled": false
   },
   "outputs": [],
   "source": [
    "types_pub = pd.DataFrame(merged_df['Publication Type'].value_counts())\n",
    "types_pub.columns = ['GAP Citations Count']\n",
    "types_pub.index.names = ['Publication Type']\n",
    "types_pub"
   ]
  },
  {
   "cell_type": "markdown",
   "id": "occupied-cowboy",
   "metadata": {},
   "source": [
    "### Accuracy"
   ]
  },
  {
   "cell_type": "code",
   "execution_count": null,
   "id": "enhanced-agent",
   "metadata": {
    "scrolled": true
   },
   "outputs": [],
   "source": [
    "acc = merged_df['Accuracy Score'].value_counts()\n",
    "acc.plot(kind=\"pie\", figsize=(15, 5), title='GAP citations Acuracy data', xlabel='Score', \n",
    "                ylabel='Count')"
   ]
  },
  {
   "cell_type": "markdown",
   "id": "recognized-washer",
   "metadata": {},
   "source": [
    "Trying to get average score per year by dividing the sum of scores to the number of citations for that year"
   ]
  },
  {
   "cell_type": "markdown",
   "id": "southwest-socket",
   "metadata": {},
   "source": [
    "* Annual average of Accuracy sores"
   ]
  },
  {
   "cell_type": "code",
   "execution_count": null,
   "id": "modified-bailey",
   "metadata": {},
   "outputs": [],
   "source": [
    "ttt = merged_df.groupby('Year')['Accuracy Score'].mean()\n",
    "ttt = pd.DataFrame(data=ttt)\n",
    "ttt.plot(kind='line', figsize=(13, 5), title='Annual average of Accuracy sores', xlabel='Year', \n",
    "                ylabel='Score', color='#34eb9b')"
   ]
  },
  {
   "cell_type": "code",
   "execution_count": null,
   "id": "internal-salem",
   "metadata": {
    "scrolled": true
   },
   "outputs": [],
   "source": [
    "df2 = gap_df.groupby(['Accuracy Score', 'Year'])['Accuracy Score'].mean().unstack('Year')\n",
    "df2.plot()"
   ]
  },
  {
   "cell_type": "markdown",
   "id": "spanish-february",
   "metadata": {},
   "source": [
    "### Releases by year"
   ]
  },
  {
   "cell_type": "markdown",
   "id": "swiss-blogger",
   "metadata": {},
   "source": [
    "We will use `gap_df` containing only GAP citations with versions provided, all other entries such as Package citations are not needed."
   ]
  },
  {
   "cell_type": "code",
   "execution_count": null,
   "id": "infinite-trouble",
   "metadata": {},
   "outputs": [],
   "source": [
    "versions_cited = gap_df['Version'].unique()"
   ]
  },
  {
   "cell_type": "code",
   "execution_count": null,
   "id": "entire-respondent",
   "metadata": {},
   "outputs": [],
   "source": [
    "versions_cited"
   ]
  },
  {
   "cell_type": "code",
   "execution_count": null,
   "id": "spread-favorite",
   "metadata": {},
   "outputs": [],
   "source": [
    "release_dates = { \n",
    "    # dates from archive timestamps\n",
    "    '4.8.2': 2016, # 2016/02/20\n",
    "    '4.7.9': 2015, # 2015/11/29\n",
    "    '4.7.8': 2015, # 2015/06/09\n",
    "    '4.7.7': 2015, # 2015/02/13\n",
    "    '4.7.6': 2014, # 2014/11/15\n",
    "    '4.7.5': 2014, # 2014/05/24\n",
    "    '4.7.4': 2014, # 2014/02/20\n",
    "    '4.7.3': 2013, # 2014/02/15\n",
    "    '4.7.2': 2013, # 2013/12/01\n",
    "    '4.7': 2013,\n",
    "    '4.6.5': 2013, # 2013/07/20\n",
    "    '4.6.4': 2013, # 2013/05/04\n",
    "    '4.6.3': 2013, # 2013/03/18\n",
    "    '4.6.2': 2013, # 2013/02/02\n",
    "    '4.5.7': 2012, # 2012/12/14\n",
    "    '4.5.6': 2012, # 2012/09/16\n",
    "    '4.5.5': 2012, # 2012/07/16\n",
    "    '4.5.4': 2012, # 2013/06/04\n",
    "    '4.5': 2012, \n",
    "    # dates below from file creation\n",
    "    '4.4.12': 2008, # 2008/12/16\n",
    "    '4.4.11': 2008, # 2008/12/08\n",
    "    '4.4.10': 2007, # 2007/10/05\n",
    "    '4.4.9': 2006,  # 2006/11/02\n",
    "    '4.4.8': 2006,  # 2006/09/29\n",
    "    '4.4.7': 2006,  # 2006/03/17\n",
    "    '4.4.6': 2005,  # 2005/09/02\n",
    "    '4.4.5': 2005,  # 2005/05/13\n",
    "    '4.4.4': 2004,  # 2004/12/22\n",
    "    # dates below from http://www.gap-system.org/Download/Updates/index.html\n",
    "    '4.4.3': 2004,   # May 2004\n",
    "    '4.4.2': 2004,  # April 2004\n",
    "    # dates from http://www.gap-system.org/Doc/History/history.html\n",
    "    # if not stated otherwise\n",
    "    '4.4': 2004, \n",
    "    '4.3': 2002, \n",
    "    '4.2': 2000, # http://www.gap-system.org/ForumArchive/Linton.1/Steve.1/Release_.3/1.html\n",
    "    '4.1': 1999, \n",
    "    '3.4': 1997, # assume http://www.gap-system.org/Doc/History/preface_3.4.4.html\n",
    "}"
   ]
  },
  {
   "cell_type": "code",
   "execution_count": null,
   "id": "worthy-surname",
   "metadata": {},
   "outputs": [],
   "source": [
    "release_dates.keys()"
   ]
  },
  {
   "cell_type": "code",
   "execution_count": null,
   "id": "wireless-oakland",
   "metadata": {},
   "outputs": [],
   "source": [
    "def release_year(version):\n",
    "    if version in release_dates.keys():\n",
    "        return release_dates[version]\n",
    "    else:\n",
    "        return 'Unknown'"
   ]
  },
  {
   "cell_type": "code",
   "execution_count": null,
   "id": "parliamentary-reform",
   "metadata": {},
   "outputs": [],
   "source": [
    "release_year('3.4')"
   ]
  },
  {
   "cell_type": "code",
   "execution_count": null,
   "id": "guilty-queen",
   "metadata": {},
   "outputs": [],
   "source": [
    "gap_df['ReleaseYear'] = gap_df['Version'].map(release_year)"
   ]
  },
  {
   "cell_type": "code",
   "execution_count": null,
   "id": "pediatric-europe",
   "metadata": {},
   "outputs": [],
   "source": [
    "data = gap_df['ReleaseYear'].value_counts()"
   ]
  },
  {
   "cell_type": "markdown",
   "id": "arctic-luxembourg",
   "metadata": {},
   "source": [
    "* Number of Citations by year of cited GAP release, in textual and graphic forms."
   ]
  },
  {
   "cell_type": "code",
   "execution_count": null,
   "id": "liable-origin",
   "metadata": {
    "scrolled": true
   },
   "outputs": [],
   "source": [
    "data"
   ]
  },
  {
   "cell_type": "code",
   "execution_count": null,
   "id": "geological-december",
   "metadata": {},
   "outputs": [],
   "source": [
    "data.loc[sorted(data.index.intersection(range(1997, 2021)))].plot(kind=\"bar\", \n",
    "                figsize=(11, 5), title='Citations by year of cited GAP release', xlabel='Years', \n",
    "                ylabel='Count', color='green')"
   ]
  },
  {
   "cell_type": "markdown",
   "id": "rapid-belle",
   "metadata": {},
   "source": [
    "all_years = corpus_df.groupby(['year','ReleaseYear'])['Year'].count()\n",
    "all_years"
   ]
  },
  {
   "cell_type": "code",
   "execution_count": null,
   "id": "fluid-party",
   "metadata": {
    "scrolled": true
   },
   "outputs": [],
   "source": [
    "years = gap_df['Year'].unique()\n",
    "dat = gap_df['Year'].value_counts()\n",
    "g = gap_df['Version'].value_counts()\n",
    "ver = gap_df['Version'].unique()"
   ]
  },
  {
   "cell_type": "code",
   "execution_count": null,
   "id": "specific-civilization",
   "metadata": {},
   "outputs": [],
   "source": [
    "gap_df['Publication Type'].value_counts()"
   ]
  },
  {
   "cell_type": "code",
   "execution_count": null,
   "id": "dried-blank",
   "metadata": {
    "scrolled": true
   },
   "outputs": [],
   "source": [
    "yea = gap_df.groupby(['Publication Type', 'Year'])['Publication Type'].count()\n",
    "yea = pd.DataFrame(data=yea)\n",
    "yea"
   ]
  },
  {
   "cell_type": "code",
   "execution_count": null,
   "id": "divine-liberty",
   "metadata": {
    "scrolled": true
   },
   "outputs": [],
   "source": [
    "yea.plot(kind=\"bar\", subplots=True,  \n",
    "                figsize=(11, 5), title='Citations by year of cited GAP release', xlabel='Years', \n",
    "                ylabel='Count', color='green')"
   ]
  },
  {
   "cell_type": "code",
   "execution_count": null,
   "id": "future-noise",
   "metadata": {},
   "outputs": [],
   "source": [
    "jou = gap_df.groupby('Year')['Journal'].unique()\n",
    "jou = pd.DataFrame(data=jou)\n",
    "jou"
   ]
  },
  {
   "cell_type": "code",
   "execution_count": null,
   "id": "toxic-plumbing",
   "metadata": {},
   "outputs": [],
   "source": [
    "lee = gap_df.groupby('Lentght')\n",
    "lee.size()"
   ]
  },
  {
   "cell_type": "code",
   "execution_count": null,
   "id": "mechanical-noise",
   "metadata": {
    "scrolled": true
   },
   "outputs": [],
   "source": [
    "au7 = gap_df['Author'].unique()\n",
    "au7"
   ]
  },
  {
   "cell_type": "code",
   "execution_count": null,
   "id": "related-submission",
   "metadata": {},
   "outputs": [],
   "source": []
  },
  {
   "cell_type": "code",
   "execution_count": null,
   "id": "awful-travel",
   "metadata": {},
   "outputs": [],
   "source": []
  },
  {
   "cell_type": "markdown",
   "id": "cordless-appendix",
   "metadata": {},
   "source": [
    "# Column `delay` = release year - year ???"
   ]
  },
  {
   "cell_type": "code",
   "execution_count": null,
   "id": "disciplinary-secondary",
   "metadata": {},
   "outputs": [],
   "source": [
    "gap_df[gap_df['ReleaseYear'] != 'Unknown']"
   ]
  },
  {
   "cell_type": "code",
   "execution_count": null,
   "id": "decreased-failure",
   "metadata": {},
   "outputs": [],
   "source": [
    "def set_delay(series):\n",
    "    rel_year = series['ReleaseYear']\n",
    "    year = series['Year']\n",
    "    delay = series['Delay']\n",
    "    if rel_year != 'Unknown':\n",
    "        #print('***Package***:')\n",
    "        delay = year - rel_year\n",
    "    return delay"
   ]
  },
  {
   "cell_type": "code",
   "execution_count": null,
   "id": "retired-alpha",
   "metadata": {},
   "outputs": [],
   "source": [
    "gap_df['Delay'] = gap_df.apply(set_delay, axis=1)"
   ]
  },
  {
   "cell_type": "markdown",
   "id": "desperate-offering",
   "metadata": {},
   "source": [
    "* Delay in picking up new GAP releases"
   ]
  },
  {
   "cell_type": "code",
   "execution_count": null,
   "id": "closed-command",
   "metadata": {},
   "outputs": [],
   "source": [
    "tail = gap_df['Delay'].value_counts()\n",
    "tail = pd.DataFrame(data=tail)\n",
    "tail = tail.sort_index(ascending=False)\n",
    "tail"
   ]
  },
  {
   "cell_type": "code",
   "execution_count": null,
   "id": "ceramic-definition",
   "metadata": {},
   "outputs": [],
   "source": [
    "gap_df.loc[gap_df['Delay'] < 0]"
   ]
  },
  {
   "cell_type": "code",
   "execution_count": null,
   "id": "effective-differential",
   "metadata": {},
   "outputs": [],
   "source": [
    "tail.plot(kind=\"bar\", subplots=True,  \n",
    "                figsize=(11, 5), title='Delay in picking up new GAP releases', xlabel='Delay in years', \n",
    "                ylabel='Count', color='#fa00d9')\n",
    "plt.show()"
   ]
  },
  {
   "cell_type": "code",
   "execution_count": null,
   "id": "divine-finding",
   "metadata": {},
   "outputs": [],
   "source": []
  },
  {
   "cell_type": "code",
   "execution_count": null,
   "id": "adolescent-chicago",
   "metadata": {},
   "outputs": [],
   "source": []
  },
  {
   "cell_type": "code",
   "execution_count": null,
   "id": "prime-storage",
   "metadata": {},
   "outputs": [],
   "source": []
  },
  {
   "cell_type": "code",
   "execution_count": null,
   "id": "corresponding-musician",
   "metadata": {},
   "outputs": [],
   "source": [
    "df2 = gap_df.groupby(['Year', 'ReleaseYear'])['ReleaseYear'].count().unstack('Year').fillna(0)\n",
    "df2.head(11)"
   ]
  },
  {
   "cell_type": "markdown",
   "id": "medium-kazakhstan",
   "metadata": {
    "collapsed": true
   },
   "source": [
    "#objects = gap_df['Year']\n",
    "\n",
    "plt.bar(lee, years, align='center', alpha=0.5)\n",
    "plt.yticks(y_pos, objects)\n",
    "plt.xlabel('Usage')\n",
    "plt.title('Programming language usage')\n",
    "\n",
    "plt.show()"
   ]
  },
  {
   "cell_type": "code",
   "execution_count": null,
   "id": "arctic-picture",
   "metadata": {},
   "outputs": [],
   "source": [
    "gap_df"
   ]
  },
  {
   "cell_type": "code",
   "execution_count": null,
   "id": "interracial-breed",
   "metadata": {
    "scrolled": true
   },
   "outputs": [],
   "source": [
    "top_medians = gap_df[gap_df[\"Accuracy Score\"] > 2].sort_values(\"Accuracy Score\")\n",
    "top_medians.plot(x='Year', y='Lenght', kind='bar')"
   ]
  },
  {
   "cell_type": "code",
   "execution_count": null,
   "id": "imported-assets",
   "metadata": {},
   "outputs": [],
   "source": [
    "med = gap_df.groupby(['Lenght'])\n",
    "#med = med.sort_values(by='Lenght', ascending=False)\n",
    "med"
   ]
  },
  {
   "cell_type": "code",
   "execution_count": null,
   "id": "saving-productivity",
   "metadata": {},
   "outputs": [],
   "source": [
    "plt.plot(top_medians[\"Year\"], top_medians[\"Lenght\"].sum())"
   ]
  },
  {
   "cell_type": "code",
   "execution_count": null,
   "id": "unlike-anderson",
   "metadata": {},
   "outputs": [],
   "source": []
  },
  {
   "cell_type": "markdown",
   "id": "naval-colony",
   "metadata": {},
   "source": [
    "# Interactive"
   ]
  },
  {
   "cell_type": "code",
   "execution_count": null,
   "id": "italic-diamond",
   "metadata": {},
   "outputs": [],
   "source": [
    "from __future__ import print_function\n",
    "from ipywidgets import interact, interactive, fixed, interact_manual\n",
    "import ipywidgets as widgets\n",
    "%matplotlib inline\n",
    "import cufflinks as cf"
   ]
  },
  {
   "cell_type": "markdown",
   "id": "graduate-privilege",
   "metadata": {},
   "source": [
    "* Filter the citations data by year"
   ]
  },
  {
   "cell_type": "code",
   "execution_count": null,
   "id": "institutional-edgar",
   "metadata": {
    "scrolled": true
   },
   "outputs": [],
   "source": [
    "years_list = gap_df['Year'].unique()\n",
    "years_list"
   ]
  },
  {
   "cell_type": "code",
   "execution_count": null,
   "id": "cooked-brave",
   "metadata": {
    "scrolled": true
   },
   "outputs": [],
   "source": [
    "# Interact with specification of arguments\n",
    "@interact\n",
    "def show_articles_more_than(Year=years_list, \n",
    "                            operator=['Up to', 'For this year', 'After']):\n",
    "    column='Year'\n",
    "    if operator == 'For this year':\n",
    "        return gap_df.loc[gap_df[column] == Year]\n",
    "    if operator == 'Up to':\n",
    "        return gap_df.loc[gap_df[column] <= Year]\n",
    "    if operator == 'After':\n",
    "        return gap_df.loc[gap_df[column] > Year]"
   ]
  },
  {
   "cell_type": "code",
   "execution_count": null,
   "id": "refined-november",
   "metadata": {},
   "outputs": [],
   "source": []
  },
  {
   "cell_type": "code",
   "execution_count": null,
   "id": "facial-jacob",
   "metadata": {},
   "outputs": [],
   "source": [
    "# Interact with specification of arguments\n",
    "@interact\n",
    "def show_articles_more_than(column=['Year', 'Accuracy Score', 'Lenght'], \n",
    "                            x=(1, 3000, 1)):\n",
    "    return gap_df.loc[gap_df[column] > x]"
   ]
  },
  {
   "cell_type": "markdown",
   "id": "forbidden-awareness",
   "metadata": {},
   "source": [
    "Versions / year\n",
    "top authors / year\n",
    "data per year"
   ]
  },
  {
   "cell_type": "code",
   "execution_count": null,
   "id": "specified-kenya",
   "metadata": {},
   "outputs": [],
   "source": [
    "def get_info(db, food, nutrient):\n",
    "    food_info = db\n",
    "    for word in food.split():\n",
    "        food_info = food_info[food_info['Food'].str.contains(word, case=False)]\n",
    "    nutritional_info = food_info[food_info['Nutrient'] == nutrient]\n",
    "    return nutritional_info\n",
    "\n",
    "interact(lambda food, nutrient: get_info(db, food, nutrient),\n",
    "        food='',\n",
    "        nutrient=list(db['Nutrient'].unique()))"
   ]
  },
  {
   "cell_type": "code",
   "execution_count": null,
   "id": "opponent-observer",
   "metadata": {},
   "outputs": [],
   "source": [
    "def get_info(db, author, citation):\n",
    "    auth_info = db\n",
    "    for word in author.split():\n",
    "        auth_info = auth_info[auth_info['Author'].str.contains(word, case=False)]\n",
    "    cit_info = auth_info[auth_info['Citation'] == citation]\n",
    "    return cit_info\n",
    "\n",
    "interact(lambda author, citation: get_info(gap_df, author, citation),\n",
    "        author = '',\n",
    "        citation = list(gap_df['Citation'].unique()))"
   ]
  },
  {
   "cell_type": "code",
   "execution_count": null,
   "id": "irish-longitude",
   "metadata": {
    "scrolled": true
   },
   "outputs": [],
   "source": [
    "def get_aut(db, author):\n",
    "    auth_info = db\n",
    "    for word in author.split():\n",
    "        auth_info = auth_info[auth_info['Author'].str.contains(word, case=False)]\n",
    "    return auth_info\n",
    "\n",
    "\n",
    "interact(get_aut(merged_df, author), author = '')"
   ]
  },
  {
   "cell_type": "code",
   "execution_count": null,
   "id": "turkish-august",
   "metadata": {},
   "outputs": [],
   "source": [
    "yeaaa = widgets.FloatSlider(min=min(gap_df['Year']), max=max(gap_df['Year']), step=1, description='Year')\n",
    "display(yea)"
   ]
  },
  {
   "cell_type": "code",
   "execution_count": null,
   "id": "affiliated-mumbai",
   "metadata": {},
   "outputs": [],
   "source": [
    "import ipywidgets as widgets\n",
    "from IPython.display import display\n",
    "\n",
    "\n",
    "\n",
    "\n",
    "%matplotlib nbagg\n",
    "\n",
    "x = np.linspace(0, 2, 1000)\n",
    "fig, ax = plt.subplots(1, figsize=(10, 4))\n",
    "plt.suptitle('Sine Wave')\n",
    "\n",
    "\n",
    "def update_plot(amp, phase, freq):\n",
    "    \n",
    "    ax.clear()\n",
    "    y = amp * np.sin(freq * 2 * np.pi * x + phase * 2 * np.pi)\n",
    "    units = 'amp = {} $(psi)$ \\nphase = {} $(s)$ \\nfreq = {} $(Hz)$'\n",
    "    \n",
    "    ax.plot(x, y, label=units.format(amp, phase, freq))\n",
    "    ax.set_xlim(x[0], x[-1])\n",
    "    ax.legend(loc=1)\n",
    "    ax.set_xlabel('$(s)$')\n",
    "    plt.show()\n",
    "\n",
    "\n",
    "amp = widgets.FloatSlider(min=1, max=10, value=1, description='Amp:')\n",
    "phase = widgets.FloatSlider(min=0, max=5, value=0, description='Phase:')\n",
    "freq = widgets.FloatSlider(min=1, max=10, value=1, description='Freq:')\n",
    "    \n",
    "widgets.interactive(update_plot, amp=amp, phase=phase, freq=freq)"
   ]
  },
  {
   "cell_type": "code",
   "execution_count": null,
   "id": "competent-leeds",
   "metadata": {},
   "outputs": [],
   "source": []
  },
  {
   "cell_type": "code",
   "execution_count": null,
   "id": "orange-parish",
   "metadata": {},
   "outputs": [],
   "source": [
    "t=pd.DataFrame({'string':['i live here','you live in eltham','machine learning','learning english','go home','go back','live home'],\n",
    "                'number':[1,3,2,3,1,2,4],\n",
    "                'word':['a','haha','runing over there','abcdefg','aaa','bye','hou']})\n",
    "\n",
    "def myFUN_searchString(value,string):\n",
    "    s=string.split(' ')\n",
    "    return value in s\n",
    "\n",
    "def myFUN_search(value):\n",
    "    t.loc[:,'Flag']=''\n",
    "    t.loc[:,'Flag']=[myFUN_searchString(value,x) for x in t.loc[:,'string']]\n",
    "    return t.loc[:,'Flag']\n",
    "\n",
    "keyword=widgets.Text(\n",
    "    value='electricity',\n",
    "    placeholder='Type something',\n",
    "    description='keyword:',\n",
    "    disabled=False\n",
    ")\n",
    "display(keyword)\n",
    "\n",
    "\n",
    "button = widgets.Button(description=\"search\")\n",
    "display(button)\n",
    "\n",
    "output = widgets.Output()\n",
    "\n",
    "@output.capture()\n",
    "def on_button_clicked(b):\n",
    "    t.loc[:,'Flag']=myFUN_search(keyword.value)\n",
    "    t1=t.loc[(t['Flag'])]\n",
    "    t1.drop(['Flag'],axis=1,inplace=True)\n",
    "    t1.reset_index(drop=True,inplace=True)\n",
    "    if t1.shape[0]>30:\n",
    "        t1=t1.loc[0:30]\n",
    "\n",
    "    display(t1)\n",
    "\n",
    "button.on_click(on_button_clicked)\n",
    "display(output)"
   ]
  }
 ],
 "metadata": {
  "kernelspec": {
   "display_name": "Python 3",
   "language": "python",
   "name": "python3"
  },
  "language_info": {
   "codemirror_mode": {
    "name": "ipython",
    "version": 3
   },
   "file_extension": ".py",
   "mimetype": "text/x-python",
   "name": "python",
   "nbconvert_exporter": "python",
   "pygments_lexer": "ipython3",
   "version": "3.8.5"
  }
 },
 "nbformat": 4,
 "nbformat_minor": 5
}
