{
 "cells": [
  {
   "cell_type": "markdown",
   "id": "front-stomach",
   "metadata": {},
   "source": [
    "# Visualisations"
   ]
  },
  {
   "cell_type": "code",
   "execution_count": null,
   "id": "gorgeous-original",
   "metadata": {},
   "outputs": [],
   "source": [
    "merged_df = pd.read_csv('full.csv')\n",
    "gap_df = pd.read_csv('gap.csv')\n",
    "pac_df = pd.read_csv('pac.csv')"
   ]
  },
  {
   "cell_type": "markdown",
   "id": "chemical-bidder",
   "metadata": {},
   "source": [
    "### Website"
   ]
  },
  {
   "cell_type": "code",
   "execution_count": 282,
   "id": "everyday-architecture",
   "metadata": {},
   "outputs": [
    {
     "data": {
      "text/plain": [
       "<AxesSubplot:title={'center':'Website statistics on the whole data'}, ylabel='Provided?'>"
      ]
     },
     "execution_count": 282,
     "metadata": {},
     "output_type": "execute_result"
    },
    {
     "data": {
      "image/png": "[encoded data removed]",
      "text/plain": [
       "<Figure size 504x216 with 1 Axes>"
      ]
     },
     "metadata": {
      "needs_background": "light"
     },
     "output_type": "display_data"
    }
   ],
   "source": [
    "web_chart = merged_df['Website'].value_counts()\n",
    "web_chart = web_chart.sort_values(ascending=True)\n",
    "web_chart.plot(kind=\"barh\", figsize=(7, 3), title='Website statistics on the whole data', \n",
    "                xlabel='Provided?', ylabel='Count', color='pink')"
   ]
  },
  {
   "cell_type": "code",
   "execution_count": 50,
   "id": "fiscal-thermal",
   "metadata": {
    "scrolled": true
   },
   "outputs": [
    {
     "data": {
      "text/plain": [
       "<AxesSubplot:title={'center':'Website statistics on the Pure GAP data only'}, ylabel='Provided?'>"
      ]
     },
     "execution_count": 50,
     "metadata": {},
     "output_type": "execute_result"
    },
    {
     "data": {
      "image/png": "[encoded data removed]",
      "text/plain": [
       "<Figure size 504x216 with 1 Axes>"
      ]
     },
     "metadata": {
      "needs_background": "light"
     },
     "output_type": "display_data"
    }
   ],
   "source": [
    "web_gap = gap_df['Website'].value_counts()\n",
    "web_gap = web_gap.sort_values(ascending=True)\n",
    "web_gap.plot(kind=\"barh\", figsize=(7, 3), title='Website statistics on the Pure GAP data only', \n",
    "                xlabel='Provided?', ylabel='Count', color='pink')"
   ]
  },
  {
   "cell_type": "code",
   "execution_count": 51,
   "id": "primary-proxy",
   "metadata": {},
   "outputs": [
    {
     "data": {
      "text/plain": [
       "<AxesSubplot:title={'center':'Website statistics on the Package citation data'}, ylabel='Provided?'>"
      ]
     },
     "execution_count": 51,
     "metadata": {},
     "output_type": "execute_result"
    },
    {
     "data": {
      "image/png": "[encoded data removed]",
      "text/plain": [
       "<Figure size 504x216 with 1 Axes>"
      ]
     },
     "metadata": {
      "needs_background": "light"
     },
     "output_type": "display_data"
    }
   ],
   "source": [
    "web_pac = pac_df['Website'].value_counts()\n",
    "web_pac = web_pac.sort_values(ascending=True)\n",
    "web_pac.plot(kind=\"barh\", figsize=(7, 3), title='Website statistics on the Package citation data', \n",
    "                xlabel='Provided?', ylabel='Count', color='pink')"
   ]
  },
  {
   "cell_type": "code",
   "execution_count": 52,
   "id": "aging-reynolds",
   "metadata": {
    "scrolled": false
   },
   "outputs": [
    {
     "data": {
      "text/html": [
       "<div>\n",
       "<style scoped>\n",
       "    .dataframe tbody tr th:only-of-type {\n",
       "        vertical-align: middle;\n",
       "    }\n",
       "\n",
       "    .dataframe tbody tr th {\n",
       "        vertical-align: top;\n",
       "    }\n",
       "\n",
       "    .dataframe thead th {\n",
       "        text-align: right;\n",
       "    }\n",
       "</style>\n",
       "<table border=\"1\" class=\"dataframe\">\n",
       "  <thead>\n",
       "    <tr style=\"text-align: right;\">\n",
       "      <th></th>\n",
       "      <th>MR</th>\n",
       "      <th>Author</th>\n",
       "      <th>Journal</th>\n",
       "      <th>Year</th>\n",
       "      <th>Publication Type</th>\n",
       "      <th>Citation</th>\n",
       "      <th>Version</th>\n",
       "      <th>Lentght</th>\n",
       "    </tr>\n",
       "    <tr>\n",
       "      <th>Website</th>\n",
       "      <th></th>\n",
       "      <th></th>\n",
       "      <th></th>\n",
       "      <th></th>\n",
       "      <th></th>\n",
       "      <th></th>\n",
       "      <th></th>\n",
       "      <th></th>\n",
       "    </tr>\n",
       "  </thead>\n",
       "  <tbody>\n",
       "    <tr>\n",
       "      <th>No</th>\n",
       "      <td>226</td>\n",
       "      <td>226</td>\n",
       "      <td>226</td>\n",
       "      <td>226</td>\n",
       "      <td>226</td>\n",
       "      <td>226</td>\n",
       "      <td>226</td>\n",
       "      <td>226</td>\n",
       "    </tr>\n",
       "    <tr>\n",
       "      <th>Yes</th>\n",
       "      <td>2687</td>\n",
       "      <td>2687</td>\n",
       "      <td>2687</td>\n",
       "      <td>2687</td>\n",
       "      <td>2687</td>\n",
       "      <td>2687</td>\n",
       "      <td>2687</td>\n",
       "      <td>2687</td>\n",
       "    </tr>\n",
       "  </tbody>\n",
       "</table>\n",
       "</div>"
      ],
      "text/plain": [
       "           MR  Author  Journal  Year  Publication Type  Citation  Version  \\\n",
       "Website                                                                     \n",
       "No        226     226      226   226               226       226      226   \n",
       "Yes      2687    2687     2687  2687              2687      2687     2687   \n",
       "\n",
       "         Lentght  \n",
       "Website           \n",
       "No           226  \n",
       "Yes         2687  "
      ]
     },
     "execution_count": 52,
     "metadata": {},
     "output_type": "execute_result"
    }
   ],
   "source": [
    "site_year = merged_df.groupby('Website').count()\n",
    "site_year"
   ]
  },
  {
   "cell_type": "code",
   "execution_count": null,
   "id": "filled-reach",
   "metadata": {},
   "outputs": [],
   "source": []
  },
  {
   "cell_type": "markdown",
   "id": "funny-frederick",
   "metadata": {
    "collapsed": true
   },
   "source": [
    "from pandas.plotting import parallel_coordinates\n",
    "\n",
    "parallel_coordinates(all_years, \"Year\")"
   ]
  },
  {
   "cell_type": "code",
   "execution_count": null,
   "id": "existing-leone",
   "metadata": {},
   "outputs": [],
   "source": []
  },
  {
   "cell_type": "markdown",
   "id": "technical-macro",
   "metadata": {},
   "source": [
    "### Lenght\n",
    "* Most citations are around 110 characters long."
   ]
  },
  {
   "cell_type": "code",
   "execution_count": 53,
   "id": "warming-florist",
   "metadata": {
    "scrolled": false
   },
   "outputs": [
    {
     "data": {
      "image/png": "[encoded data removed]",
      "text/plain": [
       "<Figure size 792x648 with 1 Axes>"
      ]
     },
     "metadata": {
      "needs_background": "light"
     },
     "output_type": "display_data"
    }
   ],
   "source": [
    "merged_df['Lentght'] = merged_df['Citation'].apply(len)\n",
    "cit_len = merged_df['Lentght'].plot(kind='hist', bins=50, figsize=(11,9), stacked=True, \n",
    "                         xticks = range(0, 300, 50), \n",
    "                         range=(0, 300), \n",
    "                         color='gold', \n",
    "                         title='Citations Lenght', \n",
    "                         xlabel=\"lenght\")\n",
    "cit_len.set_facecolor('#ebeced')\n"
   ]
  },
  {
   "cell_type": "code",
   "execution_count": null,
   "id": "corresponding-comedy",
   "metadata": {},
   "outputs": [],
   "source": []
  },
  {
   "cell_type": "markdown",
   "id": "happy-lexington",
   "metadata": {},
   "source": [
    "year_df = merged_df.sort_values(by='Year', ascending=False)\n",
    "year_df.dropna()\n",
    "num = year_df['Journal'].count()\n",
    "year_df.plot(x='Year', y=num, kind='barh')\n"
   ]
  },
  {
   "cell_type": "code",
   "execution_count": null,
   "id": "advance-shirt",
   "metadata": {},
   "outputs": [],
   "source": []
  },
  {
   "cell_type": "markdown",
   "id": "acoustic-initial",
   "metadata": {},
   "source": [
    "### Version"
   ]
  },
  {
   "cell_type": "code",
   "execution_count": 54,
   "id": "important-lawsuit",
   "metadata": {},
   "outputs": [
    {
     "data": {
      "text/plain": [
       "<AxesSubplot:title={'center':'Top 50 most cited GAP versions'}, xlabel='Version', ylabel='Count'>"
      ]
     },
     "execution_count": 54,
     "metadata": {},
     "output_type": "execute_result"
    },
    {
     "data": {
      "image/png": "[encoded data removed]",
      "text/plain": [
       "<Figure size 1080x360 with 1 Axes>"
      ]
     },
     "metadata": {
      "needs_background": "light"
     },
     "output_type": "display_data"
    }
   ],
   "source": [
    "ver = gap_df['Version'].value_counts()\n",
    "ver = ver.head(50)\n",
    "ver = ver.to_frame()\n",
    "ver = ver.sort_index() # sort chrono. compare version numbers\n",
    "ver = ver.dropna()\n",
    "ver.plot(kind=\"bar\", figsize=(15, 5), title='Top 50 most cited GAP versions', xlabel='Version', \n",
    "                ylabel='Count', color='#f20000')"
   ]
  },
  {
   "cell_type": "markdown",
   "id": "accepting-luxury",
   "metadata": {},
   "source": [
    "* We can see that the most popular GAP versions cited are subversions of GAP 4, between 4.2 and 4.4"
   ]
  },
  {
   "cell_type": "code",
   "execution_count": 55,
   "id": "acute-thesis",
   "metadata": {},
   "outputs": [
    {
     "data": {
      "text/plain": [
       "4.4         439\n",
       "4.4.12      303\n",
       "4.3         211\n",
       "4.4.10      135\n",
       "4.2         122\n",
       "           ... \n",
       "3.2           1\n",
       "5.7           1\n",
       "2.19          1\n",
       "4.5.3         1\n",
       "10.01.16      1\n",
       "Name: Version, Length: 97, dtype: int64"
      ]
     },
     "execution_count": 55,
     "metadata": {},
     "output_type": "execute_result"
    }
   ],
   "source": [
    "gap_df['Version'].value_counts()"
   ]
  },
  {
   "cell_type": "code",
   "execution_count": null,
   "id": "attractive-scale",
   "metadata": {},
   "outputs": [],
   "source": []
  },
  {
   "cell_type": "markdown",
   "id": "piano-height",
   "metadata": {},
   "source": [
    "### Authors\n",
    "\n",
    "* Top 20 authors citing GAP and its packages in their work."
   ]
  },
  {
   "cell_type": "code",
   "execution_count": 283,
   "id": "detailed-calculator",
   "metadata": {
    "scrolled": false
   },
   "outputs": [
    {
     "data": {
      "image/png": "[encoded data removed]",
      "text/plain": [
       "<Figure size 648x360 with 1 Axes>"
      ]
     },
     "metadata": {
      "needs_background": "light"
     },
     "output_type": "display_data"
    }
   ],
   "source": [
    "authors = gap_df['Author'].value_counts()\n",
    "top = authors.head(20)\n",
    "top = top.sort_values(ascending=True)\n",
    "top = top.to_frame()\n",
    "chart = top.plot(kind=\"barh\",\n",
    "                 figsize=(9,5), title='Top 20 authors citing GAP in their work', \n",
    "                 xlabel='Author', \n",
    "                 ylabel='Count', color='cyan', \n",
    "                  xticks=range(0, 19, 1))\n",
    "# how do we treat joint papers ?"
   ]
  },
  {
   "cell_type": "markdown",
   "id": "improving-trick",
   "metadata": {},
   "source": [
    "* Top 20 authors citing GAP Packages"
   ]
  },
  {
   "cell_type": "code",
   "execution_count": 57,
   "id": "western-justice",
   "metadata": {},
   "outputs": [
    {
     "data": {
      "text/html": [
       "<div>\n",
       "<style scoped>\n",
       "    .dataframe tbody tr th:only-of-type {\n",
       "        vertical-align: middle;\n",
       "    }\n",
       "\n",
       "    .dataframe tbody tr th {\n",
       "        vertical-align: top;\n",
       "    }\n",
       "\n",
       "    .dataframe thead th {\n",
       "        text-align: right;\n",
       "    }\n",
       "</style>\n",
       "<table border=\"1\" class=\"dataframe\">\n",
       "  <thead>\n",
       "    <tr style=\"text-align: right;\">\n",
       "      <th></th>\n",
       "      <th>Author</th>\n",
       "    </tr>\n",
       "  </thead>\n",
       "  <tbody>\n",
       "    <tr>\n",
       "      <th>Bächle, A. and Margolis, L.</th>\n",
       "      <td>10</td>\n",
       "    </tr>\n",
       "    <tr>\n",
       "      <th>Koshitani, S. and Müller, J. and Noeske, F.</th>\n",
       "      <td>10</td>\n",
       "    </tr>\n",
       "    <tr>\n",
       "      <th>Soicher, L. H.</th>\n",
       "      <td>8</td>\n",
       "    </tr>\n",
       "    <tr>\n",
       "      <th>Eick, B.</th>\n",
       "      <td>7</td>\n",
       "    </tr>\n",
       "    <tr>\n",
       "      <th>Douglas, A. and Repka, J.</th>\n",
       "      <td>6</td>\n",
       "    </tr>\n",
       "    <tr>\n",
       "      <th>Kohl, S.</th>\n",
       "      <td>6</td>\n",
       "    </tr>\n",
       "    <tr>\n",
       "      <th>Eick, B. and Horn, M.</th>\n",
       "      <td>6</td>\n",
       "    </tr>\n",
       "    <tr>\n",
       "      <th>Fernandes, V. H.</th>\n",
       "      <td>5</td>\n",
       "    </tr>\n",
       "    <tr>\n",
       "      <th>Cant, A. and Eick, B.</th>\n",
       "      <td>5</td>\n",
       "    </tr>\n",
       "    <tr>\n",
       "      <th>Dabbaghian-Abdoly, V.</th>\n",
       "      <td>5</td>\n",
       "    </tr>\n",
       "    <tr>\n",
       "      <th>Assmann, B. and Eick, B.</th>\n",
       "      <td>5</td>\n",
       "    </tr>\n",
       "    <tr>\n",
       "      <th>de Graaf, W. A.</th>\n",
       "      <td>5</td>\n",
       "    </tr>\n",
       "    <tr>\n",
       "      <th>Linton,  S.  and Hammond, K. and Konovalov, A. and Brown, C. and Trinder, P. W. and Loidl, H. -. and Horn, P. and\\nRoozemond, D.</th>\n",
       "      <td>5</td>\n",
       "    </tr>\n",
       "    <tr>\n",
       "      <th>Spreer, J.</th>\n",
       "      <td>4</td>\n",
       "    </tr>\n",
       "    <tr>\n",
       "      <th>Alp, M.</th>\n",
       "      <td>4</td>\n",
       "    </tr>\n",
       "    <tr>\n",
       "      <th>Margolis, L.</th>\n",
       "      <td>4</td>\n",
       "    </tr>\n",
       "    <tr>\n",
       "      <th>Braić, S. and Golemac, A. and Mandić, J. and Vučičić, T.</th>\n",
       "      <td>4</td>\n",
       "    </tr>\n",
       "    <tr>\n",
       "      <th>Bailey, R. F.</th>\n",
       "      <td>4</td>\n",
       "    </tr>\n",
       "    <tr>\n",
       "      <th>Andruskiewitsch, N. and Fantino, F. and Graña, M. and Vendramin, L.</th>\n",
       "      <td>4</td>\n",
       "    </tr>\n",
       "    <tr>\n",
       "      <th>Dietrich, H. and de Graaf, W. A.</th>\n",
       "      <td>4</td>\n",
       "    </tr>\n",
       "  </tbody>\n",
       "</table>\n",
       "</div>"
      ],
      "text/plain": [
       "                                                                                                                                  Author\n",
       "Bächle, A. and Margolis, L.                                                                                                           10\n",
       "Koshitani, S. and Müller, J. and Noeske, F.                                                                                           10\n",
       "Soicher, L. H.                                                                                                                         8\n",
       "Eick, B.                                                                                                                               7\n",
       "Douglas, A. and Repka, J.                                                                                                              6\n",
       "Kohl, S.                                                                                                                               6\n",
       "Eick, B. and Horn, M.                                                                                                                  6\n",
       "Fernandes, V. H.                                                                                                                       5\n",
       "Cant, A. and Eick, B.                                                                                                                  5\n",
       "Dabbaghian-Abdoly, V.                                                                                                                  5\n",
       "Assmann, B. and Eick, B.                                                                                                               5\n",
       "de Graaf, W. A.                                                                                                                        5\n",
       "Linton,  S.  and Hammond, K. and Konovalov, A. and Brown, C. and Trinder, P. W. and Loidl, H. -. and Horn, P. and\\nRoozemond, D.       5\n",
       "Spreer, J.                                                                                                                             4\n",
       "Alp, M.                                                                                                                                4\n",
       "Margolis, L.                                                                                                                           4\n",
       "Braić, S. and Golemac, A. and Mandić, J. and Vučičić, T.                                                                               4\n",
       "Bailey, R. F.                                                                                                                          4\n",
       "Andruskiewitsch, N. and Fantino, F. and Graña, M. and Vendramin, L.                                                                    4\n",
       "Dietrich, H. and de Graaf, W. A.                                                                                                       4"
      ]
     },
     "execution_count": 57,
     "metadata": {},
     "output_type": "execute_result"
    }
   ],
   "source": [
    "author = pac_df['Author'].value_counts()\n",
    "top20 = author.head(20)\n",
    "top20 = top20.sort_values(ascending=False)\n",
    "top20 = top20.to_frame()\n",
    "top20\n",
    "\n",
    "#chart = top20.plot(kind=\"bar\",\n",
    "#                 figsize=(9,5), title='Top 20 authors citing GAP Packages', \n",
    "#                 xlabel='Author', \n",
    "#                 ylabel='Count', color='brown', \n",
    "#                  xticks=range(0, 19, 1))"
   ]
  },
  {
   "cell_type": "code",
   "execution_count": null,
   "id": "vanilla-carpet",
   "metadata": {},
   "outputs": [],
   "source": []
  },
  {
   "cell_type": "markdown",
   "id": "swiss-retailer",
   "metadata": {},
   "source": [
    "* Accuracy + site, ver, year\n",
    "* Countries + to be provided\n",
    "* GET function + simplicity is key"
   ]
  },
  {
   "cell_type": "markdown",
   "id": "agricultural-greek",
   "metadata": {},
   "source": [
    "### Year"
   ]
  },
  {
   "cell_type": "code",
   "execution_count": null,
   "id": "interim-yahoo",
   "metadata": {},
   "outputs": [],
   "source": []
  },
  {
   "cell_type": "markdown",
   "id": "attended-western",
   "metadata": {},
   "source": [
    "##### Barchart dislaying number of GAP citations per year."
   ]
  },
  {
   "cell_type": "markdown",
   "id": "continued-enough",
   "metadata": {},
   "source": [
    "* GAP citation counts for each year, sorted chronologically."
   ]
  },
  {
   "cell_type": "code",
   "execution_count": 58,
   "id": "failing-attempt",
   "metadata": {
    "scrolled": false
   },
   "outputs": [
    {
     "data": {
      "text/plain": [
       "<AxesSubplot:title={'center':'Annual GAP citations data'}, xlabel='Year', ylabel='Count'>"
      ]
     },
     "execution_count": 58,
     "metadata": {},
     "output_type": "execute_result"
    },
    {
     "data": {
      "image/png": "[encoded data removed]",
      "text/plain": [
       "<Figure size 1080x360 with 1 Axes>"
      ]
     },
     "metadata": {
      "needs_background": "light"
     },
     "output_type": "display_data"
    }
   ],
   "source": [
    "year_chrono = merged_df['Year'].value_counts()\n",
    "chrono_df = year_chrono.to_frame()\n",
    "chrono = chrono_df.sort_index()\n",
    "chrono.plot(kind=\"bar\", figsize=(15, 5), title='Annual GAP citations data', xlabel='Year', \n",
    "                ylabel='Count', color='purple')"
   ]
  },
  {
   "cell_type": "markdown",
   "id": "extreme-independence",
   "metadata": {},
   "source": [
    "### Top 20 journals citing GAP."
   ]
  },
  {
   "cell_type": "code",
   "execution_count": 59,
   "id": "disciplinary-debut",
   "metadata": {
    "scrolled": false
   },
   "outputs": [
    {
     "data": {
      "text/html": [
       "<div>\n",
       "<style scoped>\n",
       "    .dataframe tbody tr th:only-of-type {\n",
       "        vertical-align: middle;\n",
       "    }\n",
       "\n",
       "    .dataframe tbody tr th {\n",
       "        vertical-align: top;\n",
       "    }\n",
       "\n",
       "    .dataframe thead th {\n",
       "        text-align: right;\n",
       "    }\n",
       "</style>\n",
       "<table border=\"1\" class=\"dataframe\">\n",
       "  <thead>\n",
       "    <tr style=\"text-align: right;\">\n",
       "      <th></th>\n",
       "      <th>index</th>\n",
       "      <th>Journal</th>\n",
       "    </tr>\n",
       "  </thead>\n",
       "  <tbody>\n",
       "    <tr>\n",
       "      <th>0</th>\n",
       "      <td>J. Algebra</td>\n",
       "      <td>307</td>\n",
       "    </tr>\n",
       "    <tr>\n",
       "      <th>1</th>\n",
       "      <td>Comm. Algebra</td>\n",
       "      <td>146</td>\n",
       "    </tr>\n",
       "    <tr>\n",
       "      <th>2</th>\n",
       "      <td>J. Algebra Appl.</td>\n",
       "      <td>76</td>\n",
       "    </tr>\n",
       "    <tr>\n",
       "      <th>3</th>\n",
       "      <td>Discrete Math.</td>\n",
       "      <td>74</td>\n",
       "    </tr>\n",
       "    <tr>\n",
       "      <th>4</th>\n",
       "      <td>J. Symbolic Comput.</td>\n",
       "      <td>57</td>\n",
       "    </tr>\n",
       "    <tr>\n",
       "      <th>5</th>\n",
       "      <td>J. Group Theory</td>\n",
       "      <td>54</td>\n",
       "    </tr>\n",
       "    <tr>\n",
       "      <th>6</th>\n",
       "      <td>J. Pure Appl. Algebra</td>\n",
       "      <td>51</td>\n",
       "    </tr>\n",
       "    <tr>\n",
       "      <th>7</th>\n",
       "      <td>Des. Codes Cryptogr.</td>\n",
       "      <td>46</td>\n",
       "    </tr>\n",
       "    <tr>\n",
       "      <th>8</th>\n",
       "      <td>Internat. J. Algebra Comput.</td>\n",
       "      <td>45</td>\n",
       "    </tr>\n",
       "    <tr>\n",
       "      <th>9</th>\n",
       "      <td>LMS J. Comput. Math.</td>\n",
       "      <td>42</td>\n",
       "    </tr>\n",
       "    <tr>\n",
       "      <th>10</th>\n",
       "      <td>Arch. Math. (Basel)</td>\n",
       "      <td>33</td>\n",
       "    </tr>\n",
       "    <tr>\n",
       "      <th>11</th>\n",
       "      <td>Israel J. Math.</td>\n",
       "      <td>33</td>\n",
       "    </tr>\n",
       "    <tr>\n",
       "      <th>12</th>\n",
       "      <td>European J. Combin.</td>\n",
       "      <td>28</td>\n",
       "    </tr>\n",
       "    <tr>\n",
       "      <th>13</th>\n",
       "      <td>J. Combin. Des.</td>\n",
       "      <td>28</td>\n",
       "    </tr>\n",
       "    <tr>\n",
       "      <th>14</th>\n",
       "      <td>Algebra Colloq.</td>\n",
       "      <td>27</td>\n",
       "    </tr>\n",
       "    <tr>\n",
       "      <th>15</th>\n",
       "      <td>Math. Comp.</td>\n",
       "      <td>27</td>\n",
       "    </tr>\n",
       "    <tr>\n",
       "      <th>16</th>\n",
       "      <td>Electron. J. Combin.</td>\n",
       "      <td>26</td>\n",
       "    </tr>\n",
       "    <tr>\n",
       "      <th>17</th>\n",
       "      <td>J. Combin. Theory Ser. A</td>\n",
       "      <td>25</td>\n",
       "    </tr>\n",
       "    <tr>\n",
       "      <th>18</th>\n",
       "      <td>Experiment. Math.</td>\n",
       "      <td>25</td>\n",
       "    </tr>\n",
       "    <tr>\n",
       "      <th>19</th>\n",
       "      <td>Trans. Amer. Math. Soc.</td>\n",
       "      <td>25</td>\n",
       "    </tr>\n",
       "  </tbody>\n",
       "</table>\n",
       "</div>"
      ],
      "text/plain": [
       "                           index  Journal\n",
       "0                     J. Algebra      307\n",
       "1                  Comm. Algebra      146\n",
       "2               J. Algebra Appl.       76\n",
       "3                 Discrete Math.       74\n",
       "4            J. Symbolic Comput.       57\n",
       "5                J. Group Theory       54\n",
       "6          J. Pure Appl. Algebra       51\n",
       "7           Des. Codes Cryptogr.       46\n",
       "8   Internat. J. Algebra Comput.       45\n",
       "9           LMS J. Comput. Math.       42\n",
       "10           Arch. Math. (Basel)       33\n",
       "11               Israel J. Math.       33\n",
       "12           European J. Combin.       28\n",
       "13               J. Combin. Des.       28\n",
       "14               Algebra Colloq.       27\n",
       "15                   Math. Comp.       27\n",
       "16          Electron. J. Combin.       26\n",
       "17      J. Combin. Theory Ser. A       25\n",
       "18             Experiment. Math.       25\n",
       "19       Trans. Amer. Math. Soc.       25"
      ]
     },
     "execution_count": 59,
     "metadata": {},
     "output_type": "execute_result"
    }
   ],
   "source": [
    "top_journals = gap_df['Journal'].value_counts()\n",
    "top_20 = pd.DataFrame(top_journals.head(20))\n",
    "top_20.reset_index()"
   ]
  },
  {
   "cell_type": "markdown",
   "id": "naughty-black",
   "metadata": {},
   "source": [
    "Only for alternative, useful for copy/paste plain text - quick to load.\n",
    "Try to allign on the left - journals."
   ]
  },
  {
   "cell_type": "code",
   "execution_count": 60,
   "id": "awful-arlington",
   "metadata": {
    "scrolled": false
   },
   "outputs": [
    {
     "name": "stdout",
     "output_type": "stream",
     "text": [
      "+------------------------------+---------------------+\n",
      "|         Journal name         | GAP Citations count |\n",
      "+------------------------------+---------------------+\n",
      "|          J. Algebra          |         307         |\n",
      "|        Comm. Algebra         |         146         |\n",
      "|       J. Algebra Appl.       |         76          |\n",
      "|        Discrete Math.        |         74          |\n",
      "|     J. Symbolic Comput.      |         57          |\n",
      "|       J. Group Theory        |         54          |\n",
      "|    J. Pure Appl. Algebra     |         51          |\n",
      "|     Des. Codes Cryptogr.     |         46          |\n",
      "| Internat. J. Algebra Comput. |         45          |\n",
      "|     LMS J. Comput. Math.     |         42          |\n",
      "|     Arch. Math. (Basel)      |         33          |\n",
      "|       Israel J. Math.        |         33          |\n",
      "|     European J. Combin.      |         28          |\n",
      "|       J. Combin. Des.        |         28          |\n",
      "|       Algebra Colloq.        |         27          |\n",
      "|         Math. Comp.          |         27          |\n",
      "|     Electron. J. Combin.     |         26          |\n",
      "|   J. Combin. Theory Ser. A   |         25          |\n",
      "|      Experiment. Math.       |         25          |\n",
      "|   Trans. Amer. Math. Soc.    |         25          |\n",
      "+------------------------------+---------------------+\n"
     ]
    }
   ],
   "source": [
    "headers = ['Journal name', 'GAP Citations count']\n",
    "print(tabulate(top_20, headers = headers, tablefmt = 'pretty'))"
   ]
  },
  {
   "cell_type": "markdown",
   "id": "conventional-authority",
   "metadata": {},
   "source": [
    "### The most frequent type of work citing GAP: we can see that GAP is predominantly cited in articles - 2976 times."
   ]
  },
  {
   "cell_type": "code",
   "execution_count": 61,
   "id": "rising-reply",
   "metadata": {
    "scrolled": true
   },
   "outputs": [
    {
     "data": {
      "text/html": [
       "<div>\n",
       "<style scoped>\n",
       "    .dataframe tbody tr th:only-of-type {\n",
       "        vertical-align: middle;\n",
       "    }\n",
       "\n",
       "    .dataframe tbody tr th {\n",
       "        vertical-align: top;\n",
       "    }\n",
       "\n",
       "    .dataframe thead th {\n",
       "        text-align: right;\n",
       "    }\n",
       "</style>\n",
       "<table border=\"1\" class=\"dataframe\">\n",
       "  <thead>\n",
       "    <tr style=\"text-align: right;\">\n",
       "      <th></th>\n",
       "      <th>GAP Citations Count</th>\n",
       "    </tr>\n",
       "    <tr>\n",
       "      <th>Publication Type</th>\n",
       "      <th></th>\n",
       "    </tr>\n",
       "  </thead>\n",
       "  <tbody>\n",
       "    <tr>\n",
       "      <th>article</th>\n",
       "      <td>2976</td>\n",
       "    </tr>\n",
       "    <tr>\n",
       "      <th>incollection</th>\n",
       "      <td>204</td>\n",
       "    </tr>\n",
       "    <tr>\n",
       "      <th>inproceedings</th>\n",
       "      <td>54</td>\n",
       "    </tr>\n",
       "    <tr>\n",
       "      <th>phdthesis</th>\n",
       "      <td>47</td>\n",
       "    </tr>\n",
       "    <tr>\n",
       "      <th>mastersthesis</th>\n",
       "      <td>46</td>\n",
       "    </tr>\n",
       "    <tr>\n",
       "      <th>book</th>\n",
       "      <td>31</td>\n",
       "    </tr>\n",
       "    <tr>\n",
       "      <th>misc</th>\n",
       "      <td>5</td>\n",
       "    </tr>\n",
       "    <tr>\n",
       "      <th>techreport</th>\n",
       "      <td>2</td>\n",
       "    </tr>\n",
       "    <tr>\n",
       "      <th>inbook</th>\n",
       "      <td>1</td>\n",
       "    </tr>\n",
       "    <tr>\n",
       "      <th>manual</th>\n",
       "      <td>1</td>\n",
       "    </tr>\n",
       "  </tbody>\n",
       "</table>\n",
       "</div>"
      ],
      "text/plain": [
       "                  GAP Citations Count\n",
       "Publication Type                     \n",
       "article                          2976\n",
       "incollection                      204\n",
       "inproceedings                      54\n",
       "phdthesis                          47\n",
       "mastersthesis                      46\n",
       "book                               31\n",
       "misc                                5\n",
       "techreport                          2\n",
       "inbook                              1\n",
       "manual                              1"
      ]
     },
     "execution_count": 61,
     "metadata": {},
     "output_type": "execute_result"
    }
   ],
   "source": [
    "types_pub = pd.DataFrame(bib_df['Publication Type'].value_counts())\n",
    "types_pub.columns = ['GAP Citations Count']\n",
    "types_pub.index.names = ['Publication Type']\n",
    "types_pub"
   ]
  },
  {
   "cell_type": "markdown",
   "id": "toxic-investment",
   "metadata": {},
   "source": [
    "### Accuracy"
   ]
  },
  {
   "cell_type": "code",
   "execution_count": 288,
   "id": "handed-formation",
   "metadata": {},
   "outputs": [
    {
     "data": {
      "text/plain": [
       "<AxesSubplot:title={'center':'Annual GAP citations data'}, xlabel='Year', ylabel='Count'>"
      ]
     },
     "execution_count": 288,
     "metadata": {},
     "output_type": "execute_result"
    },
    {
     "data": {
      "image/png": "[encoded data removed]",
      "text/plain": [
       "<Figure size 1080x360 with 1 Axes>"
      ]
     },
     "metadata": {
      "needs_background": "light"
     },
     "output_type": "display_data"
    }
   ],
   "source": [
    "acc = merged_df['Accuracy Score'].value_counts()\n",
    "acc.plot(kind=\"bar\", figsize=(15, 5), title='Annual GAP citations data', xlabel='Score', \n",
    "                ylabel='Count', color='#34eb9b')"
   ]
  },
  {
   "cell_type": "code",
   "execution_count": 304,
   "id": "skilled-description",
   "metadata": {},
   "outputs": [
    {
     "data": {
      "text/html": [
       "<div>\n",
       "<style scoped>\n",
       "    .dataframe tbody tr th:only-of-type {\n",
       "        vertical-align: middle;\n",
       "    }\n",
       "\n",
       "    .dataframe tbody tr th {\n",
       "        vertical-align: top;\n",
       "    }\n",
       "\n",
       "    .dataframe thead th {\n",
       "        text-align: right;\n",
       "    }\n",
       "</style>\n",
       "<table border=\"1\" class=\"dataframe\">\n",
       "  <thead>\n",
       "    <tr style=\"text-align: right;\">\n",
       "      <th></th>\n",
       "      <th>Accuracy Score</th>\n",
       "    </tr>\n",
       "    <tr>\n",
       "      <th>Year</th>\n",
       "      <th></th>\n",
       "    </tr>\n",
       "  </thead>\n",
       "  <tbody>\n",
       "    <tr>\n",
       "      <th>1992</th>\n",
       "      <td>1</td>\n",
       "    </tr>\n",
       "    <tr>\n",
       "      <th>1993</th>\n",
       "      <td>2</td>\n",
       "    </tr>\n",
       "    <tr>\n",
       "      <th>1994</th>\n",
       "      <td>1</td>\n",
       "    </tr>\n",
       "    <tr>\n",
       "      <th>1997</th>\n",
       "      <td>20</td>\n",
       "    </tr>\n",
       "    <tr>\n",
       "      <th>1998</th>\n",
       "      <td>16</td>\n",
       "    </tr>\n",
       "    <tr>\n",
       "      <th>1999</th>\n",
       "      <td>21</td>\n",
       "    </tr>\n",
       "    <tr>\n",
       "      <th>2000</th>\n",
       "      <td>61</td>\n",
       "    </tr>\n",
       "    <tr>\n",
       "      <th>2001</th>\n",
       "      <td>90</td>\n",
       "    </tr>\n",
       "    <tr>\n",
       "      <th>2002</th>\n",
       "      <td>67</td>\n",
       "    </tr>\n",
       "    <tr>\n",
       "      <th>2003</th>\n",
       "      <td>90</td>\n",
       "    </tr>\n",
       "    <tr>\n",
       "      <th>2004</th>\n",
       "      <td>115</td>\n",
       "    </tr>\n",
       "    <tr>\n",
       "      <th>2005</th>\n",
       "      <td>121</td>\n",
       "    </tr>\n",
       "    <tr>\n",
       "      <th>2006</th>\n",
       "      <td>121</td>\n",
       "    </tr>\n",
       "    <tr>\n",
       "      <th>2007</th>\n",
       "      <td>161</td>\n",
       "    </tr>\n",
       "    <tr>\n",
       "      <th>2008</th>\n",
       "      <td>148</td>\n",
       "    </tr>\n",
       "    <tr>\n",
       "      <th>2009</th>\n",
       "      <td>136</td>\n",
       "    </tr>\n",
       "    <tr>\n",
       "      <th>2010</th>\n",
       "      <td>185</td>\n",
       "    </tr>\n",
       "    <tr>\n",
       "      <th>2011</th>\n",
       "      <td>189</td>\n",
       "    </tr>\n",
       "    <tr>\n",
       "      <th>2012</th>\n",
       "      <td>170</td>\n",
       "    </tr>\n",
       "    <tr>\n",
       "      <th>2013</th>\n",
       "      <td>208</td>\n",
       "    </tr>\n",
       "    <tr>\n",
       "      <th>2014</th>\n",
       "      <td>205</td>\n",
       "    </tr>\n",
       "    <tr>\n",
       "      <th>2015</th>\n",
       "      <td>200</td>\n",
       "    </tr>\n",
       "    <tr>\n",
       "      <th>2016</th>\n",
       "      <td>209</td>\n",
       "    </tr>\n",
       "    <tr>\n",
       "      <th>2017</th>\n",
       "      <td>227</td>\n",
       "    </tr>\n",
       "    <tr>\n",
       "      <th>2018</th>\n",
       "      <td>195</td>\n",
       "    </tr>\n",
       "    <tr>\n",
       "      <th>2019</th>\n",
       "      <td>216</td>\n",
       "    </tr>\n",
       "    <tr>\n",
       "      <th>2020</th>\n",
       "      <td>215</td>\n",
       "    </tr>\n",
       "    <tr>\n",
       "      <th>2021</th>\n",
       "      <td>50</td>\n",
       "    </tr>\n",
       "  </tbody>\n",
       "</table>\n",
       "</div>"
      ],
      "text/plain": [
       "      Accuracy Score\n",
       "Year                \n",
       "1992               1\n",
       "1993               2\n",
       "1994               1\n",
       "1997              20\n",
       "1998              16\n",
       "1999              21\n",
       "2000              61\n",
       "2001              90\n",
       "2002              67\n",
       "2003              90\n",
       "2004             115\n",
       "2005             121\n",
       "2006             121\n",
       "2007             161\n",
       "2008             148\n",
       "2009             136\n",
       "2010             185\n",
       "2011             189\n",
       "2012             170\n",
       "2013             208\n",
       "2014             205\n",
       "2015             200\n",
       "2016             209\n",
       "2017             227\n",
       "2018             195\n",
       "2019             216\n",
       "2020             215\n",
       "2021              50"
      ]
     },
     "execution_count": 304,
     "metadata": {},
     "output_type": "execute_result"
    }
   ],
   "source": [
    "ttt = merged_df.groupby('Year')['Accuracy Score'].count()\n",
    "ttt = pd.DataFrame(data=ttt)\n",
    "ttt"
   ]
  },
  {
   "cell_type": "code",
   "execution_count": 301,
   "id": "olympic-consequence",
   "metadata": {},
   "outputs": [
    {
     "data": {
      "text/html": [
       "<div>\n",
       "<style scoped>\n",
       "    .dataframe tbody tr th:only-of-type {\n",
       "        vertical-align: middle;\n",
       "    }\n",
       "\n",
       "    .dataframe tbody tr th {\n",
       "        vertical-align: top;\n",
       "    }\n",
       "\n",
       "    .dataframe thead th {\n",
       "        text-align: right;\n",
       "    }\n",
       "</style>\n",
       "<table border=\"1\" class=\"dataframe\">\n",
       "  <thead>\n",
       "    <tr style=\"text-align: right;\">\n",
       "      <th></th>\n",
       "      <th>MR</th>\n",
       "      <th>Author</th>\n",
       "      <th>Journal</th>\n",
       "      <th>Year</th>\n",
       "      <th>Publication Type</th>\n",
       "      <th>Citation</th>\n",
       "      <th>Version</th>\n",
       "      <th>Website</th>\n",
       "      <th>Lentght</th>\n",
       "      <th>Accuracy Score</th>\n",
       "      <th>Lenght</th>\n",
       "    </tr>\n",
       "  </thead>\n",
       "  <tbody>\n",
       "    <tr>\n",
       "      <th>0</th>\n",
       "      <td>4056124</td>\n",
       "      <td>Abas, M. and Vetrík, T.</td>\n",
       "      <td>Theoret. Comput. Sci.</td>\n",
       "      <td>2020</td>\n",
       "      <td>article</td>\n",
       "      <td>GAP – Groups, algorithms, programming - a system for computational discrete algebra, www.gap-system.org.</td>\n",
       "      <td>Unknown</td>\n",
       "      <td>Yes</td>\n",
       "      <td>104</td>\n",
       "      <td>2</td>\n",
       "      <td>104</td>\n",
       "    </tr>\n",
       "    <tr>\n",
       "      <th>2</th>\n",
       "      <td>3942387</td>\n",
       "      <td>Abbas, A. and Assi, A. and García-Sánchez, P. A.</td>\n",
       "      <td>Rev. R. Acad. Cienc. Exactas Fís. Nat. Ser. A Mat. RACSAM</td>\n",
       "      <td>2019</td>\n",
       "      <td>article</td>\n",
       "      <td>The GAP Group: GAP—groups, algorithms, and programming, version 4.7.5 (2014). http://www.gap-system.org. Accessed 19 Aug 2017</td>\n",
       "      <td>4.7.5</td>\n",
       "      <td>Yes</td>\n",
       "      <td>125</td>\n",
       "      <td>3</td>\n",
       "      <td>125</td>\n",
       "    </tr>\n",
       "    <tr>\n",
       "      <th>3</th>\n",
       "      <td>3354065</td>\n",
       "      <td>Abdolghafourian, A. and Iranmanesh, M. A.</td>\n",
       "      <td>Comm. Algebra</td>\n",
       "      <td>2015</td>\n",
       "      <td>article</td>\n",
       "      <td>The GAP – Groups, Algorithms and Programming. Version 4.4.12, 2008. www.gap-system.org.</td>\n",
       "      <td>4.4.12</td>\n",
       "      <td>Yes</td>\n",
       "      <td>87</td>\n",
       "      <td>2</td>\n",
       "      <td>87</td>\n",
       "    </tr>\n",
       "    <tr>\n",
       "      <th>4</th>\n",
       "      <td>3646312</td>\n",
       "      <td>Abdolghafourian, A. and Iranmanesh, M. A. and Niemeyer, A. C.</td>\n",
       "      <td>J. Pure Appl. Algebra</td>\n",
       "      <td>2017</td>\n",
       "      <td>article</td>\n",
       "      <td>The GAP Group, GAP–Groups, Algorithms, and Programming, 4.7.8, 2015, http://www.gap-system.org.</td>\n",
       "      <td>4.7.8</td>\n",
       "      <td>Yes</td>\n",
       "      <td>95</td>\n",
       "      <td>3</td>\n",
       "      <td>95</td>\n",
       "    </tr>\n",
       "    <tr>\n",
       "      <th>5</th>\n",
       "      <td>1864795</td>\n",
       "      <td>Abdollahi, A.</td>\n",
       "      <td>Houston J. Math.</td>\n",
       "      <td>2001</td>\n",
       "      <td>article</td>\n",
       "      <td>M. Schönert et al. GAP - Groups, Algorithms, and Programming (Lehrsthul D für Mathematik, Reinisch-Westflische Technische Hochschule, Aachen, Germany, fi...</td>\n",
       "      <td>Unknown</td>\n",
       "      <td>No</td>\n",
       "      <td>168</td>\n",
       "      <td>1</td>\n",
       "      <td>168</td>\n",
       "    </tr>\n",
       "    <tr>\n",
       "      <th>...</th>\n",
       "      <td>...</td>\n",
       "      <td>...</td>\n",
       "      <td>...</td>\n",
       "      <td>...</td>\n",
       "      <td>...</td>\n",
       "      <td>...</td>\n",
       "      <td>...</td>\n",
       "      <td>...</td>\n",
       "      <td>...</td>\n",
       "      <td>...</td>\n",
       "      <td>...</td>\n",
       "    </tr>\n",
       "    <tr>\n",
       "      <th>3528</th>\n",
       "      <td>2347912</td>\n",
       "      <td>Maksimenko, A. A. and Mamontov, A. S.</td>\n",
       "      <td>Sibirsk. Mat. Zh.</td>\n",
       "      <td>2007</td>\n",
       "      <td>article</td>\n",
       "      <td>Kargapolov M. I. and Merzlyakov Yu. I., Fundamentals of the Theory of Groups, Springer-Verlag, New York; Heidelberg; Berlin (1979). \\nMR0551207</td>\n",
       "      <td>Unknown</td>\n",
       "      <td>No</td>\n",
       "      <td>142</td>\n",
       "      <td>1</td>\n",
       "      <td>142</td>\n",
       "    </tr>\n",
       "    <tr>\n",
       "      <th>3529</th>\n",
       "      <td>1695079</td>\n",
       "      <td>Mathas, A.</td>\n",
       "      <td>J. Algebraic Combin.</td>\n",
       "      <td>1999</td>\n",
       "      <td>article</td>\n",
       "      <td>M. Schönert et al., \"Gap: groups, algorithms, and programming,\" Lehrstuhl D für Mathematik, RWTH Aachen, 3.4.4 edition, 1997.</td>\n",
       "      <td>3.4.4</td>\n",
       "      <td>No</td>\n",
       "      <td>125</td>\n",
       "      <td>2</td>\n",
       "      <td>125</td>\n",
       "    </tr>\n",
       "    <tr>\n",
       "      <th>3534</th>\n",
       "      <td>4187238</td>\n",
       "      <td>Morgan, L. and Morris, J. and Verret, G.</td>\n",
       "      <td>J. Algebra</td>\n",
       "      <td>2021</td>\n",
       "      <td>article</td>\n",
       "      <td>The Gap Group, Gap–groups, algorithms, and programming, http://www.gap-system.org, 2015.</td>\n",
       "      <td>Unknown</td>\n",
       "      <td>Yes</td>\n",
       "      <td>88</td>\n",
       "      <td>1</td>\n",
       "      <td>88</td>\n",
       "    </tr>\n",
       "    <tr>\n",
       "      <th>3535</th>\n",
       "      <td>1615333</td>\n",
       "      <td>Nebe, G.</td>\n",
       "      <td>Represent. Theory</td>\n",
       "      <td>1998</td>\n",
       "      <td>article</td>\n",
       "      <td>M. Schönert (ed.), Groups, Algorithms and Programming. Lehrstuhl D für Mathe- matik, RWTH Aachen, Germany (1994) available via anonymous ftp on the serve...</td>\n",
       "      <td>Unknown</td>\n",
       "      <td>No</td>\n",
       "      <td>193</td>\n",
       "      <td>1</td>\n",
       "      <td>193</td>\n",
       "    </tr>\n",
       "    <tr>\n",
       "      <th>3541</th>\n",
       "      <td>2824780</td>\n",
       "      <td>Tian, Y. and Lu, C.</td>\n",
       "      <td>J. Ind. Manag. Optim.</td>\n",
       "      <td>2011</td>\n",
       "      <td>article</td>\n",
       "      <td>X. Sun, C. Liu, D. Li and J. Gao, On duality gap in binary quadratic programming, Available from: http://www.optimization-online.org/DB_FILE/2010/01/2512...</td>\n",
       "      <td>Unknown</td>\n",
       "      <td>Yes</td>\n",
       "      <td>158</td>\n",
       "      <td>2</td>\n",
       "      <td>158</td>\n",
       "    </tr>\n",
       "  </tbody>\n",
       "</table>\n",
       "<p>734 rows × 11 columns</p>\n",
       "</div>"
      ],
      "text/plain": [
       "           MR                                                         Author  \\\n",
       "0     4056124                                        Abas, M. and Vetrík, T.   \n",
       "2     3942387               Abbas, A. and Assi, A. and García-Sánchez, P. A.   \n",
       "3     3354065                      Abdolghafourian, A. and Iranmanesh, M. A.   \n",
       "4     3646312  Abdolghafourian, A. and Iranmanesh, M. A. and Niemeyer, A. C.   \n",
       "5     1864795                                                  Abdollahi, A.   \n",
       "...       ...                                                            ...   \n",
       "3528  2347912                          Maksimenko, A. A. and Mamontov, A. S.   \n",
       "3529  1695079                                                     Mathas, A.   \n",
       "3534  4187238                       Morgan, L. and Morris, J. and Verret, G.   \n",
       "3535  1615333                                                       Nebe, G.   \n",
       "3541  2824780                                            Tian, Y. and Lu, C.   \n",
       "\n",
       "                                                        Journal  Year  \\\n",
       "0                                         Theoret. Comput. Sci.  2020   \n",
       "2     Rev. R. Acad. Cienc. Exactas Fís. Nat. Ser. A Mat. RACSAM  2019   \n",
       "3                                                 Comm. Algebra  2015   \n",
       "4                                         J. Pure Appl. Algebra  2017   \n",
       "5                                              Houston J. Math.  2001   \n",
       "...                                                         ...   ...   \n",
       "3528                                          Sibirsk. Mat. Zh.  2007   \n",
       "3529                                       J. Algebraic Combin.  1999   \n",
       "3534                                                 J. Algebra  2021   \n",
       "3535                                          Represent. Theory  1998   \n",
       "3541                                      J. Ind. Manag. Optim.  2011   \n",
       "\n",
       "     Publication Type  \\\n",
       "0             article   \n",
       "2             article   \n",
       "3             article   \n",
       "4             article   \n",
       "5             article   \n",
       "...               ...   \n",
       "3528          article   \n",
       "3529          article   \n",
       "3534          article   \n",
       "3535          article   \n",
       "3541          article   \n",
       "\n",
       "                                                                                                                                                          Citation  \\\n",
       "0                                                         GAP – Groups, algorithms, programming - a system for computational discrete algebra, www.gap-system.org.   \n",
       "2                                    The GAP Group: GAP—groups, algorithms, and programming, version 4.7.5 (2014). http://www.gap-system.org. Accessed 19 Aug 2017   \n",
       "3                                                                          The GAP – Groups, Algorithms and Programming. Version 4.4.12, 2008. www.gap-system.org.   \n",
       "4                                                                  The GAP Group, GAP–Groups, Algorithms, and Programming, 4.7.8, 2015, http://www.gap-system.org.   \n",
       "5     M. Schönert et al. GAP - Groups, Algorithms, and Programming (Lehrsthul D für Mathematik, Reinisch-Westflische Technische Hochschule, Aachen, Germany, fi...   \n",
       "...                                                                                                                                                            ...   \n",
       "3528               Kargapolov M. I. and Merzlyakov Yu. I., Fundamentals of the Theory of Groups, Springer-Verlag, New York; Heidelberg; Berlin (1979). \\nMR0551207   \n",
       "3529                                 M. Schönert et al., \"Gap: groups, algorithms, and programming,\" Lehrstuhl D für Mathematik, RWTH Aachen, 3.4.4 edition, 1997.   \n",
       "3534                                                                      The Gap Group, Gap–groups, algorithms, and programming, http://www.gap-system.org, 2015.   \n",
       "3535  M. Schönert (ed.), Groups, Algorithms and Programming. Lehrstuhl D für Mathe- matik, RWTH Aachen, Germany (1994) available via anonymous ftp on the serve...   \n",
       "3541  X. Sun, C. Liu, D. Li and J. Gao, On duality gap in binary quadratic programming, Available from: http://www.optimization-online.org/DB_FILE/2010/01/2512...   \n",
       "\n",
       "      Version Website  Lentght  Accuracy Score  Lenght  \n",
       "0     Unknown     Yes      104               2     104  \n",
       "2       4.7.5     Yes      125               3     125  \n",
       "3      4.4.12     Yes       87               2      87  \n",
       "4       4.7.8     Yes       95               3      95  \n",
       "5     Unknown      No      168               1     168  \n",
       "...       ...     ...      ...             ...     ...  \n",
       "3528  Unknown      No      142               1     142  \n",
       "3529    3.4.4      No      125               2     125  \n",
       "3534  Unknown     Yes       88               1      88  \n",
       "3535  Unknown      No      193               1     193  \n",
       "3541  Unknown     Yes      158               2     158  \n",
       "\n",
       "[734 rows x 11 columns]"
      ]
     },
     "execution_count": 301,
     "metadata": {},
     "output_type": "execute_result"
    }
   ],
   "source": [
    "df2 = gap_df.groupby(['Year', 'Accuracy Score'])\n",
    "df2.head(11)"
   ]
  },
  {
   "cell_type": "markdown",
   "id": "jewish-harvest",
   "metadata": {},
   "source": [
    "### Releases by year"
   ]
  },
  {
   "cell_type": "markdown",
   "id": "continued-cisco",
   "metadata": {},
   "source": [
    "First we create a copy of our corpus dataset, containing only GAP citations with versions provided, all other entries such as Package citations are removed."
   ]
  },
  {
   "cell_type": "code",
   "execution_count": 62,
   "id": "upset-ireland",
   "metadata": {},
   "outputs": [],
   "source": [
    "versions_cited = gap_df['Version'].unique()"
   ]
  },
  {
   "cell_type": "code",
   "execution_count": 63,
   "id": "informal-python",
   "metadata": {},
   "outputs": [
    {
     "data": {
      "text/plain": [
       "array(['4.7.5', '4.4.12', '4.7.8', '4.3', '4.4', '4.4.4', '4.6.4',\n",
       "       '4.7.2', '4.6.5', '4.7.9', '4.8.8', '4.8.9', '4.4.10', '4.5.7',\n",
       "       '4.7.4', '4.7.7', '4.2', '4.6.12', '4.1', '4.10.0', '4.8.6',\n",
       "       '4.8.2', '4.10.2', '4.11.0', '4.4.2', '4.8.3', '10.1109', '4.8.7',\n",
       "       '4.6', '2.12', '4.9.1', '4.4.9', '4.8.4', '4.6.2', '1.2', '4.9.3',\n",
       "       '4.8.10', '4.5', '4.4.6', '4.4.7', '4.5.5', '1.4', '1.3.3',\n",
       "       '4.4.11', '5.7', '1.5.4', '4.10.1', '1.0.0', '4.4.10.2007',\n",
       "       '4.6.3', '1405.5063', '1.1', '3.4', '4.8.5', '4.5.6', '4.11',\n",
       "       '4.10', '4.9.2', '4.7.6', '4.6.9', '4.5.4', '3.4.4', '4.08.10',\n",
       "       '0710.3267', '0911.5589', '4.8', '4.9.0', '4.7', '3.3', '2.19',\n",
       "       '0.97', '10.14760', '1.2.1', '2.2.0', '1.5.1', '3.0', '2.0.0',\n",
       "       '4.4.2006', '4.5.3', '2.1.0', '3.1.0', '3.4.3', '1.0',\n",
       "       '55.0810.04', '4.6.1', '4.4.3', '4.8.1', '1.9.6', '1804.09707',\n",
       "       '3.1', '4.4.5', '1.4.0', '4.46', '4.9', '4.49', '10.01.16', '3.2'],\n",
       "      dtype=object)"
      ]
     },
     "execution_count": 63,
     "metadata": {},
     "output_type": "execute_result"
    }
   ],
   "source": [
    "versions_cited"
   ]
  },
  {
   "cell_type": "code",
   "execution_count": 64,
   "id": "chicken-syndicate",
   "metadata": {},
   "outputs": [],
   "source": [
    "release_dates = { \n",
    "    # dates from archive timestamps\n",
    "    '4.8.2': 2016, # 2016/02/20\n",
    "    '4.7.9': 2015, # 2015/11/29\n",
    "    '4.7.8': 2015, # 2015/06/09\n",
    "    '4.7.7': 2015, # 2015/02/13\n",
    "    '4.7.6': 2014, # 2014/11/15\n",
    "    '4.7.5': 2014, # 2014/05/24\n",
    "    '4.7.4': 2014, # 2014/02/20\n",
    "    '4.7.3': 2013, # 2014/02/15\n",
    "    '4.7.2': 2013, # 2013/12/01\n",
    "    '4.7': 2013,\n",
    "    '4.6.5': 2013, # 2013/07/20\n",
    "    '4.6.4': 2013, # 2013/05/04\n",
    "    '4.6.3': 2013, # 2013/03/18\n",
    "    '4.6.2': 2013, # 2013/02/02\n",
    "    '4.5.7': 2012, # 2012/12/14\n",
    "    '4.5.6': 2012, # 2012/09/16\n",
    "    '4.5.5': 2012, # 2012/07/16\n",
    "    '4.5.4': 2012, # 2013/06/04\n",
    "    '4.5': 2012, \n",
    "    # dates below from file creation\n",
    "    '4.4.12': 2008, # 2008/12/16\n",
    "    '4.4.11': 2008, # 2008/12/08\n",
    "    '4.4.10': 2007, # 2007/10/05\n",
    "    '4.4.9': 2006,  # 2006/11/02\n",
    "    '4.4.8': 2006,  # 2006/09/29\n",
    "    '4.4.7': 2006,  # 2006/03/17\n",
    "    '4.4.6': 2005,  # 2005/09/02\n",
    "    '4.4.5': 2005,  # 2005/05/13\n",
    "    '4.4.4': 2004,  # 2004/12/22\n",
    "    # dates below from http://www.gap-system.org/Download/Updates/index.html\n",
    "    '4.4.3': 2004,   # May 2004\n",
    "    '4.4.2': 2004,  # April 2004\n",
    "    # dates from http://www.gap-system.org/Doc/History/history.html\n",
    "    # if not stated otherwise\n",
    "    '4.4': 2004, \n",
    "    '4.3': 2002, \n",
    "    '4.2': 2000, # http://www.gap-system.org/ForumArchive/Linton.1/Steve.1/Release_.3/1.html\n",
    "    '4.1': 1999, \n",
    "    '3.4': 1997, # assume http://www.gap-system.org/Doc/History/preface_3.4.4.html\n",
    "}"
   ]
  },
  {
   "cell_type": "code",
   "execution_count": 65,
   "id": "aerial-analyst",
   "metadata": {},
   "outputs": [
    {
     "data": {
      "text/plain": [
       "dict_keys(['4.8.2', '4.7.9', '4.7.8', '4.7.7', '4.7.6', '4.7.5', '4.7.4', '4.7.3', '4.7.2', '4.7', '4.6.5', '4.6.4', '4.6.3', '4.6.2', '4.5.7', '4.5.6', '4.5.5', '4.5.4', '4.5', '4.4.12', '4.4.11', '4.4.10', '4.4.9', '4.4.8', '4.4.7', '4.4.6', '4.4.5', '4.4.4', '4.4.3', '4.4.2', '4.4', '4.3', '4.2', '4.1', '3.4'])"
      ]
     },
     "execution_count": 65,
     "metadata": {},
     "output_type": "execute_result"
    }
   ],
   "source": [
    "release_dates.keys()"
   ]
  },
  {
   "cell_type": "code",
   "execution_count": 66,
   "id": "thousand-belgium",
   "metadata": {},
   "outputs": [],
   "source": [
    "def release_year(version):\n",
    "    if version in release_dates.keys():\n",
    "        return release_dates[version]\n",
    "    else:\n",
    "        return 'Unknown'"
   ]
  },
  {
   "cell_type": "code",
   "execution_count": 67,
   "id": "social-playing",
   "metadata": {},
   "outputs": [
    {
     "data": {
      "text/plain": [
       "2013"
      ]
     },
     "execution_count": 67,
     "metadata": {},
     "output_type": "execute_result"
    }
   ],
   "source": [
    "release_year('4.7.2')"
   ]
  },
  {
   "cell_type": "code",
   "execution_count": 68,
   "id": "downtown-address",
   "metadata": {},
   "outputs": [],
   "source": [
    "gap_df['ReleaseYear'] = gap_df['Version'].map(release_year)"
   ]
  },
  {
   "cell_type": "code",
   "execution_count": 69,
   "id": "polish-equilibrium",
   "metadata": {},
   "outputs": [],
   "source": [
    "data = gap_df['ReleaseYear'].value_counts()"
   ]
  },
  {
   "cell_type": "markdown",
   "id": "veterinary-queens",
   "metadata": {},
   "source": [
    "* Number of Citations by year of cited GAP release, in textual and graphic forms."
   ]
  },
  {
   "cell_type": "code",
   "execution_count": 70,
   "id": "cheap-wholesale",
   "metadata": {
    "scrolled": true
   },
   "outputs": [
    {
     "data": {
      "text/plain": [
       "2004       449\n",
       "Unknown    403\n",
       "2008       307\n",
       "2002       211\n",
       "2007       135\n",
       "2000       122\n",
       "2014       120\n",
       "2013       112\n",
       "2015       105\n",
       "2006        86\n",
       "2012        84\n",
       "1999        32\n",
       "1997        30\n",
       "2005        13\n",
       "2016        10\n",
       "Name: ReleaseYear, dtype: int64"
      ]
     },
     "execution_count": 70,
     "metadata": {},
     "output_type": "execute_result"
    }
   ],
   "source": [
    "data"
   ]
  },
  {
   "cell_type": "code",
   "execution_count": 305,
   "id": "royal-blame",
   "metadata": {},
   "outputs": [
    {
     "data": {
      "text/plain": [
       "<AxesSubplot:title={'center':'Citations by year of cited GAP release'}, xlabel='Years', ylabel='Count'>"
      ]
     },
     "execution_count": 305,
     "metadata": {},
     "output_type": "execute_result"
    },
    {
     "data": {
      "image/png": "[encoded data removed]",
      "text/plain": [
       "<Figure size 792x360 with 1 Axes>"
      ]
     },
     "metadata": {
      "needs_background": "light"
     },
     "output_type": "display_data"
    }
   ],
   "source": [
    "data.loc[sorted(data.index.intersection(range(1997, 2021)))].plot(kind=\"bar\", \n",
    "                figsize=(11, 5), title='Citations by year of cited GAP release', xlabel='Years', \n",
    "                ylabel='Count', color='green')"
   ]
  },
  {
   "cell_type": "code",
   "execution_count": 127,
   "id": "surgical-cheat",
   "metadata": {},
   "outputs": [
    {
     "data": {
      "text/plain": [
       "<AxesSubplot:title={'center':'pie'}, ylabel='Frequency'>"
      ]
     },
     "execution_count": 127,
     "metadata": {},
     "output_type": "execute_result"
    },
    {
     "data": {
      "image/png": "[encoded data removed]",
      "text/plain": [
       "<Figure size 432x288 with 1 Axes>"
      ]
     },
     "metadata": {
      "needs_background": "light"
     },
     "output_type": "display_data"
    }
   ],
   "source": [
    "dat.plot(kind=\"hist\", title=\"pie\")"
   ]
  },
  {
   "cell_type": "markdown",
   "id": "metallic-omaha",
   "metadata": {},
   "source": [
    "all_years = corpus_df.groupby(['year','ReleaseYear'])['Year'].count()\n",
    "all_years"
   ]
  },
  {
   "cell_type": "code",
   "execution_count": 148,
   "id": "driven-auckland",
   "metadata": {
    "scrolled": true
   },
   "outputs": [
    {
     "data": {
      "text/html": [
       "<div>\n",
       "<style scoped>\n",
       "    .dataframe tbody tr th:only-of-type {\n",
       "        vertical-align: middle;\n",
       "    }\n",
       "\n",
       "    .dataframe tbody tr th {\n",
       "        vertical-align: top;\n",
       "    }\n",
       "\n",
       "    .dataframe thead th {\n",
       "        text-align: right;\n",
       "    }\n",
       "</style>\n",
       "<table border=\"1\" class=\"dataframe\">\n",
       "  <thead>\n",
       "    <tr style=\"text-align: right;\">\n",
       "      <th></th>\n",
       "      <th>MR</th>\n",
       "      <th>Author</th>\n",
       "      <th>Journal</th>\n",
       "      <th>Year</th>\n",
       "      <th>Publication Type</th>\n",
       "      <th>Citation</th>\n",
       "      <th>Version</th>\n",
       "      <th>Website</th>\n",
       "      <th>Lentght</th>\n",
       "    </tr>\n",
       "  </thead>\n",
       "  <tbody>\n",
       "    <tr>\n",
       "      <th>3532</th>\n",
       "      <td>2592492</td>\n",
       "      <td>McInroy, J. and Shpectorov, S.</td>\n",
       "      <td>Discrete Math.</td>\n",
       "      <td>2010</td>\n",
       "      <td>article</td>\n",
       "      <td>The Gap Group, Gap - Groups, Algorithms, and Programming, Version 4.4.10, 2007. http://www.gap-system.org.</td>\n",
       "      <td>4.4.10</td>\n",
       "      <td>Yes</td>\n",
       "      <td>106</td>\n",
       "    </tr>\n",
       "    <tr>\n",
       "      <th>3533</th>\n",
       "      <td>2592492</td>\n",
       "      <td>McInroy, J. and Shpectorov, S.</td>\n",
       "      <td>Discrete Math.</td>\n",
       "      <td>2010</td>\n",
       "      <td>article</td>\n",
       "      <td>L.H. Soicher, The Grape package for Gap, Version 4.3, 2006. http://www.maths.qmul.ac.uk/simleonard/grape/.</td>\n",
       "      <td>Package</td>\n",
       "      <td>Yes</td>\n",
       "      <td>106</td>\n",
       "    </tr>\n",
       "  </tbody>\n",
       "</table>\n",
       "</div>"
      ],
      "text/plain": [
       "           MR                          Author         Journal  Year  \\\n",
       "3532  2592492  McInroy, J. and Shpectorov, S.  Discrete Math.  2010   \n",
       "3533  2592492  McInroy, J. and Shpectorov, S.  Discrete Math.  2010   \n",
       "\n",
       "     Publication Type  \\\n",
       "3532          article   \n",
       "3533          article   \n",
       "\n",
       "                                                                                                        Citation  \\\n",
       "3532  The Gap Group, Gap - Groups, Algorithms, and Programming, Version 4.4.10, 2007. http://www.gap-system.org.   \n",
       "3533  L.H. Soicher, The Grape package for Gap, Version 4.3, 2006. http://www.maths.qmul.ac.uk/simleonard/grape/.   \n",
       "\n",
       "      Version Website  Lentght  \n",
       "3532   4.4.10     Yes      106  \n",
       "3533  Package     Yes      106  "
      ]
     },
     "execution_count": 148,
     "metadata": {},
     "output_type": "execute_result"
    }
   ],
   "source": [
    "get_c('2592492')"
   ]
  },
  {
   "cell_type": "code",
   "execution_count": 146,
   "id": "dependent-individual",
   "metadata": {
    "scrolled": true
   },
   "outputs": [],
   "source": [
    "years = gap_df['Year'].unique()\n",
    "dat = gap_df['Year'].value_counts()\n",
    "g = gap_df['Version'].value_counts()\n",
    "ver = gap_df['Version'].unique()"
   ]
  },
  {
   "cell_type": "code",
   "execution_count": 155,
   "id": "lined-timeline",
   "metadata": {},
   "outputs": [
    {
     "data": {
      "text/plain": [
       "article          2196\n",
       "incollection       20\n",
       "inproceedings       3\n",
       "Name: Publication Type, dtype: int64"
      ]
     },
     "execution_count": 155,
     "metadata": {},
     "output_type": "execute_result"
    }
   ],
   "source": [
    "gap_df['Publication Type'].value_counts()"
   ]
  },
  {
   "cell_type": "code",
   "execution_count": 165,
   "id": "sought-clearance",
   "metadata": {
    "scrolled": true
   },
   "outputs": [
    {
     "data": {
      "text/html": [
       "<div>\n",
       "<style scoped>\n",
       "    .dataframe tbody tr th:only-of-type {\n",
       "        vertical-align: middle;\n",
       "    }\n",
       "\n",
       "    .dataframe tbody tr th {\n",
       "        vertical-align: top;\n",
       "    }\n",
       "\n",
       "    .dataframe thead th {\n",
       "        text-align: right;\n",
       "    }\n",
       "</style>\n",
       "<table border=\"1\" class=\"dataframe\">\n",
       "  <thead>\n",
       "    <tr style=\"text-align: right;\">\n",
       "      <th></th>\n",
       "      <th></th>\n",
       "      <th>Publication Type</th>\n",
       "    </tr>\n",
       "    <tr>\n",
       "      <th>Publication Type</th>\n",
       "      <th>Year</th>\n",
       "      <th></th>\n",
       "    </tr>\n",
       "  </thead>\n",
       "  <tbody>\n",
       "    <tr>\n",
       "      <th rowspan=\"27\" valign=\"top\">article</th>\n",
       "      <th>1993</th>\n",
       "      <td>2</td>\n",
       "    </tr>\n",
       "    <tr>\n",
       "      <th>1994</th>\n",
       "      <td>1</td>\n",
       "    </tr>\n",
       "    <tr>\n",
       "      <th>1997</th>\n",
       "      <td>8</td>\n",
       "    </tr>\n",
       "    <tr>\n",
       "      <th>1998</th>\n",
       "      <td>3</td>\n",
       "    </tr>\n",
       "    <tr>\n",
       "      <th>1999</th>\n",
       "      <td>4</td>\n",
       "    </tr>\n",
       "    <tr>\n",
       "      <th>2000</th>\n",
       "      <td>7</td>\n",
       "    </tr>\n",
       "    <tr>\n",
       "      <th>2001</th>\n",
       "      <td>26</td>\n",
       "    </tr>\n",
       "    <tr>\n",
       "      <th>2002</th>\n",
       "      <td>24</td>\n",
       "    </tr>\n",
       "    <tr>\n",
       "      <th>2003</th>\n",
       "      <td>48</td>\n",
       "    </tr>\n",
       "    <tr>\n",
       "      <th>2004</th>\n",
       "      <td>68</td>\n",
       "    </tr>\n",
       "    <tr>\n",
       "      <th>2005</th>\n",
       "      <td>83</td>\n",
       "    </tr>\n",
       "    <tr>\n",
       "      <th>2006</th>\n",
       "      <td>80</td>\n",
       "    </tr>\n",
       "    <tr>\n",
       "      <th>2007</th>\n",
       "      <td>116</td>\n",
       "    </tr>\n",
       "    <tr>\n",
       "      <th>2008</th>\n",
       "      <td>108</td>\n",
       "    </tr>\n",
       "    <tr>\n",
       "      <th>2009</th>\n",
       "      <td>93</td>\n",
       "    </tr>\n",
       "    <tr>\n",
       "      <th>2010</th>\n",
       "      <td>130</td>\n",
       "    </tr>\n",
       "    <tr>\n",
       "      <th>2011</th>\n",
       "      <td>121</td>\n",
       "    </tr>\n",
       "    <tr>\n",
       "      <th>2012</th>\n",
       "      <td>124</td>\n",
       "    </tr>\n",
       "    <tr>\n",
       "      <th>2013</th>\n",
       "      <td>128</td>\n",
       "    </tr>\n",
       "    <tr>\n",
       "      <th>2014</th>\n",
       "      <td>126</td>\n",
       "    </tr>\n",
       "    <tr>\n",
       "      <th>2015</th>\n",
       "      <td>132</td>\n",
       "    </tr>\n",
       "    <tr>\n",
       "      <th>2016</th>\n",
       "      <td>126</td>\n",
       "    </tr>\n",
       "    <tr>\n",
       "      <th>2017</th>\n",
       "      <td>161</td>\n",
       "    </tr>\n",
       "    <tr>\n",
       "      <th>2018</th>\n",
       "      <td>142</td>\n",
       "    </tr>\n",
       "    <tr>\n",
       "      <th>2019</th>\n",
       "      <td>146</td>\n",
       "    </tr>\n",
       "    <tr>\n",
       "      <th>2020</th>\n",
       "      <td>154</td>\n",
       "    </tr>\n",
       "    <tr>\n",
       "      <th>2021</th>\n",
       "      <td>35</td>\n",
       "    </tr>\n",
       "    <tr>\n",
       "      <th rowspan=\"5\" valign=\"top\">incollection</th>\n",
       "      <th>2000</th>\n",
       "      <td>3</td>\n",
       "    </tr>\n",
       "    <tr>\n",
       "      <th>2001</th>\n",
       "      <td>6</td>\n",
       "    </tr>\n",
       "    <tr>\n",
       "      <th>2002</th>\n",
       "      <td>5</td>\n",
       "    </tr>\n",
       "    <tr>\n",
       "      <th>2003</th>\n",
       "      <td>5</td>\n",
       "    </tr>\n",
       "    <tr>\n",
       "      <th>2004</th>\n",
       "      <td>1</td>\n",
       "    </tr>\n",
       "    <tr>\n",
       "      <th rowspan=\"2\" valign=\"top\">inproceedings</th>\n",
       "      <th>2001</th>\n",
       "      <td>1</td>\n",
       "    </tr>\n",
       "    <tr>\n",
       "      <th>2003</th>\n",
       "      <td>2</td>\n",
       "    </tr>\n",
       "  </tbody>\n",
       "</table>\n",
       "</div>"
      ],
      "text/plain": [
       "                       Publication Type\n",
       "Publication Type Year                  \n",
       "article          1993                 2\n",
       "                 1994                 1\n",
       "                 1997                 8\n",
       "                 1998                 3\n",
       "                 1999                 4\n",
       "                 2000                 7\n",
       "                 2001                26\n",
       "                 2002                24\n",
       "                 2003                48\n",
       "                 2004                68\n",
       "                 2005                83\n",
       "                 2006                80\n",
       "                 2007               116\n",
       "                 2008               108\n",
       "                 2009                93\n",
       "                 2010               130\n",
       "                 2011               121\n",
       "                 2012               124\n",
       "                 2013               128\n",
       "                 2014               126\n",
       "                 2015               132\n",
       "                 2016               126\n",
       "                 2017               161\n",
       "                 2018               142\n",
       "                 2019               146\n",
       "                 2020               154\n",
       "                 2021                35\n",
       "incollection     2000                 3\n",
       "                 2001                 6\n",
       "                 2002                 5\n",
       "                 2003                 5\n",
       "                 2004                 1\n",
       "inproceedings    2001                 1\n",
       "                 2003                 2"
      ]
     },
     "execution_count": 165,
     "metadata": {},
     "output_type": "execute_result"
    }
   ],
   "source": [
    "yea = gap_df.groupby(['Publication Type', 'Year'])['Publication Type'].count()\n",
    "yea = pd.DataFrame(data=yea)\n",
    "yea"
   ]
  },
  {
   "cell_type": "code",
   "execution_count": 166,
   "id": "temporal-scratch",
   "metadata": {
    "scrolled": true
   },
   "outputs": [
    {
     "data": {
      "text/plain": [
       "<AxesSubplot:title={'center':'Citations by year of cited GAP release'}, xlabel='Years', ylabel='Count'>"
      ]
     },
     "execution_count": 166,
     "metadata": {},
     "output_type": "execute_result"
    },
    {
     "data": {
      "image/png": "[encoded data removed]",
      "text/plain": [
       "<Figure size 792x360 with 1 Axes>"
      ]
     },
     "metadata": {
      "needs_background": "light"
     },
     "output_type": "display_data"
    }
   ],
   "source": [
    "yea.plot(kind=\"bar\", \n",
    "                figsize=(11, 5), title='Citations by year of cited GAP release', xlabel='Years', \n",
    "                ylabel='Count', color='green')"
   ]
  },
  {
   "cell_type": "code",
   "execution_count": 170,
   "id": "aware-annex",
   "metadata": {
    "collapsed": true
   },
   "outputs": [
    {
     "data": {
      "text/html": [
       "<div>\n",
       "<style scoped>\n",
       "    .dataframe tbody tr th:only-of-type {\n",
       "        vertical-align: middle;\n",
       "    }\n",
       "\n",
       "    .dataframe tbody tr th {\n",
       "        vertical-align: top;\n",
       "    }\n",
       "\n",
       "    .dataframe thead th {\n",
       "        text-align: right;\n",
       "    }\n",
       "</style>\n",
       "<table border=\"1\" class=\"dataframe\">\n",
       "  <thead>\n",
       "    <tr style=\"text-align: right;\">\n",
       "      <th></th>\n",
       "      <th>Journal</th>\n",
       "    </tr>\n",
       "    <tr>\n",
       "      <th>Year</th>\n",
       "      <th></th>\n",
       "    </tr>\n",
       "  </thead>\n",
       "  <tbody>\n",
       "    <tr>\n",
       "      <th>1993</th>\n",
       "      <td>[Math. Comp.]</td>\n",
       "    </tr>\n",
       "    <tr>\n",
       "      <th>1994</th>\n",
       "      <td>[Math. Comp.]</td>\n",
       "    </tr>\n",
       "    <tr>\n",
       "      <th>1997</th>\n",
       "      <td>[Trans. Amer. Math. Soc., J. Algebra, J. London Math. Soc. (2), Comment. Math. Helv., Proc. Amer. Math. Soc., Proc. London Math. Soc. (3)]</td>\n",
       "    </tr>\n",
       "    <tr>\n",
       "      <th>1998</th>\n",
       "      <td>[J. Math. Soc. Japan, Math. Comp., J. London Math. Soc. (2)]</td>\n",
       "    </tr>\n",
       "    <tr>\n",
       "      <th>1999</th>\n",
       "      <td>[J. Algebra, Bull. London Math. Soc., Proc. London Math. Soc. (3), J. Algebraic Combin.]</td>\n",
       "    </tr>\n",
       "    <tr>\n",
       "      <th>2000</th>\n",
       "      <td>[Discrete Math., J. Algebra, J. Symbolic Comput., Comm. Algebra]</td>\n",
       "    </tr>\n",
       "    <tr>\n",
       "      <th>2001</th>\n",
       "      <td>[Quaest. Math., Comm. Algebra, J. Algebra, Boll. Unione Mat. Ital. Sez. B Artic. Ric. Mat. (8), Discrete Math. Theor. Comput. Sci., J. Korean Math. Soc.,...</td>\n",
       "    </tr>\n",
       "    <tr>\n",
       "      <th>2002</th>\n",
       "      <td>[Acta Sci. Math. (Szeged), Comm. Algebra, Internat. J. Algebra Comput., J. Combin. Des., J. Algebra, Des. Codes Cryptogr., Theoret. Comput. Sci., J. Symb...</td>\n",
       "    </tr>\n",
       "    <tr>\n",
       "      <th>2003</th>\n",
       "      <td>[Discrete Math., Represent. Theory, LMS J. Comput. Math., J. Combin. Theory Ser. A, European J. Combin., J. Symbolic Comput., Comm. Algebra, Finite Field...</td>\n",
       "    </tr>\n",
       "    <tr>\n",
       "      <th>2004</th>\n",
       "      <td>[Discrete Math., Aequationes Math., Comm. Algebra, J. Combin. Des., Publ. Math. Debrecen, Math. Proc. Cambridge Philos. Soc., LMS J. Comput. Math., Exper...</td>\n",
       "    </tr>\n",
       "    <tr>\n",
       "      <th>2005</th>\n",
       "      <td>[Comm. Algebra, Electron. J. Combin., Proc. Japan Acad. Ser. A Math. Sci., J. Algebra Appl., Internat. J. Algebra Comput., LMS J. Comput. Math., Beiträge...</td>\n",
       "    </tr>\n",
       "    <tr>\n",
       "      <th>2006</th>\n",
       "      <td>[Discrete Math., Des. Codes Cryptogr., Innov. Incidence Geom., Math. Proc. R. Ir. Acad., J. Algebra, Israel J. Math., Trans. Amer. Math. Soc., Arch. Math...</td>\n",
       "    </tr>\n",
       "    <tr>\n",
       "      <th>2007</th>\n",
       "      <td>[Houston J. Math., J. Pure Appl. Algebra, Bull. Malays. Math. Sci. Soc. (2), J. Algebra, Innov. Incidence Geom., Algebra Colloq., Discrete Appl. Math., I...</td>\n",
       "    </tr>\n",
       "    <tr>\n",
       "      <th>2008</th>\n",
       "      <td>[Comm. Algebra, Linear Algebra Appl., Results Math., Contrib. Discrete Math., Invent. Math., Fundam. Prikl. Mat., Quaest. Math., LMS J. Comput. Math., Pr...</td>\n",
       "    </tr>\n",
       "    <tr>\n",
       "      <th>2009</th>\n",
       "      <td>[J. Algebra Appl., Electron. J. Combin., Combin. Probab. Comput., J. Pure Appl. Algebra, Bull. Aust. Math. Soc., Discrete Math., Experiment. Math., Arch....</td>\n",
       "    </tr>\n",
       "    <tr>\n",
       "      <th>2010</th>\n",
       "      <td>[Comm. Algebra, Arch. Math. (Basel), Algebra Colloq., J. Algebra Appl., Electron. J. Combin., Adv. Math., Appl. Categ. Structures, Internat. J. Algebra C...</td>\n",
       "    </tr>\n",
       "    <tr>\n",
       "      <th>2011</th>\n",
       "      <td>[J. Algebra, Bol. Soc. Mat. Mexicana (3), Algebra Colloq., J. Reine Angew. Math., Ann. Mat. Pura Appl. (4), Discrete Math. Theor. Comput. Sci., European ...</td>\n",
       "    </tr>\n",
       "    <tr>\n",
       "      <th>2012</th>\n",
       "      <td>[Bull. Malays. Math. Sci. Soc. (2), Monatsh. Math., Electron. J. Combin., Canad. J. Math., J. Algebra, Algebr. Geom. Topol., Comm. Algebra, Internat. J. ...</td>\n",
       "    </tr>\n",
       "    <tr>\n",
       "      <th>2013</th>\n",
       "      <td>[Algebra Colloq., Des. Codes Cryptogr., J. Aust. Math. Soc., Israel J. Math., Algebr. Represent. Theory, J. Algebra, J. Algebra Appl., Appl. Algebra Engr...</td>\n",
       "    </tr>\n",
       "    <tr>\n",
       "      <th>2014</th>\n",
       "      <td>[European J. Combin., Bull. Iranian Math. Soc., J. Algebra Appl., Discrete Math. Theor. Comput. Sci., Quaest. Math., Ergodic Theory Dynam. Systems, Arch....</td>\n",
       "    </tr>\n",
       "    <tr>\n",
       "      <th>2015</th>\n",
       "      <td>[Comm. Algebra, J. Group Theory, Discrete Math., Serdica Math. J., Australas. J. Combin., Israel J. Math., Involve, J. Symbolic Comput., LMS J. Comput. M...</td>\n",
       "    </tr>\n",
       "    <tr>\n",
       "      <th>2016</th>\n",
       "      <td>[J. Algebra Appl., Comm. Algebra, Ars Combin., Zap. Nauchn. Sem. S.-Peterburg. Otdel. Mat. Inst. Steklov. (POMI), Bull. Aust. Math. Soc., Tr. Inst. Mat. ...</td>\n",
       "    </tr>\n",
       "    <tr>\n",
       "      <th>2017</th>\n",
       "      <td>[J. Pure Appl. Algebra, Des. Codes Cryptogr., J. Algebra Appl., Internat. J. Algebra Comput., Comm. Algebra, Discrete Math., Discrete Comput. Geom., Bull...</td>\n",
       "    </tr>\n",
       "    <tr>\n",
       "      <th>2018</th>\n",
       "      <td>[Comm. Algebra, Quaest. Math., J. Algebra Appl., Australas. J. Combin., Beitr. Algebra Geom., Eur. J. Math., Arch. Math. (Basel), Forum Math., Exp. Math....</td>\n",
       "    </tr>\n",
       "    <tr>\n",
       "      <th>2019</th>\n",
       "      <td>[Rev. R. Acad. Cienc. Exactas Fís. Nat. Ser. A Mat. RACSAM, J. Algebra Appl., Comm. Algebra, Australas. J. Combin., Discrete Math., Ars Math. Contemp., F...</td>\n",
       "    </tr>\n",
       "    <tr>\n",
       "      <th>2020</th>\n",
       "      <td>[Bull. Malays. Math. Sci. Soc., J. Algebra Appl., Atti Accad. Naz. Lincei Rend. Lincei Mat. Appl., Graphs Combin., Monatsh. Math., Des. Codes Cryptogr., ...</td>\n",
       "    </tr>\n",
       "    <tr>\n",
       "      <th>2021</th>\n",
       "      <td>[J. Symbolic Comput., J. Algebra, Trans. Amer. Math. Soc., Comm. Algebra, Discrete Appl. Math., J. Pure Appl. Algebra, J. Algebra Appl., J. Aust. Math. S...</td>\n",
       "    </tr>\n",
       "  </tbody>\n",
       "</table>\n",
       "</div>"
      ],
      "text/plain": [
       "                                                                                                                                                           Journal\n",
       "Year                                                                                                                                                              \n",
       "1993                                                                                                                                                 [Math. Comp.]\n",
       "1994                                                                                                                                                 [Math. Comp.]\n",
       "1997                    [Trans. Amer. Math. Soc., J. Algebra, J. London Math. Soc. (2), Comment. Math. Helv., Proc. Amer. Math. Soc., Proc. London Math. Soc. (3)]\n",
       "1998                                                                                                  [J. Math. Soc. Japan, Math. Comp., J. London Math. Soc. (2)]\n",
       "1999                                                                      [J. Algebra, Bull. London Math. Soc., Proc. London Math. Soc. (3), J. Algebraic Combin.]\n",
       "2000                                                                                              [Discrete Math., J. Algebra, J. Symbolic Comput., Comm. Algebra]\n",
       "2001  [Quaest. Math., Comm. Algebra, J. Algebra, Boll. Unione Mat. Ital. Sez. B Artic. Ric. Mat. (8), Discrete Math. Theor. Comput. Sci., J. Korean Math. Soc.,...\n",
       "2002  [Acta Sci. Math. (Szeged), Comm. Algebra, Internat. J. Algebra Comput., J. Combin. Des., J. Algebra, Des. Codes Cryptogr., Theoret. Comput. Sci., J. Symb...\n",
       "2003  [Discrete Math., Represent. Theory, LMS J. Comput. Math., J. Combin. Theory Ser. A, European J. Combin., J. Symbolic Comput., Comm. Algebra, Finite Field...\n",
       "2004  [Discrete Math., Aequationes Math., Comm. Algebra, J. Combin. Des., Publ. Math. Debrecen, Math. Proc. Cambridge Philos. Soc., LMS J. Comput. Math., Exper...\n",
       "2005  [Comm. Algebra, Electron. J. Combin., Proc. Japan Acad. Ser. A Math. Sci., J. Algebra Appl., Internat. J. Algebra Comput., LMS J. Comput. Math., Beiträge...\n",
       "2006  [Discrete Math., Des. Codes Cryptogr., Innov. Incidence Geom., Math. Proc. R. Ir. Acad., J. Algebra, Israel J. Math., Trans. Amer. Math. Soc., Arch. Math...\n",
       "2007  [Houston J. Math., J. Pure Appl. Algebra, Bull. Malays. Math. Sci. Soc. (2), J. Algebra, Innov. Incidence Geom., Algebra Colloq., Discrete Appl. Math., I...\n",
       "2008  [Comm. Algebra, Linear Algebra Appl., Results Math., Contrib. Discrete Math., Invent. Math., Fundam. Prikl. Mat., Quaest. Math., LMS J. Comput. Math., Pr...\n",
       "2009  [J. Algebra Appl., Electron. J. Combin., Combin. Probab. Comput., J. Pure Appl. Algebra, Bull. Aust. Math. Soc., Discrete Math., Experiment. Math., Arch....\n",
       "2010  [Comm. Algebra, Arch. Math. (Basel), Algebra Colloq., J. Algebra Appl., Electron. J. Combin., Adv. Math., Appl. Categ. Structures, Internat. J. Algebra C...\n",
       "2011  [J. Algebra, Bol. Soc. Mat. Mexicana (3), Algebra Colloq., J. Reine Angew. Math., Ann. Mat. Pura Appl. (4), Discrete Math. Theor. Comput. Sci., European ...\n",
       "2012  [Bull. Malays. Math. Sci. Soc. (2), Monatsh. Math., Electron. J. Combin., Canad. J. Math., J. Algebra, Algebr. Geom. Topol., Comm. Algebra, Internat. J. ...\n",
       "2013  [Algebra Colloq., Des. Codes Cryptogr., J. Aust. Math. Soc., Israel J. Math., Algebr. Represent. Theory, J. Algebra, J. Algebra Appl., Appl. Algebra Engr...\n",
       "2014  [European J. Combin., Bull. Iranian Math. Soc., J. Algebra Appl., Discrete Math. Theor. Comput. Sci., Quaest. Math., Ergodic Theory Dynam. Systems, Arch....\n",
       "2015  [Comm. Algebra, J. Group Theory, Discrete Math., Serdica Math. J., Australas. J. Combin., Israel J. Math., Involve, J. Symbolic Comput., LMS J. Comput. M...\n",
       "2016  [J. Algebra Appl., Comm. Algebra, Ars Combin., Zap. Nauchn. Sem. S.-Peterburg. Otdel. Mat. Inst. Steklov. (POMI), Bull. Aust. Math. Soc., Tr. Inst. Mat. ...\n",
       "2017  [J. Pure Appl. Algebra, Des. Codes Cryptogr., J. Algebra Appl., Internat. J. Algebra Comput., Comm. Algebra, Discrete Math., Discrete Comput. Geom., Bull...\n",
       "2018  [Comm. Algebra, Quaest. Math., J. Algebra Appl., Australas. J. Combin., Beitr. Algebra Geom., Eur. J. Math., Arch. Math. (Basel), Forum Math., Exp. Math....\n",
       "2019  [Rev. R. Acad. Cienc. Exactas Fís. Nat. Ser. A Mat. RACSAM, J. Algebra Appl., Comm. Algebra, Australas. J. Combin., Discrete Math., Ars Math. Contemp., F...\n",
       "2020  [Bull. Malays. Math. Sci. Soc., J. Algebra Appl., Atti Accad. Naz. Lincei Rend. Lincei Mat. Appl., Graphs Combin., Monatsh. Math., Des. Codes Cryptogr., ...\n",
       "2021  [J. Symbolic Comput., J. Algebra, Trans. Amer. Math. Soc., Comm. Algebra, Discrete Appl. Math., J. Pure Appl. Algebra, J. Algebra Appl., J. Aust. Math. S..."
      ]
     },
     "execution_count": 170,
     "metadata": {},
     "output_type": "execute_result"
    }
   ],
   "source": [
    "jou = gap_df.groupby('Year')['Journal'].unique()\n",
    "jou = pd.DataFrame(data=jou)\n",
    "jou"
   ]
  },
  {
   "cell_type": "code",
   "execution_count": 92,
   "id": "considered-palace",
   "metadata": {
    "collapsed": true
   },
   "outputs": [
    {
     "data": {
      "text/plain": [
       "Lentght\n",
       "54      1\n",
       "55      1\n",
       "56      2\n",
       "58      2\n",
       "61      1\n",
       "       ..\n",
       "265     1\n",
       "283     1\n",
       "287     1\n",
       "288     1\n",
       "1076    1\n",
       "Length: 127, dtype: int64"
      ]
     },
     "execution_count": 92,
     "metadata": {},
     "output_type": "execute_result"
    }
   ],
   "source": [
    "lee = gap_df.groupby('Lentght')\n",
    "lee.size()"
   ]
  },
  {
   "cell_type": "code",
   "execution_count": 142,
   "id": "technological-nomination",
   "metadata": {},
   "outputs": [
    {
     "data": {
      "text/plain": [
       "array(['Abbas, A. and Assi, A. and García-Sánchez, P. A.',\n",
       "       'Abdolghafourian, A. and Iranmanesh, M. A.',\n",
       "       'Abdolghafourian, A. and Iranmanesh, M. A. and Niemeyer, A. C.',\n",
       "       ..., 'Künzer, M. and Mathas, A.', 'Mathas, A.',\n",
       "       'McInroy, J. and Shpectorov, S.'], dtype=object)"
      ]
     },
     "execution_count": 142,
     "metadata": {},
     "output_type": "execute_result"
    }
   ],
   "source": [
    "au7 = gap_df['Author'].unique()\n",
    "au7"
   ]
  },
  {
   "cell_type": "code",
   "execution_count": 131,
   "id": "about-posting",
   "metadata": {
    "collapsed": true
   },
   "outputs": [
    {
     "data": {
      "text/html": [
       "<div>\n",
       "<style scoped>\n",
       "    .dataframe tbody tr th:only-of-type {\n",
       "        vertical-align: middle;\n",
       "    }\n",
       "\n",
       "    .dataframe tbody tr th {\n",
       "        vertical-align: top;\n",
       "    }\n",
       "\n",
       "    .dataframe thead th {\n",
       "        text-align: right;\n",
       "    }\n",
       "</style>\n",
       "<table border=\"1\" class=\"dataframe\">\n",
       "  <thead>\n",
       "    <tr style=\"text-align: right;\">\n",
       "      <th>Year</th>\n",
       "      <th>1993</th>\n",
       "      <th>1994</th>\n",
       "      <th>1997</th>\n",
       "      <th>1998</th>\n",
       "      <th>1999</th>\n",
       "      <th>2000</th>\n",
       "      <th>2001</th>\n",
       "      <th>2002</th>\n",
       "      <th>2003</th>\n",
       "      <th>2004</th>\n",
       "      <th>...</th>\n",
       "      <th>2012</th>\n",
       "      <th>2013</th>\n",
       "      <th>2014</th>\n",
       "      <th>2015</th>\n",
       "      <th>2016</th>\n",
       "      <th>2017</th>\n",
       "      <th>2018</th>\n",
       "      <th>2019</th>\n",
       "      <th>2020</th>\n",
       "      <th>2021</th>\n",
       "    </tr>\n",
       "    <tr>\n",
       "      <th>ReleaseYear</th>\n",
       "      <th></th>\n",
       "      <th></th>\n",
       "      <th></th>\n",
       "      <th></th>\n",
       "      <th></th>\n",
       "      <th></th>\n",
       "      <th></th>\n",
       "      <th></th>\n",
       "      <th></th>\n",
       "      <th></th>\n",
       "      <th></th>\n",
       "      <th></th>\n",
       "      <th></th>\n",
       "      <th></th>\n",
       "      <th></th>\n",
       "      <th></th>\n",
       "      <th></th>\n",
       "      <th></th>\n",
       "      <th></th>\n",
       "      <th></th>\n",
       "      <th></th>\n",
       "    </tr>\n",
       "  </thead>\n",
       "  <tbody>\n",
       "    <tr>\n",
       "      <th>1997</th>\n",
       "      <td>0.0</td>\n",
       "      <td>0.0</td>\n",
       "      <td>5.0</td>\n",
       "      <td>1.0</td>\n",
       "      <td>2.0</td>\n",
       "      <td>7.0</td>\n",
       "      <td>5.0</td>\n",
       "      <td>3.0</td>\n",
       "      <td>5.0</td>\n",
       "      <td>2.0</td>\n",
       "      <td>...</td>\n",
       "      <td>0.0</td>\n",
       "      <td>0.0</td>\n",
       "      <td>0.0</td>\n",
       "      <td>0.0</td>\n",
       "      <td>0.0</td>\n",
       "      <td>0.0</td>\n",
       "      <td>0.0</td>\n",
       "      <td>0.0</td>\n",
       "      <td>0.0</td>\n",
       "      <td>0.0</td>\n",
       "    </tr>\n",
       "    <tr>\n",
       "      <th>1999</th>\n",
       "      <td>0.0</td>\n",
       "      <td>0.0</td>\n",
       "      <td>0.0</td>\n",
       "      <td>0.0</td>\n",
       "      <td>0.0</td>\n",
       "      <td>2.0</td>\n",
       "      <td>10.0</td>\n",
       "      <td>6.0</td>\n",
       "      <td>4.0</td>\n",
       "      <td>4.0</td>\n",
       "      <td>...</td>\n",
       "      <td>0.0</td>\n",
       "      <td>2.0</td>\n",
       "      <td>0.0</td>\n",
       "      <td>0.0</td>\n",
       "      <td>0.0</td>\n",
       "      <td>0.0</td>\n",
       "      <td>0.0</td>\n",
       "      <td>0.0</td>\n",
       "      <td>0.0</td>\n",
       "      <td>0.0</td>\n",
       "    </tr>\n",
       "    <tr>\n",
       "      <th>2000</th>\n",
       "      <td>0.0</td>\n",
       "      <td>0.0</td>\n",
       "      <td>0.0</td>\n",
       "      <td>0.0</td>\n",
       "      <td>0.0</td>\n",
       "      <td>0.0</td>\n",
       "      <td>15.0</td>\n",
       "      <td>17.0</td>\n",
       "      <td>27.0</td>\n",
       "      <td>21.0</td>\n",
       "      <td>...</td>\n",
       "      <td>0.0</td>\n",
       "      <td>1.0</td>\n",
       "      <td>1.0</td>\n",
       "      <td>1.0</td>\n",
       "      <td>0.0</td>\n",
       "      <td>0.0</td>\n",
       "      <td>0.0</td>\n",
       "      <td>0.0</td>\n",
       "      <td>0.0</td>\n",
       "      <td>0.0</td>\n",
       "    </tr>\n",
       "    <tr>\n",
       "      <th>2002</th>\n",
       "      <td>0.0</td>\n",
       "      <td>0.0</td>\n",
       "      <td>0.0</td>\n",
       "      <td>0.0</td>\n",
       "      <td>0.0</td>\n",
       "      <td>0.0</td>\n",
       "      <td>0.0</td>\n",
       "      <td>0.0</td>\n",
       "      <td>17.0</td>\n",
       "      <td>37.0</td>\n",
       "      <td>...</td>\n",
       "      <td>7.0</td>\n",
       "      <td>1.0</td>\n",
       "      <td>7.0</td>\n",
       "      <td>2.0</td>\n",
       "      <td>3.0</td>\n",
       "      <td>1.0</td>\n",
       "      <td>0.0</td>\n",
       "      <td>2.0</td>\n",
       "      <td>3.0</td>\n",
       "      <td>0.0</td>\n",
       "    </tr>\n",
       "    <tr>\n",
       "      <th>2004</th>\n",
       "      <td>0.0</td>\n",
       "      <td>0.0</td>\n",
       "      <td>0.0</td>\n",
       "      <td>0.0</td>\n",
       "      <td>0.0</td>\n",
       "      <td>0.0</td>\n",
       "      <td>0.0</td>\n",
       "      <td>0.0</td>\n",
       "      <td>1.0</td>\n",
       "      <td>0.0</td>\n",
       "      <td>...</td>\n",
       "      <td>30.0</td>\n",
       "      <td>19.0</td>\n",
       "      <td>22.0</td>\n",
       "      <td>15.0</td>\n",
       "      <td>19.0</td>\n",
       "      <td>12.0</td>\n",
       "      <td>14.0</td>\n",
       "      <td>10.0</td>\n",
       "      <td>15.0</td>\n",
       "      <td>0.0</td>\n",
       "    </tr>\n",
       "    <tr>\n",
       "      <th>2005</th>\n",
       "      <td>0.0</td>\n",
       "      <td>0.0</td>\n",
       "      <td>0.0</td>\n",
       "      <td>0.0</td>\n",
       "      <td>0.0</td>\n",
       "      <td>0.0</td>\n",
       "      <td>0.0</td>\n",
       "      <td>0.0</td>\n",
       "      <td>0.0</td>\n",
       "      <td>0.0</td>\n",
       "      <td>...</td>\n",
       "      <td>1.0</td>\n",
       "      <td>0.0</td>\n",
       "      <td>1.0</td>\n",
       "      <td>0.0</td>\n",
       "      <td>1.0</td>\n",
       "      <td>1.0</td>\n",
       "      <td>0.0</td>\n",
       "      <td>0.0</td>\n",
       "      <td>0.0</td>\n",
       "      <td>0.0</td>\n",
       "    </tr>\n",
       "    <tr>\n",
       "      <th>2006</th>\n",
       "      <td>0.0</td>\n",
       "      <td>0.0</td>\n",
       "      <td>0.0</td>\n",
       "      <td>0.0</td>\n",
       "      <td>0.0</td>\n",
       "      <td>0.0</td>\n",
       "      <td>0.0</td>\n",
       "      <td>0.0</td>\n",
       "      <td>0.0</td>\n",
       "      <td>0.0</td>\n",
       "      <td>...</td>\n",
       "      <td>9.0</td>\n",
       "      <td>6.0</td>\n",
       "      <td>3.0</td>\n",
       "      <td>0.0</td>\n",
       "      <td>2.0</td>\n",
       "      <td>1.0</td>\n",
       "      <td>0.0</td>\n",
       "      <td>0.0</td>\n",
       "      <td>0.0</td>\n",
       "      <td>0.0</td>\n",
       "    </tr>\n",
       "    <tr>\n",
       "      <th>2007</th>\n",
       "      <td>0.0</td>\n",
       "      <td>0.0</td>\n",
       "      <td>0.0</td>\n",
       "      <td>0.0</td>\n",
       "      <td>0.0</td>\n",
       "      <td>0.0</td>\n",
       "      <td>0.0</td>\n",
       "      <td>0.0</td>\n",
       "      <td>0.0</td>\n",
       "      <td>0.0</td>\n",
       "      <td>...</td>\n",
       "      <td>14.0</td>\n",
       "      <td>10.0</td>\n",
       "      <td>6.0</td>\n",
       "      <td>8.0</td>\n",
       "      <td>6.0</td>\n",
       "      <td>6.0</td>\n",
       "      <td>3.0</td>\n",
       "      <td>2.0</td>\n",
       "      <td>1.0</td>\n",
       "      <td>0.0</td>\n",
       "    </tr>\n",
       "    <tr>\n",
       "      <th>2008</th>\n",
       "      <td>0.0</td>\n",
       "      <td>0.0</td>\n",
       "      <td>0.0</td>\n",
       "      <td>0.0</td>\n",
       "      <td>0.0</td>\n",
       "      <td>0.0</td>\n",
       "      <td>0.0</td>\n",
       "      <td>0.0</td>\n",
       "      <td>0.0</td>\n",
       "      <td>0.0</td>\n",
       "      <td>...</td>\n",
       "      <td>58.0</td>\n",
       "      <td>61.0</td>\n",
       "      <td>32.0</td>\n",
       "      <td>26.0</td>\n",
       "      <td>13.0</td>\n",
       "      <td>15.0</td>\n",
       "      <td>10.0</td>\n",
       "      <td>6.0</td>\n",
       "      <td>3.0</td>\n",
       "      <td>0.0</td>\n",
       "    </tr>\n",
       "    <tr>\n",
       "      <th>2012</th>\n",
       "      <td>0.0</td>\n",
       "      <td>0.0</td>\n",
       "      <td>0.0</td>\n",
       "      <td>0.0</td>\n",
       "      <td>0.0</td>\n",
       "      <td>0.0</td>\n",
       "      <td>0.0</td>\n",
       "      <td>0.0</td>\n",
       "      <td>0.0</td>\n",
       "      <td>0.0</td>\n",
       "      <td>...</td>\n",
       "      <td>0.0</td>\n",
       "      <td>19.0</td>\n",
       "      <td>21.0</td>\n",
       "      <td>12.0</td>\n",
       "      <td>7.0</td>\n",
       "      <td>8.0</td>\n",
       "      <td>8.0</td>\n",
       "      <td>6.0</td>\n",
       "      <td>3.0</td>\n",
       "      <td>0.0</td>\n",
       "    </tr>\n",
       "    <tr>\n",
       "      <th>2013</th>\n",
       "      <td>0.0</td>\n",
       "      <td>0.0</td>\n",
       "      <td>0.0</td>\n",
       "      <td>0.0</td>\n",
       "      <td>0.0</td>\n",
       "      <td>0.0</td>\n",
       "      <td>0.0</td>\n",
       "      <td>0.0</td>\n",
       "      <td>0.0</td>\n",
       "      <td>0.0</td>\n",
       "      <td>...</td>\n",
       "      <td>0.0</td>\n",
       "      <td>5.0</td>\n",
       "      <td>20.0</td>\n",
       "      <td>34.0</td>\n",
       "      <td>22.0</td>\n",
       "      <td>12.0</td>\n",
       "      <td>7.0</td>\n",
       "      <td>7.0</td>\n",
       "      <td>5.0</td>\n",
       "      <td>0.0</td>\n",
       "    </tr>\n",
       "  </tbody>\n",
       "</table>\n",
       "<p>11 rows × 27 columns</p>\n",
       "</div>"
      ],
      "text/plain": [
       "Year         1993  1994  1997  1998  1999  2000  2001  2002  2003  2004  ...  \\\n",
       "ReleaseYear                                                              ...   \n",
       "1997          0.0   0.0   5.0   1.0   2.0   7.0   5.0   3.0   5.0   2.0  ...   \n",
       "1999          0.0   0.0   0.0   0.0   0.0   2.0  10.0   6.0   4.0   4.0  ...   \n",
       "2000          0.0   0.0   0.0   0.0   0.0   0.0  15.0  17.0  27.0  21.0  ...   \n",
       "2002          0.0   0.0   0.0   0.0   0.0   0.0   0.0   0.0  17.0  37.0  ...   \n",
       "2004          0.0   0.0   0.0   0.0   0.0   0.0   0.0   0.0   1.0   0.0  ...   \n",
       "2005          0.0   0.0   0.0   0.0   0.0   0.0   0.0   0.0   0.0   0.0  ...   \n",
       "2006          0.0   0.0   0.0   0.0   0.0   0.0   0.0   0.0   0.0   0.0  ...   \n",
       "2007          0.0   0.0   0.0   0.0   0.0   0.0   0.0   0.0   0.0   0.0  ...   \n",
       "2008          0.0   0.0   0.0   0.0   0.0   0.0   0.0   0.0   0.0   0.0  ...   \n",
       "2012          0.0   0.0   0.0   0.0   0.0   0.0   0.0   0.0   0.0   0.0  ...   \n",
       "2013          0.0   0.0   0.0   0.0   0.0   0.0   0.0   0.0   0.0   0.0  ...   \n",
       "\n",
       "Year         2012  2013  2014  2015  2016  2017  2018  2019  2020  2021  \n",
       "ReleaseYear                                                              \n",
       "1997          0.0   0.0   0.0   0.0   0.0   0.0   0.0   0.0   0.0   0.0  \n",
       "1999          0.0   2.0   0.0   0.0   0.0   0.0   0.0   0.0   0.0   0.0  \n",
       "2000          0.0   1.0   1.0   1.0   0.0   0.0   0.0   0.0   0.0   0.0  \n",
       "2002          7.0   1.0   7.0   2.0   3.0   1.0   0.0   2.0   3.0   0.0  \n",
       "2004         30.0  19.0  22.0  15.0  19.0  12.0  14.0  10.0  15.0   0.0  \n",
       "2005          1.0   0.0   1.0   0.0   1.0   1.0   0.0   0.0   0.0   0.0  \n",
       "2006          9.0   6.0   3.0   0.0   2.0   1.0   0.0   0.0   0.0   0.0  \n",
       "2007         14.0  10.0   6.0   8.0   6.0   6.0   3.0   2.0   1.0   0.0  \n",
       "2008         58.0  61.0  32.0  26.0  13.0  15.0  10.0   6.0   3.0   0.0  \n",
       "2012          0.0  19.0  21.0  12.0   7.0   8.0   8.0   6.0   3.0   0.0  \n",
       "2013          0.0   5.0  20.0  34.0  22.0  12.0   7.0   7.0   5.0   0.0  \n",
       "\n",
       "[11 rows x 27 columns]"
      ]
     },
     "execution_count": 131,
     "metadata": {},
     "output_type": "execute_result"
    }
   ],
   "source": [
    "df2 = gap_df.groupby(['Year', 'ReleaseYear'])['ReleaseYear'].count().unstack('Year').fillna(0)\n",
    "df2.head(11)"
   ]
  },
  {
   "cell_type": "code",
   "execution_count": 143,
   "id": "numerical-alpha",
   "metadata": {
    "collapsed": true
   },
   "outputs": [
    {
     "name": "stderr",
     "output_type": "stream",
     "text": [
      "c:\\users\\fliqp_000\\appdata\\local\\programs\\python\\python38-32\\lib\\site-packages\\numpy\\ma\\core.py:2825: VisibleDeprecationWarning: Creating an ndarray from ragged nested sequences (which is a list-or-tuple of lists-or-tuples-or ndarrays with different lengths or shapes) is deprecated. If you meant to do this, you must specify 'dtype=object' when creating the ndarray.\n",
      "  _data = np.array(data, dtype=dtype, copy=copy,\n"
     ]
    },
    {
     "ename": "ValueError",
     "evalue": "x and y must be the same size",
     "output_type": "error",
     "traceback": [
      "\u001b[1;31m---------------------------------------------------------------------------\u001b[0m",
      "\u001b[1;31mValueError\u001b[0m                                Traceback (most recent call last)",
      "\u001b[1;32m<ipython-input-143-383c49a84fa4>\u001b[0m in \u001b[0;36m<module>\u001b[1;34m\u001b[0m\n\u001b[0;32m      1\u001b[0m \u001b[1;31m#objects = gap_df['Year']\u001b[0m\u001b[1;33m\u001b[0m\u001b[1;33m\u001b[0m\u001b[1;33m\u001b[0m\u001b[0m\n\u001b[0;32m      2\u001b[0m \u001b[1;33m\u001b[0m\u001b[0m\n\u001b[1;32m----> 3\u001b[1;33m \u001b[0mplt\u001b[0m\u001b[1;33m.\u001b[0m\u001b[0mscatter\u001b[0m\u001b[1;33m(\u001b[0m\u001b[0mlee\u001b[0m\u001b[1;33m,\u001b[0m \u001b[0myears\u001b[0m\u001b[1;33m,\u001b[0m \u001b[0malign\u001b[0m\u001b[1;33m=\u001b[0m\u001b[1;34m'center'\u001b[0m\u001b[1;33m,\u001b[0m \u001b[0malpha\u001b[0m\u001b[1;33m=\u001b[0m\u001b[1;36m0.5\u001b[0m\u001b[1;33m)\u001b[0m\u001b[1;33m\u001b[0m\u001b[1;33m\u001b[0m\u001b[0m\n\u001b[0m\u001b[0;32m      4\u001b[0m \u001b[0mplt\u001b[0m\u001b[1;33m.\u001b[0m\u001b[0myticks\u001b[0m\u001b[1;33m(\u001b[0m\u001b[0my_pos\u001b[0m\u001b[1;33m,\u001b[0m \u001b[0mobjects\u001b[0m\u001b[1;33m)\u001b[0m\u001b[1;33m\u001b[0m\u001b[1;33m\u001b[0m\u001b[0m\n\u001b[0;32m      5\u001b[0m \u001b[0mplt\u001b[0m\u001b[1;33m.\u001b[0m\u001b[0mxlabel\u001b[0m\u001b[1;33m(\u001b[0m\u001b[1;34m'Usage'\u001b[0m\u001b[1;33m)\u001b[0m\u001b[1;33m\u001b[0m\u001b[1;33m\u001b[0m\u001b[0m\n",
      "\u001b[1;32mc:\\users\\fliqp_000\\appdata\\local\\programs\\python\\python38-32\\lib\\site-packages\\matplotlib\\pyplot.py\u001b[0m in \u001b[0;36mscatter\u001b[1;34m(x, y, s, c, marker, cmap, norm, vmin, vmax, alpha, linewidths, verts, edgecolors, plotnonfinite, data, **kwargs)\u001b[0m\n\u001b[0;32m   2888\u001b[0m         \u001b[0mverts\u001b[0m\u001b[1;33m=\u001b[0m\u001b[0mcbook\u001b[0m\u001b[1;33m.\u001b[0m\u001b[0mdeprecation\u001b[0m\u001b[1;33m.\u001b[0m\u001b[0m_deprecated_parameter\u001b[0m\u001b[1;33m,\u001b[0m\u001b[1;33m\u001b[0m\u001b[1;33m\u001b[0m\u001b[0m\n\u001b[0;32m   2889\u001b[0m         edgecolors=None, *, plotnonfinite=False, data=None, **kwargs):\n\u001b[1;32m-> 2890\u001b[1;33m     __ret = gca().scatter(\n\u001b[0m\u001b[0;32m   2891\u001b[0m         \u001b[0mx\u001b[0m\u001b[1;33m,\u001b[0m \u001b[0my\u001b[0m\u001b[1;33m,\u001b[0m \u001b[0ms\u001b[0m\u001b[1;33m=\u001b[0m\u001b[0ms\u001b[0m\u001b[1;33m,\u001b[0m \u001b[0mc\u001b[0m\u001b[1;33m=\u001b[0m\u001b[0mc\u001b[0m\u001b[1;33m,\u001b[0m \u001b[0mmarker\u001b[0m\u001b[1;33m=\u001b[0m\u001b[0mmarker\u001b[0m\u001b[1;33m,\u001b[0m \u001b[0mcmap\u001b[0m\u001b[1;33m=\u001b[0m\u001b[0mcmap\u001b[0m\u001b[1;33m,\u001b[0m \u001b[0mnorm\u001b[0m\u001b[1;33m=\u001b[0m\u001b[0mnorm\u001b[0m\u001b[1;33m,\u001b[0m\u001b[1;33m\u001b[0m\u001b[1;33m\u001b[0m\u001b[0m\n\u001b[0;32m   2892\u001b[0m         \u001b[0mvmin\u001b[0m\u001b[1;33m=\u001b[0m\u001b[0mvmin\u001b[0m\u001b[1;33m,\u001b[0m \u001b[0mvmax\u001b[0m\u001b[1;33m=\u001b[0m\u001b[0mvmax\u001b[0m\u001b[1;33m,\u001b[0m \u001b[0malpha\u001b[0m\u001b[1;33m=\u001b[0m\u001b[0malpha\u001b[0m\u001b[1;33m,\u001b[0m \u001b[0mlinewidths\u001b[0m\u001b[1;33m=\u001b[0m\u001b[0mlinewidths\u001b[0m\u001b[1;33m,\u001b[0m\u001b[1;33m\u001b[0m\u001b[1;33m\u001b[0m\u001b[0m\n",
      "\u001b[1;32mc:\\users\\fliqp_000\\appdata\\local\\programs\\python\\python38-32\\lib\\site-packages\\matplotlib\\__init__.py\u001b[0m in \u001b[0;36minner\u001b[1;34m(ax, data, *args, **kwargs)\u001b[0m\n\u001b[0;32m   1445\u001b[0m     \u001b[1;32mdef\u001b[0m \u001b[0minner\u001b[0m\u001b[1;33m(\u001b[0m\u001b[0max\u001b[0m\u001b[1;33m,\u001b[0m \u001b[1;33m*\u001b[0m\u001b[0margs\u001b[0m\u001b[1;33m,\u001b[0m \u001b[0mdata\u001b[0m\u001b[1;33m=\u001b[0m\u001b[1;32mNone\u001b[0m\u001b[1;33m,\u001b[0m \u001b[1;33m**\u001b[0m\u001b[0mkwargs\u001b[0m\u001b[1;33m)\u001b[0m\u001b[1;33m:\u001b[0m\u001b[1;33m\u001b[0m\u001b[1;33m\u001b[0m\u001b[0m\n\u001b[0;32m   1446\u001b[0m         \u001b[1;32mif\u001b[0m \u001b[0mdata\u001b[0m \u001b[1;32mis\u001b[0m \u001b[1;32mNone\u001b[0m\u001b[1;33m:\u001b[0m\u001b[1;33m\u001b[0m\u001b[1;33m\u001b[0m\u001b[0m\n\u001b[1;32m-> 1447\u001b[1;33m             \u001b[1;32mreturn\u001b[0m \u001b[0mfunc\u001b[0m\u001b[1;33m(\u001b[0m\u001b[0max\u001b[0m\u001b[1;33m,\u001b[0m \u001b[1;33m*\u001b[0m\u001b[0mmap\u001b[0m\u001b[1;33m(\u001b[0m\u001b[0msanitize_sequence\u001b[0m\u001b[1;33m,\u001b[0m \u001b[0margs\u001b[0m\u001b[1;33m)\u001b[0m\u001b[1;33m,\u001b[0m \u001b[1;33m**\u001b[0m\u001b[0mkwargs\u001b[0m\u001b[1;33m)\u001b[0m\u001b[1;33m\u001b[0m\u001b[1;33m\u001b[0m\u001b[0m\n\u001b[0m\u001b[0;32m   1448\u001b[0m \u001b[1;33m\u001b[0m\u001b[0m\n\u001b[0;32m   1449\u001b[0m         \u001b[0mbound\u001b[0m \u001b[1;33m=\u001b[0m \u001b[0mnew_sig\u001b[0m\u001b[1;33m.\u001b[0m\u001b[0mbind\u001b[0m\u001b[1;33m(\u001b[0m\u001b[0max\u001b[0m\u001b[1;33m,\u001b[0m \u001b[1;33m*\u001b[0m\u001b[0margs\u001b[0m\u001b[1;33m,\u001b[0m \u001b[1;33m**\u001b[0m\u001b[0mkwargs\u001b[0m\u001b[1;33m)\u001b[0m\u001b[1;33m\u001b[0m\u001b[1;33m\u001b[0m\u001b[0m\n",
      "\u001b[1;32mc:\\users\\fliqp_000\\appdata\\local\\programs\\python\\python38-32\\lib\\site-packages\\matplotlib\\cbook\\deprecation.py\u001b[0m in \u001b[0;36mwrapper\u001b[1;34m(*inner_args, **inner_kwargs)\u001b[0m\n\u001b[0;32m    409\u001b[0m                          \u001b[1;32melse\u001b[0m \u001b[0mdeprecation_addendum\u001b[0m\u001b[1;33m,\u001b[0m\u001b[1;33m\u001b[0m\u001b[1;33m\u001b[0m\u001b[0m\n\u001b[0;32m    410\u001b[0m                 **kwargs)\n\u001b[1;32m--> 411\u001b[1;33m         \u001b[1;32mreturn\u001b[0m \u001b[0mfunc\u001b[0m\u001b[1;33m(\u001b[0m\u001b[1;33m*\u001b[0m\u001b[0minner_args\u001b[0m\u001b[1;33m,\u001b[0m \u001b[1;33m**\u001b[0m\u001b[0minner_kwargs\u001b[0m\u001b[1;33m)\u001b[0m\u001b[1;33m\u001b[0m\u001b[1;33m\u001b[0m\u001b[0m\n\u001b[0m\u001b[0;32m    412\u001b[0m \u001b[1;33m\u001b[0m\u001b[0m\n\u001b[0;32m    413\u001b[0m     \u001b[1;32mreturn\u001b[0m \u001b[0mwrapper\u001b[0m\u001b[1;33m\u001b[0m\u001b[1;33m\u001b[0m\u001b[0m\n",
      "\u001b[1;32mc:\\users\\fliqp_000\\appdata\\local\\programs\\python\\python38-32\\lib\\site-packages\\matplotlib\\axes\\_axes.py\u001b[0m in \u001b[0;36mscatter\u001b[1;34m(self, x, y, s, c, marker, cmap, norm, vmin, vmax, alpha, linewidths, verts, edgecolors, plotnonfinite, **kwargs)\u001b[0m\n\u001b[0;32m   4439\u001b[0m         \u001b[0my\u001b[0m \u001b[1;33m=\u001b[0m \u001b[0mnp\u001b[0m\u001b[1;33m.\u001b[0m\u001b[0mma\u001b[0m\u001b[1;33m.\u001b[0m\u001b[0mravel\u001b[0m\u001b[1;33m(\u001b[0m\u001b[0my\u001b[0m\u001b[1;33m)\u001b[0m\u001b[1;33m\u001b[0m\u001b[1;33m\u001b[0m\u001b[0m\n\u001b[0;32m   4440\u001b[0m         \u001b[1;32mif\u001b[0m \u001b[0mx\u001b[0m\u001b[1;33m.\u001b[0m\u001b[0msize\u001b[0m \u001b[1;33m!=\u001b[0m \u001b[0my\u001b[0m\u001b[1;33m.\u001b[0m\u001b[0msize\u001b[0m\u001b[1;33m:\u001b[0m\u001b[1;33m\u001b[0m\u001b[1;33m\u001b[0m\u001b[0m\n\u001b[1;32m-> 4441\u001b[1;33m             \u001b[1;32mraise\u001b[0m \u001b[0mValueError\u001b[0m\u001b[1;33m(\u001b[0m\u001b[1;34m\"x and y must be the same size\"\u001b[0m\u001b[1;33m)\u001b[0m\u001b[1;33m\u001b[0m\u001b[1;33m\u001b[0m\u001b[0m\n\u001b[0m\u001b[0;32m   4442\u001b[0m \u001b[1;33m\u001b[0m\u001b[0m\n\u001b[0;32m   4443\u001b[0m         \u001b[1;32mif\u001b[0m \u001b[0ms\u001b[0m \u001b[1;32mis\u001b[0m \u001b[1;32mNone\u001b[0m\u001b[1;33m:\u001b[0m\u001b[1;33m\u001b[0m\u001b[1;33m\u001b[0m\u001b[0m\n",
      "\u001b[1;31mValueError\u001b[0m: x and y must be the same size"
     ]
    },
    {
     "data": {
      "image/png": "[encoded data removed]",
      "text/plain": [
       "<Figure size 432x288 with 1 Axes>"
      ]
     },
     "metadata": {
      "needs_background": "light"
     },
     "output_type": "display_data"
    }
   ],
   "source": [
    "#objects = gap_df['Year']\n",
    "\n",
    "plt.scatter(lee, years, align='center', alpha=0.5)\n",
    "plt.yticks(y_pos, objects)\n",
    "plt.xlabel('Usage')\n",
    "plt.title('Programming language usage')\n",
    "\n",
    "plt.show()"
   ]
  },
  {
   "cell_type": "markdown",
   "id": "departmental-brush",
   "metadata": {},
   "source": [
    "# Interactive"
   ]
  },
  {
   "cell_type": "code",
   "execution_count": 139,
   "id": "approximate-extra",
   "metadata": {},
   "outputs": [],
   "source": [
    "from __future__ import print_function\n",
    "from ipywidgets import interact, interactive, fixed, interact_manual\n",
    "import ipywidgets as widgets\n",
    "%matplotlib inline\n",
    "import matplotlib.pyplot as plt\n",
    "import numpy as np\n",
    "import cufflinks as cf"
   ]
  },
  {
   "cell_type": "code",
   "execution_count": null,
   "id": "internal-albuquerque",
   "metadata": {},
   "outputs": [],
   "source": [
    "def y_selector(x):\n",
    "    return gap_df[gap_df['Year'] == x]"
   ]
  },
  {
   "cell_type": "code",
   "execution_count": null,
   "id": "agreed-photograph",
   "metadata": {},
   "outputs": [],
   "source": [
    "def h(p, q):\n",
    "    return (p, q)"
   ]
  },
  {
   "cell_type": "code",
   "execution_count": null,
   "id": "demanding-death",
   "metadata": {},
   "outputs": [],
   "source": [
    "gap_df['Year'].value_counts()"
   ]
  },
  {
   "cell_type": "code",
   "execution_count": null,
   "id": "agricultural-specialist",
   "metadata": {
    "scrolled": true
   },
   "outputs": [],
   "source": [
    "dat = gap_df['Year'].value_counts()\n",
    "years = dat.index\n",
    "years = years.sort_values()\n",
    "years"
   ]
  },
  {
   "cell_type": "code",
   "execution_count": null,
   "id": "violent-statistics",
   "metadata": {
    "scrolled": true
   },
   "outputs": [],
   "source": [
    "yea = interact(y_selector, x=years);"
   ]
  },
  {
   "cell_type": "code",
   "execution_count": null,
   "id": "minute-orleans",
   "metadata": {},
   "outputs": [],
   "source": []
  },
  {
   "cell_type": "code",
   "execution_count": null,
   "id": "czech-remark",
   "metadata": {},
   "outputs": [],
   "source": []
  },
  {
   "cell_type": "markdown",
   "id": "little-logic",
   "metadata": {},
   "source": [
    "Versions / year\n",
    "top authors / year\n",
    "data per year"
   ]
  },
  {
   "cell_type": "code",
   "execution_count": null,
   "id": "spiritual-measure",
   "metadata": {},
   "outputs": [],
   "source": [
    "def get_info(db, food, nutrient):\n",
    "    food_info = db\n",
    "    for word in food.split():\n",
    "        food_info = food_info[food_info['Food'].str.contains(word, case=False)]\n",
    "    nutritional_info = food_info[food_info['Nutrient'] == nutrient]\n",
    "    return nutritional_info\n",
    "\n",
    "interact(lambda food, nutrient: get_info(db, food, nutrient),\n",
    "        food='',\n",
    "        nutrient=list(db['Nutrient'].unique()))"
   ]
  },
  {
   "cell_type": "code",
   "execution_count": 140,
   "id": "detailed-houston",
   "metadata": {},
   "outputs": [
    {
     "data": {
      "application/vnd.jupyter.widget-view+json": {
       "model_id": "e22f7c4fd66d4f9aa5c7fbdeb3be17d4",
       "version_major": 2,
       "version_minor": 0
      },
      "text/plain": [
       "interactive(children=(Text(value='', description='author'), Dropdown(description='citation', options=('The GAP…"
      ]
     },
     "metadata": {},
     "output_type": "display_data"
    },
    {
     "data": {
      "text/plain": [
       "<function __main__.<lambda>(author, citation)>"
      ]
     },
     "execution_count": 140,
     "metadata": {},
     "output_type": "execute_result"
    }
   ],
   "source": [
    "def get_info(db, author, citation):\n",
    "    auth_info = db\n",
    "    for word in author.split():\n",
    "        auth_info = auth_info[auth_info['Author'].str.contains(word, case=False)]\n",
    "    cit_info = auth_info[auth_info['Citation'] == citation]\n",
    "    return cit_info\n",
    "\n",
    "interact(lambda author, citation: get_info(gap_df, author, citation),\n",
    "        author = '',\n",
    "        citation = list(gap_df['Citation'].unique()))"
   ]
  },
  {
   "cell_type": "code",
   "execution_count": 141,
   "id": "union-trademark",
   "metadata": {},
   "outputs": [
    {
     "data": {
      "application/vnd.jupyter.widget-view+json": {
       "model_id": "cb2ab8406a1c4a20af52adb23c877794",
       "version_major": 2,
       "version_minor": 0
      },
      "text/plain": [
       "FloatSlider(value=1993.0, description='Year', max=2021.0, min=1993.0, step=1.0)"
      ]
     },
     "metadata": {},
     "output_type": "display_data"
    }
   ],
   "source": [
    "yea = widgets.FloatSlider(min=min(gap_df['Year']), max=max(gap_df['Year']), step=1, description='Year')\n",
    "display(yea)"
   ]
  },
  {
   "cell_type": "code",
   "execution_count": null,
   "id": "american-cameroon",
   "metadata": {},
   "outputs": [],
   "source": [
    "import ipywidgets as widgets\n",
    "from IPython.display import display\n",
    "import matplotlib.pyplot as plt\n",
    "import numpy as np\n",
    "\n",
    "\n",
    "%matplotlib nbagg\n",
    "\n",
    "x = np.linspace(0, 2, 1000)\n",
    "fig, ax = plt.subplots(1, figsize=(10, 4))\n",
    "plt.suptitle('Sine Wave')\n",
    "\n",
    "\n",
    "def update_plot(amp, phase, freq):\n",
    "    \n",
    "    ax.clear()\n",
    "    y = amp * np.sin(freq * 2 * np.pi * x + phase * 2 * np.pi)\n",
    "    units = 'amp = {} $(psi)$ \\nphase = {} $(s)$ \\nfreq = {} $(Hz)$'\n",
    "    \n",
    "    ax.plot(x, y, label=units.format(amp, phase, freq))\n",
    "    ax.set_xlim(x[0], x[-1])\n",
    "    ax.legend(loc=1)\n",
    "    ax.set_xlabel('$(s)$')\n",
    "    plt.show()\n",
    "\n",
    "\n",
    "amp = widgets.FloatSlider(min=1, max=10, value=1, description='Amp:')\n",
    "phase = widgets.FloatSlider(min=0, max=5, value=0, description='Phase:')\n",
    "freq = widgets.FloatSlider(min=1, max=10, value=1, description='Freq:')\n",
    "    \n",
    "widgets.interactive(update_plot, amp=amp, phase=phase, freq=freq)"
   ]
  },
  {
   "cell_type": "markdown",
   "id": "pointed-integrity",
   "metadata": {},
   "source": [
    "# Visualisations"
   ]
  },
  {
   "cell_type": "code",
   "execution_count": null,
   "id": "liked-trinity",
   "metadata": {},
   "outputs": [],
   "source": [
    "merged_df = pd.read_csv('full.csv')\n",
    "gap_df = pd.read_csv('gap.csv')\n",
    "pac_df = pd.read_csv('pac.csv')"
   ]
  },
  {
   "cell_type": "markdown",
   "id": "damaged-north",
   "metadata": {},
   "source": [
    "### Website"
   ]
  },
  {
   "cell_type": "code",
   "execution_count": 282,
   "id": "confirmed-vitamin",
   "metadata": {},
   "outputs": [
    {
     "data": {
      "text/plain": [
       "<AxesSubplot:title={'center':'Website statistics on the whole data'}, ylabel='Provided?'>"
      ]
     },
     "execution_count": 282,
     "metadata": {},
     "output_type": "execute_result"
    },
    {
     "data": {
      "image/png": "[encoded data removed]",
      "text/plain": [
       "<Figure size 504x216 with 1 Axes>"
      ]
     },
     "metadata": {
      "needs_background": "light"
     },
     "output_type": "display_data"
    }
   ],
   "source": [
    "web_chart = merged_df['Website'].value_counts()\n",
    "web_chart = web_chart.sort_values(ascending=True)\n",
    "web_chart.plot(kind=\"barh\", figsize=(7, 3), title='Website statistics on the whole data', \n",
    "                xlabel='Provided?', ylabel='Count', color='pink')"
   ]
  },
  {
   "cell_type": "code",
   "execution_count": 50,
   "id": "color-frank",
   "metadata": {
    "scrolled": true
   },
   "outputs": [
    {
     "data": {
      "text/plain": [
       "<AxesSubplot:title={'center':'Website statistics on the Pure GAP data only'}, ylabel='Provided?'>"
      ]
     },
     "execution_count": 50,
     "metadata": {},
     "output_type": "execute_result"
    },
    {
     "data": {
      "image/png": "[encoded data removed]",
      "text/plain": [
       "<Figure size 504x216 with 1 Axes>"
      ]
     },
     "metadata": {
      "needs_background": "light"
     },
     "output_type": "display_data"
    }
   ],
   "source": [
    "web_gap = gap_df['Website'].value_counts()\n",
    "web_gap = web_gap.sort_values(ascending=True)\n",
    "web_gap.plot(kind=\"barh\", figsize=(7, 3), title='Website statistics on the Pure GAP data only', \n",
    "                xlabel='Provided?', ylabel='Count', color='pink')"
   ]
  },
  {
   "cell_type": "code",
   "execution_count": 51,
   "id": "union-nashville",
   "metadata": {},
   "outputs": [
    {
     "data": {
      "text/plain": [
       "<AxesSubplot:title={'center':'Website statistics on the Package citation data'}, ylabel='Provided?'>"
      ]
     },
     "execution_count": 51,
     "metadata": {},
     "output_type": "execute_result"
    },
    {
     "data": {
      "image/png": "[encoded data removed]",
      "text/plain": [
       "<Figure size 504x216 with 1 Axes>"
      ]
     },
     "metadata": {
      "needs_background": "light"
     },
     "output_type": "display_data"
    }
   ],
   "source": [
    "web_pac = pac_df['Website'].value_counts()\n",
    "web_pac = web_pac.sort_values(ascending=True)\n",
    "web_pac.plot(kind=\"barh\", figsize=(7, 3), title='Website statistics on the Package citation data', \n",
    "                xlabel='Provided?', ylabel='Count', color='pink')"
   ]
  },
  {
   "cell_type": "code",
   "execution_count": 52,
   "id": "activated-transport",
   "metadata": {
    "scrolled": false
   },
   "outputs": [
    {
     "data": {
      "text/html": [
       "<div>\n",
       "<style scoped>\n",
       "    .dataframe tbody tr th:only-of-type {\n",
       "        vertical-align: middle;\n",
       "    }\n",
       "\n",
       "    .dataframe tbody tr th {\n",
       "        vertical-align: top;\n",
       "    }\n",
       "\n",
       "    .dataframe thead th {\n",
       "        text-align: right;\n",
       "    }\n",
       "</style>\n",
       "<table border=\"1\" class=\"dataframe\">\n",
       "  <thead>\n",
       "    <tr style=\"text-align: right;\">\n",
       "      <th></th>\n",
       "      <th>MR</th>\n",
       "      <th>Author</th>\n",
       "      <th>Journal</th>\n",
       "      <th>Year</th>\n",
       "      <th>Publication Type</th>\n",
       "      <th>Citation</th>\n",
       "      <th>Version</th>\n",
       "      <th>Lentght</th>\n",
       "    </tr>\n",
       "    <tr>\n",
       "      <th>Website</th>\n",
       "      <th></th>\n",
       "      <th></th>\n",
       "      <th></th>\n",
       "      <th></th>\n",
       "      <th></th>\n",
       "      <th></th>\n",
       "      <th></th>\n",
       "      <th></th>\n",
       "    </tr>\n",
       "  </thead>\n",
       "  <tbody>\n",
       "    <tr>\n",
       "      <th>No</th>\n",
       "      <td>226</td>\n",
       "      <td>226</td>\n",
       "      <td>226</td>\n",
       "      <td>226</td>\n",
       "      <td>226</td>\n",
       "      <td>226</td>\n",
       "      <td>226</td>\n",
       "      <td>226</td>\n",
       "    </tr>\n",
       "    <tr>\n",
       "      <th>Yes</th>\n",
       "      <td>2687</td>\n",
       "      <td>2687</td>\n",
       "      <td>2687</td>\n",
       "      <td>2687</td>\n",
       "      <td>2687</td>\n",
       "      <td>2687</td>\n",
       "      <td>2687</td>\n",
       "      <td>2687</td>\n",
       "    </tr>\n",
       "  </tbody>\n",
       "</table>\n",
       "</div>"
      ],
      "text/plain": [
       "           MR  Author  Journal  Year  Publication Type  Citation  Version  \\\n",
       "Website                                                                     \n",
       "No        226     226      226   226               226       226      226   \n",
       "Yes      2687    2687     2687  2687              2687      2687     2687   \n",
       "\n",
       "         Lentght  \n",
       "Website           \n",
       "No           226  \n",
       "Yes         2687  "
      ]
     },
     "execution_count": 52,
     "metadata": {},
     "output_type": "execute_result"
    }
   ],
   "source": [
    "site_year = merged_df.groupby('Website').count()\n",
    "site_year"
   ]
  },
  {
   "cell_type": "code",
   "execution_count": null,
   "id": "hearing-youth",
   "metadata": {},
   "outputs": [],
   "source": []
  },
  {
   "cell_type": "markdown",
   "id": "perfect-binding",
   "metadata": {
    "collapsed": true
   },
   "source": [
    "from pandas.plotting import parallel_coordinates\n",
    "\n",
    "parallel_coordinates(all_years, \"Year\")"
   ]
  },
  {
   "cell_type": "code",
   "execution_count": null,
   "id": "common-summary",
   "metadata": {},
   "outputs": [],
   "source": []
  },
  {
   "cell_type": "markdown",
   "id": "convertible-router",
   "metadata": {},
   "source": [
    "### Lenght\n",
    "* Most citations are around 110 characters long."
   ]
  },
  {
   "cell_type": "code",
   "execution_count": 53,
   "id": "accurate-commerce",
   "metadata": {
    "scrolled": false
   },
   "outputs": [
    {
     "data": {
      "image/png": "[encoded data removed]",
      "text/plain": [
       "<Figure size 792x648 with 1 Axes>"
      ]
     },
     "metadata": {
      "needs_background": "light"
     },
     "output_type": "display_data"
    }
   ],
   "source": [
    "merged_df['Lentght'] = merged_df['Citation'].apply(len)\n",
    "cit_len = merged_df['Lentght'].plot(kind='hist', bins=50, figsize=(11,9), stacked=True, \n",
    "                         xticks = range(0, 300, 50), \n",
    "                         range=(0, 300), \n",
    "                         color='gold', \n",
    "                         title='Citations Lenght', \n",
    "                         xlabel=\"lenght\")\n",
    "cit_len.set_facecolor('#ebeced')\n"
   ]
  },
  {
   "cell_type": "code",
   "execution_count": null,
   "id": "weird-assignment",
   "metadata": {},
   "outputs": [],
   "source": []
  },
  {
   "cell_type": "markdown",
   "id": "induced-laugh",
   "metadata": {},
   "source": [
    "year_df = merged_df.sort_values(by='Year', ascending=False)\n",
    "year_df.dropna()\n",
    "num = year_df['Journal'].count()\n",
    "year_df.plot(x='Year', y=num, kind='barh')\n"
   ]
  },
  {
   "cell_type": "code",
   "execution_count": null,
   "id": "thick-massage",
   "metadata": {},
   "outputs": [],
   "source": []
  },
  {
   "cell_type": "markdown",
   "id": "native-standing",
   "metadata": {},
   "source": [
    "### Version"
   ]
  },
  {
   "cell_type": "code",
   "execution_count": 54,
   "id": "present-modification",
   "metadata": {},
   "outputs": [
    {
     "data": {
      "text/plain": [
       "<AxesSubplot:title={'center':'Top 50 most cited GAP versions'}, xlabel='Version', ylabel='Count'>"
      ]
     },
     "execution_count": 54,
     "metadata": {},
     "output_type": "execute_result"
    },
    {
     "data": {
      "image/png": "[encoded data removed]",
      "text/plain": [
       "<Figure size 1080x360 with 1 Axes>"
      ]
     },
     "metadata": {
      "needs_background": "light"
     },
     "output_type": "display_data"
    }
   ],
   "source": [
    "ver = gap_df['Version'].value_counts()\n",
    "ver = ver.head(50)\n",
    "ver = ver.to_frame()\n",
    "ver = ver.sort_index() # sort chrono. compare version numbers\n",
    "ver = ver.dropna()\n",
    "ver.plot(kind=\"bar\", figsize=(15, 5), title='Top 50 most cited GAP versions', xlabel='Version', \n",
    "                ylabel='Count', color='#f20000')"
   ]
  },
  {
   "cell_type": "markdown",
   "id": "baking-duncan",
   "metadata": {},
   "source": [
    "* We can see that the most popular GAP versions cited are subversions of GAP 4, between 4.2 and 4.4"
   ]
  },
  {
   "cell_type": "code",
   "execution_count": 55,
   "id": "studied-daily",
   "metadata": {},
   "outputs": [
    {
     "data": {
      "text/plain": [
       "4.4         439\n",
       "4.4.12      303\n",
       "4.3         211\n",
       "4.4.10      135\n",
       "4.2         122\n",
       "           ... \n",
       "3.2           1\n",
       "5.7           1\n",
       "2.19          1\n",
       "4.5.3         1\n",
       "10.01.16      1\n",
       "Name: Version, Length: 97, dtype: int64"
      ]
     },
     "execution_count": 55,
     "metadata": {},
     "output_type": "execute_result"
    }
   ],
   "source": [
    "gap_df['Version'].value_counts()"
   ]
  },
  {
   "cell_type": "code",
   "execution_count": null,
   "id": "incorporated-stone",
   "metadata": {},
   "outputs": [],
   "source": []
  },
  {
   "cell_type": "markdown",
   "id": "appreciated-bowling",
   "metadata": {},
   "source": [
    "### Authors\n",
    "\n",
    "* Top 20 authors citing GAP and its packages in their work."
   ]
  },
  {
   "cell_type": "code",
   "execution_count": 283,
   "id": "historical-milwaukee",
   "metadata": {
    "scrolled": false
   },
   "outputs": [
    {
     "data": {
      "image/png": "[encoded data removed]",
      "text/plain": [
       "<Figure size 648x360 with 1 Axes>"
      ]
     },
     "metadata": {
      "needs_background": "light"
     },
     "output_type": "display_data"
    }
   ],
   "source": [
    "authors = gap_df['Author'].value_counts()\n",
    "top = authors.head(20)\n",
    "top = top.sort_values(ascending=True)\n",
    "top = top.to_frame()\n",
    "chart = top.plot(kind=\"barh\",\n",
    "                 figsize=(9,5), title='Top 20 authors citing GAP in their work', \n",
    "                 xlabel='Author', \n",
    "                 ylabel='Count', color='cyan', \n",
    "                  xticks=range(0, 19, 1))\n",
    "# how do we treat joint papers ?"
   ]
  },
  {
   "cell_type": "markdown",
   "id": "suspended-title",
   "metadata": {},
   "source": [
    "* Top 20 authors citing GAP Packages"
   ]
  },
  {
   "cell_type": "code",
   "execution_count": 57,
   "id": "super-twenty",
   "metadata": {},
   "outputs": [
    {
     "data": {
      "text/html": [
       "<div>\n",
       "<style scoped>\n",
       "    .dataframe tbody tr th:only-of-type {\n",
       "        vertical-align: middle;\n",
       "    }\n",
       "\n",
       "    .dataframe tbody tr th {\n",
       "        vertical-align: top;\n",
       "    }\n",
       "\n",
       "    .dataframe thead th {\n",
       "        text-align: right;\n",
       "    }\n",
       "</style>\n",
       "<table border=\"1\" class=\"dataframe\">\n",
       "  <thead>\n",
       "    <tr style=\"text-align: right;\">\n",
       "      <th></th>\n",
       "      <th>Author</th>\n",
       "    </tr>\n",
       "  </thead>\n",
       "  <tbody>\n",
       "    <tr>\n",
       "      <th>Bächle, A. and Margolis, L.</th>\n",
       "      <td>10</td>\n",
       "    </tr>\n",
       "    <tr>\n",
       "      <th>Koshitani, S. and Müller, J. and Noeske, F.</th>\n",
       "      <td>10</td>\n",
       "    </tr>\n",
       "    <tr>\n",
       "      <th>Soicher, L. H.</th>\n",
       "      <td>8</td>\n",
       "    </tr>\n",
       "    <tr>\n",
       "      <th>Eick, B.</th>\n",
       "      <td>7</td>\n",
       "    </tr>\n",
       "    <tr>\n",
       "      <th>Douglas, A. and Repka, J.</th>\n",
       "      <td>6</td>\n",
       "    </tr>\n",
       "    <tr>\n",
       "      <th>Kohl, S.</th>\n",
       "      <td>6</td>\n",
       "    </tr>\n",
       "    <tr>\n",
       "      <th>Eick, B. and Horn, M.</th>\n",
       "      <td>6</td>\n",
       "    </tr>\n",
       "    <tr>\n",
       "      <th>Fernandes, V. H.</th>\n",
       "      <td>5</td>\n",
       "    </tr>\n",
       "    <tr>\n",
       "      <th>Cant, A. and Eick, B.</th>\n",
       "      <td>5</td>\n",
       "    </tr>\n",
       "    <tr>\n",
       "      <th>Dabbaghian-Abdoly, V.</th>\n",
       "      <td>5</td>\n",
       "    </tr>\n",
       "    <tr>\n",
       "      <th>Assmann, B. and Eick, B.</th>\n",
       "      <td>5</td>\n",
       "    </tr>\n",
       "    <tr>\n",
       "      <th>de Graaf, W. A.</th>\n",
       "      <td>5</td>\n",
       "    </tr>\n",
       "    <tr>\n",
       "      <th>Linton,  S.  and Hammond, K. and Konovalov, A. and Brown, C. and Trinder, P. W. and Loidl, H. -. and Horn, P. and\\nRoozemond, D.</th>\n",
       "      <td>5</td>\n",
       "    </tr>\n",
       "    <tr>\n",
       "      <th>Spreer, J.</th>\n",
       "      <td>4</td>\n",
       "    </tr>\n",
       "    <tr>\n",
       "      <th>Alp, M.</th>\n",
       "      <td>4</td>\n",
       "    </tr>\n",
       "    <tr>\n",
       "      <th>Margolis, L.</th>\n",
       "      <td>4</td>\n",
       "    </tr>\n",
       "    <tr>\n",
       "      <th>Braić, S. and Golemac, A. and Mandić, J. and Vučičić, T.</th>\n",
       "      <td>4</td>\n",
       "    </tr>\n",
       "    <tr>\n",
       "      <th>Bailey, R. F.</th>\n",
       "      <td>4</td>\n",
       "    </tr>\n",
       "    <tr>\n",
       "      <th>Andruskiewitsch, N. and Fantino, F. and Graña, M. and Vendramin, L.</th>\n",
       "      <td>4</td>\n",
       "    </tr>\n",
       "    <tr>\n",
       "      <th>Dietrich, H. and de Graaf, W. A.</th>\n",
       "      <td>4</td>\n",
       "    </tr>\n",
       "  </tbody>\n",
       "</table>\n",
       "</div>"
      ],
      "text/plain": [
       "                                                                                                                                  Author\n",
       "Bächle, A. and Margolis, L.                                                                                                           10\n",
       "Koshitani, S. and Müller, J. and Noeske, F.                                                                                           10\n",
       "Soicher, L. H.                                                                                                                         8\n",
       "Eick, B.                                                                                                                               7\n",
       "Douglas, A. and Repka, J.                                                                                                              6\n",
       "Kohl, S.                                                                                                                               6\n",
       "Eick, B. and Horn, M.                                                                                                                  6\n",
       "Fernandes, V. H.                                                                                                                       5\n",
       "Cant, A. and Eick, B.                                                                                                                  5\n",
       "Dabbaghian-Abdoly, V.                                                                                                                  5\n",
       "Assmann, B. and Eick, B.                                                                                                               5\n",
       "de Graaf, W. A.                                                                                                                        5\n",
       "Linton,  S.  and Hammond, K. and Konovalov, A. and Brown, C. and Trinder, P. W. and Loidl, H. -. and Horn, P. and\\nRoozemond, D.       5\n",
       "Spreer, J.                                                                                                                             4\n",
       "Alp, M.                                                                                                                                4\n",
       "Margolis, L.                                                                                                                           4\n",
       "Braić, S. and Golemac, A. and Mandić, J. and Vučičić, T.                                                                               4\n",
       "Bailey, R. F.                                                                                                                          4\n",
       "Andruskiewitsch, N. and Fantino, F. and Graña, M. and Vendramin, L.                                                                    4\n",
       "Dietrich, H. and de Graaf, W. A.                                                                                                       4"
      ]
     },
     "execution_count": 57,
     "metadata": {},
     "output_type": "execute_result"
    }
   ],
   "source": [
    "author = pac_df['Author'].value_counts()\n",
    "top20 = author.head(20)\n",
    "top20 = top20.sort_values(ascending=False)\n",
    "top20 = top20.to_frame()\n",
    "top20\n",
    "\n",
    "#chart = top20.plot(kind=\"bar\",\n",
    "#                 figsize=(9,5), title='Top 20 authors citing GAP Packages', \n",
    "#                 xlabel='Author', \n",
    "#                 ylabel='Count', color='brown', \n",
    "#                  xticks=range(0, 19, 1))"
   ]
  },
  {
   "cell_type": "code",
   "execution_count": null,
   "id": "verbal-fitting",
   "metadata": {},
   "outputs": [],
   "source": []
  },
  {
   "cell_type": "markdown",
   "id": "otherwise-particle",
   "metadata": {},
   "source": [
    "* Accuracy + site, ver, year\n",
    "* Countries + to be provided\n",
    "* GET function + simplicity is key"
   ]
  },
  {
   "cell_type": "markdown",
   "id": "lined-institution",
   "metadata": {},
   "source": [
    "### Year"
   ]
  },
  {
   "cell_type": "code",
   "execution_count": null,
   "id": "wound-training",
   "metadata": {},
   "outputs": [],
   "source": []
  },
  {
   "cell_type": "markdown",
   "id": "missing-ideal",
   "metadata": {},
   "source": [
    "##### Barchart dislaying number of GAP citations per year."
   ]
  },
  {
   "cell_type": "markdown",
   "id": "geological-spokesman",
   "metadata": {},
   "source": [
    "* GAP citation counts for each year, sorted chronologically."
   ]
  },
  {
   "cell_type": "code",
   "execution_count": 58,
   "id": "southeast-heading",
   "metadata": {
    "scrolled": false
   },
   "outputs": [
    {
     "data": {
      "text/plain": [
       "<AxesSubplot:title={'center':'Annual GAP citations data'}, xlabel='Year', ylabel='Count'>"
      ]
     },
     "execution_count": 58,
     "metadata": {},
     "output_type": "execute_result"
    },
    {
     "data": {
      "image/png": "[encoded data removed]",
      "text/plain": [
       "<Figure size 1080x360 with 1 Axes>"
      ]
     },
     "metadata": {
      "needs_background": "light"
     },
     "output_type": "display_data"
    }
   ],
   "source": [
    "year_chrono = merged_df['Year'].value_counts()\n",
    "chrono_df = year_chrono.to_frame()\n",
    "chrono = chrono_df.sort_index()\n",
    "chrono.plot(kind=\"bar\", figsize=(15, 5), title='Annual GAP citations data', xlabel='Year', \n",
    "                ylabel='Count', color='purple')"
   ]
  },
  {
   "cell_type": "markdown",
   "id": "assumed-anderson",
   "metadata": {},
   "source": [
    "### Top 20 journals citing GAP."
   ]
  },
  {
   "cell_type": "code",
   "execution_count": 59,
   "id": "conservative-grenada",
   "metadata": {
    "scrolled": false
   },
   "outputs": [
    {
     "data": {
      "text/html": [
       "<div>\n",
       "<style scoped>\n",
       "    .dataframe tbody tr th:only-of-type {\n",
       "        vertical-align: middle;\n",
       "    }\n",
       "\n",
       "    .dataframe tbody tr th {\n",
       "        vertical-align: top;\n",
       "    }\n",
       "\n",
       "    .dataframe thead th {\n",
       "        text-align: right;\n",
       "    }\n",
       "</style>\n",
       "<table border=\"1\" class=\"dataframe\">\n",
       "  <thead>\n",
       "    <tr style=\"text-align: right;\">\n",
       "      <th></th>\n",
       "      <th>index</th>\n",
       "      <th>Journal</th>\n",
       "    </tr>\n",
       "  </thead>\n",
       "  <tbody>\n",
       "    <tr>\n",
       "      <th>0</th>\n",
       "      <td>J. Algebra</td>\n",
       "      <td>307</td>\n",
       "    </tr>\n",
       "    <tr>\n",
       "      <th>1</th>\n",
       "      <td>Comm. Algebra</td>\n",
       "      <td>146</td>\n",
       "    </tr>\n",
       "    <tr>\n",
       "      <th>2</th>\n",
       "      <td>J. Algebra Appl.</td>\n",
       "      <td>76</td>\n",
       "    </tr>\n",
       "    <tr>\n",
       "      <th>3</th>\n",
       "      <td>Discrete Math.</td>\n",
       "      <td>74</td>\n",
       "    </tr>\n",
       "    <tr>\n",
       "      <th>4</th>\n",
       "      <td>J. Symbolic Comput.</td>\n",
       "      <td>57</td>\n",
       "    </tr>\n",
       "    <tr>\n",
       "      <th>5</th>\n",
       "      <td>J. Group Theory</td>\n",
       "      <td>54</td>\n",
       "    </tr>\n",
       "    <tr>\n",
       "      <th>6</th>\n",
       "      <td>J. Pure Appl. Algebra</td>\n",
       "      <td>51</td>\n",
       "    </tr>\n",
       "    <tr>\n",
       "      <th>7</th>\n",
       "      <td>Des. Codes Cryptogr.</td>\n",
       "      <td>46</td>\n",
       "    </tr>\n",
       "    <tr>\n",
       "      <th>8</th>\n",
       "      <td>Internat. J. Algebra Comput.</td>\n",
       "      <td>45</td>\n",
       "    </tr>\n",
       "    <tr>\n",
       "      <th>9</th>\n",
       "      <td>LMS J. Comput. Math.</td>\n",
       "      <td>42</td>\n",
       "    </tr>\n",
       "    <tr>\n",
       "      <th>10</th>\n",
       "      <td>Arch. Math. (Basel)</td>\n",
       "      <td>33</td>\n",
       "    </tr>\n",
       "    <tr>\n",
       "      <th>11</th>\n",
       "      <td>Israel J. Math.</td>\n",
       "      <td>33</td>\n",
       "    </tr>\n",
       "    <tr>\n",
       "      <th>12</th>\n",
       "      <td>European J. Combin.</td>\n",
       "      <td>28</td>\n",
       "    </tr>\n",
       "    <tr>\n",
       "      <th>13</th>\n",
       "      <td>J. Combin. Des.</td>\n",
       "      <td>28</td>\n",
       "    </tr>\n",
       "    <tr>\n",
       "      <th>14</th>\n",
       "      <td>Algebra Colloq.</td>\n",
       "      <td>27</td>\n",
       "    </tr>\n",
       "    <tr>\n",
       "      <th>15</th>\n",
       "      <td>Math. Comp.</td>\n",
       "      <td>27</td>\n",
       "    </tr>\n",
       "    <tr>\n",
       "      <th>16</th>\n",
       "      <td>Electron. J. Combin.</td>\n",
       "      <td>26</td>\n",
       "    </tr>\n",
       "    <tr>\n",
       "      <th>17</th>\n",
       "      <td>J. Combin. Theory Ser. A</td>\n",
       "      <td>25</td>\n",
       "    </tr>\n",
       "    <tr>\n",
       "      <th>18</th>\n",
       "      <td>Experiment. Math.</td>\n",
       "      <td>25</td>\n",
       "    </tr>\n",
       "    <tr>\n",
       "      <th>19</th>\n",
       "      <td>Trans. Amer. Math. Soc.</td>\n",
       "      <td>25</td>\n",
       "    </tr>\n",
       "  </tbody>\n",
       "</table>\n",
       "</div>"
      ],
      "text/plain": [
       "                           index  Journal\n",
       "0                     J. Algebra      307\n",
       "1                  Comm. Algebra      146\n",
       "2               J. Algebra Appl.       76\n",
       "3                 Discrete Math.       74\n",
       "4            J. Symbolic Comput.       57\n",
       "5                J. Group Theory       54\n",
       "6          J. Pure Appl. Algebra       51\n",
       "7           Des. Codes Cryptogr.       46\n",
       "8   Internat. J. Algebra Comput.       45\n",
       "9           LMS J. Comput. Math.       42\n",
       "10           Arch. Math. (Basel)       33\n",
       "11               Israel J. Math.       33\n",
       "12           European J. Combin.       28\n",
       "13               J. Combin. Des.       28\n",
       "14               Algebra Colloq.       27\n",
       "15                   Math. Comp.       27\n",
       "16          Electron. J. Combin.       26\n",
       "17      J. Combin. Theory Ser. A       25\n",
       "18             Experiment. Math.       25\n",
       "19       Trans. Amer. Math. Soc.       25"
      ]
     },
     "execution_count": 59,
     "metadata": {},
     "output_type": "execute_result"
    }
   ],
   "source": [
    "top_journals = gap_df['Journal'].value_counts()\n",
    "top_20 = pd.DataFrame(top_journals.head(20))\n",
    "top_20.reset_index()"
   ]
  },
  {
   "cell_type": "markdown",
   "id": "suburban-opinion",
   "metadata": {},
   "source": [
    "Only for alternative, useful for copy/paste plain text - quick to load.\n",
    "Try to allign on the left - journals."
   ]
  },
  {
   "cell_type": "code",
   "execution_count": 60,
   "id": "accompanied-ethics",
   "metadata": {
    "scrolled": false
   },
   "outputs": [
    {
     "name": "stdout",
     "output_type": "stream",
     "text": [
      "+------------------------------+---------------------+\n",
      "|         Journal name         | GAP Citations count |\n",
      "+------------------------------+---------------------+\n",
      "|          J. Algebra          |         307         |\n",
      "|        Comm. Algebra         |         146         |\n",
      "|       J. Algebra Appl.       |         76          |\n",
      "|        Discrete Math.        |         74          |\n",
      "|     J. Symbolic Comput.      |         57          |\n",
      "|       J. Group Theory        |         54          |\n",
      "|    J. Pure Appl. Algebra     |         51          |\n",
      "|     Des. Codes Cryptogr.     |         46          |\n",
      "| Internat. J. Algebra Comput. |         45          |\n",
      "|     LMS J. Comput. Math.     |         42          |\n",
      "|     Arch. Math. (Basel)      |         33          |\n",
      "|       Israel J. Math.        |         33          |\n",
      "|     European J. Combin.      |         28          |\n",
      "|       J. Combin. Des.        |         28          |\n",
      "|       Algebra Colloq.        |         27          |\n",
      "|         Math. Comp.          |         27          |\n",
      "|     Electron. J. Combin.     |         26          |\n",
      "|   J. Combin. Theory Ser. A   |         25          |\n",
      "|      Experiment. Math.       |         25          |\n",
      "|   Trans. Amer. Math. Soc.    |         25          |\n",
      "+------------------------------+---------------------+\n"
     ]
    }
   ],
   "source": [
    "headers = ['Journal name', 'GAP Citations count']\n",
    "print(tabulate(top_20, headers = headers, tablefmt = 'pretty'))"
   ]
  },
  {
   "cell_type": "markdown",
   "id": "educated-password",
   "metadata": {},
   "source": [
    "### The most frequent type of work citing GAP: we can see that GAP is predominantly cited in articles - 2976 times."
   ]
  },
  {
   "cell_type": "code",
   "execution_count": 61,
   "id": "silver-cooperative",
   "metadata": {
    "scrolled": true
   },
   "outputs": [
    {
     "data": {
      "text/html": [
       "<div>\n",
       "<style scoped>\n",
       "    .dataframe tbody tr th:only-of-type {\n",
       "        vertical-align: middle;\n",
       "    }\n",
       "\n",
       "    .dataframe tbody tr th {\n",
       "        vertical-align: top;\n",
       "    }\n",
       "\n",
       "    .dataframe thead th {\n",
       "        text-align: right;\n",
       "    }\n",
       "</style>\n",
       "<table border=\"1\" class=\"dataframe\">\n",
       "  <thead>\n",
       "    <tr style=\"text-align: right;\">\n",
       "      <th></th>\n",
       "      <th>GAP Citations Count</th>\n",
       "    </tr>\n",
       "    <tr>\n",
       "      <th>Publication Type</th>\n",
       "      <th></th>\n",
       "    </tr>\n",
       "  </thead>\n",
       "  <tbody>\n",
       "    <tr>\n",
       "      <th>article</th>\n",
       "      <td>2976</td>\n",
       "    </tr>\n",
       "    <tr>\n",
       "      <th>incollection</th>\n",
       "      <td>204</td>\n",
       "    </tr>\n",
       "    <tr>\n",
       "      <th>inproceedings</th>\n",
       "      <td>54</td>\n",
       "    </tr>\n",
       "    <tr>\n",
       "      <th>phdthesis</th>\n",
       "      <td>47</td>\n",
       "    </tr>\n",
       "    <tr>\n",
       "      <th>mastersthesis</th>\n",
       "      <td>46</td>\n",
       "    </tr>\n",
       "    <tr>\n",
       "      <th>book</th>\n",
       "      <td>31</td>\n",
       "    </tr>\n",
       "    <tr>\n",
       "      <th>misc</th>\n",
       "      <td>5</td>\n",
       "    </tr>\n",
       "    <tr>\n",
       "      <th>techreport</th>\n",
       "      <td>2</td>\n",
       "    </tr>\n",
       "    <tr>\n",
       "      <th>inbook</th>\n",
       "      <td>1</td>\n",
       "    </tr>\n",
       "    <tr>\n",
       "      <th>manual</th>\n",
       "      <td>1</td>\n",
       "    </tr>\n",
       "  </tbody>\n",
       "</table>\n",
       "</div>"
      ],
      "text/plain": [
       "                  GAP Citations Count\n",
       "Publication Type                     \n",
       "article                          2976\n",
       "incollection                      204\n",
       "inproceedings                      54\n",
       "phdthesis                          47\n",
       "mastersthesis                      46\n",
       "book                               31\n",
       "misc                                5\n",
       "techreport                          2\n",
       "inbook                              1\n",
       "manual                              1"
      ]
     },
     "execution_count": 61,
     "metadata": {},
     "output_type": "execute_result"
    }
   ],
   "source": [
    "types_pub = pd.DataFrame(bib_df['Publication Type'].value_counts())\n",
    "types_pub.columns = ['GAP Citations Count']\n",
    "types_pub.index.names = ['Publication Type']\n",
    "types_pub"
   ]
  },
  {
   "cell_type": "markdown",
   "id": "separate-public",
   "metadata": {},
   "source": [
    "### Accuracy"
   ]
  },
  {
   "cell_type": "code",
   "execution_count": 288,
   "id": "significant-hardware",
   "metadata": {},
   "outputs": [
    {
     "data": {
      "text/plain": [
       "<AxesSubplot:title={'center':'Annual GAP citations data'}, xlabel='Year', ylabel='Count'>"
      ]
     },
     "execution_count": 288,
     "metadata": {},
     "output_type": "execute_result"
    },
    {
     "data": {
      "image/png": "[encoded data removed]",
      "text/plain": [
       "<Figure size 1080x360 with 1 Axes>"
      ]
     },
     "metadata": {
      "needs_background": "light"
     },
     "output_type": "display_data"
    }
   ],
   "source": [
    "acc = merged_df['Accuracy Score'].value_counts()\n",
    "acc.plot(kind=\"bar\", figsize=(15, 5), title='Annual GAP citations data', xlabel='Score', \n",
    "                ylabel='Count', color='#34eb9b')"
   ]
  },
  {
   "cell_type": "code",
   "execution_count": 304,
   "id": "static-edinburgh",
   "metadata": {},
   "outputs": [
    {
     "data": {
      "text/html": [
       "<div>\n",
       "<style scoped>\n",
       "    .dataframe tbody tr th:only-of-type {\n",
       "        vertical-align: middle;\n",
       "    }\n",
       "\n",
       "    .dataframe tbody tr th {\n",
       "        vertical-align: top;\n",
       "    }\n",
       "\n",
       "    .dataframe thead th {\n",
       "        text-align: right;\n",
       "    }\n",
       "</style>\n",
       "<table border=\"1\" class=\"dataframe\">\n",
       "  <thead>\n",
       "    <tr style=\"text-align: right;\">\n",
       "      <th></th>\n",
       "      <th>Accuracy Score</th>\n",
       "    </tr>\n",
       "    <tr>\n",
       "      <th>Year</th>\n",
       "      <th></th>\n",
       "    </tr>\n",
       "  </thead>\n",
       "  <tbody>\n",
       "    <tr>\n",
       "      <th>1992</th>\n",
       "      <td>1</td>\n",
       "    </tr>\n",
       "    <tr>\n",
       "      <th>1993</th>\n",
       "      <td>2</td>\n",
       "    </tr>\n",
       "    <tr>\n",
       "      <th>1994</th>\n",
       "      <td>1</td>\n",
       "    </tr>\n",
       "    <tr>\n",
       "      <th>1997</th>\n",
       "      <td>20</td>\n",
       "    </tr>\n",
       "    <tr>\n",
       "      <th>1998</th>\n",
       "      <td>16</td>\n",
       "    </tr>\n",
       "    <tr>\n",
       "      <th>1999</th>\n",
       "      <td>21</td>\n",
       "    </tr>\n",
       "    <tr>\n",
       "      <th>2000</th>\n",
       "      <td>61</td>\n",
       "    </tr>\n",
       "    <tr>\n",
       "      <th>2001</th>\n",
       "      <td>90</td>\n",
       "    </tr>\n",
       "    <tr>\n",
       "      <th>2002</th>\n",
       "      <td>67</td>\n",
       "    </tr>\n",
       "    <tr>\n",
       "      <th>2003</th>\n",
       "      <td>90</td>\n",
       "    </tr>\n",
       "    <tr>\n",
       "      <th>2004</th>\n",
       "      <td>115</td>\n",
       "    </tr>\n",
       "    <tr>\n",
       "      <th>2005</th>\n",
       "      <td>121</td>\n",
       "    </tr>\n",
       "    <tr>\n",
       "      <th>2006</th>\n",
       "      <td>121</td>\n",
       "    </tr>\n",
       "    <tr>\n",
       "      <th>2007</th>\n",
       "      <td>161</td>\n",
       "    </tr>\n",
       "    <tr>\n",
       "      <th>2008</th>\n",
       "      <td>148</td>\n",
       "    </tr>\n",
       "    <tr>\n",
       "      <th>2009</th>\n",
       "      <td>136</td>\n",
       "    </tr>\n",
       "    <tr>\n",
       "      <th>2010</th>\n",
       "      <td>185</td>\n",
       "    </tr>\n",
       "    <tr>\n",
       "      <th>2011</th>\n",
       "      <td>189</td>\n",
       "    </tr>\n",
       "    <tr>\n",
       "      <th>2012</th>\n",
       "      <td>170</td>\n",
       "    </tr>\n",
       "    <tr>\n",
       "      <th>2013</th>\n",
       "      <td>208</td>\n",
       "    </tr>\n",
       "    <tr>\n",
       "      <th>2014</th>\n",
       "      <td>205</td>\n",
       "    </tr>\n",
       "    <tr>\n",
       "      <th>2015</th>\n",
       "      <td>200</td>\n",
       "    </tr>\n",
       "    <tr>\n",
       "      <th>2016</th>\n",
       "      <td>209</td>\n",
       "    </tr>\n",
       "    <tr>\n",
       "      <th>2017</th>\n",
       "      <td>227</td>\n",
       "    </tr>\n",
       "    <tr>\n",
       "      <th>2018</th>\n",
       "      <td>195</td>\n",
       "    </tr>\n",
       "    <tr>\n",
       "      <th>2019</th>\n",
       "      <td>216</td>\n",
       "    </tr>\n",
       "    <tr>\n",
       "      <th>2020</th>\n",
       "      <td>215</td>\n",
       "    </tr>\n",
       "    <tr>\n",
       "      <th>2021</th>\n",
       "      <td>50</td>\n",
       "    </tr>\n",
       "  </tbody>\n",
       "</table>\n",
       "</div>"
      ],
      "text/plain": [
       "      Accuracy Score\n",
       "Year                \n",
       "1992               1\n",
       "1993               2\n",
       "1994               1\n",
       "1997              20\n",
       "1998              16\n",
       "1999              21\n",
       "2000              61\n",
       "2001              90\n",
       "2002              67\n",
       "2003              90\n",
       "2004             115\n",
       "2005             121\n",
       "2006             121\n",
       "2007             161\n",
       "2008             148\n",
       "2009             136\n",
       "2010             185\n",
       "2011             189\n",
       "2012             170\n",
       "2013             208\n",
       "2014             205\n",
       "2015             200\n",
       "2016             209\n",
       "2017             227\n",
       "2018             195\n",
       "2019             216\n",
       "2020             215\n",
       "2021              50"
      ]
     },
     "execution_count": 304,
     "metadata": {},
     "output_type": "execute_result"
    }
   ],
   "source": [
    "ttt = merged_df.groupby('Year')['Accuracy Score'].count()\n",
    "ttt = pd.DataFrame(data=ttt)\n",
    "ttt"
   ]
  },
  {
   "cell_type": "code",
   "execution_count": 301,
   "id": "friendly-roberts",
   "metadata": {},
   "outputs": [
    {
     "data": {
      "text/html": [
       "<div>\n",
       "<style scoped>\n",
       "    .dataframe tbody tr th:only-of-type {\n",
       "        vertical-align: middle;\n",
       "    }\n",
       "\n",
       "    .dataframe tbody tr th {\n",
       "        vertical-align: top;\n",
       "    }\n",
       "\n",
       "    .dataframe thead th {\n",
       "        text-align: right;\n",
       "    }\n",
       "</style>\n",
       "<table border=\"1\" class=\"dataframe\">\n",
       "  <thead>\n",
       "    <tr style=\"text-align: right;\">\n",
       "      <th></th>\n",
       "      <th>MR</th>\n",
       "      <th>Author</th>\n",
       "      <th>Journal</th>\n",
       "      <th>Year</th>\n",
       "      <th>Publication Type</th>\n",
       "      <th>Citation</th>\n",
       "      <th>Version</th>\n",
       "      <th>Website</th>\n",
       "      <th>Lentght</th>\n",
       "      <th>Accuracy Score</th>\n",
       "      <th>Lenght</th>\n",
       "    </tr>\n",
       "  </thead>\n",
       "  <tbody>\n",
       "    <tr>\n",
       "      <th>0</th>\n",
       "      <td>4056124</td>\n",
       "      <td>Abas, M. and Vetrík, T.</td>\n",
       "      <td>Theoret. Comput. Sci.</td>\n",
       "      <td>2020</td>\n",
       "      <td>article</td>\n",
       "      <td>GAP – Groups, algorithms, programming - a system for computational discrete algebra, www.gap-system.org.</td>\n",
       "      <td>Unknown</td>\n",
       "      <td>Yes</td>\n",
       "      <td>104</td>\n",
       "      <td>2</td>\n",
       "      <td>104</td>\n",
       "    </tr>\n",
       "    <tr>\n",
       "      <th>2</th>\n",
       "      <td>3942387</td>\n",
       "      <td>Abbas, A. and Assi, A. and García-Sánchez, P. A.</td>\n",
       "      <td>Rev. R. Acad. Cienc. Exactas Fís. Nat. Ser. A Mat. RACSAM</td>\n",
       "      <td>2019</td>\n",
       "      <td>article</td>\n",
       "      <td>The GAP Group: GAP—groups, algorithms, and programming, version 4.7.5 (2014). http://www.gap-system.org. Accessed 19 Aug 2017</td>\n",
       "      <td>4.7.5</td>\n",
       "      <td>Yes</td>\n",
       "      <td>125</td>\n",
       "      <td>3</td>\n",
       "      <td>125</td>\n",
       "    </tr>\n",
       "    <tr>\n",
       "      <th>3</th>\n",
       "      <td>3354065</td>\n",
       "      <td>Abdolghafourian, A. and Iranmanesh, M. A.</td>\n",
       "      <td>Comm. Algebra</td>\n",
       "      <td>2015</td>\n",
       "      <td>article</td>\n",
       "      <td>The GAP – Groups, Algorithms and Programming. Version 4.4.12, 2008. www.gap-system.org.</td>\n",
       "      <td>4.4.12</td>\n",
       "      <td>Yes</td>\n",
       "      <td>87</td>\n",
       "      <td>2</td>\n",
       "      <td>87</td>\n",
       "    </tr>\n",
       "    <tr>\n",
       "      <th>4</th>\n",
       "      <td>3646312</td>\n",
       "      <td>Abdolghafourian, A. and Iranmanesh, M. A. and Niemeyer, A. C.</td>\n",
       "      <td>J. Pure Appl. Algebra</td>\n",
       "      <td>2017</td>\n",
       "      <td>article</td>\n",
       "      <td>The GAP Group, GAP–Groups, Algorithms, and Programming, 4.7.8, 2015, http://www.gap-system.org.</td>\n",
       "      <td>4.7.8</td>\n",
       "      <td>Yes</td>\n",
       "      <td>95</td>\n",
       "      <td>3</td>\n",
       "      <td>95</td>\n",
       "    </tr>\n",
       "    <tr>\n",
       "      <th>5</th>\n",
       "      <td>1864795</td>\n",
       "      <td>Abdollahi, A.</td>\n",
       "      <td>Houston J. Math.</td>\n",
       "      <td>2001</td>\n",
       "      <td>article</td>\n",
       "      <td>M. Schönert et al. GAP - Groups, Algorithms, and Programming (Lehrsthul D für Mathematik, Reinisch-Westflische Technische Hochschule, Aachen, Germany, fi...</td>\n",
       "      <td>Unknown</td>\n",
       "      <td>No</td>\n",
       "      <td>168</td>\n",
       "      <td>1</td>\n",
       "      <td>168</td>\n",
       "    </tr>\n",
       "    <tr>\n",
       "      <th>...</th>\n",
       "      <td>...</td>\n",
       "      <td>...</td>\n",
       "      <td>...</td>\n",
       "      <td>...</td>\n",
       "      <td>...</td>\n",
       "      <td>...</td>\n",
       "      <td>...</td>\n",
       "      <td>...</td>\n",
       "      <td>...</td>\n",
       "      <td>...</td>\n",
       "      <td>...</td>\n",
       "    </tr>\n",
       "    <tr>\n",
       "      <th>3528</th>\n",
       "      <td>2347912</td>\n",
       "      <td>Maksimenko, A. A. and Mamontov, A. S.</td>\n",
       "      <td>Sibirsk. Mat. Zh.</td>\n",
       "      <td>2007</td>\n",
       "      <td>article</td>\n",
       "      <td>Kargapolov M. I. and Merzlyakov Yu. I., Fundamentals of the Theory of Groups, Springer-Verlag, New York; Heidelberg; Berlin (1979). \\nMR0551207</td>\n",
       "      <td>Unknown</td>\n",
       "      <td>No</td>\n",
       "      <td>142</td>\n",
       "      <td>1</td>\n",
       "      <td>142</td>\n",
       "    </tr>\n",
       "    <tr>\n",
       "      <th>3529</th>\n",
       "      <td>1695079</td>\n",
       "      <td>Mathas, A.</td>\n",
       "      <td>J. Algebraic Combin.</td>\n",
       "      <td>1999</td>\n",
       "      <td>article</td>\n",
       "      <td>M. Schönert et al., \"Gap: groups, algorithms, and programming,\" Lehrstuhl D für Mathematik, RWTH Aachen, 3.4.4 edition, 1997.</td>\n",
       "      <td>3.4.4</td>\n",
       "      <td>No</td>\n",
       "      <td>125</td>\n",
       "      <td>2</td>\n",
       "      <td>125</td>\n",
       "    </tr>\n",
       "    <tr>\n",
       "      <th>3534</th>\n",
       "      <td>4187238</td>\n",
       "      <td>Morgan, L. and Morris, J. and Verret, G.</td>\n",
       "      <td>J. Algebra</td>\n",
       "      <td>2021</td>\n",
       "      <td>article</td>\n",
       "      <td>The Gap Group, Gap–groups, algorithms, and programming, http://www.gap-system.org, 2015.</td>\n",
       "      <td>Unknown</td>\n",
       "      <td>Yes</td>\n",
       "      <td>88</td>\n",
       "      <td>1</td>\n",
       "      <td>88</td>\n",
       "    </tr>\n",
       "    <tr>\n",
       "      <th>3535</th>\n",
       "      <td>1615333</td>\n",
       "      <td>Nebe, G.</td>\n",
       "      <td>Represent. Theory</td>\n",
       "      <td>1998</td>\n",
       "      <td>article</td>\n",
       "      <td>M. Schönert (ed.), Groups, Algorithms and Programming. Lehrstuhl D für Mathe- matik, RWTH Aachen, Germany (1994) available via anonymous ftp on the serve...</td>\n",
       "      <td>Unknown</td>\n",
       "      <td>No</td>\n",
       "      <td>193</td>\n",
       "      <td>1</td>\n",
       "      <td>193</td>\n",
       "    </tr>\n",
       "    <tr>\n",
       "      <th>3541</th>\n",
       "      <td>2824780</td>\n",
       "      <td>Tian, Y. and Lu, C.</td>\n",
       "      <td>J. Ind. Manag. Optim.</td>\n",
       "      <td>2011</td>\n",
       "      <td>article</td>\n",
       "      <td>X. Sun, C. Liu, D. Li and J. Gao, On duality gap in binary quadratic programming, Available from: http://www.optimization-online.org/DB_FILE/2010/01/2512...</td>\n",
       "      <td>Unknown</td>\n",
       "      <td>Yes</td>\n",
       "      <td>158</td>\n",
       "      <td>2</td>\n",
       "      <td>158</td>\n",
       "    </tr>\n",
       "  </tbody>\n",
       "</table>\n",
       "<p>734 rows × 11 columns</p>\n",
       "</div>"
      ],
      "text/plain": [
       "           MR                                                         Author  \\\n",
       "0     4056124                                        Abas, M. and Vetrík, T.   \n",
       "2     3942387               Abbas, A. and Assi, A. and García-Sánchez, P. A.   \n",
       "3     3354065                      Abdolghafourian, A. and Iranmanesh, M. A.   \n",
       "4     3646312  Abdolghafourian, A. and Iranmanesh, M. A. and Niemeyer, A. C.   \n",
       "5     1864795                                                  Abdollahi, A.   \n",
       "...       ...                                                            ...   \n",
       "3528  2347912                          Maksimenko, A. A. and Mamontov, A. S.   \n",
       "3529  1695079                                                     Mathas, A.   \n",
       "3534  4187238                       Morgan, L. and Morris, J. and Verret, G.   \n",
       "3535  1615333                                                       Nebe, G.   \n",
       "3541  2824780                                            Tian, Y. and Lu, C.   \n",
       "\n",
       "                                                        Journal  Year  \\\n",
       "0                                         Theoret. Comput. Sci.  2020   \n",
       "2     Rev. R. Acad. Cienc. Exactas Fís. Nat. Ser. A Mat. RACSAM  2019   \n",
       "3                                                 Comm. Algebra  2015   \n",
       "4                                         J. Pure Appl. Algebra  2017   \n",
       "5                                              Houston J. Math.  2001   \n",
       "...                                                         ...   ...   \n",
       "3528                                          Sibirsk. Mat. Zh.  2007   \n",
       "3529                                       J. Algebraic Combin.  1999   \n",
       "3534                                                 J. Algebra  2021   \n",
       "3535                                          Represent. Theory  1998   \n",
       "3541                                      J. Ind. Manag. Optim.  2011   \n",
       "\n",
       "     Publication Type  \\\n",
       "0             article   \n",
       "2             article   \n",
       "3             article   \n",
       "4             article   \n",
       "5             article   \n",
       "...               ...   \n",
       "3528          article   \n",
       "3529          article   \n",
       "3534          article   \n",
       "3535          article   \n",
       "3541          article   \n",
       "\n",
       "                                                                                                                                                          Citation  \\\n",
       "0                                                         GAP – Groups, algorithms, programming - a system for computational discrete algebra, www.gap-system.org.   \n",
       "2                                    The GAP Group: GAP—groups, algorithms, and programming, version 4.7.5 (2014). http://www.gap-system.org. Accessed 19 Aug 2017   \n",
       "3                                                                          The GAP – Groups, Algorithms and Programming. Version 4.4.12, 2008. www.gap-system.org.   \n",
       "4                                                                  The GAP Group, GAP–Groups, Algorithms, and Programming, 4.7.8, 2015, http://www.gap-system.org.   \n",
       "5     M. Schönert et al. GAP - Groups, Algorithms, and Programming (Lehrsthul D für Mathematik, Reinisch-Westflische Technische Hochschule, Aachen, Germany, fi...   \n",
       "...                                                                                                                                                            ...   \n",
       "3528               Kargapolov M. I. and Merzlyakov Yu. I., Fundamentals of the Theory of Groups, Springer-Verlag, New York; Heidelberg; Berlin (1979). \\nMR0551207   \n",
       "3529                                 M. Schönert et al., \"Gap: groups, algorithms, and programming,\" Lehrstuhl D für Mathematik, RWTH Aachen, 3.4.4 edition, 1997.   \n",
       "3534                                                                      The Gap Group, Gap–groups, algorithms, and programming, http://www.gap-system.org, 2015.   \n",
       "3535  M. Schönert (ed.), Groups, Algorithms and Programming. Lehrstuhl D für Mathe- matik, RWTH Aachen, Germany (1994) available via anonymous ftp on the serve...   \n",
       "3541  X. Sun, C. Liu, D. Li and J. Gao, On duality gap in binary quadratic programming, Available from: http://www.optimization-online.org/DB_FILE/2010/01/2512...   \n",
       "\n",
       "      Version Website  Lentght  Accuracy Score  Lenght  \n",
       "0     Unknown     Yes      104               2     104  \n",
       "2       4.7.5     Yes      125               3     125  \n",
       "3      4.4.12     Yes       87               2      87  \n",
       "4       4.7.8     Yes       95               3      95  \n",
       "5     Unknown      No      168               1     168  \n",
       "...       ...     ...      ...             ...     ...  \n",
       "3528  Unknown      No      142               1     142  \n",
       "3529    3.4.4      No      125               2     125  \n",
       "3534  Unknown     Yes       88               1      88  \n",
       "3535  Unknown      No      193               1     193  \n",
       "3541  Unknown     Yes      158               2     158  \n",
       "\n",
       "[734 rows x 11 columns]"
      ]
     },
     "execution_count": 301,
     "metadata": {},
     "output_type": "execute_result"
    }
   ],
   "source": [
    "df2 = gap_df.groupby(['Year', 'Accuracy Score'])\n",
    "df2.head(11)"
   ]
  },
  {
   "cell_type": "markdown",
   "id": "filled-gabriel",
   "metadata": {},
   "source": [
    "### Releases by year"
   ]
  },
  {
   "cell_type": "markdown",
   "id": "sound-bacon",
   "metadata": {},
   "source": [
    "First we create a copy of our corpus dataset, containing only GAP citations with versions provided, all other entries such as Package citations are removed."
   ]
  },
  {
   "cell_type": "code",
   "execution_count": 62,
   "id": "running-assurance",
   "metadata": {},
   "outputs": [],
   "source": [
    "versions_cited = gap_df['Version'].unique()"
   ]
  },
  {
   "cell_type": "code",
   "execution_count": 63,
   "id": "sealed-mailing",
   "metadata": {},
   "outputs": [
    {
     "data": {
      "text/plain": [
       "array(['4.7.5', '4.4.12', '4.7.8', '4.3', '4.4', '4.4.4', '4.6.4',\n",
       "       '4.7.2', '4.6.5', '4.7.9', '4.8.8', '4.8.9', '4.4.10', '4.5.7',\n",
       "       '4.7.4', '4.7.7', '4.2', '4.6.12', '4.1', '4.10.0', '4.8.6',\n",
       "       '4.8.2', '4.10.2', '4.11.0', '4.4.2', '4.8.3', '10.1109', '4.8.7',\n",
       "       '4.6', '2.12', '4.9.1', '4.4.9', '4.8.4', '4.6.2', '1.2', '4.9.3',\n",
       "       '4.8.10', '4.5', '4.4.6', '4.4.7', '4.5.5', '1.4', '1.3.3',\n",
       "       '4.4.11', '5.7', '1.5.4', '4.10.1', '1.0.0', '4.4.10.2007',\n",
       "       '4.6.3', '1405.5063', '1.1', '3.4', '4.8.5', '4.5.6', '4.11',\n",
       "       '4.10', '4.9.2', '4.7.6', '4.6.9', '4.5.4', '3.4.4', '4.08.10',\n",
       "       '0710.3267', '0911.5589', '4.8', '4.9.0', '4.7', '3.3', '2.19',\n",
       "       '0.97', '10.14760', '1.2.1', '2.2.0', '1.5.1', '3.0', '2.0.0',\n",
       "       '4.4.2006', '4.5.3', '2.1.0', '3.1.0', '3.4.3', '1.0',\n",
       "       '55.0810.04', '4.6.1', '4.4.3', '4.8.1', '1.9.6', '1804.09707',\n",
       "       '3.1', '4.4.5', '1.4.0', '4.46', '4.9', '4.49', '10.01.16', '3.2'],\n",
       "      dtype=object)"
      ]
     },
     "execution_count": 63,
     "metadata": {},
     "output_type": "execute_result"
    }
   ],
   "source": [
    "versions_cited"
   ]
  },
  {
   "cell_type": "code",
   "execution_count": 64,
   "id": "returning-venture",
   "metadata": {},
   "outputs": [],
   "source": [
    "release_dates = { \n",
    "    # dates from archive timestamps\n",
    "    '4.8.2': 2016, # 2016/02/20\n",
    "    '4.7.9': 2015, # 2015/11/29\n",
    "    '4.7.8': 2015, # 2015/06/09\n",
    "    '4.7.7': 2015, # 2015/02/13\n",
    "    '4.7.6': 2014, # 2014/11/15\n",
    "    '4.7.5': 2014, # 2014/05/24\n",
    "    '4.7.4': 2014, # 2014/02/20\n",
    "    '4.7.3': 2013, # 2014/02/15\n",
    "    '4.7.2': 2013, # 2013/12/01\n",
    "    '4.7': 2013,\n",
    "    '4.6.5': 2013, # 2013/07/20\n",
    "    '4.6.4': 2013, # 2013/05/04\n",
    "    '4.6.3': 2013, # 2013/03/18\n",
    "    '4.6.2': 2013, # 2013/02/02\n",
    "    '4.5.7': 2012, # 2012/12/14\n",
    "    '4.5.6': 2012, # 2012/09/16\n",
    "    '4.5.5': 2012, # 2012/07/16\n",
    "    '4.5.4': 2012, # 2013/06/04\n",
    "    '4.5': 2012, \n",
    "    # dates below from file creation\n",
    "    '4.4.12': 2008, # 2008/12/16\n",
    "    '4.4.11': 2008, # 2008/12/08\n",
    "    '4.4.10': 2007, # 2007/10/05\n",
    "    '4.4.9': 2006,  # 2006/11/02\n",
    "    '4.4.8': 2006,  # 2006/09/29\n",
    "    '4.4.7': 2006,  # 2006/03/17\n",
    "    '4.4.6': 2005,  # 2005/09/02\n",
    "    '4.4.5': 2005,  # 2005/05/13\n",
    "    '4.4.4': 2004,  # 2004/12/22\n",
    "    # dates below from http://www.gap-system.org/Download/Updates/index.html\n",
    "    '4.4.3': 2004,   # May 2004\n",
    "    '4.4.2': 2004,  # April 2004\n",
    "    # dates from http://www.gap-system.org/Doc/History/history.html\n",
    "    # if not stated otherwise\n",
    "    '4.4': 2004, \n",
    "    '4.3': 2002, \n",
    "    '4.2': 2000, # http://www.gap-system.org/ForumArchive/Linton.1/Steve.1/Release_.3/1.html\n",
    "    '4.1': 1999, \n",
    "    '3.4': 1997, # assume http://www.gap-system.org/Doc/History/preface_3.4.4.html\n",
    "}"
   ]
  },
  {
   "cell_type": "code",
   "execution_count": 65,
   "id": "developed-clause",
   "metadata": {},
   "outputs": [
    {
     "data": {
      "text/plain": [
       "dict_keys(['4.8.2', '4.7.9', '4.7.8', '4.7.7', '4.7.6', '4.7.5', '4.7.4', '4.7.3', '4.7.2', '4.7', '4.6.5', '4.6.4', '4.6.3', '4.6.2', '4.5.7', '4.5.6', '4.5.5', '4.5.4', '4.5', '4.4.12', '4.4.11', '4.4.10', '4.4.9', '4.4.8', '4.4.7', '4.4.6', '4.4.5', '4.4.4', '4.4.3', '4.4.2', '4.4', '4.3', '4.2', '4.1', '3.4'])"
      ]
     },
     "execution_count": 65,
     "metadata": {},
     "output_type": "execute_result"
    }
   ],
   "source": [
    "release_dates.keys()"
   ]
  },
  {
   "cell_type": "code",
   "execution_count": 66,
   "id": "employed-constant",
   "metadata": {},
   "outputs": [],
   "source": [
    "def release_year(version):\n",
    "    if version in release_dates.keys():\n",
    "        return release_dates[version]\n",
    "    else:\n",
    "        return 'Unknown'"
   ]
  },
  {
   "cell_type": "code",
   "execution_count": 67,
   "id": "harmful-intranet",
   "metadata": {},
   "outputs": [
    {
     "data": {
      "text/plain": [
       "2013"
      ]
     },
     "execution_count": 67,
     "metadata": {},
     "output_type": "execute_result"
    }
   ],
   "source": [
    "release_year('4.7.2')"
   ]
  },
  {
   "cell_type": "code",
   "execution_count": 68,
   "id": "compound-mitchell",
   "metadata": {},
   "outputs": [],
   "source": [
    "gap_df['ReleaseYear'] = gap_df['Version'].map(release_year)"
   ]
  },
  {
   "cell_type": "code",
   "execution_count": 69,
   "id": "accomplished-going",
   "metadata": {},
   "outputs": [],
   "source": [
    "data = gap_df['ReleaseYear'].value_counts()"
   ]
  },
  {
   "cell_type": "markdown",
   "id": "eight-paraguay",
   "metadata": {},
   "source": [
    "* Number of Citations by year of cited GAP release, in textual and graphic forms."
   ]
  },
  {
   "cell_type": "code",
   "execution_count": 70,
   "id": "personal-surname",
   "metadata": {
    "scrolled": true
   },
   "outputs": [
    {
     "data": {
      "text/plain": [
       "2004       449\n",
       "Unknown    403\n",
       "2008       307\n",
       "2002       211\n",
       "2007       135\n",
       "2000       122\n",
       "2014       120\n",
       "2013       112\n",
       "2015       105\n",
       "2006        86\n",
       "2012        84\n",
       "1999        32\n",
       "1997        30\n",
       "2005        13\n",
       "2016        10\n",
       "Name: ReleaseYear, dtype: int64"
      ]
     },
     "execution_count": 70,
     "metadata": {},
     "output_type": "execute_result"
    }
   ],
   "source": [
    "data"
   ]
  },
  {
   "cell_type": "code",
   "execution_count": 305,
   "id": "possible-distance",
   "metadata": {},
   "outputs": [
    {
     "data": {
      "text/plain": [
       "<AxesSubplot:title={'center':'Citations by year of cited GAP release'}, xlabel='Years', ylabel='Count'>"
      ]
     },
     "execution_count": 305,
     "metadata": {},
     "output_type": "execute_result"
    },
    {
     "data": {
      "image/png": "[encoded data removed]",
      "text/plain": [
       "<Figure size 792x360 with 1 Axes>"
      ]
     },
     "metadata": {
      "needs_background": "light"
     },
     "output_type": "display_data"
    }
   ],
   "source": [
    "data.loc[sorted(data.index.intersection(range(1997, 2021)))].plot(kind=\"bar\", \n",
    "                figsize=(11, 5), title='Citations by year of cited GAP release', xlabel='Years', \n",
    "                ylabel='Count', color='green')"
   ]
  },
  {
   "cell_type": "code",
   "execution_count": 127,
   "id": "minus-mainstream",
   "metadata": {},
   "outputs": [
    {
     "data": {
      "text/plain": [
       "<AxesSubplot:title={'center':'pie'}, ylabel='Frequency'>"
      ]
     },
     "execution_count": 127,
     "metadata": {},
     "output_type": "execute_result"
    },
    {
     "data": {
      "image/png": "[encoded data removed]",
      "text/plain": [
       "<Figure size 432x288 with 1 Axes>"
      ]
     },
     "metadata": {
      "needs_background": "light"
     },
     "output_type": "display_data"
    }
   ],
   "source": [
    "dat.plot(kind=\"hist\", title=\"pie\")"
   ]
  },
  {
   "cell_type": "markdown",
   "id": "successful-flour",
   "metadata": {},
   "source": [
    "all_years = corpus_df.groupby(['year','ReleaseYear'])['Year'].count()\n",
    "all_years"
   ]
  },
  {
   "cell_type": "code",
   "execution_count": 148,
   "id": "sufficient-rental",
   "metadata": {
    "scrolled": true
   },
   "outputs": [
    {
     "data": {
      "text/html": [
       "<div>\n",
       "<style scoped>\n",
       "    .dataframe tbody tr th:only-of-type {\n",
       "        vertical-align: middle;\n",
       "    }\n",
       "\n",
       "    .dataframe tbody tr th {\n",
       "        vertical-align: top;\n",
       "    }\n",
       "\n",
       "    .dataframe thead th {\n",
       "        text-align: right;\n",
       "    }\n",
       "</style>\n",
       "<table border=\"1\" class=\"dataframe\">\n",
       "  <thead>\n",
       "    <tr style=\"text-align: right;\">\n",
       "      <th></th>\n",
       "      <th>MR</th>\n",
       "      <th>Author</th>\n",
       "      <th>Journal</th>\n",
       "      <th>Year</th>\n",
       "      <th>Publication Type</th>\n",
       "      <th>Citation</th>\n",
       "      <th>Version</th>\n",
       "      <th>Website</th>\n",
       "      <th>Lentght</th>\n",
       "    </tr>\n",
       "  </thead>\n",
       "  <tbody>\n",
       "    <tr>\n",
       "      <th>3532</th>\n",
       "      <td>2592492</td>\n",
       "      <td>McInroy, J. and Shpectorov, S.</td>\n",
       "      <td>Discrete Math.</td>\n",
       "      <td>2010</td>\n",
       "      <td>article</td>\n",
       "      <td>The Gap Group, Gap - Groups, Algorithms, and Programming, Version 4.4.10, 2007. http://www.gap-system.org.</td>\n",
       "      <td>4.4.10</td>\n",
       "      <td>Yes</td>\n",
       "      <td>106</td>\n",
       "    </tr>\n",
       "    <tr>\n",
       "      <th>3533</th>\n",
       "      <td>2592492</td>\n",
       "      <td>McInroy, J. and Shpectorov, S.</td>\n",
       "      <td>Discrete Math.</td>\n",
       "      <td>2010</td>\n",
       "      <td>article</td>\n",
       "      <td>L.H. Soicher, The Grape package for Gap, Version 4.3, 2006. http://www.maths.qmul.ac.uk/simleonard/grape/.</td>\n",
       "      <td>Package</td>\n",
       "      <td>Yes</td>\n",
       "      <td>106</td>\n",
       "    </tr>\n",
       "  </tbody>\n",
       "</table>\n",
       "</div>"
      ],
      "text/plain": [
       "           MR                          Author         Journal  Year  \\\n",
       "3532  2592492  McInroy, J. and Shpectorov, S.  Discrete Math.  2010   \n",
       "3533  2592492  McInroy, J. and Shpectorov, S.  Discrete Math.  2010   \n",
       "\n",
       "     Publication Type  \\\n",
       "3532          article   \n",
       "3533          article   \n",
       "\n",
       "                                                                                                        Citation  \\\n",
       "3532  The Gap Group, Gap - Groups, Algorithms, and Programming, Version 4.4.10, 2007. http://www.gap-system.org.   \n",
       "3533  L.H. Soicher, The Grape package for Gap, Version 4.3, 2006. http://www.maths.qmul.ac.uk/simleonard/grape/.   \n",
       "\n",
       "      Version Website  Lentght  \n",
       "3532   4.4.10     Yes      106  \n",
       "3533  Package     Yes      106  "
      ]
     },
     "execution_count": 148,
     "metadata": {},
     "output_type": "execute_result"
    }
   ],
   "source": [
    "get_c('2592492')"
   ]
  },
  {
   "cell_type": "code",
   "execution_count": 146,
   "id": "humanitarian-salad",
   "metadata": {
    "scrolled": true
   },
   "outputs": [],
   "source": [
    "years = gap_df['Year'].unique()\n",
    "dat = gap_df['Year'].value_counts()\n",
    "g = gap_df['Version'].value_counts()\n",
    "ver = gap_df['Version'].unique()"
   ]
  },
  {
   "cell_type": "code",
   "execution_count": 155,
   "id": "considered-novel",
   "metadata": {},
   "outputs": [
    {
     "data": {
      "text/plain": [
       "article          2196\n",
       "incollection       20\n",
       "inproceedings       3\n",
       "Name: Publication Type, dtype: int64"
      ]
     },
     "execution_count": 155,
     "metadata": {},
     "output_type": "execute_result"
    }
   ],
   "source": [
    "gap_df['Publication Type'].value_counts()"
   ]
  },
  {
   "cell_type": "code",
   "execution_count": 165,
   "id": "serial-cambridge",
   "metadata": {
    "scrolled": true
   },
   "outputs": [
    {
     "data": {
      "text/html": [
       "<div>\n",
       "<style scoped>\n",
       "    .dataframe tbody tr th:only-of-type {\n",
       "        vertical-align: middle;\n",
       "    }\n",
       "\n",
       "    .dataframe tbody tr th {\n",
       "        vertical-align: top;\n",
       "    }\n",
       "\n",
       "    .dataframe thead th {\n",
       "        text-align: right;\n",
       "    }\n",
       "</style>\n",
       "<table border=\"1\" class=\"dataframe\">\n",
       "  <thead>\n",
       "    <tr style=\"text-align: right;\">\n",
       "      <th></th>\n",
       "      <th></th>\n",
       "      <th>Publication Type</th>\n",
       "    </tr>\n",
       "    <tr>\n",
       "      <th>Publication Type</th>\n",
       "      <th>Year</th>\n",
       "      <th></th>\n",
       "    </tr>\n",
       "  </thead>\n",
       "  <tbody>\n",
       "    <tr>\n",
       "      <th rowspan=\"27\" valign=\"top\">article</th>\n",
       "      <th>1993</th>\n",
       "      <td>2</td>\n",
       "    </tr>\n",
       "    <tr>\n",
       "      <th>1994</th>\n",
       "      <td>1</td>\n",
       "    </tr>\n",
       "    <tr>\n",
       "      <th>1997</th>\n",
       "      <td>8</td>\n",
       "    </tr>\n",
       "    <tr>\n",
       "      <th>1998</th>\n",
       "      <td>3</td>\n",
       "    </tr>\n",
       "    <tr>\n",
       "      <th>1999</th>\n",
       "      <td>4</td>\n",
       "    </tr>\n",
       "    <tr>\n",
       "      <th>2000</th>\n",
       "      <td>7</td>\n",
       "    </tr>\n",
       "    <tr>\n",
       "      <th>2001</th>\n",
       "      <td>26</td>\n",
       "    </tr>\n",
       "    <tr>\n",
       "      <th>2002</th>\n",
       "      <td>24</td>\n",
       "    </tr>\n",
       "    <tr>\n",
       "      <th>2003</th>\n",
       "      <td>48</td>\n",
       "    </tr>\n",
       "    <tr>\n",
       "      <th>2004</th>\n",
       "      <td>68</td>\n",
       "    </tr>\n",
       "    <tr>\n",
       "      <th>2005</th>\n",
       "      <td>83</td>\n",
       "    </tr>\n",
       "    <tr>\n",
       "      <th>2006</th>\n",
       "      <td>80</td>\n",
       "    </tr>\n",
       "    <tr>\n",
       "      <th>2007</th>\n",
       "      <td>116</td>\n",
       "    </tr>\n",
       "    <tr>\n",
       "      <th>2008</th>\n",
       "      <td>108</td>\n",
       "    </tr>\n",
       "    <tr>\n",
       "      <th>2009</th>\n",
       "      <td>93</td>\n",
       "    </tr>\n",
       "    <tr>\n",
       "      <th>2010</th>\n",
       "      <td>130</td>\n",
       "    </tr>\n",
       "    <tr>\n",
       "      <th>2011</th>\n",
       "      <td>121</td>\n",
       "    </tr>\n",
       "    <tr>\n",
       "      <th>2012</th>\n",
       "      <td>124</td>\n",
       "    </tr>\n",
       "    <tr>\n",
       "      <th>2013</th>\n",
       "      <td>128</td>\n",
       "    </tr>\n",
       "    <tr>\n",
       "      <th>2014</th>\n",
       "      <td>126</td>\n",
       "    </tr>\n",
       "    <tr>\n",
       "      <th>2015</th>\n",
       "      <td>132</td>\n",
       "    </tr>\n",
       "    <tr>\n",
       "      <th>2016</th>\n",
       "      <td>126</td>\n",
       "    </tr>\n",
       "    <tr>\n",
       "      <th>2017</th>\n",
       "      <td>161</td>\n",
       "    </tr>\n",
       "    <tr>\n",
       "      <th>2018</th>\n",
       "      <td>142</td>\n",
       "    </tr>\n",
       "    <tr>\n",
       "      <th>2019</th>\n",
       "      <td>146</td>\n",
       "    </tr>\n",
       "    <tr>\n",
       "      <th>2020</th>\n",
       "      <td>154</td>\n",
       "    </tr>\n",
       "    <tr>\n",
       "      <th>2021</th>\n",
       "      <td>35</td>\n",
       "    </tr>\n",
       "    <tr>\n",
       "      <th rowspan=\"5\" valign=\"top\">incollection</th>\n",
       "      <th>2000</th>\n",
       "      <td>3</td>\n",
       "    </tr>\n",
       "    <tr>\n",
       "      <th>2001</th>\n",
       "      <td>6</td>\n",
       "    </tr>\n",
       "    <tr>\n",
       "      <th>2002</th>\n",
       "      <td>5</td>\n",
       "    </tr>\n",
       "    <tr>\n",
       "      <th>2003</th>\n",
       "      <td>5</td>\n",
       "    </tr>\n",
       "    <tr>\n",
       "      <th>2004</th>\n",
       "      <td>1</td>\n",
       "    </tr>\n",
       "    <tr>\n",
       "      <th rowspan=\"2\" valign=\"top\">inproceedings</th>\n",
       "      <th>2001</th>\n",
       "      <td>1</td>\n",
       "    </tr>\n",
       "    <tr>\n",
       "      <th>2003</th>\n",
       "      <td>2</td>\n",
       "    </tr>\n",
       "  </tbody>\n",
       "</table>\n",
       "</div>"
      ],
      "text/plain": [
       "                       Publication Type\n",
       "Publication Type Year                  \n",
       "article          1993                 2\n",
       "                 1994                 1\n",
       "                 1997                 8\n",
       "                 1998                 3\n",
       "                 1999                 4\n",
       "                 2000                 7\n",
       "                 2001                26\n",
       "                 2002                24\n",
       "                 2003                48\n",
       "                 2004                68\n",
       "                 2005                83\n",
       "                 2006                80\n",
       "                 2007               116\n",
       "                 2008               108\n",
       "                 2009                93\n",
       "                 2010               130\n",
       "                 2011               121\n",
       "                 2012               124\n",
       "                 2013               128\n",
       "                 2014               126\n",
       "                 2015               132\n",
       "                 2016               126\n",
       "                 2017               161\n",
       "                 2018               142\n",
       "                 2019               146\n",
       "                 2020               154\n",
       "                 2021                35\n",
       "incollection     2000                 3\n",
       "                 2001                 6\n",
       "                 2002                 5\n",
       "                 2003                 5\n",
       "                 2004                 1\n",
       "inproceedings    2001                 1\n",
       "                 2003                 2"
      ]
     },
     "execution_count": 165,
     "metadata": {},
     "output_type": "execute_result"
    }
   ],
   "source": [
    "yea = gap_df.groupby(['Publication Type', 'Year'])['Publication Type'].count()\n",
    "yea = pd.DataFrame(data=yea)\n",
    "yea"
   ]
  },
  {
   "cell_type": "code",
   "execution_count": 166,
   "id": "grave-world",
   "metadata": {
    "scrolled": true
   },
   "outputs": [
    {
     "data": {
      "text/plain": [
       "<AxesSubplot:title={'center':'Citations by year of cited GAP release'}, xlabel='Years', ylabel='Count'>"
      ]
     },
     "execution_count": 166,
     "metadata": {},
     "output_type": "execute_result"
    },
    {
     "data": {
      "image/png": "[encoded data removed]",
      "text/plain": [
       "<Figure size 792x360 with 1 Axes>"
      ]
     },
     "metadata": {
      "needs_background": "light"
     },
     "output_type": "display_data"
    }
   ],
   "source": [
    "yea.plot(kind=\"bar\", \n",
    "                figsize=(11, 5), title='Citations by year of cited GAP release', xlabel='Years', \n",
    "                ylabel='Count', color='green')"
   ]
  },
  {
   "cell_type": "code",
   "execution_count": 170,
   "id": "thorough-indiana",
   "metadata": {
    "collapsed": true
   },
   "outputs": [
    {
     "data": {
      "text/html": [
       "<div>\n",
       "<style scoped>\n",
       "    .dataframe tbody tr th:only-of-type {\n",
       "        vertical-align: middle;\n",
       "    }\n",
       "\n",
       "    .dataframe tbody tr th {\n",
       "        vertical-align: top;\n",
       "    }\n",
       "\n",
       "    .dataframe thead th {\n",
       "        text-align: right;\n",
       "    }\n",
       "</style>\n",
       "<table border=\"1\" class=\"dataframe\">\n",
       "  <thead>\n",
       "    <tr style=\"text-align: right;\">\n",
       "      <th></th>\n",
       "      <th>Journal</th>\n",
       "    </tr>\n",
       "    <tr>\n",
       "      <th>Year</th>\n",
       "      <th></th>\n",
       "    </tr>\n",
       "  </thead>\n",
       "  <tbody>\n",
       "    <tr>\n",
       "      <th>1993</th>\n",
       "      <td>[Math. Comp.]</td>\n",
       "    </tr>\n",
       "    <tr>\n",
       "      <th>1994</th>\n",
       "      <td>[Math. Comp.]</td>\n",
       "    </tr>\n",
       "    <tr>\n",
       "      <th>1997</th>\n",
       "      <td>[Trans. Amer. Math. Soc., J. Algebra, J. London Math. Soc. (2), Comment. Math. Helv., Proc. Amer. Math. Soc., Proc. London Math. Soc. (3)]</td>\n",
       "    </tr>\n",
       "    <tr>\n",
       "      <th>1998</th>\n",
       "      <td>[J. Math. Soc. Japan, Math. Comp., J. London Math. Soc. (2)]</td>\n",
       "    </tr>\n",
       "    <tr>\n",
       "      <th>1999</th>\n",
       "      <td>[J. Algebra, Bull. London Math. Soc., Proc. London Math. Soc. (3), J. Algebraic Combin.]</td>\n",
       "    </tr>\n",
       "    <tr>\n",
       "      <th>2000</th>\n",
       "      <td>[Discrete Math., J. Algebra, J. Symbolic Comput., Comm. Algebra]</td>\n",
       "    </tr>\n",
       "    <tr>\n",
       "      <th>2001</th>\n",
       "      <td>[Quaest. Math., Comm. Algebra, J. Algebra, Boll. Unione Mat. Ital. Sez. B Artic. Ric. Mat. (8), Discrete Math. Theor. Comput. Sci., J. Korean Math. Soc.,...</td>\n",
       "    </tr>\n",
       "    <tr>\n",
       "      <th>2002</th>\n",
       "      <td>[Acta Sci. Math. (Szeged), Comm. Algebra, Internat. J. Algebra Comput., J. Combin. Des., J. Algebra, Des. Codes Cryptogr., Theoret. Comput. Sci., J. Symb...</td>\n",
       "    </tr>\n",
       "    <tr>\n",
       "      <th>2003</th>\n",
       "      <td>[Discrete Math., Represent. Theory, LMS J. Comput. Math., J. Combin. Theory Ser. A, European J. Combin., J. Symbolic Comput., Comm. Algebra, Finite Field...</td>\n",
       "    </tr>\n",
       "    <tr>\n",
       "      <th>2004</th>\n",
       "      <td>[Discrete Math., Aequationes Math., Comm. Algebra, J. Combin. Des., Publ. Math. Debrecen, Math. Proc. Cambridge Philos. Soc., LMS J. Comput. Math., Exper...</td>\n",
       "    </tr>\n",
       "    <tr>\n",
       "      <th>2005</th>\n",
       "      <td>[Comm. Algebra, Electron. J. Combin., Proc. Japan Acad. Ser. A Math. Sci., J. Algebra Appl., Internat. J. Algebra Comput., LMS J. Comput. Math., Beiträge...</td>\n",
       "    </tr>\n",
       "    <tr>\n",
       "      <th>2006</th>\n",
       "      <td>[Discrete Math., Des. Codes Cryptogr., Innov. Incidence Geom., Math. Proc. R. Ir. Acad., J. Algebra, Israel J. Math., Trans. Amer. Math. Soc., Arch. Math...</td>\n",
       "    </tr>\n",
       "    <tr>\n",
       "      <th>2007</th>\n",
       "      <td>[Houston J. Math., J. Pure Appl. Algebra, Bull. Malays. Math. Sci. Soc. (2), J. Algebra, Innov. Incidence Geom., Algebra Colloq., Discrete Appl. Math., I...</td>\n",
       "    </tr>\n",
       "    <tr>\n",
       "      <th>2008</th>\n",
       "      <td>[Comm. Algebra, Linear Algebra Appl., Results Math., Contrib. Discrete Math., Invent. Math., Fundam. Prikl. Mat., Quaest. Math., LMS J. Comput. Math., Pr...</td>\n",
       "    </tr>\n",
       "    <tr>\n",
       "      <th>2009</th>\n",
       "      <td>[J. Algebra Appl., Electron. J. Combin., Combin. Probab. Comput., J. Pure Appl. Algebra, Bull. Aust. Math. Soc., Discrete Math., Experiment. Math., Arch....</td>\n",
       "    </tr>\n",
       "    <tr>\n",
       "      <th>2010</th>\n",
       "      <td>[Comm. Algebra, Arch. Math. (Basel), Algebra Colloq., J. Algebra Appl., Electron. J. Combin., Adv. Math., Appl. Categ. Structures, Internat. J. Algebra C...</td>\n",
       "    </tr>\n",
       "    <tr>\n",
       "      <th>2011</th>\n",
       "      <td>[J. Algebra, Bol. Soc. Mat. Mexicana (3), Algebra Colloq., J. Reine Angew. Math., Ann. Mat. Pura Appl. (4), Discrete Math. Theor. Comput. Sci., European ...</td>\n",
       "    </tr>\n",
       "    <tr>\n",
       "      <th>2012</th>\n",
       "      <td>[Bull. Malays. Math. Sci. Soc. (2), Monatsh. Math., Electron. J. Combin., Canad. J. Math., J. Algebra, Algebr. Geom. Topol., Comm. Algebra, Internat. J. ...</td>\n",
       "    </tr>\n",
       "    <tr>\n",
       "      <th>2013</th>\n",
       "      <td>[Algebra Colloq., Des. Codes Cryptogr., J. Aust. Math. Soc., Israel J. Math., Algebr. Represent. Theory, J. Algebra, J. Algebra Appl., Appl. Algebra Engr...</td>\n",
       "    </tr>\n",
       "    <tr>\n",
       "      <th>2014</th>\n",
       "      <td>[European J. Combin., Bull. Iranian Math. Soc., J. Algebra Appl., Discrete Math. Theor. Comput. Sci., Quaest. Math., Ergodic Theory Dynam. Systems, Arch....</td>\n",
       "    </tr>\n",
       "    <tr>\n",
       "      <th>2015</th>\n",
       "      <td>[Comm. Algebra, J. Group Theory, Discrete Math., Serdica Math. J., Australas. J. Combin., Israel J. Math., Involve, J. Symbolic Comput., LMS J. Comput. M...</td>\n",
       "    </tr>\n",
       "    <tr>\n",
       "      <th>2016</th>\n",
       "      <td>[J. Algebra Appl., Comm. Algebra, Ars Combin., Zap. Nauchn. Sem. S.-Peterburg. Otdel. Mat. Inst. Steklov. (POMI), Bull. Aust. Math. Soc., Tr. Inst. Mat. ...</td>\n",
       "    </tr>\n",
       "    <tr>\n",
       "      <th>2017</th>\n",
       "      <td>[J. Pure Appl. Algebra, Des. Codes Cryptogr., J. Algebra Appl., Internat. J. Algebra Comput., Comm. Algebra, Discrete Math., Discrete Comput. Geom., Bull...</td>\n",
       "    </tr>\n",
       "    <tr>\n",
       "      <th>2018</th>\n",
       "      <td>[Comm. Algebra, Quaest. Math., J. Algebra Appl., Australas. J. Combin., Beitr. Algebra Geom., Eur. J. Math., Arch. Math. (Basel), Forum Math., Exp. Math....</td>\n",
       "    </tr>\n",
       "    <tr>\n",
       "      <th>2019</th>\n",
       "      <td>[Rev. R. Acad. Cienc. Exactas Fís. Nat. Ser. A Mat. RACSAM, J. Algebra Appl., Comm. Algebra, Australas. J. Combin., Discrete Math., Ars Math. Contemp., F...</td>\n",
       "    </tr>\n",
       "    <tr>\n",
       "      <th>2020</th>\n",
       "      <td>[Bull. Malays. Math. Sci. Soc., J. Algebra Appl., Atti Accad. Naz. Lincei Rend. Lincei Mat. Appl., Graphs Combin., Monatsh. Math., Des. Codes Cryptogr., ...</td>\n",
       "    </tr>\n",
       "    <tr>\n",
       "      <th>2021</th>\n",
       "      <td>[J. Symbolic Comput., J. Algebra, Trans. Amer. Math. Soc., Comm. Algebra, Discrete Appl. Math., J. Pure Appl. Algebra, J. Algebra Appl., J. Aust. Math. S...</td>\n",
       "    </tr>\n",
       "  </tbody>\n",
       "</table>\n",
       "</div>"
      ],
      "text/plain": [
       "                                                                                                                                                           Journal\n",
       "Year                                                                                                                                                              \n",
       "1993                                                                                                                                                 [Math. Comp.]\n",
       "1994                                                                                                                                                 [Math. Comp.]\n",
       "1997                    [Trans. Amer. Math. Soc., J. Algebra, J. London Math. Soc. (2), Comment. Math. Helv., Proc. Amer. Math. Soc., Proc. London Math. Soc. (3)]\n",
       "1998                                                                                                  [J. Math. Soc. Japan, Math. Comp., J. London Math. Soc. (2)]\n",
       "1999                                                                      [J. Algebra, Bull. London Math. Soc., Proc. London Math. Soc. (3), J. Algebraic Combin.]\n",
       "2000                                                                                              [Discrete Math., J. Algebra, J. Symbolic Comput., Comm. Algebra]\n",
       "2001  [Quaest. Math., Comm. Algebra, J. Algebra, Boll. Unione Mat. Ital. Sez. B Artic. Ric. Mat. (8), Discrete Math. Theor. Comput. Sci., J. Korean Math. Soc.,...\n",
       "2002  [Acta Sci. Math. (Szeged), Comm. Algebra, Internat. J. Algebra Comput., J. Combin. Des., J. Algebra, Des. Codes Cryptogr., Theoret. Comput. Sci., J. Symb...\n",
       "2003  [Discrete Math., Represent. Theory, LMS J. Comput. Math., J. Combin. Theory Ser. A, European J. Combin., J. Symbolic Comput., Comm. Algebra, Finite Field...\n",
       "2004  [Discrete Math., Aequationes Math., Comm. Algebra, J. Combin. Des., Publ. Math. Debrecen, Math. Proc. Cambridge Philos. Soc., LMS J. Comput. Math., Exper...\n",
       "2005  [Comm. Algebra, Electron. J. Combin., Proc. Japan Acad. Ser. A Math. Sci., J. Algebra Appl., Internat. J. Algebra Comput., LMS J. Comput. Math., Beiträge...\n",
       "2006  [Discrete Math., Des. Codes Cryptogr., Innov. Incidence Geom., Math. Proc. R. Ir. Acad., J. Algebra, Israel J. Math., Trans. Amer. Math. Soc., Arch. Math...\n",
       "2007  [Houston J. Math., J. Pure Appl. Algebra, Bull. Malays. Math. Sci. Soc. (2), J. Algebra, Innov. Incidence Geom., Algebra Colloq., Discrete Appl. Math., I...\n",
       "2008  [Comm. Algebra, Linear Algebra Appl., Results Math., Contrib. Discrete Math., Invent. Math., Fundam. Prikl. Mat., Quaest. Math., LMS J. Comput. Math., Pr...\n",
       "2009  [J. Algebra Appl., Electron. J. Combin., Combin. Probab. Comput., J. Pure Appl. Algebra, Bull. Aust. Math. Soc., Discrete Math., Experiment. Math., Arch....\n",
       "2010  [Comm. Algebra, Arch. Math. (Basel), Algebra Colloq., J. Algebra Appl., Electron. J. Combin., Adv. Math., Appl. Categ. Structures, Internat. J. Algebra C...\n",
       "2011  [J. Algebra, Bol. Soc. Mat. Mexicana (3), Algebra Colloq., J. Reine Angew. Math., Ann. Mat. Pura Appl. (4), Discrete Math. Theor. Comput. Sci., European ...\n",
       "2012  [Bull. Malays. Math. Sci. Soc. (2), Monatsh. Math., Electron. J. Combin., Canad. J. Math., J. Algebra, Algebr. Geom. Topol., Comm. Algebra, Internat. J. ...\n",
       "2013  [Algebra Colloq., Des. Codes Cryptogr., J. Aust. Math. Soc., Israel J. Math., Algebr. Represent. Theory, J. Algebra, J. Algebra Appl., Appl. Algebra Engr...\n",
       "2014  [European J. Combin., Bull. Iranian Math. Soc., J. Algebra Appl., Discrete Math. Theor. Comput. Sci., Quaest. Math., Ergodic Theory Dynam. Systems, Arch....\n",
       "2015  [Comm. Algebra, J. Group Theory, Discrete Math., Serdica Math. J., Australas. J. Combin., Israel J. Math., Involve, J. Symbolic Comput., LMS J. Comput. M...\n",
       "2016  [J. Algebra Appl., Comm. Algebra, Ars Combin., Zap. Nauchn. Sem. S.-Peterburg. Otdel. Mat. Inst. Steklov. (POMI), Bull. Aust. Math. Soc., Tr. Inst. Mat. ...\n",
       "2017  [J. Pure Appl. Algebra, Des. Codes Cryptogr., J. Algebra Appl., Internat. J. Algebra Comput., Comm. Algebra, Discrete Math., Discrete Comput. Geom., Bull...\n",
       "2018  [Comm. Algebra, Quaest. Math., J. Algebra Appl., Australas. J. Combin., Beitr. Algebra Geom., Eur. J. Math., Arch. Math. (Basel), Forum Math., Exp. Math....\n",
       "2019  [Rev. R. Acad. Cienc. Exactas Fís. Nat. Ser. A Mat. RACSAM, J. Algebra Appl., Comm. Algebra, Australas. J. Combin., Discrete Math., Ars Math. Contemp., F...\n",
       "2020  [Bull. Malays. Math. Sci. Soc., J. Algebra Appl., Atti Accad. Naz. Lincei Rend. Lincei Mat. Appl., Graphs Combin., Monatsh. Math., Des. Codes Cryptogr., ...\n",
       "2021  [J. Symbolic Comput., J. Algebra, Trans. Amer. Math. Soc., Comm. Algebra, Discrete Appl. Math., J. Pure Appl. Algebra, J. Algebra Appl., J. Aust. Math. S..."
      ]
     },
     "execution_count": 170,
     "metadata": {},
     "output_type": "execute_result"
    }
   ],
   "source": [
    "jou = gap_df.groupby('Year')['Journal'].unique()\n",
    "jou = pd.DataFrame(data=jou)\n",
    "jou"
   ]
  },
  {
   "cell_type": "code",
   "execution_count": 92,
   "id": "velvet-district",
   "metadata": {
    "collapsed": true
   },
   "outputs": [
    {
     "data": {
      "text/plain": [
       "Lentght\n",
       "54      1\n",
       "55      1\n",
       "56      2\n",
       "58      2\n",
       "61      1\n",
       "       ..\n",
       "265     1\n",
       "283     1\n",
       "287     1\n",
       "288     1\n",
       "1076    1\n",
       "Length: 127, dtype: int64"
      ]
     },
     "execution_count": 92,
     "metadata": {},
     "output_type": "execute_result"
    }
   ],
   "source": [
    "lee = gap_df.groupby('Lentght')\n",
    "lee.size()"
   ]
  },
  {
   "cell_type": "code",
   "execution_count": 142,
   "id": "bronze-version",
   "metadata": {},
   "outputs": [
    {
     "data": {
      "text/plain": [
       "array(['Abbas, A. and Assi, A. and García-Sánchez, P. A.',\n",
       "       'Abdolghafourian, A. and Iranmanesh, M. A.',\n",
       "       'Abdolghafourian, A. and Iranmanesh, M. A. and Niemeyer, A. C.',\n",
       "       ..., 'Künzer, M. and Mathas, A.', 'Mathas, A.',\n",
       "       'McInroy, J. and Shpectorov, S.'], dtype=object)"
      ]
     },
     "execution_count": 142,
     "metadata": {},
     "output_type": "execute_result"
    }
   ],
   "source": [
    "au7 = gap_df['Author'].unique()\n",
    "au7"
   ]
  },
  {
   "cell_type": "code",
   "execution_count": 131,
   "id": "exciting-plastic",
   "metadata": {
    "collapsed": true
   },
   "outputs": [
    {
     "data": {
      "text/html": [
       "<div>\n",
       "<style scoped>\n",
       "    .dataframe tbody tr th:only-of-type {\n",
       "        vertical-align: middle;\n",
       "    }\n",
       "\n",
       "    .dataframe tbody tr th {\n",
       "        vertical-align: top;\n",
       "    }\n",
       "\n",
       "    .dataframe thead th {\n",
       "        text-align: right;\n",
       "    }\n",
       "</style>\n",
       "<table border=\"1\" class=\"dataframe\">\n",
       "  <thead>\n",
       "    <tr style=\"text-align: right;\">\n",
       "      <th>Year</th>\n",
       "      <th>1993</th>\n",
       "      <th>1994</th>\n",
       "      <th>1997</th>\n",
       "      <th>1998</th>\n",
       "      <th>1999</th>\n",
       "      <th>2000</th>\n",
       "      <th>2001</th>\n",
       "      <th>2002</th>\n",
       "      <th>2003</th>\n",
       "      <th>2004</th>\n",
       "      <th>...</th>\n",
       "      <th>2012</th>\n",
       "      <th>2013</th>\n",
       "      <th>2014</th>\n",
       "      <th>2015</th>\n",
       "      <th>2016</th>\n",
       "      <th>2017</th>\n",
       "      <th>2018</th>\n",
       "      <th>2019</th>\n",
       "      <th>2020</th>\n",
       "      <th>2021</th>\n",
       "    </tr>\n",
       "    <tr>\n",
       "      <th>ReleaseYear</th>\n",
       "      <th></th>\n",
       "      <th></th>\n",
       "      <th></th>\n",
       "      <th></th>\n",
       "      <th></th>\n",
       "      <th></th>\n",
       "      <th></th>\n",
       "      <th></th>\n",
       "      <th></th>\n",
       "      <th></th>\n",
       "      <th></th>\n",
       "      <th></th>\n",
       "      <th></th>\n",
       "      <th></th>\n",
       "      <th></th>\n",
       "      <th></th>\n",
       "      <th></th>\n",
       "      <th></th>\n",
       "      <th></th>\n",
       "      <th></th>\n",
       "      <th></th>\n",
       "    </tr>\n",
       "  </thead>\n",
       "  <tbody>\n",
       "    <tr>\n",
       "      <th>1997</th>\n",
       "      <td>0.0</td>\n",
       "      <td>0.0</td>\n",
       "      <td>5.0</td>\n",
       "      <td>1.0</td>\n",
       "      <td>2.0</td>\n",
       "      <td>7.0</td>\n",
       "      <td>5.0</td>\n",
       "      <td>3.0</td>\n",
       "      <td>5.0</td>\n",
       "      <td>2.0</td>\n",
       "      <td>...</td>\n",
       "      <td>0.0</td>\n",
       "      <td>0.0</td>\n",
       "      <td>0.0</td>\n",
       "      <td>0.0</td>\n",
       "      <td>0.0</td>\n",
       "      <td>0.0</td>\n",
       "      <td>0.0</td>\n",
       "      <td>0.0</td>\n",
       "      <td>0.0</td>\n",
       "      <td>0.0</td>\n",
       "    </tr>\n",
       "    <tr>\n",
       "      <th>1999</th>\n",
       "      <td>0.0</td>\n",
       "      <td>0.0</td>\n",
       "      <td>0.0</td>\n",
       "      <td>0.0</td>\n",
       "      <td>0.0</td>\n",
       "      <td>2.0</td>\n",
       "      <td>10.0</td>\n",
       "      <td>6.0</td>\n",
       "      <td>4.0</td>\n",
       "      <td>4.0</td>\n",
       "      <td>...</td>\n",
       "      <td>0.0</td>\n",
       "      <td>2.0</td>\n",
       "      <td>0.0</td>\n",
       "      <td>0.0</td>\n",
       "      <td>0.0</td>\n",
       "      <td>0.0</td>\n",
       "      <td>0.0</td>\n",
       "      <td>0.0</td>\n",
       "      <td>0.0</td>\n",
       "      <td>0.0</td>\n",
       "    </tr>\n",
       "    <tr>\n",
       "      <th>2000</th>\n",
       "      <td>0.0</td>\n",
       "      <td>0.0</td>\n",
       "      <td>0.0</td>\n",
       "      <td>0.0</td>\n",
       "      <td>0.0</td>\n",
       "      <td>0.0</td>\n",
       "      <td>15.0</td>\n",
       "      <td>17.0</td>\n",
       "      <td>27.0</td>\n",
       "      <td>21.0</td>\n",
       "      <td>...</td>\n",
       "      <td>0.0</td>\n",
       "      <td>1.0</td>\n",
       "      <td>1.0</td>\n",
       "      <td>1.0</td>\n",
       "      <td>0.0</td>\n",
       "      <td>0.0</td>\n",
       "      <td>0.0</td>\n",
       "      <td>0.0</td>\n",
       "      <td>0.0</td>\n",
       "      <td>0.0</td>\n",
       "    </tr>\n",
       "    <tr>\n",
       "      <th>2002</th>\n",
       "      <td>0.0</td>\n",
       "      <td>0.0</td>\n",
       "      <td>0.0</td>\n",
       "      <td>0.0</td>\n",
       "      <td>0.0</td>\n",
       "      <td>0.0</td>\n",
       "      <td>0.0</td>\n",
       "      <td>0.0</td>\n",
       "      <td>17.0</td>\n",
       "      <td>37.0</td>\n",
       "      <td>...</td>\n",
       "      <td>7.0</td>\n",
       "      <td>1.0</td>\n",
       "      <td>7.0</td>\n",
       "      <td>2.0</td>\n",
       "      <td>3.0</td>\n",
       "      <td>1.0</td>\n",
       "      <td>0.0</td>\n",
       "      <td>2.0</td>\n",
       "      <td>3.0</td>\n",
       "      <td>0.0</td>\n",
       "    </tr>\n",
       "    <tr>\n",
       "      <th>2004</th>\n",
       "      <td>0.0</td>\n",
       "      <td>0.0</td>\n",
       "      <td>0.0</td>\n",
       "      <td>0.0</td>\n",
       "      <td>0.0</td>\n",
       "      <td>0.0</td>\n",
       "      <td>0.0</td>\n",
       "      <td>0.0</td>\n",
       "      <td>1.0</td>\n",
       "      <td>0.0</td>\n",
       "      <td>...</td>\n",
       "      <td>30.0</td>\n",
       "      <td>19.0</td>\n",
       "      <td>22.0</td>\n",
       "      <td>15.0</td>\n",
       "      <td>19.0</td>\n",
       "      <td>12.0</td>\n",
       "      <td>14.0</td>\n",
       "      <td>10.0</td>\n",
       "      <td>15.0</td>\n",
       "      <td>0.0</td>\n",
       "    </tr>\n",
       "    <tr>\n",
       "      <th>2005</th>\n",
       "      <td>0.0</td>\n",
       "      <td>0.0</td>\n",
       "      <td>0.0</td>\n",
       "      <td>0.0</td>\n",
       "      <td>0.0</td>\n",
       "      <td>0.0</td>\n",
       "      <td>0.0</td>\n",
       "      <td>0.0</td>\n",
       "      <td>0.0</td>\n",
       "      <td>0.0</td>\n",
       "      <td>...</td>\n",
       "      <td>1.0</td>\n",
       "      <td>0.0</td>\n",
       "      <td>1.0</td>\n",
       "      <td>0.0</td>\n",
       "      <td>1.0</td>\n",
       "      <td>1.0</td>\n",
       "      <td>0.0</td>\n",
       "      <td>0.0</td>\n",
       "      <td>0.0</td>\n",
       "      <td>0.0</td>\n",
       "    </tr>\n",
       "    <tr>\n",
       "      <th>2006</th>\n",
       "      <td>0.0</td>\n",
       "      <td>0.0</td>\n",
       "      <td>0.0</td>\n",
       "      <td>0.0</td>\n",
       "      <td>0.0</td>\n",
       "      <td>0.0</td>\n",
       "      <td>0.0</td>\n",
       "      <td>0.0</td>\n",
       "      <td>0.0</td>\n",
       "      <td>0.0</td>\n",
       "      <td>...</td>\n",
       "      <td>9.0</td>\n",
       "      <td>6.0</td>\n",
       "      <td>3.0</td>\n",
       "      <td>0.0</td>\n",
       "      <td>2.0</td>\n",
       "      <td>1.0</td>\n",
       "      <td>0.0</td>\n",
       "      <td>0.0</td>\n",
       "      <td>0.0</td>\n",
       "      <td>0.0</td>\n",
       "    </tr>\n",
       "    <tr>\n",
       "      <th>2007</th>\n",
       "      <td>0.0</td>\n",
       "      <td>0.0</td>\n",
       "      <td>0.0</td>\n",
       "      <td>0.0</td>\n",
       "      <td>0.0</td>\n",
       "      <td>0.0</td>\n",
       "      <td>0.0</td>\n",
       "      <td>0.0</td>\n",
       "      <td>0.0</td>\n",
       "      <td>0.0</td>\n",
       "      <td>...</td>\n",
       "      <td>14.0</td>\n",
       "      <td>10.0</td>\n",
       "      <td>6.0</td>\n",
       "      <td>8.0</td>\n",
       "      <td>6.0</td>\n",
       "      <td>6.0</td>\n",
       "      <td>3.0</td>\n",
       "      <td>2.0</td>\n",
       "      <td>1.0</td>\n",
       "      <td>0.0</td>\n",
       "    </tr>\n",
       "    <tr>\n",
       "      <th>2008</th>\n",
       "      <td>0.0</td>\n",
       "      <td>0.0</td>\n",
       "      <td>0.0</td>\n",
       "      <td>0.0</td>\n",
       "      <td>0.0</td>\n",
       "      <td>0.0</td>\n",
       "      <td>0.0</td>\n",
       "      <td>0.0</td>\n",
       "      <td>0.0</td>\n",
       "      <td>0.0</td>\n",
       "      <td>...</td>\n",
       "      <td>58.0</td>\n",
       "      <td>61.0</td>\n",
       "      <td>32.0</td>\n",
       "      <td>26.0</td>\n",
       "      <td>13.0</td>\n",
       "      <td>15.0</td>\n",
       "      <td>10.0</td>\n",
       "      <td>6.0</td>\n",
       "      <td>3.0</td>\n",
       "      <td>0.0</td>\n",
       "    </tr>\n",
       "    <tr>\n",
       "      <th>2012</th>\n",
       "      <td>0.0</td>\n",
       "      <td>0.0</td>\n",
       "      <td>0.0</td>\n",
       "      <td>0.0</td>\n",
       "      <td>0.0</td>\n",
       "      <td>0.0</td>\n",
       "      <td>0.0</td>\n",
       "      <td>0.0</td>\n",
       "      <td>0.0</td>\n",
       "      <td>0.0</td>\n",
       "      <td>...</td>\n",
       "      <td>0.0</td>\n",
       "      <td>19.0</td>\n",
       "      <td>21.0</td>\n",
       "      <td>12.0</td>\n",
       "      <td>7.0</td>\n",
       "      <td>8.0</td>\n",
       "      <td>8.0</td>\n",
       "      <td>6.0</td>\n",
       "      <td>3.0</td>\n",
       "      <td>0.0</td>\n",
       "    </tr>\n",
       "    <tr>\n",
       "      <th>2013</th>\n",
       "      <td>0.0</td>\n",
       "      <td>0.0</td>\n",
       "      <td>0.0</td>\n",
       "      <td>0.0</td>\n",
       "      <td>0.0</td>\n",
       "      <td>0.0</td>\n",
       "      <td>0.0</td>\n",
       "      <td>0.0</td>\n",
       "      <td>0.0</td>\n",
       "      <td>0.0</td>\n",
       "      <td>...</td>\n",
       "      <td>0.0</td>\n",
       "      <td>5.0</td>\n",
       "      <td>20.0</td>\n",
       "      <td>34.0</td>\n",
       "      <td>22.0</td>\n",
       "      <td>12.0</td>\n",
       "      <td>7.0</td>\n",
       "      <td>7.0</td>\n",
       "      <td>5.0</td>\n",
       "      <td>0.0</td>\n",
       "    </tr>\n",
       "  </tbody>\n",
       "</table>\n",
       "<p>11 rows × 27 columns</p>\n",
       "</div>"
      ],
      "text/plain": [
       "Year         1993  1994  1997  1998  1999  2000  2001  2002  2003  2004  ...  \\\n",
       "ReleaseYear                                                              ...   \n",
       "1997          0.0   0.0   5.0   1.0   2.0   7.0   5.0   3.0   5.0   2.0  ...   \n",
       "1999          0.0   0.0   0.0   0.0   0.0   2.0  10.0   6.0   4.0   4.0  ...   \n",
       "2000          0.0   0.0   0.0   0.0   0.0   0.0  15.0  17.0  27.0  21.0  ...   \n",
       "2002          0.0   0.0   0.0   0.0   0.0   0.0   0.0   0.0  17.0  37.0  ...   \n",
       "2004          0.0   0.0   0.0   0.0   0.0   0.0   0.0   0.0   1.0   0.0  ...   \n",
       "2005          0.0   0.0   0.0   0.0   0.0   0.0   0.0   0.0   0.0   0.0  ...   \n",
       "2006          0.0   0.0   0.0   0.0   0.0   0.0   0.0   0.0   0.0   0.0  ...   \n",
       "2007          0.0   0.0   0.0   0.0   0.0   0.0   0.0   0.0   0.0   0.0  ...   \n",
       "2008          0.0   0.0   0.0   0.0   0.0   0.0   0.0   0.0   0.0   0.0  ...   \n",
       "2012          0.0   0.0   0.0   0.0   0.0   0.0   0.0   0.0   0.0   0.0  ...   \n",
       "2013          0.0   0.0   0.0   0.0   0.0   0.0   0.0   0.0   0.0   0.0  ...   \n",
       "\n",
       "Year         2012  2013  2014  2015  2016  2017  2018  2019  2020  2021  \n",
       "ReleaseYear                                                              \n",
       "1997          0.0   0.0   0.0   0.0   0.0   0.0   0.0   0.0   0.0   0.0  \n",
       "1999          0.0   2.0   0.0   0.0   0.0   0.0   0.0   0.0   0.0   0.0  \n",
       "2000          0.0   1.0   1.0   1.0   0.0   0.0   0.0   0.0   0.0   0.0  \n",
       "2002          7.0   1.0   7.0   2.0   3.0   1.0   0.0   2.0   3.0   0.0  \n",
       "2004         30.0  19.0  22.0  15.0  19.0  12.0  14.0  10.0  15.0   0.0  \n",
       "2005          1.0   0.0   1.0   0.0   1.0   1.0   0.0   0.0   0.0   0.0  \n",
       "2006          9.0   6.0   3.0   0.0   2.0   1.0   0.0   0.0   0.0   0.0  \n",
       "2007         14.0  10.0   6.0   8.0   6.0   6.0   3.0   2.0   1.0   0.0  \n",
       "2008         58.0  61.0  32.0  26.0  13.0  15.0  10.0   6.0   3.0   0.0  \n",
       "2012          0.0  19.0  21.0  12.0   7.0   8.0   8.0   6.0   3.0   0.0  \n",
       "2013          0.0   5.0  20.0  34.0  22.0  12.0   7.0   7.0   5.0   0.0  \n",
       "\n",
       "[11 rows x 27 columns]"
      ]
     },
     "execution_count": 131,
     "metadata": {},
     "output_type": "execute_result"
    }
   ],
   "source": [
    "df2 = gap_df.groupby(['Year', 'ReleaseYear'])['ReleaseYear'].count().unstack('Year').fillna(0)\n",
    "df2.head(11)"
   ]
  },
  {
   "cell_type": "code",
   "execution_count": 143,
   "id": "cheap-county",
   "metadata": {
    "collapsed": true
   },
   "outputs": [
    {
     "name": "stderr",
     "output_type": "stream",
     "text": [
      "c:\\users\\fliqp_000\\appdata\\local\\programs\\python\\python38-32\\lib\\site-packages\\numpy\\ma\\core.py:2825: VisibleDeprecationWarning: Creating an ndarray from ragged nested sequences (which is a list-or-tuple of lists-or-tuples-or ndarrays with different lengths or shapes) is deprecated. If you meant to do this, you must specify 'dtype=object' when creating the ndarray.\n",
      "  _data = np.array(data, dtype=dtype, copy=copy,\n"
     ]
    },
    {
     "ename": "ValueError",
     "evalue": "x and y must be the same size",
     "output_type": "error",
     "traceback": [
      "\u001b[1;31m---------------------------------------------------------------------------\u001b[0m",
      "\u001b[1;31mValueError\u001b[0m                                Traceback (most recent call last)",
      "\u001b[1;32m<ipython-input-143-383c49a84fa4>\u001b[0m in \u001b[0;36m<module>\u001b[1;34m\u001b[0m\n\u001b[0;32m      1\u001b[0m \u001b[1;31m#objects = gap_df['Year']\u001b[0m\u001b[1;33m\u001b[0m\u001b[1;33m\u001b[0m\u001b[1;33m\u001b[0m\u001b[0m\n\u001b[0;32m      2\u001b[0m \u001b[1;33m\u001b[0m\u001b[0m\n\u001b[1;32m----> 3\u001b[1;33m \u001b[0mplt\u001b[0m\u001b[1;33m.\u001b[0m\u001b[0mscatter\u001b[0m\u001b[1;33m(\u001b[0m\u001b[0mlee\u001b[0m\u001b[1;33m,\u001b[0m \u001b[0myears\u001b[0m\u001b[1;33m,\u001b[0m \u001b[0malign\u001b[0m\u001b[1;33m=\u001b[0m\u001b[1;34m'center'\u001b[0m\u001b[1;33m,\u001b[0m \u001b[0malpha\u001b[0m\u001b[1;33m=\u001b[0m\u001b[1;36m0.5\u001b[0m\u001b[1;33m)\u001b[0m\u001b[1;33m\u001b[0m\u001b[1;33m\u001b[0m\u001b[0m\n\u001b[0m\u001b[0;32m      4\u001b[0m \u001b[0mplt\u001b[0m\u001b[1;33m.\u001b[0m\u001b[0myticks\u001b[0m\u001b[1;33m(\u001b[0m\u001b[0my_pos\u001b[0m\u001b[1;33m,\u001b[0m \u001b[0mobjects\u001b[0m\u001b[1;33m)\u001b[0m\u001b[1;33m\u001b[0m\u001b[1;33m\u001b[0m\u001b[0m\n\u001b[0;32m      5\u001b[0m \u001b[0mplt\u001b[0m\u001b[1;33m.\u001b[0m\u001b[0mxlabel\u001b[0m\u001b[1;33m(\u001b[0m\u001b[1;34m'Usage'\u001b[0m\u001b[1;33m)\u001b[0m\u001b[1;33m\u001b[0m\u001b[1;33m\u001b[0m\u001b[0m\n",
      "\u001b[1;32mc:\\users\\fliqp_000\\appdata\\local\\programs\\python\\python38-32\\lib\\site-packages\\matplotlib\\pyplot.py\u001b[0m in \u001b[0;36mscatter\u001b[1;34m(x, y, s, c, marker, cmap, norm, vmin, vmax, alpha, linewidths, verts, edgecolors, plotnonfinite, data, **kwargs)\u001b[0m\n\u001b[0;32m   2888\u001b[0m         \u001b[0mverts\u001b[0m\u001b[1;33m=\u001b[0m\u001b[0mcbook\u001b[0m\u001b[1;33m.\u001b[0m\u001b[0mdeprecation\u001b[0m\u001b[1;33m.\u001b[0m\u001b[0m_deprecated_parameter\u001b[0m\u001b[1;33m,\u001b[0m\u001b[1;33m\u001b[0m\u001b[1;33m\u001b[0m\u001b[0m\n\u001b[0;32m   2889\u001b[0m         edgecolors=None, *, plotnonfinite=False, data=None, **kwargs):\n\u001b[1;32m-> 2890\u001b[1;33m     __ret = gca().scatter(\n\u001b[0m\u001b[0;32m   2891\u001b[0m         \u001b[0mx\u001b[0m\u001b[1;33m,\u001b[0m \u001b[0my\u001b[0m\u001b[1;33m,\u001b[0m \u001b[0ms\u001b[0m\u001b[1;33m=\u001b[0m\u001b[0ms\u001b[0m\u001b[1;33m,\u001b[0m \u001b[0mc\u001b[0m\u001b[1;33m=\u001b[0m\u001b[0mc\u001b[0m\u001b[1;33m,\u001b[0m \u001b[0mmarker\u001b[0m\u001b[1;33m=\u001b[0m\u001b[0mmarker\u001b[0m\u001b[1;33m,\u001b[0m \u001b[0mcmap\u001b[0m\u001b[1;33m=\u001b[0m\u001b[0mcmap\u001b[0m\u001b[1;33m,\u001b[0m \u001b[0mnorm\u001b[0m\u001b[1;33m=\u001b[0m\u001b[0mnorm\u001b[0m\u001b[1;33m,\u001b[0m\u001b[1;33m\u001b[0m\u001b[1;33m\u001b[0m\u001b[0m\n\u001b[0;32m   2892\u001b[0m         \u001b[0mvmin\u001b[0m\u001b[1;33m=\u001b[0m\u001b[0mvmin\u001b[0m\u001b[1;33m,\u001b[0m \u001b[0mvmax\u001b[0m\u001b[1;33m=\u001b[0m\u001b[0mvmax\u001b[0m\u001b[1;33m,\u001b[0m \u001b[0malpha\u001b[0m\u001b[1;33m=\u001b[0m\u001b[0malpha\u001b[0m\u001b[1;33m,\u001b[0m \u001b[0mlinewidths\u001b[0m\u001b[1;33m=\u001b[0m\u001b[0mlinewidths\u001b[0m\u001b[1;33m,\u001b[0m\u001b[1;33m\u001b[0m\u001b[1;33m\u001b[0m\u001b[0m\n",
      "\u001b[1;32mc:\\users\\fliqp_000\\appdata\\local\\programs\\python\\python38-32\\lib\\site-packages\\matplotlib\\__init__.py\u001b[0m in \u001b[0;36minner\u001b[1;34m(ax, data, *args, **kwargs)\u001b[0m\n\u001b[0;32m   1445\u001b[0m     \u001b[1;32mdef\u001b[0m \u001b[0minner\u001b[0m\u001b[1;33m(\u001b[0m\u001b[0max\u001b[0m\u001b[1;33m,\u001b[0m \u001b[1;33m*\u001b[0m\u001b[0margs\u001b[0m\u001b[1;33m,\u001b[0m \u001b[0mdata\u001b[0m\u001b[1;33m=\u001b[0m\u001b[1;32mNone\u001b[0m\u001b[1;33m,\u001b[0m \u001b[1;33m**\u001b[0m\u001b[0mkwargs\u001b[0m\u001b[1;33m)\u001b[0m\u001b[1;33m:\u001b[0m\u001b[1;33m\u001b[0m\u001b[1;33m\u001b[0m\u001b[0m\n\u001b[0;32m   1446\u001b[0m         \u001b[1;32mif\u001b[0m \u001b[0mdata\u001b[0m \u001b[1;32mis\u001b[0m \u001b[1;32mNone\u001b[0m\u001b[1;33m:\u001b[0m\u001b[1;33m\u001b[0m\u001b[1;33m\u001b[0m\u001b[0m\n\u001b[1;32m-> 1447\u001b[1;33m             \u001b[1;32mreturn\u001b[0m \u001b[0mfunc\u001b[0m\u001b[1;33m(\u001b[0m\u001b[0max\u001b[0m\u001b[1;33m,\u001b[0m \u001b[1;33m*\u001b[0m\u001b[0mmap\u001b[0m\u001b[1;33m(\u001b[0m\u001b[0msanitize_sequence\u001b[0m\u001b[1;33m,\u001b[0m \u001b[0margs\u001b[0m\u001b[1;33m)\u001b[0m\u001b[1;33m,\u001b[0m \u001b[1;33m**\u001b[0m\u001b[0mkwargs\u001b[0m\u001b[1;33m)\u001b[0m\u001b[1;33m\u001b[0m\u001b[1;33m\u001b[0m\u001b[0m\n\u001b[0m\u001b[0;32m   1448\u001b[0m \u001b[1;33m\u001b[0m\u001b[0m\n\u001b[0;32m   1449\u001b[0m         \u001b[0mbound\u001b[0m \u001b[1;33m=\u001b[0m \u001b[0mnew_sig\u001b[0m\u001b[1;33m.\u001b[0m\u001b[0mbind\u001b[0m\u001b[1;33m(\u001b[0m\u001b[0max\u001b[0m\u001b[1;33m,\u001b[0m \u001b[1;33m*\u001b[0m\u001b[0margs\u001b[0m\u001b[1;33m,\u001b[0m \u001b[1;33m**\u001b[0m\u001b[0mkwargs\u001b[0m\u001b[1;33m)\u001b[0m\u001b[1;33m\u001b[0m\u001b[1;33m\u001b[0m\u001b[0m\n",
      "\u001b[1;32mc:\\users\\fliqp_000\\appdata\\local\\programs\\python\\python38-32\\lib\\site-packages\\matplotlib\\cbook\\deprecation.py\u001b[0m in \u001b[0;36mwrapper\u001b[1;34m(*inner_args, **inner_kwargs)\u001b[0m\n\u001b[0;32m    409\u001b[0m                          \u001b[1;32melse\u001b[0m \u001b[0mdeprecation_addendum\u001b[0m\u001b[1;33m,\u001b[0m\u001b[1;33m\u001b[0m\u001b[1;33m\u001b[0m\u001b[0m\n\u001b[0;32m    410\u001b[0m                 **kwargs)\n\u001b[1;32m--> 411\u001b[1;33m         \u001b[1;32mreturn\u001b[0m \u001b[0mfunc\u001b[0m\u001b[1;33m(\u001b[0m\u001b[1;33m*\u001b[0m\u001b[0minner_args\u001b[0m\u001b[1;33m,\u001b[0m \u001b[1;33m**\u001b[0m\u001b[0minner_kwargs\u001b[0m\u001b[1;33m)\u001b[0m\u001b[1;33m\u001b[0m\u001b[1;33m\u001b[0m\u001b[0m\n\u001b[0m\u001b[0;32m    412\u001b[0m \u001b[1;33m\u001b[0m\u001b[0m\n\u001b[0;32m    413\u001b[0m     \u001b[1;32mreturn\u001b[0m \u001b[0mwrapper\u001b[0m\u001b[1;33m\u001b[0m\u001b[1;33m\u001b[0m\u001b[0m\n",
      "\u001b[1;32mc:\\users\\fliqp_000\\appdata\\local\\programs\\python\\python38-32\\lib\\site-packages\\matplotlib\\axes\\_axes.py\u001b[0m in \u001b[0;36mscatter\u001b[1;34m(self, x, y, s, c, marker, cmap, norm, vmin, vmax, alpha, linewidths, verts, edgecolors, plotnonfinite, **kwargs)\u001b[0m\n\u001b[0;32m   4439\u001b[0m         \u001b[0my\u001b[0m \u001b[1;33m=\u001b[0m \u001b[0mnp\u001b[0m\u001b[1;33m.\u001b[0m\u001b[0mma\u001b[0m\u001b[1;33m.\u001b[0m\u001b[0mravel\u001b[0m\u001b[1;33m(\u001b[0m\u001b[0my\u001b[0m\u001b[1;33m)\u001b[0m\u001b[1;33m\u001b[0m\u001b[1;33m\u001b[0m\u001b[0m\n\u001b[0;32m   4440\u001b[0m         \u001b[1;32mif\u001b[0m \u001b[0mx\u001b[0m\u001b[1;33m.\u001b[0m\u001b[0msize\u001b[0m \u001b[1;33m!=\u001b[0m \u001b[0my\u001b[0m\u001b[1;33m.\u001b[0m\u001b[0msize\u001b[0m\u001b[1;33m:\u001b[0m\u001b[1;33m\u001b[0m\u001b[1;33m\u001b[0m\u001b[0m\n\u001b[1;32m-> 4441\u001b[1;33m             \u001b[1;32mraise\u001b[0m \u001b[0mValueError\u001b[0m\u001b[1;33m(\u001b[0m\u001b[1;34m\"x and y must be the same size\"\u001b[0m\u001b[1;33m)\u001b[0m\u001b[1;33m\u001b[0m\u001b[1;33m\u001b[0m\u001b[0m\n\u001b[0m\u001b[0;32m   4442\u001b[0m \u001b[1;33m\u001b[0m\u001b[0m\n\u001b[0;32m   4443\u001b[0m         \u001b[1;32mif\u001b[0m \u001b[0ms\u001b[0m \u001b[1;32mis\u001b[0m \u001b[1;32mNone\u001b[0m\u001b[1;33m:\u001b[0m\u001b[1;33m\u001b[0m\u001b[1;33m\u001b[0m\u001b[0m\n",
      "\u001b[1;31mValueError\u001b[0m: x and y must be the same size"
     ]
    },
    {
     "data": {
      "image/png": "[encoded data removed]",
      "text/plain": [
       "<Figure size 432x288 with 1 Axes>"
      ]
     },
     "metadata": {
      "needs_background": "light"
     },
     "output_type": "display_data"
    }
   ],
   "source": [
    "#objects = gap_df['Year']\n",
    "\n",
    "plt.scatter(lee, years, align='center', alpha=0.5)\n",
    "plt.yticks(y_pos, objects)\n",
    "plt.xlabel('Usage')\n",
    "plt.title('Programming language usage')\n",
    "\n",
    "plt.show()"
   ]
  },
  {
   "cell_type": "markdown",
   "id": "pending-russia",
   "metadata": {},
   "source": [
    "# Interactive"
   ]
  },
  {
   "cell_type": "code",
   "execution_count": 139,
   "id": "distinct-psychiatry",
   "metadata": {},
   "outputs": [],
   "source": [
    "from __future__ import print_function\n",
    "from ipywidgets import interact, interactive, fixed, interact_manual\n",
    "import ipywidgets as widgets\n",
    "%matplotlib inline\n",
    "import matplotlib.pyplot as plt\n",
    "import numpy as np\n",
    "import cufflinks as cf"
   ]
  },
  {
   "cell_type": "code",
   "execution_count": null,
   "id": "processed-democrat",
   "metadata": {},
   "outputs": [],
   "source": [
    "def y_selector(x):\n",
    "    return gap_df[gap_df['Year'] == x]"
   ]
  },
  {
   "cell_type": "code",
   "execution_count": null,
   "id": "suffering-danger",
   "metadata": {},
   "outputs": [],
   "source": [
    "def h(p, q):\n",
    "    return (p, q)"
   ]
  },
  {
   "cell_type": "code",
   "execution_count": null,
   "id": "broadband-middle",
   "metadata": {},
   "outputs": [],
   "source": [
    "gap_df['Year'].value_counts()"
   ]
  },
  {
   "cell_type": "code",
   "execution_count": null,
   "id": "japanese-newman",
   "metadata": {
    "scrolled": true
   },
   "outputs": [],
   "source": [
    "dat = gap_df['Year'].value_counts()\n",
    "years = dat.index\n",
    "years = years.sort_values()\n",
    "years"
   ]
  },
  {
   "cell_type": "code",
   "execution_count": null,
   "id": "public-governor",
   "metadata": {
    "scrolled": true
   },
   "outputs": [],
   "source": [
    "yea = interact(y_selector, x=years);"
   ]
  },
  {
   "cell_type": "code",
   "execution_count": null,
   "id": "resident-reset",
   "metadata": {},
   "outputs": [],
   "source": []
  },
  {
   "cell_type": "code",
   "execution_count": null,
   "id": "upper-accounting",
   "metadata": {},
   "outputs": [],
   "source": []
  },
  {
   "cell_type": "markdown",
   "id": "dressed-subscription",
   "metadata": {},
   "source": [
    "Versions / year\n",
    "top authors / year\n",
    "data per year"
   ]
  },
  {
   "cell_type": "code",
   "execution_count": null,
   "id": "gross-enclosure",
   "metadata": {},
   "outputs": [],
   "source": [
    "def get_info(db, food, nutrient):\n",
    "    food_info = db\n",
    "    for word in food.split():\n",
    "        food_info = food_info[food_info['Food'].str.contains(word, case=False)]\n",
    "    nutritional_info = food_info[food_info['Nutrient'] == nutrient]\n",
    "    return nutritional_info\n",
    "\n",
    "interact(lambda food, nutrient: get_info(db, food, nutrient),\n",
    "        food='',\n",
    "        nutrient=list(db['Nutrient'].unique()))"
   ]
  },
  {
   "cell_type": "code",
   "execution_count": 140,
   "id": "prepared-contrast",
   "metadata": {},
   "outputs": [
    {
     "data": {
      "application/vnd.jupyter.widget-view+json": {
       "model_id": "e22f7c4fd66d4f9aa5c7fbdeb3be17d4",
       "version_major": 2,
       "version_minor": 0
      },
      "text/plain": [
       "interactive(children=(Text(value='', description='author'), Dropdown(description='citation', options=('The GAP…"
      ]
     },
     "metadata": {},
     "output_type": "display_data"
    },
    {
     "data": {
      "text/plain": [
       "<function __main__.<lambda>(author, citation)>"
      ]
     },
     "execution_count": 140,
     "metadata": {},
     "output_type": "execute_result"
    }
   ],
   "source": [
    "def get_info(db, author, citation):\n",
    "    auth_info = db\n",
    "    for word in author.split():\n",
    "        auth_info = auth_info[auth_info['Author'].str.contains(word, case=False)]\n",
    "    cit_info = auth_info[auth_info['Citation'] == citation]\n",
    "    return cit_info\n",
    "\n",
    "interact(lambda author, citation: get_info(gap_df, author, citation),\n",
    "        author = '',\n",
    "        citation = list(gap_df['Citation'].unique()))"
   ]
  },
  {
   "cell_type": "code",
   "execution_count": 141,
   "id": "hazardous-radio",
   "metadata": {},
   "outputs": [
    {
     "data": {
      "application/vnd.jupyter.widget-view+json": {
       "model_id": "cb2ab8406a1c4a20af52adb23c877794",
       "version_major": 2,
       "version_minor": 0
      },
      "text/plain": [
       "FloatSlider(value=1993.0, description='Year', max=2021.0, min=1993.0, step=1.0)"
      ]
     },
     "metadata": {},
     "output_type": "display_data"
    }
   ],
   "source": [
    "yea = widgets.FloatSlider(min=min(gap_df['Year']), max=max(gap_df['Year']), step=1, description='Year')\n",
    "display(yea)"
   ]
  },
  {
   "cell_type": "code",
   "execution_count": null,
   "id": "interracial-sheep",
   "metadata": {},
   "outputs": [],
   "source": [
    "import ipywidgets as widgets\n",
    "from IPython.display import display\n",
    "import matplotlib.pyplot as plt\n",
    "import numpy as np\n",
    "\n",
    "\n",
    "%matplotlib nbagg\n",
    "\n",
    "x = np.linspace(0, 2, 1000)\n",
    "fig, ax = plt.subplots(1, figsize=(10, 4))\n",
    "plt.suptitle('Sine Wave')\n",
    "\n",
    "\n",
    "def update_plot(amp, phase, freq):\n",
    "    \n",
    "    ax.clear()\n",
    "    y = amp * np.sin(freq * 2 * np.pi * x + phase * 2 * np.pi)\n",
    "    units = 'amp = {} $(psi)$ \\nphase = {} $(s)$ \\nfreq = {} $(Hz)$'\n",
    "    \n",
    "    ax.plot(x, y, label=units.format(amp, phase, freq))\n",
    "    ax.set_xlim(x[0], x[-1])\n",
    "    ax.legend(loc=1)\n",
    "    ax.set_xlabel('$(s)$')\n",
    "    plt.show()\n",
    "\n",
    "\n",
    "amp = widgets.FloatSlider(min=1, max=10, value=1, description='Amp:')\n",
    "phase = widgets.FloatSlider(min=0, max=5, value=0, description='Phase:')\n",
    "freq = widgets.FloatSlider(min=1, max=10, value=1, description='Freq:')\n",
    "    \n",
    "widgets.interactive(update_plot, amp=amp, phase=phase, freq=freq)"
   ]
  },
  {
   "cell_type": "markdown",
   "id": "forced-spouse",
   "metadata": {},
   "source": [
    "# Visualisations"
   ]
  },
  {
   "cell_type": "code",
   "execution_count": null,
   "id": "quantitative-classification",
   "metadata": {},
   "outputs": [],
   "source": [
    "merged_df = pd.read_csv('full.csv')\n",
    "gap_df = pd.read_csv('gap.csv')\n",
    "pac_df = pd.read_csv('pac.csv')"
   ]
  },
  {
   "cell_type": "markdown",
   "id": "material-insertion",
   "metadata": {},
   "source": [
    "### Website"
   ]
  },
  {
   "cell_type": "code",
   "execution_count": 282,
   "id": "superb-attraction",
   "metadata": {},
   "outputs": [
    {
     "data": {
      "text/plain": [
       "<AxesSubplot:title={'center':'Website statistics on the whole data'}, ylabel='Provided?'>"
      ]
     },
     "execution_count": 282,
     "metadata": {},
     "output_type": "execute_result"
    },
    {
     "data": {
      "image/png": "[encoded data removed]",
      "text/plain": [
       "<Figure size 504x216 with 1 Axes>"
      ]
     },
     "metadata": {
      "needs_background": "light"
     },
     "output_type": "display_data"
    }
   ],
   "source": [
    "web_chart = merged_df['Website'].value_counts()\n",
    "web_chart = web_chart.sort_values(ascending=True)\n",
    "web_chart.plot(kind=\"barh\", figsize=(7, 3), title='Website statistics on the whole data', \n",
    "                xlabel='Provided?', ylabel='Count', color='pink')"
   ]
  },
  {
   "cell_type": "code",
   "execution_count": 50,
   "id": "literary-cooper",
   "metadata": {
    "scrolled": true
   },
   "outputs": [
    {
     "data": {
      "text/plain": [
       "<AxesSubplot:title={'center':'Website statistics on the Pure GAP data only'}, ylabel='Provided?'>"
      ]
     },
     "execution_count": 50,
     "metadata": {},
     "output_type": "execute_result"
    },
    {
     "data": {
      "image/png": "[encoded data removed]",
      "text/plain": [
       "<Figure size 504x216 with 1 Axes>"
      ]
     },
     "metadata": {
      "needs_background": "light"
     },
     "output_type": "display_data"
    }
   ],
   "source": [
    "web_gap = gap_df['Website'].value_counts()\n",
    "web_gap = web_gap.sort_values(ascending=True)\n",
    "web_gap.plot(kind=\"barh\", figsize=(7, 3), title='Website statistics on the Pure GAP data only', \n",
    "                xlabel='Provided?', ylabel='Count', color='pink')"
   ]
  },
  {
   "cell_type": "code",
   "execution_count": 51,
   "id": "electoral-bridges",
   "metadata": {},
   "outputs": [
    {
     "data": {
      "text/plain": [
       "<AxesSubplot:title={'center':'Website statistics on the Package citation data'}, ylabel='Provided?'>"
      ]
     },
     "execution_count": 51,
     "metadata": {},
     "output_type": "execute_result"
    },
    {
     "data": {
      "image/png": "[encoded data removed]",
      "text/plain": [
       "<Figure size 504x216 with 1 Axes>"
      ]
     },
     "metadata": {
      "needs_background": "light"
     },
     "output_type": "display_data"
    }
   ],
   "source": [
    "web_pac = pac_df['Website'].value_counts()\n",
    "web_pac = web_pac.sort_values(ascending=True)\n",
    "web_pac.plot(kind=\"barh\", figsize=(7, 3), title='Website statistics on the Package citation data', \n",
    "                xlabel='Provided?', ylabel='Count', color='pink')"
   ]
  },
  {
   "cell_type": "code",
   "execution_count": 52,
   "id": "engaged-bride",
   "metadata": {
    "scrolled": false
   },
   "outputs": [
    {
     "data": {
      "text/html": [
       "<div>\n",
       "<style scoped>\n",
       "    .dataframe tbody tr th:only-of-type {\n",
       "        vertical-align: middle;\n",
       "    }\n",
       "\n",
       "    .dataframe tbody tr th {\n",
       "        vertical-align: top;\n",
       "    }\n",
       "\n",
       "    .dataframe thead th {\n",
       "        text-align: right;\n",
       "    }\n",
       "</style>\n",
       "<table border=\"1\" class=\"dataframe\">\n",
       "  <thead>\n",
       "    <tr style=\"text-align: right;\">\n",
       "      <th></th>\n",
       "      <th>MR</th>\n",
       "      <th>Author</th>\n",
       "      <th>Journal</th>\n",
       "      <th>Year</th>\n",
       "      <th>Publication Type</th>\n",
       "      <th>Citation</th>\n",
       "      <th>Version</th>\n",
       "      <th>Lentght</th>\n",
       "    </tr>\n",
       "    <tr>\n",
       "      <th>Website</th>\n",
       "      <th></th>\n",
       "      <th></th>\n",
       "      <th></th>\n",
       "      <th></th>\n",
       "      <th></th>\n",
       "      <th></th>\n",
       "      <th></th>\n",
       "      <th></th>\n",
       "    </tr>\n",
       "  </thead>\n",
       "  <tbody>\n",
       "    <tr>\n",
       "      <th>No</th>\n",
       "      <td>226</td>\n",
       "      <td>226</td>\n",
       "      <td>226</td>\n",
       "      <td>226</td>\n",
       "      <td>226</td>\n",
       "      <td>226</td>\n",
       "      <td>226</td>\n",
       "      <td>226</td>\n",
       "    </tr>\n",
       "    <tr>\n",
       "      <th>Yes</th>\n",
       "      <td>2687</td>\n",
       "      <td>2687</td>\n",
       "      <td>2687</td>\n",
       "      <td>2687</td>\n",
       "      <td>2687</td>\n",
       "      <td>2687</td>\n",
       "      <td>2687</td>\n",
       "      <td>2687</td>\n",
       "    </tr>\n",
       "  </tbody>\n",
       "</table>\n",
       "</div>"
      ],
      "text/plain": [
       "           MR  Author  Journal  Year  Publication Type  Citation  Version  \\\n",
       "Website                                                                     \n",
       "No        226     226      226   226               226       226      226   \n",
       "Yes      2687    2687     2687  2687              2687      2687     2687   \n",
       "\n",
       "         Lentght  \n",
       "Website           \n",
       "No           226  \n",
       "Yes         2687  "
      ]
     },
     "execution_count": 52,
     "metadata": {},
     "output_type": "execute_result"
    }
   ],
   "source": [
    "site_year = merged_df.groupby('Website').count()\n",
    "site_year"
   ]
  },
  {
   "cell_type": "code",
   "execution_count": null,
   "id": "thousand-amendment",
   "metadata": {},
   "outputs": [],
   "source": []
  },
  {
   "cell_type": "markdown",
   "id": "fossil-flush",
   "metadata": {
    "collapsed": true
   },
   "source": [
    "from pandas.plotting import parallel_coordinates\n",
    "\n",
    "parallel_coordinates(all_years, \"Year\")"
   ]
  },
  {
   "cell_type": "code",
   "execution_count": null,
   "id": "atomic-tonight",
   "metadata": {},
   "outputs": [],
   "source": []
  },
  {
   "cell_type": "markdown",
   "id": "breeding-advisory",
   "metadata": {},
   "source": [
    "### Lenght\n",
    "* Most citations are around 110 characters long."
   ]
  },
  {
   "cell_type": "code",
   "execution_count": 53,
   "id": "broken-joining",
   "metadata": {
    "scrolled": false
   },
   "outputs": [
    {
     "data": {
      "image/png": "[encoded data removed]",
      "text/plain": [
       "<Figure size 792x648 with 1 Axes>"
      ]
     },
     "metadata": {
      "needs_background": "light"
     },
     "output_type": "display_data"
    }
   ],
   "source": [
    "merged_df['Lentght'] = merged_df['Citation'].apply(len)\n",
    "cit_len = merged_df['Lentght'].plot(kind='hist', bins=50, figsize=(11,9), stacked=True, \n",
    "                         xticks = range(0, 300, 50), \n",
    "                         range=(0, 300), \n",
    "                         color='gold', \n",
    "                         title='Citations Lenght', \n",
    "                         xlabel=\"lenght\")\n",
    "cit_len.set_facecolor('#ebeced')\n"
   ]
  },
  {
   "cell_type": "code",
   "execution_count": null,
   "id": "pretty-flight",
   "metadata": {},
   "outputs": [],
   "source": []
  },
  {
   "cell_type": "markdown",
   "id": "leading-curtis",
   "metadata": {},
   "source": [
    "year_df = merged_df.sort_values(by='Year', ascending=False)\n",
    "year_df.dropna()\n",
    "num = year_df['Journal'].count()\n",
    "year_df.plot(x='Year', y=num, kind='barh')\n"
   ]
  },
  {
   "cell_type": "code",
   "execution_count": null,
   "id": "dressed-signal",
   "metadata": {},
   "outputs": [],
   "source": []
  },
  {
   "cell_type": "markdown",
   "id": "unlikely-vermont",
   "metadata": {},
   "source": [
    "### Version"
   ]
  },
  {
   "cell_type": "code",
   "execution_count": 54,
   "id": "catholic-liquid",
   "metadata": {},
   "outputs": [
    {
     "data": {
      "text/plain": [
       "<AxesSubplot:title={'center':'Top 50 most cited GAP versions'}, xlabel='Version', ylabel='Count'>"
      ]
     },
     "execution_count": 54,
     "metadata": {},
     "output_type": "execute_result"
    },
    {
     "data": {
      "image/png": "[encoded data removed]",
      "text/plain": [
       "<Figure size 1080x360 with 1 Axes>"
      ]
     },
     "metadata": {
      "needs_background": "light"
     },
     "output_type": "display_data"
    }
   ],
   "source": [
    "ver = gap_df['Version'].value_counts()\n",
    "ver = ver.head(50)\n",
    "ver = ver.to_frame()\n",
    "ver = ver.sort_index() # sort chrono. compare version numbers\n",
    "ver = ver.dropna()\n",
    "ver.plot(kind=\"bar\", figsize=(15, 5), title='Top 50 most cited GAP versions', xlabel='Version', \n",
    "                ylabel='Count', color='#f20000')"
   ]
  },
  {
   "cell_type": "markdown",
   "id": "closed-retail",
   "metadata": {},
   "source": [
    "* We can see that the most popular GAP versions cited are subversions of GAP 4, between 4.2 and 4.4"
   ]
  },
  {
   "cell_type": "code",
   "execution_count": 55,
   "id": "departmental-funds",
   "metadata": {},
   "outputs": [
    {
     "data": {
      "text/plain": [
       "4.4         439\n",
       "4.4.12      303\n",
       "4.3         211\n",
       "4.4.10      135\n",
       "4.2         122\n",
       "           ... \n",
       "3.2           1\n",
       "5.7           1\n",
       "2.19          1\n",
       "4.5.3         1\n",
       "10.01.16      1\n",
       "Name: Version, Length: 97, dtype: int64"
      ]
     },
     "execution_count": 55,
     "metadata": {},
     "output_type": "execute_result"
    }
   ],
   "source": [
    "gap_df['Version'].value_counts()"
   ]
  },
  {
   "cell_type": "code",
   "execution_count": null,
   "id": "floral-commons",
   "metadata": {},
   "outputs": [],
   "source": []
  },
  {
   "cell_type": "markdown",
   "id": "removed-legislation",
   "metadata": {},
   "source": [
    "### Authors\n",
    "\n",
    "* Top 20 authors citing GAP and its packages in their work."
   ]
  },
  {
   "cell_type": "code",
   "execution_count": 283,
   "id": "hairy-transition",
   "metadata": {
    "scrolled": false
   },
   "outputs": [
    {
     "data": {
      "image/png": "[encoded data removed]",
      "text/plain": [
       "<Figure size 648x360 with 1 Axes>"
      ]
     },
     "metadata": {
      "needs_background": "light"
     },
     "output_type": "display_data"
    }
   ],
   "source": [
    "authors = gap_df['Author'].value_counts()\n",
    "top = authors.head(20)\n",
    "top = top.sort_values(ascending=True)\n",
    "top = top.to_frame()\n",
    "chart = top.plot(kind=\"barh\",\n",
    "                 figsize=(9,5), title='Top 20 authors citing GAP in their work', \n",
    "                 xlabel='Author', \n",
    "                 ylabel='Count', color='cyan', \n",
    "                  xticks=range(0, 19, 1))\n",
    "# how do we treat joint papers ?"
   ]
  },
  {
   "cell_type": "markdown",
   "id": "figured-prophet",
   "metadata": {},
   "source": [
    "* Top 20 authors citing GAP Packages"
   ]
  },
  {
   "cell_type": "code",
   "execution_count": 57,
   "id": "chubby-departure",
   "metadata": {},
   "outputs": [
    {
     "data": {
      "text/html": [
       "<div>\n",
       "<style scoped>\n",
       "    .dataframe tbody tr th:only-of-type {\n",
       "        vertical-align: middle;\n",
       "    }\n",
       "\n",
       "    .dataframe tbody tr th {\n",
       "        vertical-align: top;\n",
       "    }\n",
       "\n",
       "    .dataframe thead th {\n",
       "        text-align: right;\n",
       "    }\n",
       "</style>\n",
       "<table border=\"1\" class=\"dataframe\">\n",
       "  <thead>\n",
       "    <tr style=\"text-align: right;\">\n",
       "      <th></th>\n",
       "      <th>Author</th>\n",
       "    </tr>\n",
       "  </thead>\n",
       "  <tbody>\n",
       "    <tr>\n",
       "      <th>Bächle, A. and Margolis, L.</th>\n",
       "      <td>10</td>\n",
       "    </tr>\n",
       "    <tr>\n",
       "      <th>Koshitani, S. and Müller, J. and Noeske, F.</th>\n",
       "      <td>10</td>\n",
       "    </tr>\n",
       "    <tr>\n",
       "      <th>Soicher, L. H.</th>\n",
       "      <td>8</td>\n",
       "    </tr>\n",
       "    <tr>\n",
       "      <th>Eick, B.</th>\n",
       "      <td>7</td>\n",
       "    </tr>\n",
       "    <tr>\n",
       "      <th>Douglas, A. and Repka, J.</th>\n",
       "      <td>6</td>\n",
       "    </tr>\n",
       "    <tr>\n",
       "      <th>Kohl, S.</th>\n",
       "      <td>6</td>\n",
       "    </tr>\n",
       "    <tr>\n",
       "      <th>Eick, B. and Horn, M.</th>\n",
       "      <td>6</td>\n",
       "    </tr>\n",
       "    <tr>\n",
       "      <th>Fernandes, V. H.</th>\n",
       "      <td>5</td>\n",
       "    </tr>\n",
       "    <tr>\n",
       "      <th>Cant, A. and Eick, B.</th>\n",
       "      <td>5</td>\n",
       "    </tr>\n",
       "    <tr>\n",
       "      <th>Dabbaghian-Abdoly, V.</th>\n",
       "      <td>5</td>\n",
       "    </tr>\n",
       "    <tr>\n",
       "      <th>Assmann, B. and Eick, B.</th>\n",
       "      <td>5</td>\n",
       "    </tr>\n",
       "    <tr>\n",
       "      <th>de Graaf, W. A.</th>\n",
       "      <td>5</td>\n",
       "    </tr>\n",
       "    <tr>\n",
       "      <th>Linton,  S.  and Hammond, K. and Konovalov, A. and Brown, C. and Trinder, P. W. and Loidl, H. -. and Horn, P. and\\nRoozemond, D.</th>\n",
       "      <td>5</td>\n",
       "    </tr>\n",
       "    <tr>\n",
       "      <th>Spreer, J.</th>\n",
       "      <td>4</td>\n",
       "    </tr>\n",
       "    <tr>\n",
       "      <th>Alp, M.</th>\n",
       "      <td>4</td>\n",
       "    </tr>\n",
       "    <tr>\n",
       "      <th>Margolis, L.</th>\n",
       "      <td>4</td>\n",
       "    </tr>\n",
       "    <tr>\n",
       "      <th>Braić, S. and Golemac, A. and Mandić, J. and Vučičić, T.</th>\n",
       "      <td>4</td>\n",
       "    </tr>\n",
       "    <tr>\n",
       "      <th>Bailey, R. F.</th>\n",
       "      <td>4</td>\n",
       "    </tr>\n",
       "    <tr>\n",
       "      <th>Andruskiewitsch, N. and Fantino, F. and Graña, M. and Vendramin, L.</th>\n",
       "      <td>4</td>\n",
       "    </tr>\n",
       "    <tr>\n",
       "      <th>Dietrich, H. and de Graaf, W. A.</th>\n",
       "      <td>4</td>\n",
       "    </tr>\n",
       "  </tbody>\n",
       "</table>\n",
       "</div>"
      ],
      "text/plain": [
       "                                                                                                                                  Author\n",
       "Bächle, A. and Margolis, L.                                                                                                           10\n",
       "Koshitani, S. and Müller, J. and Noeske, F.                                                                                           10\n",
       "Soicher, L. H.                                                                                                                         8\n",
       "Eick, B.                                                                                                                               7\n",
       "Douglas, A. and Repka, J.                                                                                                              6\n",
       "Kohl, S.                                                                                                                               6\n",
       "Eick, B. and Horn, M.                                                                                                                  6\n",
       "Fernandes, V. H.                                                                                                                       5\n",
       "Cant, A. and Eick, B.                                                                                                                  5\n",
       "Dabbaghian-Abdoly, V.                                                                                                                  5\n",
       "Assmann, B. and Eick, B.                                                                                                               5\n",
       "de Graaf, W. A.                                                                                                                        5\n",
       "Linton,  S.  and Hammond, K. and Konovalov, A. and Brown, C. and Trinder, P. W. and Loidl, H. -. and Horn, P. and\\nRoozemond, D.       5\n",
       "Spreer, J.                                                                                                                             4\n",
       "Alp, M.                                                                                                                                4\n",
       "Margolis, L.                                                                                                                           4\n",
       "Braić, S. and Golemac, A. and Mandić, J. and Vučičić, T.                                                                               4\n",
       "Bailey, R. F.                                                                                                                          4\n",
       "Andruskiewitsch, N. and Fantino, F. and Graña, M. and Vendramin, L.                                                                    4\n",
       "Dietrich, H. and de Graaf, W. A.                                                                                                       4"
      ]
     },
     "execution_count": 57,
     "metadata": {},
     "output_type": "execute_result"
    }
   ],
   "source": [
    "author = pac_df['Author'].value_counts()\n",
    "top20 = author.head(20)\n",
    "top20 = top20.sort_values(ascending=False)\n",
    "top20 = top20.to_frame()\n",
    "top20\n",
    "\n",
    "#chart = top20.plot(kind=\"bar\",\n",
    "#                 figsize=(9,5), title='Top 20 authors citing GAP Packages', \n",
    "#                 xlabel='Author', \n",
    "#                 ylabel='Count', color='brown', \n",
    "#                  xticks=range(0, 19, 1))"
   ]
  },
  {
   "cell_type": "code",
   "execution_count": null,
   "id": "electronic-christmas",
   "metadata": {},
   "outputs": [],
   "source": []
  },
  {
   "cell_type": "markdown",
   "id": "solid-march",
   "metadata": {},
   "source": [
    "* Accuracy + site, ver, year\n",
    "* Countries + to be provided\n",
    "* GET function + simplicity is key"
   ]
  },
  {
   "cell_type": "markdown",
   "id": "democratic-victorian",
   "metadata": {},
   "source": [
    "### Year"
   ]
  },
  {
   "cell_type": "code",
   "execution_count": null,
   "id": "serious-pepper",
   "metadata": {},
   "outputs": [],
   "source": []
  },
  {
   "cell_type": "markdown",
   "id": "coordinated-republic",
   "metadata": {},
   "source": [
    "##### Barchart dislaying number of GAP citations per year."
   ]
  },
  {
   "cell_type": "markdown",
   "id": "close-revolution",
   "metadata": {},
   "source": [
    "* GAP citation counts for each year, sorted chronologically."
   ]
  },
  {
   "cell_type": "code",
   "execution_count": 58,
   "id": "strategic-leone",
   "metadata": {
    "scrolled": false
   },
   "outputs": [
    {
     "data": {
      "text/plain": [
       "<AxesSubplot:title={'center':'Annual GAP citations data'}, xlabel='Year', ylabel='Count'>"
      ]
     },
     "execution_count": 58,
     "metadata": {},
     "output_type": "execute_result"
    },
    {
     "data": {
      "image/png": "[encoded data removed]",
      "text/plain": [
       "<Figure size 1080x360 with 1 Axes>"
      ]
     },
     "metadata": {
      "needs_background": "light"
     },
     "output_type": "display_data"
    }
   ],
   "source": [
    "year_chrono = merged_df['Year'].value_counts()\n",
    "chrono_df = year_chrono.to_frame()\n",
    "chrono = chrono_df.sort_index()\n",
    "chrono.plot(kind=\"bar\", figsize=(15, 5), title='Annual GAP citations data', xlabel='Year', \n",
    "                ylabel='Count', color='purple')"
   ]
  },
  {
   "cell_type": "markdown",
   "id": "union-tongue",
   "metadata": {},
   "source": [
    "### Top 20 journals citing GAP."
   ]
  },
  {
   "cell_type": "code",
   "execution_count": 59,
   "id": "stylish-midnight",
   "metadata": {
    "scrolled": false
   },
   "outputs": [
    {
     "data": {
      "text/html": [
       "<div>\n",
       "<style scoped>\n",
       "    .dataframe tbody tr th:only-of-type {\n",
       "        vertical-align: middle;\n",
       "    }\n",
       "\n",
       "    .dataframe tbody tr th {\n",
       "        vertical-align: top;\n",
       "    }\n",
       "\n",
       "    .dataframe thead th {\n",
       "        text-align: right;\n",
       "    }\n",
       "</style>\n",
       "<table border=\"1\" class=\"dataframe\">\n",
       "  <thead>\n",
       "    <tr style=\"text-align: right;\">\n",
       "      <th></th>\n",
       "      <th>index</th>\n",
       "      <th>Journal</th>\n",
       "    </tr>\n",
       "  </thead>\n",
       "  <tbody>\n",
       "    <tr>\n",
       "      <th>0</th>\n",
       "      <td>J. Algebra</td>\n",
       "      <td>307</td>\n",
       "    </tr>\n",
       "    <tr>\n",
       "      <th>1</th>\n",
       "      <td>Comm. Algebra</td>\n",
       "      <td>146</td>\n",
       "    </tr>\n",
       "    <tr>\n",
       "      <th>2</th>\n",
       "      <td>J. Algebra Appl.</td>\n",
       "      <td>76</td>\n",
       "    </tr>\n",
       "    <tr>\n",
       "      <th>3</th>\n",
       "      <td>Discrete Math.</td>\n",
       "      <td>74</td>\n",
       "    </tr>\n",
       "    <tr>\n",
       "      <th>4</th>\n",
       "      <td>J. Symbolic Comput.</td>\n",
       "      <td>57</td>\n",
       "    </tr>\n",
       "    <tr>\n",
       "      <th>5</th>\n",
       "      <td>J. Group Theory</td>\n",
       "      <td>54</td>\n",
       "    </tr>\n",
       "    <tr>\n",
       "      <th>6</th>\n",
       "      <td>J. Pure Appl. Algebra</td>\n",
       "      <td>51</td>\n",
       "    </tr>\n",
       "    <tr>\n",
       "      <th>7</th>\n",
       "      <td>Des. Codes Cryptogr.</td>\n",
       "      <td>46</td>\n",
       "    </tr>\n",
       "    <tr>\n",
       "      <th>8</th>\n",
       "      <td>Internat. J. Algebra Comput.</td>\n",
       "      <td>45</td>\n",
       "    </tr>\n",
       "    <tr>\n",
       "      <th>9</th>\n",
       "      <td>LMS J. Comput. Math.</td>\n",
       "      <td>42</td>\n",
       "    </tr>\n",
       "    <tr>\n",
       "      <th>10</th>\n",
       "      <td>Arch. Math. (Basel)</td>\n",
       "      <td>33</td>\n",
       "    </tr>\n",
       "    <tr>\n",
       "      <th>11</th>\n",
       "      <td>Israel J. Math.</td>\n",
       "      <td>33</td>\n",
       "    </tr>\n",
       "    <tr>\n",
       "      <th>12</th>\n",
       "      <td>European J. Combin.</td>\n",
       "      <td>28</td>\n",
       "    </tr>\n",
       "    <tr>\n",
       "      <th>13</th>\n",
       "      <td>J. Combin. Des.</td>\n",
       "      <td>28</td>\n",
       "    </tr>\n",
       "    <tr>\n",
       "      <th>14</th>\n",
       "      <td>Algebra Colloq.</td>\n",
       "      <td>27</td>\n",
       "    </tr>\n",
       "    <tr>\n",
       "      <th>15</th>\n",
       "      <td>Math. Comp.</td>\n",
       "      <td>27</td>\n",
       "    </tr>\n",
       "    <tr>\n",
       "      <th>16</th>\n",
       "      <td>Electron. J. Combin.</td>\n",
       "      <td>26</td>\n",
       "    </tr>\n",
       "    <tr>\n",
       "      <th>17</th>\n",
       "      <td>J. Combin. Theory Ser. A</td>\n",
       "      <td>25</td>\n",
       "    </tr>\n",
       "    <tr>\n",
       "      <th>18</th>\n",
       "      <td>Experiment. Math.</td>\n",
       "      <td>25</td>\n",
       "    </tr>\n",
       "    <tr>\n",
       "      <th>19</th>\n",
       "      <td>Trans. Amer. Math. Soc.</td>\n",
       "      <td>25</td>\n",
       "    </tr>\n",
       "  </tbody>\n",
       "</table>\n",
       "</div>"
      ],
      "text/plain": [
       "                           index  Journal\n",
       "0                     J. Algebra      307\n",
       "1                  Comm. Algebra      146\n",
       "2               J. Algebra Appl.       76\n",
       "3                 Discrete Math.       74\n",
       "4            J. Symbolic Comput.       57\n",
       "5                J. Group Theory       54\n",
       "6          J. Pure Appl. Algebra       51\n",
       "7           Des. Codes Cryptogr.       46\n",
       "8   Internat. J. Algebra Comput.       45\n",
       "9           LMS J. Comput. Math.       42\n",
       "10           Arch. Math. (Basel)       33\n",
       "11               Israel J. Math.       33\n",
       "12           European J. Combin.       28\n",
       "13               J. Combin. Des.       28\n",
       "14               Algebra Colloq.       27\n",
       "15                   Math. Comp.       27\n",
       "16          Electron. J. Combin.       26\n",
       "17      J. Combin. Theory Ser. A       25\n",
       "18             Experiment. Math.       25\n",
       "19       Trans. Amer. Math. Soc.       25"
      ]
     },
     "execution_count": 59,
     "metadata": {},
     "output_type": "execute_result"
    }
   ],
   "source": [
    "top_journals = gap_df['Journal'].value_counts()\n",
    "top_20 = pd.DataFrame(top_journals.head(20))\n",
    "top_20.reset_index()"
   ]
  },
  {
   "cell_type": "markdown",
   "id": "removable-destruction",
   "metadata": {},
   "source": [
    "Only for alternative, useful for copy/paste plain text - quick to load.\n",
    "Try to allign on the left - journals."
   ]
  },
  {
   "cell_type": "code",
   "execution_count": 60,
   "id": "active-allah",
   "metadata": {
    "scrolled": false
   },
   "outputs": [
    {
     "name": "stdout",
     "output_type": "stream",
     "text": [
      "+------------------------------+---------------------+\n",
      "|         Journal name         | GAP Citations count |\n",
      "+------------------------------+---------------------+\n",
      "|          J. Algebra          |         307         |\n",
      "|        Comm. Algebra         |         146         |\n",
      "|       J. Algebra Appl.       |         76          |\n",
      "|        Discrete Math.        |         74          |\n",
      "|     J. Symbolic Comput.      |         57          |\n",
      "|       J. Group Theory        |         54          |\n",
      "|    J. Pure Appl. Algebra     |         51          |\n",
      "|     Des. Codes Cryptogr.     |         46          |\n",
      "| Internat. J. Algebra Comput. |         45          |\n",
      "|     LMS J. Comput. Math.     |         42          |\n",
      "|     Arch. Math. (Basel)      |         33          |\n",
      "|       Israel J. Math.        |         33          |\n",
      "|     European J. Combin.      |         28          |\n",
      "|       J. Combin. Des.        |         28          |\n",
      "|       Algebra Colloq.        |         27          |\n",
      "|         Math. Comp.          |         27          |\n",
      "|     Electron. J. Combin.     |         26          |\n",
      "|   J. Combin. Theory Ser. A   |         25          |\n",
      "|      Experiment. Math.       |         25          |\n",
      "|   Trans. Amer. Math. Soc.    |         25          |\n",
      "+------------------------------+---------------------+\n"
     ]
    }
   ],
   "source": [
    "headers = ['Journal name', 'GAP Citations count']\n",
    "print(tabulate(top_20, headers = headers, tablefmt = 'pretty'))"
   ]
  },
  {
   "cell_type": "markdown",
   "id": "pressing-mathematics",
   "metadata": {},
   "source": [
    "### The most frequent type of work citing GAP: we can see that GAP is predominantly cited in articles - 2976 times."
   ]
  },
  {
   "cell_type": "code",
   "execution_count": 61,
   "id": "fixed-necessity",
   "metadata": {
    "scrolled": true
   },
   "outputs": [
    {
     "data": {
      "text/html": [
       "<div>\n",
       "<style scoped>\n",
       "    .dataframe tbody tr th:only-of-type {\n",
       "        vertical-align: middle;\n",
       "    }\n",
       "\n",
       "    .dataframe tbody tr th {\n",
       "        vertical-align: top;\n",
       "    }\n",
       "\n",
       "    .dataframe thead th {\n",
       "        text-align: right;\n",
       "    }\n",
       "</style>\n",
       "<table border=\"1\" class=\"dataframe\">\n",
       "  <thead>\n",
       "    <tr style=\"text-align: right;\">\n",
       "      <th></th>\n",
       "      <th>GAP Citations Count</th>\n",
       "    </tr>\n",
       "    <tr>\n",
       "      <th>Publication Type</th>\n",
       "      <th></th>\n",
       "    </tr>\n",
       "  </thead>\n",
       "  <tbody>\n",
       "    <tr>\n",
       "      <th>article</th>\n",
       "      <td>2976</td>\n",
       "    </tr>\n",
       "    <tr>\n",
       "      <th>incollection</th>\n",
       "      <td>204</td>\n",
       "    </tr>\n",
       "    <tr>\n",
       "      <th>inproceedings</th>\n",
       "      <td>54</td>\n",
       "    </tr>\n",
       "    <tr>\n",
       "      <th>phdthesis</th>\n",
       "      <td>47</td>\n",
       "    </tr>\n",
       "    <tr>\n",
       "      <th>mastersthesis</th>\n",
       "      <td>46</td>\n",
       "    </tr>\n",
       "    <tr>\n",
       "      <th>book</th>\n",
       "      <td>31</td>\n",
       "    </tr>\n",
       "    <tr>\n",
       "      <th>misc</th>\n",
       "      <td>5</td>\n",
       "    </tr>\n",
       "    <tr>\n",
       "      <th>techreport</th>\n",
       "      <td>2</td>\n",
       "    </tr>\n",
       "    <tr>\n",
       "      <th>inbook</th>\n",
       "      <td>1</td>\n",
       "    </tr>\n",
       "    <tr>\n",
       "      <th>manual</th>\n",
       "      <td>1</td>\n",
       "    </tr>\n",
       "  </tbody>\n",
       "</table>\n",
       "</div>"
      ],
      "text/plain": [
       "                  GAP Citations Count\n",
       "Publication Type                     \n",
       "article                          2976\n",
       "incollection                      204\n",
       "inproceedings                      54\n",
       "phdthesis                          47\n",
       "mastersthesis                      46\n",
       "book                               31\n",
       "misc                                5\n",
       "techreport                          2\n",
       "inbook                              1\n",
       "manual                              1"
      ]
     },
     "execution_count": 61,
     "metadata": {},
     "output_type": "execute_result"
    }
   ],
   "source": [
    "types_pub = pd.DataFrame(bib_df['Publication Type'].value_counts())\n",
    "types_pub.columns = ['GAP Citations Count']\n",
    "types_pub.index.names = ['Publication Type']\n",
    "types_pub"
   ]
  },
  {
   "cell_type": "markdown",
   "id": "agricultural-syracuse",
   "metadata": {},
   "source": [
    "### Accuracy"
   ]
  },
  {
   "cell_type": "code",
   "execution_count": 288,
   "id": "according-florist",
   "metadata": {},
   "outputs": [
    {
     "data": {
      "text/plain": [
       "<AxesSubplot:title={'center':'Annual GAP citations data'}, xlabel='Year', ylabel='Count'>"
      ]
     },
     "execution_count": 288,
     "metadata": {},
     "output_type": "execute_result"
    },
    {
     "data": {
      "image/png": "[encoded data removed]",
      "text/plain": [
       "<Figure size 1080x360 with 1 Axes>"
      ]
     },
     "metadata": {
      "needs_background": "light"
     },
     "output_type": "display_data"
    }
   ],
   "source": [
    "acc = merged_df['Accuracy Score'].value_counts()\n",
    "acc.plot(kind=\"bar\", figsize=(15, 5), title='Annual GAP citations data', xlabel='Score', \n",
    "                ylabel='Count', color='#34eb9b')"
   ]
  },
  {
   "cell_type": "code",
   "execution_count": 304,
   "id": "coordinated-length",
   "metadata": {},
   "outputs": [
    {
     "data": {
      "text/html": [
       "<div>\n",
       "<style scoped>\n",
       "    .dataframe tbody tr th:only-of-type {\n",
       "        vertical-align: middle;\n",
       "    }\n",
       "\n",
       "    .dataframe tbody tr th {\n",
       "        vertical-align: top;\n",
       "    }\n",
       "\n",
       "    .dataframe thead th {\n",
       "        text-align: right;\n",
       "    }\n",
       "</style>\n",
       "<table border=\"1\" class=\"dataframe\">\n",
       "  <thead>\n",
       "    <tr style=\"text-align: right;\">\n",
       "      <th></th>\n",
       "      <th>Accuracy Score</th>\n",
       "    </tr>\n",
       "    <tr>\n",
       "      <th>Year</th>\n",
       "      <th></th>\n",
       "    </tr>\n",
       "  </thead>\n",
       "  <tbody>\n",
       "    <tr>\n",
       "      <th>1992</th>\n",
       "      <td>1</td>\n",
       "    </tr>\n",
       "    <tr>\n",
       "      <th>1993</th>\n",
       "      <td>2</td>\n",
       "    </tr>\n",
       "    <tr>\n",
       "      <th>1994</th>\n",
       "      <td>1</td>\n",
       "    </tr>\n",
       "    <tr>\n",
       "      <th>1997</th>\n",
       "      <td>20</td>\n",
       "    </tr>\n",
       "    <tr>\n",
       "      <th>1998</th>\n",
       "      <td>16</td>\n",
       "    </tr>\n",
       "    <tr>\n",
       "      <th>1999</th>\n",
       "      <td>21</td>\n",
       "    </tr>\n",
       "    <tr>\n",
       "      <th>2000</th>\n",
       "      <td>61</td>\n",
       "    </tr>\n",
       "    <tr>\n",
       "      <th>2001</th>\n",
       "      <td>90</td>\n",
       "    </tr>\n",
       "    <tr>\n",
       "      <th>2002</th>\n",
       "      <td>67</td>\n",
       "    </tr>\n",
       "    <tr>\n",
       "      <th>2003</th>\n",
       "      <td>90</td>\n",
       "    </tr>\n",
       "    <tr>\n",
       "      <th>2004</th>\n",
       "      <td>115</td>\n",
       "    </tr>\n",
       "    <tr>\n",
       "      <th>2005</th>\n",
       "      <td>121</td>\n",
       "    </tr>\n",
       "    <tr>\n",
       "      <th>2006</th>\n",
       "      <td>121</td>\n",
       "    </tr>\n",
       "    <tr>\n",
       "      <th>2007</th>\n",
       "      <td>161</td>\n",
       "    </tr>\n",
       "    <tr>\n",
       "      <th>2008</th>\n",
       "      <td>148</td>\n",
       "    </tr>\n",
       "    <tr>\n",
       "      <th>2009</th>\n",
       "      <td>136</td>\n",
       "    </tr>\n",
       "    <tr>\n",
       "      <th>2010</th>\n",
       "      <td>185</td>\n",
       "    </tr>\n",
       "    <tr>\n",
       "      <th>2011</th>\n",
       "      <td>189</td>\n",
       "    </tr>\n",
       "    <tr>\n",
       "      <th>2012</th>\n",
       "      <td>170</td>\n",
       "    </tr>\n",
       "    <tr>\n",
       "      <th>2013</th>\n",
       "      <td>208</td>\n",
       "    </tr>\n",
       "    <tr>\n",
       "      <th>2014</th>\n",
       "      <td>205</td>\n",
       "    </tr>\n",
       "    <tr>\n",
       "      <th>2015</th>\n",
       "      <td>200</td>\n",
       "    </tr>\n",
       "    <tr>\n",
       "      <th>2016</th>\n",
       "      <td>209</td>\n",
       "    </tr>\n",
       "    <tr>\n",
       "      <th>2017</th>\n",
       "      <td>227</td>\n",
       "    </tr>\n",
       "    <tr>\n",
       "      <th>2018</th>\n",
       "      <td>195</td>\n",
       "    </tr>\n",
       "    <tr>\n",
       "      <th>2019</th>\n",
       "      <td>216</td>\n",
       "    </tr>\n",
       "    <tr>\n",
       "      <th>2020</th>\n",
       "      <td>215</td>\n",
       "    </tr>\n",
       "    <tr>\n",
       "      <th>2021</th>\n",
       "      <td>50</td>\n",
       "    </tr>\n",
       "  </tbody>\n",
       "</table>\n",
       "</div>"
      ],
      "text/plain": [
       "      Accuracy Score\n",
       "Year                \n",
       "1992               1\n",
       "1993               2\n",
       "1994               1\n",
       "1997              20\n",
       "1998              16\n",
       "1999              21\n",
       "2000              61\n",
       "2001              90\n",
       "2002              67\n",
       "2003              90\n",
       "2004             115\n",
       "2005             121\n",
       "2006             121\n",
       "2007             161\n",
       "2008             148\n",
       "2009             136\n",
       "2010             185\n",
       "2011             189\n",
       "2012             170\n",
       "2013             208\n",
       "2014             205\n",
       "2015             200\n",
       "2016             209\n",
       "2017             227\n",
       "2018             195\n",
       "2019             216\n",
       "2020             215\n",
       "2021              50"
      ]
     },
     "execution_count": 304,
     "metadata": {},
     "output_type": "execute_result"
    }
   ],
   "source": [
    "ttt = merged_df.groupby('Year')['Accuracy Score'].count()\n",
    "ttt = pd.DataFrame(data=ttt)\n",
    "ttt"
   ]
  },
  {
   "cell_type": "code",
   "execution_count": 301,
   "id": "informal-objective",
   "metadata": {},
   "outputs": [
    {
     "data": {
      "text/html": [
       "<div>\n",
       "<style scoped>\n",
       "    .dataframe tbody tr th:only-of-type {\n",
       "        vertical-align: middle;\n",
       "    }\n",
       "\n",
       "    .dataframe tbody tr th {\n",
       "        vertical-align: top;\n",
       "    }\n",
       "\n",
       "    .dataframe thead th {\n",
       "        text-align: right;\n",
       "    }\n",
       "</style>\n",
       "<table border=\"1\" class=\"dataframe\">\n",
       "  <thead>\n",
       "    <tr style=\"text-align: right;\">\n",
       "      <th></th>\n",
       "      <th>MR</th>\n",
       "      <th>Author</th>\n",
       "      <th>Journal</th>\n",
       "      <th>Year</th>\n",
       "      <th>Publication Type</th>\n",
       "      <th>Citation</th>\n",
       "      <th>Version</th>\n",
       "      <th>Website</th>\n",
       "      <th>Lentght</th>\n",
       "      <th>Accuracy Score</th>\n",
       "      <th>Lenght</th>\n",
       "    </tr>\n",
       "  </thead>\n",
       "  <tbody>\n",
       "    <tr>\n",
       "      <th>0</th>\n",
       "      <td>4056124</td>\n",
       "      <td>Abas, M. and Vetrík, T.</td>\n",
       "      <td>Theoret. Comput. Sci.</td>\n",
       "      <td>2020</td>\n",
       "      <td>article</td>\n",
       "      <td>GAP – Groups, algorithms, programming - a system for computational discrete algebra, www.gap-system.org.</td>\n",
       "      <td>Unknown</td>\n",
       "      <td>Yes</td>\n",
       "      <td>104</td>\n",
       "      <td>2</td>\n",
       "      <td>104</td>\n",
       "    </tr>\n",
       "    <tr>\n",
       "      <th>2</th>\n",
       "      <td>3942387</td>\n",
       "      <td>Abbas, A. and Assi, A. and García-Sánchez, P. A.</td>\n",
       "      <td>Rev. R. Acad. Cienc. Exactas Fís. Nat. Ser. A Mat. RACSAM</td>\n",
       "      <td>2019</td>\n",
       "      <td>article</td>\n",
       "      <td>The GAP Group: GAP—groups, algorithms, and programming, version 4.7.5 (2014). http://www.gap-system.org. Accessed 19 Aug 2017</td>\n",
       "      <td>4.7.5</td>\n",
       "      <td>Yes</td>\n",
       "      <td>125</td>\n",
       "      <td>3</td>\n",
       "      <td>125</td>\n",
       "    </tr>\n",
       "    <tr>\n",
       "      <th>3</th>\n",
       "      <td>3354065</td>\n",
       "      <td>Abdolghafourian, A. and Iranmanesh, M. A.</td>\n",
       "      <td>Comm. Algebra</td>\n",
       "      <td>2015</td>\n",
       "      <td>article</td>\n",
       "      <td>The GAP – Groups, Algorithms and Programming. Version 4.4.12, 2008. www.gap-system.org.</td>\n",
       "      <td>4.4.12</td>\n",
       "      <td>Yes</td>\n",
       "      <td>87</td>\n",
       "      <td>2</td>\n",
       "      <td>87</td>\n",
       "    </tr>\n",
       "    <tr>\n",
       "      <th>4</th>\n",
       "      <td>3646312</td>\n",
       "      <td>Abdolghafourian, A. and Iranmanesh, M. A. and Niemeyer, A. C.</td>\n",
       "      <td>J. Pure Appl. Algebra</td>\n",
       "      <td>2017</td>\n",
       "      <td>article</td>\n",
       "      <td>The GAP Group, GAP–Groups, Algorithms, and Programming, 4.7.8, 2015, http://www.gap-system.org.</td>\n",
       "      <td>4.7.8</td>\n",
       "      <td>Yes</td>\n",
       "      <td>95</td>\n",
       "      <td>3</td>\n",
       "      <td>95</td>\n",
       "    </tr>\n",
       "    <tr>\n",
       "      <th>5</th>\n",
       "      <td>1864795</td>\n",
       "      <td>Abdollahi, A.</td>\n",
       "      <td>Houston J. Math.</td>\n",
       "      <td>2001</td>\n",
       "      <td>article</td>\n",
       "      <td>M. Schönert et al. GAP - Groups, Algorithms, and Programming (Lehrsthul D für Mathematik, Reinisch-Westflische Technische Hochschule, Aachen, Germany, fi...</td>\n",
       "      <td>Unknown</td>\n",
       "      <td>No</td>\n",
       "      <td>168</td>\n",
       "      <td>1</td>\n",
       "      <td>168</td>\n",
       "    </tr>\n",
       "    <tr>\n",
       "      <th>...</th>\n",
       "      <td>...</td>\n",
       "      <td>...</td>\n",
       "      <td>...</td>\n",
       "      <td>...</td>\n",
       "      <td>...</td>\n",
       "      <td>...</td>\n",
       "      <td>...</td>\n",
       "      <td>...</td>\n",
       "      <td>...</td>\n",
       "      <td>...</td>\n",
       "      <td>...</td>\n",
       "    </tr>\n",
       "    <tr>\n",
       "      <th>3528</th>\n",
       "      <td>2347912</td>\n",
       "      <td>Maksimenko, A. A. and Mamontov, A. S.</td>\n",
       "      <td>Sibirsk. Mat. Zh.</td>\n",
       "      <td>2007</td>\n",
       "      <td>article</td>\n",
       "      <td>Kargapolov M. I. and Merzlyakov Yu. I., Fundamentals of the Theory of Groups, Springer-Verlag, New York; Heidelberg; Berlin (1979). \\nMR0551207</td>\n",
       "      <td>Unknown</td>\n",
       "      <td>No</td>\n",
       "      <td>142</td>\n",
       "      <td>1</td>\n",
       "      <td>142</td>\n",
       "    </tr>\n",
       "    <tr>\n",
       "      <th>3529</th>\n",
       "      <td>1695079</td>\n",
       "      <td>Mathas, A.</td>\n",
       "      <td>J. Algebraic Combin.</td>\n",
       "      <td>1999</td>\n",
       "      <td>article</td>\n",
       "      <td>M. Schönert et al., \"Gap: groups, algorithms, and programming,\" Lehrstuhl D für Mathematik, RWTH Aachen, 3.4.4 edition, 1997.</td>\n",
       "      <td>3.4.4</td>\n",
       "      <td>No</td>\n",
       "      <td>125</td>\n",
       "      <td>2</td>\n",
       "      <td>125</td>\n",
       "    </tr>\n",
       "    <tr>\n",
       "      <th>3534</th>\n",
       "      <td>4187238</td>\n",
       "      <td>Morgan, L. and Morris, J. and Verret, G.</td>\n",
       "      <td>J. Algebra</td>\n",
       "      <td>2021</td>\n",
       "      <td>article</td>\n",
       "      <td>The Gap Group, Gap–groups, algorithms, and programming, http://www.gap-system.org, 2015.</td>\n",
       "      <td>Unknown</td>\n",
       "      <td>Yes</td>\n",
       "      <td>88</td>\n",
       "      <td>1</td>\n",
       "      <td>88</td>\n",
       "    </tr>\n",
       "    <tr>\n",
       "      <th>3535</th>\n",
       "      <td>1615333</td>\n",
       "      <td>Nebe, G.</td>\n",
       "      <td>Represent. Theory</td>\n",
       "      <td>1998</td>\n",
       "      <td>article</td>\n",
       "      <td>M. Schönert (ed.), Groups, Algorithms and Programming. Lehrstuhl D für Mathe- matik, RWTH Aachen, Germany (1994) available via anonymous ftp on the serve...</td>\n",
       "      <td>Unknown</td>\n",
       "      <td>No</td>\n",
       "      <td>193</td>\n",
       "      <td>1</td>\n",
       "      <td>193</td>\n",
       "    </tr>\n",
       "    <tr>\n",
       "      <th>3541</th>\n",
       "      <td>2824780</td>\n",
       "      <td>Tian, Y. and Lu, C.</td>\n",
       "      <td>J. Ind. Manag. Optim.</td>\n",
       "      <td>2011</td>\n",
       "      <td>article</td>\n",
       "      <td>X. Sun, C. Liu, D. Li and J. Gao, On duality gap in binary quadratic programming, Available from: http://www.optimization-online.org/DB_FILE/2010/01/2512...</td>\n",
       "      <td>Unknown</td>\n",
       "      <td>Yes</td>\n",
       "      <td>158</td>\n",
       "      <td>2</td>\n",
       "      <td>158</td>\n",
       "    </tr>\n",
       "  </tbody>\n",
       "</table>\n",
       "<p>734 rows × 11 columns</p>\n",
       "</div>"
      ],
      "text/plain": [
       "           MR                                                         Author  \\\n",
       "0     4056124                                        Abas, M. and Vetrík, T.   \n",
       "2     3942387               Abbas, A. and Assi, A. and García-Sánchez, P. A.   \n",
       "3     3354065                      Abdolghafourian, A. and Iranmanesh, M. A.   \n",
       "4     3646312  Abdolghafourian, A. and Iranmanesh, M. A. and Niemeyer, A. C.   \n",
       "5     1864795                                                  Abdollahi, A.   \n",
       "...       ...                                                            ...   \n",
       "3528  2347912                          Maksimenko, A. A. and Mamontov, A. S.   \n",
       "3529  1695079                                                     Mathas, A.   \n",
       "3534  4187238                       Morgan, L. and Morris, J. and Verret, G.   \n",
       "3535  1615333                                                       Nebe, G.   \n",
       "3541  2824780                                            Tian, Y. and Lu, C.   \n",
       "\n",
       "                                                        Journal  Year  \\\n",
       "0                                         Theoret. Comput. Sci.  2020   \n",
       "2     Rev. R. Acad. Cienc. Exactas Fís. Nat. Ser. A Mat. RACSAM  2019   \n",
       "3                                                 Comm. Algebra  2015   \n",
       "4                                         J. Pure Appl. Algebra  2017   \n",
       "5                                              Houston J. Math.  2001   \n",
       "...                                                         ...   ...   \n",
       "3528                                          Sibirsk. Mat. Zh.  2007   \n",
       "3529                                       J. Algebraic Combin.  1999   \n",
       "3534                                                 J. Algebra  2021   \n",
       "3535                                          Represent. Theory  1998   \n",
       "3541                                      J. Ind. Manag. Optim.  2011   \n",
       "\n",
       "     Publication Type  \\\n",
       "0             article   \n",
       "2             article   \n",
       "3             article   \n",
       "4             article   \n",
       "5             article   \n",
       "...               ...   \n",
       "3528          article   \n",
       "3529          article   \n",
       "3534          article   \n",
       "3535          article   \n",
       "3541          article   \n",
       "\n",
       "                                                                                                                                                          Citation  \\\n",
       "0                                                         GAP – Groups, algorithms, programming - a system for computational discrete algebra, www.gap-system.org.   \n",
       "2                                    The GAP Group: GAP—groups, algorithms, and programming, version 4.7.5 (2014). http://www.gap-system.org. Accessed 19 Aug 2017   \n",
       "3                                                                          The GAP – Groups, Algorithms and Programming. Version 4.4.12, 2008. www.gap-system.org.   \n",
       "4                                                                  The GAP Group, GAP–Groups, Algorithms, and Programming, 4.7.8, 2015, http://www.gap-system.org.   \n",
       "5     M. Schönert et al. GAP - Groups, Algorithms, and Programming (Lehrsthul D für Mathematik, Reinisch-Westflische Technische Hochschule, Aachen, Germany, fi...   \n",
       "...                                                                                                                                                            ...   \n",
       "3528               Kargapolov M. I. and Merzlyakov Yu. I., Fundamentals of the Theory of Groups, Springer-Verlag, New York; Heidelberg; Berlin (1979). \\nMR0551207   \n",
       "3529                                 M. Schönert et al., \"Gap: groups, algorithms, and programming,\" Lehrstuhl D für Mathematik, RWTH Aachen, 3.4.4 edition, 1997.   \n",
       "3534                                                                      The Gap Group, Gap–groups, algorithms, and programming, http://www.gap-system.org, 2015.   \n",
       "3535  M. Schönert (ed.), Groups, Algorithms and Programming. Lehrstuhl D für Mathe- matik, RWTH Aachen, Germany (1994) available via anonymous ftp on the serve...   \n",
       "3541  X. Sun, C. Liu, D. Li and J. Gao, On duality gap in binary quadratic programming, Available from: http://www.optimization-online.org/DB_FILE/2010/01/2512...   \n",
       "\n",
       "      Version Website  Lentght  Accuracy Score  Lenght  \n",
       "0     Unknown     Yes      104               2     104  \n",
       "2       4.7.5     Yes      125               3     125  \n",
       "3      4.4.12     Yes       87               2      87  \n",
       "4       4.7.8     Yes       95               3      95  \n",
       "5     Unknown      No      168               1     168  \n",
       "...       ...     ...      ...             ...     ...  \n",
       "3528  Unknown      No      142               1     142  \n",
       "3529    3.4.4      No      125               2     125  \n",
       "3534  Unknown     Yes       88               1      88  \n",
       "3535  Unknown      No      193               1     193  \n",
       "3541  Unknown     Yes      158               2     158  \n",
       "\n",
       "[734 rows x 11 columns]"
      ]
     },
     "execution_count": 301,
     "metadata": {},
     "output_type": "execute_result"
    }
   ],
   "source": [
    "df2 = gap_df.groupby(['Year', 'Accuracy Score'])\n",
    "df2.head(11)"
   ]
  },
  {
   "cell_type": "markdown",
   "id": "sporting-consumer",
   "metadata": {},
   "source": [
    "### Releases by year"
   ]
  },
  {
   "cell_type": "markdown",
   "id": "systematic-employment",
   "metadata": {},
   "source": [
    "First we create a copy of our corpus dataset, containing only GAP citations with versions provided, all other entries such as Package citations are removed."
   ]
  },
  {
   "cell_type": "code",
   "execution_count": 62,
   "id": "lyric-stock",
   "metadata": {},
   "outputs": [],
   "source": [
    "versions_cited = gap_df['Version'].unique()"
   ]
  },
  {
   "cell_type": "code",
   "execution_count": 63,
   "id": "exceptional-variable",
   "metadata": {},
   "outputs": [
    {
     "data": {
      "text/plain": [
       "array(['4.7.5', '4.4.12', '4.7.8', '4.3', '4.4', '4.4.4', '4.6.4',\n",
       "       '4.7.2', '4.6.5', '4.7.9', '4.8.8', '4.8.9', '4.4.10', '4.5.7',\n",
       "       '4.7.4', '4.7.7', '4.2', '4.6.12', '4.1', '4.10.0', '4.8.6',\n",
       "       '4.8.2', '4.10.2', '4.11.0', '4.4.2', '4.8.3', '10.1109', '4.8.7',\n",
       "       '4.6', '2.12', '4.9.1', '4.4.9', '4.8.4', '4.6.2', '1.2', '4.9.3',\n",
       "       '4.8.10', '4.5', '4.4.6', '4.4.7', '4.5.5', '1.4', '1.3.3',\n",
       "       '4.4.11', '5.7', '1.5.4', '4.10.1', '1.0.0', '4.4.10.2007',\n",
       "       '4.6.3', '1405.5063', '1.1', '3.4', '4.8.5', '4.5.6', '4.11',\n",
       "       '4.10', '4.9.2', '4.7.6', '4.6.9', '4.5.4', '3.4.4', '4.08.10',\n",
       "       '0710.3267', '0911.5589', '4.8', '4.9.0', '4.7', '3.3', '2.19',\n",
       "       '0.97', '10.14760', '1.2.1', '2.2.0', '1.5.1', '3.0', '2.0.0',\n",
       "       '4.4.2006', '4.5.3', '2.1.0', '3.1.0', '3.4.3', '1.0',\n",
       "       '55.0810.04', '4.6.1', '4.4.3', '4.8.1', '1.9.6', '1804.09707',\n",
       "       '3.1', '4.4.5', '1.4.0', '4.46', '4.9', '4.49', '10.01.16', '3.2'],\n",
       "      dtype=object)"
      ]
     },
     "execution_count": 63,
     "metadata": {},
     "output_type": "execute_result"
    }
   ],
   "source": [
    "versions_cited"
   ]
  },
  {
   "cell_type": "code",
   "execution_count": 64,
   "id": "drawn-irrigation",
   "metadata": {},
   "outputs": [],
   "source": [
    "release_dates = { \n",
    "    # dates from archive timestamps\n",
    "    '4.8.2': 2016, # 2016/02/20\n",
    "    '4.7.9': 2015, # 2015/11/29\n",
    "    '4.7.8': 2015, # 2015/06/09\n",
    "    '4.7.7': 2015, # 2015/02/13\n",
    "    '4.7.6': 2014, # 2014/11/15\n",
    "    '4.7.5': 2014, # 2014/05/24\n",
    "    '4.7.4': 2014, # 2014/02/20\n",
    "    '4.7.3': 2013, # 2014/02/15\n",
    "    '4.7.2': 2013, # 2013/12/01\n",
    "    '4.7': 2013,\n",
    "    '4.6.5': 2013, # 2013/07/20\n",
    "    '4.6.4': 2013, # 2013/05/04\n",
    "    '4.6.3': 2013, # 2013/03/18\n",
    "    '4.6.2': 2013, # 2013/02/02\n",
    "    '4.5.7': 2012, # 2012/12/14\n",
    "    '4.5.6': 2012, # 2012/09/16\n",
    "    '4.5.5': 2012, # 2012/07/16\n",
    "    '4.5.4': 2012, # 2013/06/04\n",
    "    '4.5': 2012, \n",
    "    # dates below from file creation\n",
    "    '4.4.12': 2008, # 2008/12/16\n",
    "    '4.4.11': 2008, # 2008/12/08\n",
    "    '4.4.10': 2007, # 2007/10/05\n",
    "    '4.4.9': 2006,  # 2006/11/02\n",
    "    '4.4.8': 2006,  # 2006/09/29\n",
    "    '4.4.7': 2006,  # 2006/03/17\n",
    "    '4.4.6': 2005,  # 2005/09/02\n",
    "    '4.4.5': 2005,  # 2005/05/13\n",
    "    '4.4.4': 2004,  # 2004/12/22\n",
    "    # dates below from http://www.gap-system.org/Download/Updates/index.html\n",
    "    '4.4.3': 2004,   # May 2004\n",
    "    '4.4.2': 2004,  # April 2004\n",
    "    # dates from http://www.gap-system.org/Doc/History/history.html\n",
    "    # if not stated otherwise\n",
    "    '4.4': 2004, \n",
    "    '4.3': 2002, \n",
    "    '4.2': 2000, # http://www.gap-system.org/ForumArchive/Linton.1/Steve.1/Release_.3/1.html\n",
    "    '4.1': 1999, \n",
    "    '3.4': 1997, # assume http://www.gap-system.org/Doc/History/preface_3.4.4.html\n",
    "}"
   ]
  },
  {
   "cell_type": "code",
   "execution_count": 65,
   "id": "divided-efficiency",
   "metadata": {},
   "outputs": [
    {
     "data": {
      "text/plain": [
       "dict_keys(['4.8.2', '4.7.9', '4.7.8', '4.7.7', '4.7.6', '4.7.5', '4.7.4', '4.7.3', '4.7.2', '4.7', '4.6.5', '4.6.4', '4.6.3', '4.6.2', '4.5.7', '4.5.6', '4.5.5', '4.5.4', '4.5', '4.4.12', '4.4.11', '4.4.10', '4.4.9', '4.4.8', '4.4.7', '4.4.6', '4.4.5', '4.4.4', '4.4.3', '4.4.2', '4.4', '4.3', '4.2', '4.1', '3.4'])"
      ]
     },
     "execution_count": 65,
     "metadata": {},
     "output_type": "execute_result"
    }
   ],
   "source": [
    "release_dates.keys()"
   ]
  },
  {
   "cell_type": "code",
   "execution_count": 66,
   "id": "third-scott",
   "metadata": {},
   "outputs": [],
   "source": [
    "def release_year(version):\n",
    "    if version in release_dates.keys():\n",
    "        return release_dates[version]\n",
    "    else:\n",
    "        return 'Unknown'"
   ]
  },
  {
   "cell_type": "code",
   "execution_count": 67,
   "id": "public-analysis",
   "metadata": {},
   "outputs": [
    {
     "data": {
      "text/plain": [
       "2013"
      ]
     },
     "execution_count": 67,
     "metadata": {},
     "output_type": "execute_result"
    }
   ],
   "source": [
    "release_year('4.7.2')"
   ]
  },
  {
   "cell_type": "code",
   "execution_count": 68,
   "id": "steady-delaware",
   "metadata": {},
   "outputs": [],
   "source": [
    "gap_df['ReleaseYear'] = gap_df['Version'].map(release_year)"
   ]
  },
  {
   "cell_type": "code",
   "execution_count": 69,
   "id": "modern-developer",
   "metadata": {},
   "outputs": [],
   "source": [
    "data = gap_df['ReleaseYear'].value_counts()"
   ]
  },
  {
   "cell_type": "markdown",
   "id": "rubber-equity",
   "metadata": {},
   "source": [
    "* Number of Citations by year of cited GAP release, in textual and graphic forms."
   ]
  },
  {
   "cell_type": "code",
   "execution_count": 70,
   "id": "suited-activity",
   "metadata": {
    "scrolled": true
   },
   "outputs": [
    {
     "data": {
      "text/plain": [
       "2004       449\n",
       "Unknown    403\n",
       "2008       307\n",
       "2002       211\n",
       "2007       135\n",
       "2000       122\n",
       "2014       120\n",
       "2013       112\n",
       "2015       105\n",
       "2006        86\n",
       "2012        84\n",
       "1999        32\n",
       "1997        30\n",
       "2005        13\n",
       "2016        10\n",
       "Name: ReleaseYear, dtype: int64"
      ]
     },
     "execution_count": 70,
     "metadata": {},
     "output_type": "execute_result"
    }
   ],
   "source": [
    "data"
   ]
  },
  {
   "cell_type": "code",
   "execution_count": 305,
   "id": "fantastic-tongue",
   "metadata": {},
   "outputs": [
    {
     "data": {
      "text/plain": [
       "<AxesSubplot:title={'center':'Citations by year of cited GAP release'}, xlabel='Years', ylabel='Count'>"
      ]
     },
     "execution_count": 305,
     "metadata": {},
     "output_type": "execute_result"
    },
    {
     "data": {
      "image/png": "[encoded data removed]",
      "text/plain": [
       "<Figure size 792x360 with 1 Axes>"
      ]
     },
     "metadata": {
      "needs_background": "light"
     },
     "output_type": "display_data"
    }
   ],
   "source": [
    "data.loc[sorted(data.index.intersection(range(1997, 2021)))].plot(kind=\"bar\", \n",
    "                figsize=(11, 5), title='Citations by year of cited GAP release', xlabel='Years', \n",
    "                ylabel='Count', color='green')"
   ]
  },
  {
   "cell_type": "code",
   "execution_count": 127,
   "id": "incorporate-sword",
   "metadata": {},
   "outputs": [
    {
     "data": {
      "text/plain": [
       "<AxesSubplot:title={'center':'pie'}, ylabel='Frequency'>"
      ]
     },
     "execution_count": 127,
     "metadata": {},
     "output_type": "execute_result"
    },
    {
     "data": {
      "image/png": "[encoded data removed]",
      "text/plain": [
       "<Figure size 432x288 with 1 Axes>"
      ]
     },
     "metadata": {
      "needs_background": "light"
     },
     "output_type": "display_data"
    }
   ],
   "source": [
    "dat.plot(kind=\"hist\", title=\"pie\")"
   ]
  },
  {
   "cell_type": "markdown",
   "id": "embedded-progress",
   "metadata": {},
   "source": [
    "all_years = corpus_df.groupby(['year','ReleaseYear'])['Year'].count()\n",
    "all_years"
   ]
  },
  {
   "cell_type": "code",
   "execution_count": 148,
   "id": "alive-georgia",
   "metadata": {
    "scrolled": true
   },
   "outputs": [
    {
     "data": {
      "text/html": [
       "<div>\n",
       "<style scoped>\n",
       "    .dataframe tbody tr th:only-of-type {\n",
       "        vertical-align: middle;\n",
       "    }\n",
       "\n",
       "    .dataframe tbody tr th {\n",
       "        vertical-align: top;\n",
       "    }\n",
       "\n",
       "    .dataframe thead th {\n",
       "        text-align: right;\n",
       "    }\n",
       "</style>\n",
       "<table border=\"1\" class=\"dataframe\">\n",
       "  <thead>\n",
       "    <tr style=\"text-align: right;\">\n",
       "      <th></th>\n",
       "      <th>MR</th>\n",
       "      <th>Author</th>\n",
       "      <th>Journal</th>\n",
       "      <th>Year</th>\n",
       "      <th>Publication Type</th>\n",
       "      <th>Citation</th>\n",
       "      <th>Version</th>\n",
       "      <th>Website</th>\n",
       "      <th>Lentght</th>\n",
       "    </tr>\n",
       "  </thead>\n",
       "  <tbody>\n",
       "    <tr>\n",
       "      <th>3532</th>\n",
       "      <td>2592492</td>\n",
       "      <td>McInroy, J. and Shpectorov, S.</td>\n",
       "      <td>Discrete Math.</td>\n",
       "      <td>2010</td>\n",
       "      <td>article</td>\n",
       "      <td>The Gap Group, Gap - Groups, Algorithms, and Programming, Version 4.4.10, 2007. http://www.gap-system.org.</td>\n",
       "      <td>4.4.10</td>\n",
       "      <td>Yes</td>\n",
       "      <td>106</td>\n",
       "    </tr>\n",
       "    <tr>\n",
       "      <th>3533</th>\n",
       "      <td>2592492</td>\n",
       "      <td>McInroy, J. and Shpectorov, S.</td>\n",
       "      <td>Discrete Math.</td>\n",
       "      <td>2010</td>\n",
       "      <td>article</td>\n",
       "      <td>L.H. Soicher, The Grape package for Gap, Version 4.3, 2006. http://www.maths.qmul.ac.uk/simleonard/grape/.</td>\n",
       "      <td>Package</td>\n",
       "      <td>Yes</td>\n",
       "      <td>106</td>\n",
       "    </tr>\n",
       "  </tbody>\n",
       "</table>\n",
       "</div>"
      ],
      "text/plain": [
       "           MR                          Author         Journal  Year  \\\n",
       "3532  2592492  McInroy, J. and Shpectorov, S.  Discrete Math.  2010   \n",
       "3533  2592492  McInroy, J. and Shpectorov, S.  Discrete Math.  2010   \n",
       "\n",
       "     Publication Type  \\\n",
       "3532          article   \n",
       "3533          article   \n",
       "\n",
       "                                                                                                        Citation  \\\n",
       "3532  The Gap Group, Gap - Groups, Algorithms, and Programming, Version 4.4.10, 2007. http://www.gap-system.org.   \n",
       "3533  L.H. Soicher, The Grape package for Gap, Version 4.3, 2006. http://www.maths.qmul.ac.uk/simleonard/grape/.   \n",
       "\n",
       "      Version Website  Lentght  \n",
       "3532   4.4.10     Yes      106  \n",
       "3533  Package     Yes      106  "
      ]
     },
     "execution_count": 148,
     "metadata": {},
     "output_type": "execute_result"
    }
   ],
   "source": [
    "get_c('2592492')"
   ]
  },
  {
   "cell_type": "code",
   "execution_count": 146,
   "id": "equivalent-brunswick",
   "metadata": {
    "scrolled": true
   },
   "outputs": [],
   "source": [
    "years = gap_df['Year'].unique()\n",
    "dat = gap_df['Year'].value_counts()\n",
    "g = gap_df['Version'].value_counts()\n",
    "ver = gap_df['Version'].unique()"
   ]
  },
  {
   "cell_type": "code",
   "execution_count": 155,
   "id": "improved-responsibility",
   "metadata": {},
   "outputs": [
    {
     "data": {
      "text/plain": [
       "article          2196\n",
       "incollection       20\n",
       "inproceedings       3\n",
       "Name: Publication Type, dtype: int64"
      ]
     },
     "execution_count": 155,
     "metadata": {},
     "output_type": "execute_result"
    }
   ],
   "source": [
    "gap_df['Publication Type'].value_counts()"
   ]
  },
  {
   "cell_type": "code",
   "execution_count": 165,
   "id": "confident-sheet",
   "metadata": {
    "scrolled": true
   },
   "outputs": [
    {
     "data": {
      "text/html": [
       "<div>\n",
       "<style scoped>\n",
       "    .dataframe tbody tr th:only-of-type {\n",
       "        vertical-align: middle;\n",
       "    }\n",
       "\n",
       "    .dataframe tbody tr th {\n",
       "        vertical-align: top;\n",
       "    }\n",
       "\n",
       "    .dataframe thead th {\n",
       "        text-align: right;\n",
       "    }\n",
       "</style>\n",
       "<table border=\"1\" class=\"dataframe\">\n",
       "  <thead>\n",
       "    <tr style=\"text-align: right;\">\n",
       "      <th></th>\n",
       "      <th></th>\n",
       "      <th>Publication Type</th>\n",
       "    </tr>\n",
       "    <tr>\n",
       "      <th>Publication Type</th>\n",
       "      <th>Year</th>\n",
       "      <th></th>\n",
       "    </tr>\n",
       "  </thead>\n",
       "  <tbody>\n",
       "    <tr>\n",
       "      <th rowspan=\"27\" valign=\"top\">article</th>\n",
       "      <th>1993</th>\n",
       "      <td>2</td>\n",
       "    </tr>\n",
       "    <tr>\n",
       "      <th>1994</th>\n",
       "      <td>1</td>\n",
       "    </tr>\n",
       "    <tr>\n",
       "      <th>1997</th>\n",
       "      <td>8</td>\n",
       "    </tr>\n",
       "    <tr>\n",
       "      <th>1998</th>\n",
       "      <td>3</td>\n",
       "    </tr>\n",
       "    <tr>\n",
       "      <th>1999</th>\n",
       "      <td>4</td>\n",
       "    </tr>\n",
       "    <tr>\n",
       "      <th>2000</th>\n",
       "      <td>7</td>\n",
       "    </tr>\n",
       "    <tr>\n",
       "      <th>2001</th>\n",
       "      <td>26</td>\n",
       "    </tr>\n",
       "    <tr>\n",
       "      <th>2002</th>\n",
       "      <td>24</td>\n",
       "    </tr>\n",
       "    <tr>\n",
       "      <th>2003</th>\n",
       "      <td>48</td>\n",
       "    </tr>\n",
       "    <tr>\n",
       "      <th>2004</th>\n",
       "      <td>68</td>\n",
       "    </tr>\n",
       "    <tr>\n",
       "      <th>2005</th>\n",
       "      <td>83</td>\n",
       "    </tr>\n",
       "    <tr>\n",
       "      <th>2006</th>\n",
       "      <td>80</td>\n",
       "    </tr>\n",
       "    <tr>\n",
       "      <th>2007</th>\n",
       "      <td>116</td>\n",
       "    </tr>\n",
       "    <tr>\n",
       "      <th>2008</th>\n",
       "      <td>108</td>\n",
       "    </tr>\n",
       "    <tr>\n",
       "      <th>2009</th>\n",
       "      <td>93</td>\n",
       "    </tr>\n",
       "    <tr>\n",
       "      <th>2010</th>\n",
       "      <td>130</td>\n",
       "    </tr>\n",
       "    <tr>\n",
       "      <th>2011</th>\n",
       "      <td>121</td>\n",
       "    </tr>\n",
       "    <tr>\n",
       "      <th>2012</th>\n",
       "      <td>124</td>\n",
       "    </tr>\n",
       "    <tr>\n",
       "      <th>2013</th>\n",
       "      <td>128</td>\n",
       "    </tr>\n",
       "    <tr>\n",
       "      <th>2014</th>\n",
       "      <td>126</td>\n",
       "    </tr>\n",
       "    <tr>\n",
       "      <th>2015</th>\n",
       "      <td>132</td>\n",
       "    </tr>\n",
       "    <tr>\n",
       "      <th>2016</th>\n",
       "      <td>126</td>\n",
       "    </tr>\n",
       "    <tr>\n",
       "      <th>2017</th>\n",
       "      <td>161</td>\n",
       "    </tr>\n",
       "    <tr>\n",
       "      <th>2018</th>\n",
       "      <td>142</td>\n",
       "    </tr>\n",
       "    <tr>\n",
       "      <th>2019</th>\n",
       "      <td>146</td>\n",
       "    </tr>\n",
       "    <tr>\n",
       "      <th>2020</th>\n",
       "      <td>154</td>\n",
       "    </tr>\n",
       "    <tr>\n",
       "      <th>2021</th>\n",
       "      <td>35</td>\n",
       "    </tr>\n",
       "    <tr>\n",
       "      <th rowspan=\"5\" valign=\"top\">incollection</th>\n",
       "      <th>2000</th>\n",
       "      <td>3</td>\n",
       "    </tr>\n",
       "    <tr>\n",
       "      <th>2001</th>\n",
       "      <td>6</td>\n",
       "    </tr>\n",
       "    <tr>\n",
       "      <th>2002</th>\n",
       "      <td>5</td>\n",
       "    </tr>\n",
       "    <tr>\n",
       "      <th>2003</th>\n",
       "      <td>5</td>\n",
       "    </tr>\n",
       "    <tr>\n",
       "      <th>2004</th>\n",
       "      <td>1</td>\n",
       "    </tr>\n",
       "    <tr>\n",
       "      <th rowspan=\"2\" valign=\"top\">inproceedings</th>\n",
       "      <th>2001</th>\n",
       "      <td>1</td>\n",
       "    </tr>\n",
       "    <tr>\n",
       "      <th>2003</th>\n",
       "      <td>2</td>\n",
       "    </tr>\n",
       "  </tbody>\n",
       "</table>\n",
       "</div>"
      ],
      "text/plain": [
       "                       Publication Type\n",
       "Publication Type Year                  \n",
       "article          1993                 2\n",
       "                 1994                 1\n",
       "                 1997                 8\n",
       "                 1998                 3\n",
       "                 1999                 4\n",
       "                 2000                 7\n",
       "                 2001                26\n",
       "                 2002                24\n",
       "                 2003                48\n",
       "                 2004                68\n",
       "                 2005                83\n",
       "                 2006                80\n",
       "                 2007               116\n",
       "                 2008               108\n",
       "                 2009                93\n",
       "                 2010               130\n",
       "                 2011               121\n",
       "                 2012               124\n",
       "                 2013               128\n",
       "                 2014               126\n",
       "                 2015               132\n",
       "                 2016               126\n",
       "                 2017               161\n",
       "                 2018               142\n",
       "                 2019               146\n",
       "                 2020               154\n",
       "                 2021                35\n",
       "incollection     2000                 3\n",
       "                 2001                 6\n",
       "                 2002                 5\n",
       "                 2003                 5\n",
       "                 2004                 1\n",
       "inproceedings    2001                 1\n",
       "                 2003                 2"
      ]
     },
     "execution_count": 165,
     "metadata": {},
     "output_type": "execute_result"
    }
   ],
   "source": [
    "yea = gap_df.groupby(['Publication Type', 'Year'])['Publication Type'].count()\n",
    "yea = pd.DataFrame(data=yea)\n",
    "yea"
   ]
  },
  {
   "cell_type": "code",
   "execution_count": 166,
   "id": "placed-holiday",
   "metadata": {
    "scrolled": true
   },
   "outputs": [
    {
     "data": {
      "text/plain": [
       "<AxesSubplot:title={'center':'Citations by year of cited GAP release'}, xlabel='Years', ylabel='Count'>"
      ]
     },
     "execution_count": 166,
     "metadata": {},
     "output_type": "execute_result"
    },
    {
     "data": {
      "image/png": "[encoded data removed]",
      "text/plain": [
       "<Figure size 792x360 with 1 Axes>"
      ]
     },
     "metadata": {
      "needs_background": "light"
     },
     "output_type": "display_data"
    }
   ],
   "source": [
    "yea.plot(kind=\"bar\", \n",
    "                figsize=(11, 5), title='Citations by year of cited GAP release', xlabel='Years', \n",
    "                ylabel='Count', color='green')"
   ]
  },
  {
   "cell_type": "code",
   "execution_count": 170,
   "id": "essential-notion",
   "metadata": {
    "collapsed": true
   },
   "outputs": [
    {
     "data": {
      "text/html": [
       "<div>\n",
       "<style scoped>\n",
       "    .dataframe tbody tr th:only-of-type {\n",
       "        vertical-align: middle;\n",
       "    }\n",
       "\n",
       "    .dataframe tbody tr th {\n",
       "        vertical-align: top;\n",
       "    }\n",
       "\n",
       "    .dataframe thead th {\n",
       "        text-align: right;\n",
       "    }\n",
       "</style>\n",
       "<table border=\"1\" class=\"dataframe\">\n",
       "  <thead>\n",
       "    <tr style=\"text-align: right;\">\n",
       "      <th></th>\n",
       "      <th>Journal</th>\n",
       "    </tr>\n",
       "    <tr>\n",
       "      <th>Year</th>\n",
       "      <th></th>\n",
       "    </tr>\n",
       "  </thead>\n",
       "  <tbody>\n",
       "    <tr>\n",
       "      <th>1993</th>\n",
       "      <td>[Math. Comp.]</td>\n",
       "    </tr>\n",
       "    <tr>\n",
       "      <th>1994</th>\n",
       "      <td>[Math. Comp.]</td>\n",
       "    </tr>\n",
       "    <tr>\n",
       "      <th>1997</th>\n",
       "      <td>[Trans. Amer. Math. Soc., J. Algebra, J. London Math. Soc. (2), Comment. Math. Helv., Proc. Amer. Math. Soc., Proc. London Math. Soc. (3)]</td>\n",
       "    </tr>\n",
       "    <tr>\n",
       "      <th>1998</th>\n",
       "      <td>[J. Math. Soc. Japan, Math. Comp., J. London Math. Soc. (2)]</td>\n",
       "    </tr>\n",
       "    <tr>\n",
       "      <th>1999</th>\n",
       "      <td>[J. Algebra, Bull. London Math. Soc., Proc. London Math. Soc. (3), J. Algebraic Combin.]</td>\n",
       "    </tr>\n",
       "    <tr>\n",
       "      <th>2000</th>\n",
       "      <td>[Discrete Math., J. Algebra, J. Symbolic Comput., Comm. Algebra]</td>\n",
       "    </tr>\n",
       "    <tr>\n",
       "      <th>2001</th>\n",
       "      <td>[Quaest. Math., Comm. Algebra, J. Algebra, Boll. Unione Mat. Ital. Sez. B Artic. Ric. Mat. (8), Discrete Math. Theor. Comput. Sci., J. Korean Math. Soc.,...</td>\n",
       "    </tr>\n",
       "    <tr>\n",
       "      <th>2002</th>\n",
       "      <td>[Acta Sci. Math. (Szeged), Comm. Algebra, Internat. J. Algebra Comput., J. Combin. Des., J. Algebra, Des. Codes Cryptogr., Theoret. Comput. Sci., J. Symb...</td>\n",
       "    </tr>\n",
       "    <tr>\n",
       "      <th>2003</th>\n",
       "      <td>[Discrete Math., Represent. Theory, LMS J. Comput. Math., J. Combin. Theory Ser. A, European J. Combin., J. Symbolic Comput., Comm. Algebra, Finite Field...</td>\n",
       "    </tr>\n",
       "    <tr>\n",
       "      <th>2004</th>\n",
       "      <td>[Discrete Math., Aequationes Math., Comm. Algebra, J. Combin. Des., Publ. Math. Debrecen, Math. Proc. Cambridge Philos. Soc., LMS J. Comput. Math., Exper...</td>\n",
       "    </tr>\n",
       "    <tr>\n",
       "      <th>2005</th>\n",
       "      <td>[Comm. Algebra, Electron. J. Combin., Proc. Japan Acad. Ser. A Math. Sci., J. Algebra Appl., Internat. J. Algebra Comput., LMS J. Comput. Math., Beiträge...</td>\n",
       "    </tr>\n",
       "    <tr>\n",
       "      <th>2006</th>\n",
       "      <td>[Discrete Math., Des. Codes Cryptogr., Innov. Incidence Geom., Math. Proc. R. Ir. Acad., J. Algebra, Israel J. Math., Trans. Amer. Math. Soc., Arch. Math...</td>\n",
       "    </tr>\n",
       "    <tr>\n",
       "      <th>2007</th>\n",
       "      <td>[Houston J. Math., J. Pure Appl. Algebra, Bull. Malays. Math. Sci. Soc. (2), J. Algebra, Innov. Incidence Geom., Algebra Colloq., Discrete Appl. Math., I...</td>\n",
       "    </tr>\n",
       "    <tr>\n",
       "      <th>2008</th>\n",
       "      <td>[Comm. Algebra, Linear Algebra Appl., Results Math., Contrib. Discrete Math., Invent. Math., Fundam. Prikl. Mat., Quaest. Math., LMS J. Comput. Math., Pr...</td>\n",
       "    </tr>\n",
       "    <tr>\n",
       "      <th>2009</th>\n",
       "      <td>[J. Algebra Appl., Electron. J. Combin., Combin. Probab. Comput., J. Pure Appl. Algebra, Bull. Aust. Math. Soc., Discrete Math., Experiment. Math., Arch....</td>\n",
       "    </tr>\n",
       "    <tr>\n",
       "      <th>2010</th>\n",
       "      <td>[Comm. Algebra, Arch. Math. (Basel), Algebra Colloq., J. Algebra Appl., Electron. J. Combin., Adv. Math., Appl. Categ. Structures, Internat. J. Algebra C...</td>\n",
       "    </tr>\n",
       "    <tr>\n",
       "      <th>2011</th>\n",
       "      <td>[J. Algebra, Bol. Soc. Mat. Mexicana (3), Algebra Colloq., J. Reine Angew. Math., Ann. Mat. Pura Appl. (4), Discrete Math. Theor. Comput. Sci., European ...</td>\n",
       "    </tr>\n",
       "    <tr>\n",
       "      <th>2012</th>\n",
       "      <td>[Bull. Malays. Math. Sci. Soc. (2), Monatsh. Math., Electron. J. Combin., Canad. J. Math., J. Algebra, Algebr. Geom. Topol., Comm. Algebra, Internat. J. ...</td>\n",
       "    </tr>\n",
       "    <tr>\n",
       "      <th>2013</th>\n",
       "      <td>[Algebra Colloq., Des. Codes Cryptogr., J. Aust. Math. Soc., Israel J. Math., Algebr. Represent. Theory, J. Algebra, J. Algebra Appl., Appl. Algebra Engr...</td>\n",
       "    </tr>\n",
       "    <tr>\n",
       "      <th>2014</th>\n",
       "      <td>[European J. Combin., Bull. Iranian Math. Soc., J. Algebra Appl., Discrete Math. Theor. Comput. Sci., Quaest. Math., Ergodic Theory Dynam. Systems, Arch....</td>\n",
       "    </tr>\n",
       "    <tr>\n",
       "      <th>2015</th>\n",
       "      <td>[Comm. Algebra, J. Group Theory, Discrete Math., Serdica Math. J., Australas. J. Combin., Israel J. Math., Involve, J. Symbolic Comput., LMS J. Comput. M...</td>\n",
       "    </tr>\n",
       "    <tr>\n",
       "      <th>2016</th>\n",
       "      <td>[J. Algebra Appl., Comm. Algebra, Ars Combin., Zap. Nauchn. Sem. S.-Peterburg. Otdel. Mat. Inst. Steklov. (POMI), Bull. Aust. Math. Soc., Tr. Inst. Mat. ...</td>\n",
       "    </tr>\n",
       "    <tr>\n",
       "      <th>2017</th>\n",
       "      <td>[J. Pure Appl. Algebra, Des. Codes Cryptogr., J. Algebra Appl., Internat. J. Algebra Comput., Comm. Algebra, Discrete Math., Discrete Comput. Geom., Bull...</td>\n",
       "    </tr>\n",
       "    <tr>\n",
       "      <th>2018</th>\n",
       "      <td>[Comm. Algebra, Quaest. Math., J. Algebra Appl., Australas. J. Combin., Beitr. Algebra Geom., Eur. J. Math., Arch. Math. (Basel), Forum Math., Exp. Math....</td>\n",
       "    </tr>\n",
       "    <tr>\n",
       "      <th>2019</th>\n",
       "      <td>[Rev. R. Acad. Cienc. Exactas Fís. Nat. Ser. A Mat. RACSAM, J. Algebra Appl., Comm. Algebra, Australas. J. Combin., Discrete Math., Ars Math. Contemp., F...</td>\n",
       "    </tr>\n",
       "    <tr>\n",
       "      <th>2020</th>\n",
       "      <td>[Bull. Malays. Math. Sci. Soc., J. Algebra Appl., Atti Accad. Naz. Lincei Rend. Lincei Mat. Appl., Graphs Combin., Monatsh. Math., Des. Codes Cryptogr., ...</td>\n",
       "    </tr>\n",
       "    <tr>\n",
       "      <th>2021</th>\n",
       "      <td>[J. Symbolic Comput., J. Algebra, Trans. Amer. Math. Soc., Comm. Algebra, Discrete Appl. Math., J. Pure Appl. Algebra, J. Algebra Appl., J. Aust. Math. S...</td>\n",
       "    </tr>\n",
       "  </tbody>\n",
       "</table>\n",
       "</div>"
      ],
      "text/plain": [
       "                                                                                                                                                           Journal\n",
       "Year                                                                                                                                                              \n",
       "1993                                                                                                                                                 [Math. Comp.]\n",
       "1994                                                                                                                                                 [Math. Comp.]\n",
       "1997                    [Trans. Amer. Math. Soc., J. Algebra, J. London Math. Soc. (2), Comment. Math. Helv., Proc. Amer. Math. Soc., Proc. London Math. Soc. (3)]\n",
       "1998                                                                                                  [J. Math. Soc. Japan, Math. Comp., J. London Math. Soc. (2)]\n",
       "1999                                                                      [J. Algebra, Bull. London Math. Soc., Proc. London Math. Soc. (3), J. Algebraic Combin.]\n",
       "2000                                                                                              [Discrete Math., J. Algebra, J. Symbolic Comput., Comm. Algebra]\n",
       "2001  [Quaest. Math., Comm. Algebra, J. Algebra, Boll. Unione Mat. Ital. Sez. B Artic. Ric. Mat. (8), Discrete Math. Theor. Comput. Sci., J. Korean Math. Soc.,...\n",
       "2002  [Acta Sci. Math. (Szeged), Comm. Algebra, Internat. J. Algebra Comput., J. Combin. Des., J. Algebra, Des. Codes Cryptogr., Theoret. Comput. Sci., J. Symb...\n",
       "2003  [Discrete Math., Represent. Theory, LMS J. Comput. Math., J. Combin. Theory Ser. A, European J. Combin., J. Symbolic Comput., Comm. Algebra, Finite Field...\n",
       "2004  [Discrete Math., Aequationes Math., Comm. Algebra, J. Combin. Des., Publ. Math. Debrecen, Math. Proc. Cambridge Philos. Soc., LMS J. Comput. Math., Exper...\n",
       "2005  [Comm. Algebra, Electron. J. Combin., Proc. Japan Acad. Ser. A Math. Sci., J. Algebra Appl., Internat. J. Algebra Comput., LMS J. Comput. Math., Beiträge...\n",
       "2006  [Discrete Math., Des. Codes Cryptogr., Innov. Incidence Geom., Math. Proc. R. Ir. Acad., J. Algebra, Israel J. Math., Trans. Amer. Math. Soc., Arch. Math...\n",
       "2007  [Houston J. Math., J. Pure Appl. Algebra, Bull. Malays. Math. Sci. Soc. (2), J. Algebra, Innov. Incidence Geom., Algebra Colloq., Discrete Appl. Math., I...\n",
       "2008  [Comm. Algebra, Linear Algebra Appl., Results Math., Contrib. Discrete Math., Invent. Math., Fundam. Prikl. Mat., Quaest. Math., LMS J. Comput. Math., Pr...\n",
       "2009  [J. Algebra Appl., Electron. J. Combin., Combin. Probab. Comput., J. Pure Appl. Algebra, Bull. Aust. Math. Soc., Discrete Math., Experiment. Math., Arch....\n",
       "2010  [Comm. Algebra, Arch. Math. (Basel), Algebra Colloq., J. Algebra Appl., Electron. J. Combin., Adv. Math., Appl. Categ. Structures, Internat. J. Algebra C...\n",
       "2011  [J. Algebra, Bol. Soc. Mat. Mexicana (3), Algebra Colloq., J. Reine Angew. Math., Ann. Mat. Pura Appl. (4), Discrete Math. Theor. Comput. Sci., European ...\n",
       "2012  [Bull. Malays. Math. Sci. Soc. (2), Monatsh. Math., Electron. J. Combin., Canad. J. Math., J. Algebra, Algebr. Geom. Topol., Comm. Algebra, Internat. J. ...\n",
       "2013  [Algebra Colloq., Des. Codes Cryptogr., J. Aust. Math. Soc., Israel J. Math., Algebr. Represent. Theory, J. Algebra, J. Algebra Appl., Appl. Algebra Engr...\n",
       "2014  [European J. Combin., Bull. Iranian Math. Soc., J. Algebra Appl., Discrete Math. Theor. Comput. Sci., Quaest. Math., Ergodic Theory Dynam. Systems, Arch....\n",
       "2015  [Comm. Algebra, J. Group Theory, Discrete Math., Serdica Math. J., Australas. J. Combin., Israel J. Math., Involve, J. Symbolic Comput., LMS J. Comput. M...\n",
       "2016  [J. Algebra Appl., Comm. Algebra, Ars Combin., Zap. Nauchn. Sem. S.-Peterburg. Otdel. Mat. Inst. Steklov. (POMI), Bull. Aust. Math. Soc., Tr. Inst. Mat. ...\n",
       "2017  [J. Pure Appl. Algebra, Des. Codes Cryptogr., J. Algebra Appl., Internat. J. Algebra Comput., Comm. Algebra, Discrete Math., Discrete Comput. Geom., Bull...\n",
       "2018  [Comm. Algebra, Quaest. Math., J. Algebra Appl., Australas. J. Combin., Beitr. Algebra Geom., Eur. J. Math., Arch. Math. (Basel), Forum Math., Exp. Math....\n",
       "2019  [Rev. R. Acad. Cienc. Exactas Fís. Nat. Ser. A Mat. RACSAM, J. Algebra Appl., Comm. Algebra, Australas. J. Combin., Discrete Math., Ars Math. Contemp., F...\n",
       "2020  [Bull. Malays. Math. Sci. Soc., J. Algebra Appl., Atti Accad. Naz. Lincei Rend. Lincei Mat. Appl., Graphs Combin., Monatsh. Math., Des. Codes Cryptogr., ...\n",
       "2021  [J. Symbolic Comput., J. Algebra, Trans. Amer. Math. Soc., Comm. Algebra, Discrete Appl. Math., J. Pure Appl. Algebra, J. Algebra Appl., J. Aust. Math. S..."
      ]
     },
     "execution_count": 170,
     "metadata": {},
     "output_type": "execute_result"
    }
   ],
   "source": [
    "jou = gap_df.groupby('Year')['Journal'].unique()\n",
    "jou = pd.DataFrame(data=jou)\n",
    "jou"
   ]
  },
  {
   "cell_type": "code",
   "execution_count": 92,
   "id": "gorgeous-formula",
   "metadata": {
    "collapsed": true
   },
   "outputs": [
    {
     "data": {
      "text/plain": [
       "Lentght\n",
       "54      1\n",
       "55      1\n",
       "56      2\n",
       "58      2\n",
       "61      1\n",
       "       ..\n",
       "265     1\n",
       "283     1\n",
       "287     1\n",
       "288     1\n",
       "1076    1\n",
       "Length: 127, dtype: int64"
      ]
     },
     "execution_count": 92,
     "metadata": {},
     "output_type": "execute_result"
    }
   ],
   "source": [
    "lee = gap_df.groupby('Lentght')\n",
    "lee.size()"
   ]
  },
  {
   "cell_type": "code",
   "execution_count": 142,
   "id": "inclusive-exhaust",
   "metadata": {},
   "outputs": [
    {
     "data": {
      "text/plain": [
       "array(['Abbas, A. and Assi, A. and García-Sánchez, P. A.',\n",
       "       'Abdolghafourian, A. and Iranmanesh, M. A.',\n",
       "       'Abdolghafourian, A. and Iranmanesh, M. A. and Niemeyer, A. C.',\n",
       "       ..., 'Künzer, M. and Mathas, A.', 'Mathas, A.',\n",
       "       'McInroy, J. and Shpectorov, S.'], dtype=object)"
      ]
     },
     "execution_count": 142,
     "metadata": {},
     "output_type": "execute_result"
    }
   ],
   "source": [
    "au7 = gap_df['Author'].unique()\n",
    "au7"
   ]
  },
  {
   "cell_type": "code",
   "execution_count": 131,
   "id": "raised-termination",
   "metadata": {
    "collapsed": true
   },
   "outputs": [
    {
     "data": {
      "text/html": [
       "<div>\n",
       "<style scoped>\n",
       "    .dataframe tbody tr th:only-of-type {\n",
       "        vertical-align: middle;\n",
       "    }\n",
       "\n",
       "    .dataframe tbody tr th {\n",
       "        vertical-align: top;\n",
       "    }\n",
       "\n",
       "    .dataframe thead th {\n",
       "        text-align: right;\n",
       "    }\n",
       "</style>\n",
       "<table border=\"1\" class=\"dataframe\">\n",
       "  <thead>\n",
       "    <tr style=\"text-align: right;\">\n",
       "      <th>Year</th>\n",
       "      <th>1993</th>\n",
       "      <th>1994</th>\n",
       "      <th>1997</th>\n",
       "      <th>1998</th>\n",
       "      <th>1999</th>\n",
       "      <th>2000</th>\n",
       "      <th>2001</th>\n",
       "      <th>2002</th>\n",
       "      <th>2003</th>\n",
       "      <th>2004</th>\n",
       "      <th>...</th>\n",
       "      <th>2012</th>\n",
       "      <th>2013</th>\n",
       "      <th>2014</th>\n",
       "      <th>2015</th>\n",
       "      <th>2016</th>\n",
       "      <th>2017</th>\n",
       "      <th>2018</th>\n",
       "      <th>2019</th>\n",
       "      <th>2020</th>\n",
       "      <th>2021</th>\n",
       "    </tr>\n",
       "    <tr>\n",
       "      <th>ReleaseYear</th>\n",
       "      <th></th>\n",
       "      <th></th>\n",
       "      <th></th>\n",
       "      <th></th>\n",
       "      <th></th>\n",
       "      <th></th>\n",
       "      <th></th>\n",
       "      <th></th>\n",
       "      <th></th>\n",
       "      <th></th>\n",
       "      <th></th>\n",
       "      <th></th>\n",
       "      <th></th>\n",
       "      <th></th>\n",
       "      <th></th>\n",
       "      <th></th>\n",
       "      <th></th>\n",
       "      <th></th>\n",
       "      <th></th>\n",
       "      <th></th>\n",
       "      <th></th>\n",
       "    </tr>\n",
       "  </thead>\n",
       "  <tbody>\n",
       "    <tr>\n",
       "      <th>1997</th>\n",
       "      <td>0.0</td>\n",
       "      <td>0.0</td>\n",
       "      <td>5.0</td>\n",
       "      <td>1.0</td>\n",
       "      <td>2.0</td>\n",
       "      <td>7.0</td>\n",
       "      <td>5.0</td>\n",
       "      <td>3.0</td>\n",
       "      <td>5.0</td>\n",
       "      <td>2.0</td>\n",
       "      <td>...</td>\n",
       "      <td>0.0</td>\n",
       "      <td>0.0</td>\n",
       "      <td>0.0</td>\n",
       "      <td>0.0</td>\n",
       "      <td>0.0</td>\n",
       "      <td>0.0</td>\n",
       "      <td>0.0</td>\n",
       "      <td>0.0</td>\n",
       "      <td>0.0</td>\n",
       "      <td>0.0</td>\n",
       "    </tr>\n",
       "    <tr>\n",
       "      <th>1999</th>\n",
       "      <td>0.0</td>\n",
       "      <td>0.0</td>\n",
       "      <td>0.0</td>\n",
       "      <td>0.0</td>\n",
       "      <td>0.0</td>\n",
       "      <td>2.0</td>\n",
       "      <td>10.0</td>\n",
       "      <td>6.0</td>\n",
       "      <td>4.0</td>\n",
       "      <td>4.0</td>\n",
       "      <td>...</td>\n",
       "      <td>0.0</td>\n",
       "      <td>2.0</td>\n",
       "      <td>0.0</td>\n",
       "      <td>0.0</td>\n",
       "      <td>0.0</td>\n",
       "      <td>0.0</td>\n",
       "      <td>0.0</td>\n",
       "      <td>0.0</td>\n",
       "      <td>0.0</td>\n",
       "      <td>0.0</td>\n",
       "    </tr>\n",
       "    <tr>\n",
       "      <th>2000</th>\n",
       "      <td>0.0</td>\n",
       "      <td>0.0</td>\n",
       "      <td>0.0</td>\n",
       "      <td>0.0</td>\n",
       "      <td>0.0</td>\n",
       "      <td>0.0</td>\n",
       "      <td>15.0</td>\n",
       "      <td>17.0</td>\n",
       "      <td>27.0</td>\n",
       "      <td>21.0</td>\n",
       "      <td>...</td>\n",
       "      <td>0.0</td>\n",
       "      <td>1.0</td>\n",
       "      <td>1.0</td>\n",
       "      <td>1.0</td>\n",
       "      <td>0.0</td>\n",
       "      <td>0.0</td>\n",
       "      <td>0.0</td>\n",
       "      <td>0.0</td>\n",
       "      <td>0.0</td>\n",
       "      <td>0.0</td>\n",
       "    </tr>\n",
       "    <tr>\n",
       "      <th>2002</th>\n",
       "      <td>0.0</td>\n",
       "      <td>0.0</td>\n",
       "      <td>0.0</td>\n",
       "      <td>0.0</td>\n",
       "      <td>0.0</td>\n",
       "      <td>0.0</td>\n",
       "      <td>0.0</td>\n",
       "      <td>0.0</td>\n",
       "      <td>17.0</td>\n",
       "      <td>37.0</td>\n",
       "      <td>...</td>\n",
       "      <td>7.0</td>\n",
       "      <td>1.0</td>\n",
       "      <td>7.0</td>\n",
       "      <td>2.0</td>\n",
       "      <td>3.0</td>\n",
       "      <td>1.0</td>\n",
       "      <td>0.0</td>\n",
       "      <td>2.0</td>\n",
       "      <td>3.0</td>\n",
       "      <td>0.0</td>\n",
       "    </tr>\n",
       "    <tr>\n",
       "      <th>2004</th>\n",
       "      <td>0.0</td>\n",
       "      <td>0.0</td>\n",
       "      <td>0.0</td>\n",
       "      <td>0.0</td>\n",
       "      <td>0.0</td>\n",
       "      <td>0.0</td>\n",
       "      <td>0.0</td>\n",
       "      <td>0.0</td>\n",
       "      <td>1.0</td>\n",
       "      <td>0.0</td>\n",
       "      <td>...</td>\n",
       "      <td>30.0</td>\n",
       "      <td>19.0</td>\n",
       "      <td>22.0</td>\n",
       "      <td>15.0</td>\n",
       "      <td>19.0</td>\n",
       "      <td>12.0</td>\n",
       "      <td>14.0</td>\n",
       "      <td>10.0</td>\n",
       "      <td>15.0</td>\n",
       "      <td>0.0</td>\n",
       "    </tr>\n",
       "    <tr>\n",
       "      <th>2005</th>\n",
       "      <td>0.0</td>\n",
       "      <td>0.0</td>\n",
       "      <td>0.0</td>\n",
       "      <td>0.0</td>\n",
       "      <td>0.0</td>\n",
       "      <td>0.0</td>\n",
       "      <td>0.0</td>\n",
       "      <td>0.0</td>\n",
       "      <td>0.0</td>\n",
       "      <td>0.0</td>\n",
       "      <td>...</td>\n",
       "      <td>1.0</td>\n",
       "      <td>0.0</td>\n",
       "      <td>1.0</td>\n",
       "      <td>0.0</td>\n",
       "      <td>1.0</td>\n",
       "      <td>1.0</td>\n",
       "      <td>0.0</td>\n",
       "      <td>0.0</td>\n",
       "      <td>0.0</td>\n",
       "      <td>0.0</td>\n",
       "    </tr>\n",
       "    <tr>\n",
       "      <th>2006</th>\n",
       "      <td>0.0</td>\n",
       "      <td>0.0</td>\n",
       "      <td>0.0</td>\n",
       "      <td>0.0</td>\n",
       "      <td>0.0</td>\n",
       "      <td>0.0</td>\n",
       "      <td>0.0</td>\n",
       "      <td>0.0</td>\n",
       "      <td>0.0</td>\n",
       "      <td>0.0</td>\n",
       "      <td>...</td>\n",
       "      <td>9.0</td>\n",
       "      <td>6.0</td>\n",
       "      <td>3.0</td>\n",
       "      <td>0.0</td>\n",
       "      <td>2.0</td>\n",
       "      <td>1.0</td>\n",
       "      <td>0.0</td>\n",
       "      <td>0.0</td>\n",
       "      <td>0.0</td>\n",
       "      <td>0.0</td>\n",
       "    </tr>\n",
       "    <tr>\n",
       "      <th>2007</th>\n",
       "      <td>0.0</td>\n",
       "      <td>0.0</td>\n",
       "      <td>0.0</td>\n",
       "      <td>0.0</td>\n",
       "      <td>0.0</td>\n",
       "      <td>0.0</td>\n",
       "      <td>0.0</td>\n",
       "      <td>0.0</td>\n",
       "      <td>0.0</td>\n",
       "      <td>0.0</td>\n",
       "      <td>...</td>\n",
       "      <td>14.0</td>\n",
       "      <td>10.0</td>\n",
       "      <td>6.0</td>\n",
       "      <td>8.0</td>\n",
       "      <td>6.0</td>\n",
       "      <td>6.0</td>\n",
       "      <td>3.0</td>\n",
       "      <td>2.0</td>\n",
       "      <td>1.0</td>\n",
       "      <td>0.0</td>\n",
       "    </tr>\n",
       "    <tr>\n",
       "      <th>2008</th>\n",
       "      <td>0.0</td>\n",
       "      <td>0.0</td>\n",
       "      <td>0.0</td>\n",
       "      <td>0.0</td>\n",
       "      <td>0.0</td>\n",
       "      <td>0.0</td>\n",
       "      <td>0.0</td>\n",
       "      <td>0.0</td>\n",
       "      <td>0.0</td>\n",
       "      <td>0.0</td>\n",
       "      <td>...</td>\n",
       "      <td>58.0</td>\n",
       "      <td>61.0</td>\n",
       "      <td>32.0</td>\n",
       "      <td>26.0</td>\n",
       "      <td>13.0</td>\n",
       "      <td>15.0</td>\n",
       "      <td>10.0</td>\n",
       "      <td>6.0</td>\n",
       "      <td>3.0</td>\n",
       "      <td>0.0</td>\n",
       "    </tr>\n",
       "    <tr>\n",
       "      <th>2012</th>\n",
       "      <td>0.0</td>\n",
       "      <td>0.0</td>\n",
       "      <td>0.0</td>\n",
       "      <td>0.0</td>\n",
       "      <td>0.0</td>\n",
       "      <td>0.0</td>\n",
       "      <td>0.0</td>\n",
       "      <td>0.0</td>\n",
       "      <td>0.0</td>\n",
       "      <td>0.0</td>\n",
       "      <td>...</td>\n",
       "      <td>0.0</td>\n",
       "      <td>19.0</td>\n",
       "      <td>21.0</td>\n",
       "      <td>12.0</td>\n",
       "      <td>7.0</td>\n",
       "      <td>8.0</td>\n",
       "      <td>8.0</td>\n",
       "      <td>6.0</td>\n",
       "      <td>3.0</td>\n",
       "      <td>0.0</td>\n",
       "    </tr>\n",
       "    <tr>\n",
       "      <th>2013</th>\n",
       "      <td>0.0</td>\n",
       "      <td>0.0</td>\n",
       "      <td>0.0</td>\n",
       "      <td>0.0</td>\n",
       "      <td>0.0</td>\n",
       "      <td>0.0</td>\n",
       "      <td>0.0</td>\n",
       "      <td>0.0</td>\n",
       "      <td>0.0</td>\n",
       "      <td>0.0</td>\n",
       "      <td>...</td>\n",
       "      <td>0.0</td>\n",
       "      <td>5.0</td>\n",
       "      <td>20.0</td>\n",
       "      <td>34.0</td>\n",
       "      <td>22.0</td>\n",
       "      <td>12.0</td>\n",
       "      <td>7.0</td>\n",
       "      <td>7.0</td>\n",
       "      <td>5.0</td>\n",
       "      <td>0.0</td>\n",
       "    </tr>\n",
       "  </tbody>\n",
       "</table>\n",
       "<p>11 rows × 27 columns</p>\n",
       "</div>"
      ],
      "text/plain": [
       "Year         1993  1994  1997  1998  1999  2000  2001  2002  2003  2004  ...  \\\n",
       "ReleaseYear                                                              ...   \n",
       "1997          0.0   0.0   5.0   1.0   2.0   7.0   5.0   3.0   5.0   2.0  ...   \n",
       "1999          0.0   0.0   0.0   0.0   0.0   2.0  10.0   6.0   4.0   4.0  ...   \n",
       "2000          0.0   0.0   0.0   0.0   0.0   0.0  15.0  17.0  27.0  21.0  ...   \n",
       "2002          0.0   0.0   0.0   0.0   0.0   0.0   0.0   0.0  17.0  37.0  ...   \n",
       "2004          0.0   0.0   0.0   0.0   0.0   0.0   0.0   0.0   1.0   0.0  ...   \n",
       "2005          0.0   0.0   0.0   0.0   0.0   0.0   0.0   0.0   0.0   0.0  ...   \n",
       "2006          0.0   0.0   0.0   0.0   0.0   0.0   0.0   0.0   0.0   0.0  ...   \n",
       "2007          0.0   0.0   0.0   0.0   0.0   0.0   0.0   0.0   0.0   0.0  ...   \n",
       "2008          0.0   0.0   0.0   0.0   0.0   0.0   0.0   0.0   0.0   0.0  ...   \n",
       "2012          0.0   0.0   0.0   0.0   0.0   0.0   0.0   0.0   0.0   0.0  ...   \n",
       "2013          0.0   0.0   0.0   0.0   0.0   0.0   0.0   0.0   0.0   0.0  ...   \n",
       "\n",
       "Year         2012  2013  2014  2015  2016  2017  2018  2019  2020  2021  \n",
       "ReleaseYear                                                              \n",
       "1997          0.0   0.0   0.0   0.0   0.0   0.0   0.0   0.0   0.0   0.0  \n",
       "1999          0.0   2.0   0.0   0.0   0.0   0.0   0.0   0.0   0.0   0.0  \n",
       "2000          0.0   1.0   1.0   1.0   0.0   0.0   0.0   0.0   0.0   0.0  \n",
       "2002          7.0   1.0   7.0   2.0   3.0   1.0   0.0   2.0   3.0   0.0  \n",
       "2004         30.0  19.0  22.0  15.0  19.0  12.0  14.0  10.0  15.0   0.0  \n",
       "2005          1.0   0.0   1.0   0.0   1.0   1.0   0.0   0.0   0.0   0.0  \n",
       "2006          9.0   6.0   3.0   0.0   2.0   1.0   0.0   0.0   0.0   0.0  \n",
       "2007         14.0  10.0   6.0   8.0   6.0   6.0   3.0   2.0   1.0   0.0  \n",
       "2008         58.0  61.0  32.0  26.0  13.0  15.0  10.0   6.0   3.0   0.0  \n",
       "2012          0.0  19.0  21.0  12.0   7.0   8.0   8.0   6.0   3.0   0.0  \n",
       "2013          0.0   5.0  20.0  34.0  22.0  12.0   7.0   7.0   5.0   0.0  \n",
       "\n",
       "[11 rows x 27 columns]"
      ]
     },
     "execution_count": 131,
     "metadata": {},
     "output_type": "execute_result"
    }
   ],
   "source": [
    "df2 = gap_df.groupby(['Year', 'ReleaseYear'])['ReleaseYear'].count().unstack('Year').fillna(0)\n",
    "df2.head(11)"
   ]
  },
  {
   "cell_type": "code",
   "execution_count": 143,
   "id": "ranking-tourist",
   "metadata": {
    "collapsed": true
   },
   "outputs": [
    {
     "name": "stderr",
     "output_type": "stream",
     "text": [
      "c:\\users\\fliqp_000\\appdata\\local\\programs\\python\\python38-32\\lib\\site-packages\\numpy\\ma\\core.py:2825: VisibleDeprecationWarning: Creating an ndarray from ragged nested sequences (which is a list-or-tuple of lists-or-tuples-or ndarrays with different lengths or shapes) is deprecated. If you meant to do this, you must specify 'dtype=object' when creating the ndarray.\n",
      "  _data = np.array(data, dtype=dtype, copy=copy,\n"
     ]
    },
    {
     "ename": "ValueError",
     "evalue": "x and y must be the same size",
     "output_type": "error",
     "traceback": [
      "\u001b[1;31m---------------------------------------------------------------------------\u001b[0m",
      "\u001b[1;31mValueError\u001b[0m                                Traceback (most recent call last)",
      "\u001b[1;32m<ipython-input-143-383c49a84fa4>\u001b[0m in \u001b[0;36m<module>\u001b[1;34m\u001b[0m\n\u001b[0;32m      1\u001b[0m \u001b[1;31m#objects = gap_df['Year']\u001b[0m\u001b[1;33m\u001b[0m\u001b[1;33m\u001b[0m\u001b[1;33m\u001b[0m\u001b[0m\n\u001b[0;32m      2\u001b[0m \u001b[1;33m\u001b[0m\u001b[0m\n\u001b[1;32m----> 3\u001b[1;33m \u001b[0mplt\u001b[0m\u001b[1;33m.\u001b[0m\u001b[0mscatter\u001b[0m\u001b[1;33m(\u001b[0m\u001b[0mlee\u001b[0m\u001b[1;33m,\u001b[0m \u001b[0myears\u001b[0m\u001b[1;33m,\u001b[0m \u001b[0malign\u001b[0m\u001b[1;33m=\u001b[0m\u001b[1;34m'center'\u001b[0m\u001b[1;33m,\u001b[0m \u001b[0malpha\u001b[0m\u001b[1;33m=\u001b[0m\u001b[1;36m0.5\u001b[0m\u001b[1;33m)\u001b[0m\u001b[1;33m\u001b[0m\u001b[1;33m\u001b[0m\u001b[0m\n\u001b[0m\u001b[0;32m      4\u001b[0m \u001b[0mplt\u001b[0m\u001b[1;33m.\u001b[0m\u001b[0myticks\u001b[0m\u001b[1;33m(\u001b[0m\u001b[0my_pos\u001b[0m\u001b[1;33m,\u001b[0m \u001b[0mobjects\u001b[0m\u001b[1;33m)\u001b[0m\u001b[1;33m\u001b[0m\u001b[1;33m\u001b[0m\u001b[0m\n\u001b[0;32m      5\u001b[0m \u001b[0mplt\u001b[0m\u001b[1;33m.\u001b[0m\u001b[0mxlabel\u001b[0m\u001b[1;33m(\u001b[0m\u001b[1;34m'Usage'\u001b[0m\u001b[1;33m)\u001b[0m\u001b[1;33m\u001b[0m\u001b[1;33m\u001b[0m\u001b[0m\n",
      "\u001b[1;32mc:\\users\\fliqp_000\\appdata\\local\\programs\\python\\python38-32\\lib\\site-packages\\matplotlib\\pyplot.py\u001b[0m in \u001b[0;36mscatter\u001b[1;34m(x, y, s, c, marker, cmap, norm, vmin, vmax, alpha, linewidths, verts, edgecolors, plotnonfinite, data, **kwargs)\u001b[0m\n\u001b[0;32m   2888\u001b[0m         \u001b[0mverts\u001b[0m\u001b[1;33m=\u001b[0m\u001b[0mcbook\u001b[0m\u001b[1;33m.\u001b[0m\u001b[0mdeprecation\u001b[0m\u001b[1;33m.\u001b[0m\u001b[0m_deprecated_parameter\u001b[0m\u001b[1;33m,\u001b[0m\u001b[1;33m\u001b[0m\u001b[1;33m\u001b[0m\u001b[0m\n\u001b[0;32m   2889\u001b[0m         edgecolors=None, *, plotnonfinite=False, data=None, **kwargs):\n\u001b[1;32m-> 2890\u001b[1;33m     __ret = gca().scatter(\n\u001b[0m\u001b[0;32m   2891\u001b[0m         \u001b[0mx\u001b[0m\u001b[1;33m,\u001b[0m \u001b[0my\u001b[0m\u001b[1;33m,\u001b[0m \u001b[0ms\u001b[0m\u001b[1;33m=\u001b[0m\u001b[0ms\u001b[0m\u001b[1;33m,\u001b[0m \u001b[0mc\u001b[0m\u001b[1;33m=\u001b[0m\u001b[0mc\u001b[0m\u001b[1;33m,\u001b[0m \u001b[0mmarker\u001b[0m\u001b[1;33m=\u001b[0m\u001b[0mmarker\u001b[0m\u001b[1;33m,\u001b[0m \u001b[0mcmap\u001b[0m\u001b[1;33m=\u001b[0m\u001b[0mcmap\u001b[0m\u001b[1;33m,\u001b[0m \u001b[0mnorm\u001b[0m\u001b[1;33m=\u001b[0m\u001b[0mnorm\u001b[0m\u001b[1;33m,\u001b[0m\u001b[1;33m\u001b[0m\u001b[1;33m\u001b[0m\u001b[0m\n\u001b[0;32m   2892\u001b[0m         \u001b[0mvmin\u001b[0m\u001b[1;33m=\u001b[0m\u001b[0mvmin\u001b[0m\u001b[1;33m,\u001b[0m \u001b[0mvmax\u001b[0m\u001b[1;33m=\u001b[0m\u001b[0mvmax\u001b[0m\u001b[1;33m,\u001b[0m \u001b[0malpha\u001b[0m\u001b[1;33m=\u001b[0m\u001b[0malpha\u001b[0m\u001b[1;33m,\u001b[0m \u001b[0mlinewidths\u001b[0m\u001b[1;33m=\u001b[0m\u001b[0mlinewidths\u001b[0m\u001b[1;33m,\u001b[0m\u001b[1;33m\u001b[0m\u001b[1;33m\u001b[0m\u001b[0m\n",
      "\u001b[1;32mc:\\users\\fliqp_000\\appdata\\local\\programs\\python\\python38-32\\lib\\site-packages\\matplotlib\\__init__.py\u001b[0m in \u001b[0;36minner\u001b[1;34m(ax, data, *args, **kwargs)\u001b[0m\n\u001b[0;32m   1445\u001b[0m     \u001b[1;32mdef\u001b[0m \u001b[0minner\u001b[0m\u001b[1;33m(\u001b[0m\u001b[0max\u001b[0m\u001b[1;33m,\u001b[0m \u001b[1;33m*\u001b[0m\u001b[0margs\u001b[0m\u001b[1;33m,\u001b[0m \u001b[0mdata\u001b[0m\u001b[1;33m=\u001b[0m\u001b[1;32mNone\u001b[0m\u001b[1;33m,\u001b[0m \u001b[1;33m**\u001b[0m\u001b[0mkwargs\u001b[0m\u001b[1;33m)\u001b[0m\u001b[1;33m:\u001b[0m\u001b[1;33m\u001b[0m\u001b[1;33m\u001b[0m\u001b[0m\n\u001b[0;32m   1446\u001b[0m         \u001b[1;32mif\u001b[0m \u001b[0mdata\u001b[0m \u001b[1;32mis\u001b[0m \u001b[1;32mNone\u001b[0m\u001b[1;33m:\u001b[0m\u001b[1;33m\u001b[0m\u001b[1;33m\u001b[0m\u001b[0m\n\u001b[1;32m-> 1447\u001b[1;33m             \u001b[1;32mreturn\u001b[0m \u001b[0mfunc\u001b[0m\u001b[1;33m(\u001b[0m\u001b[0max\u001b[0m\u001b[1;33m,\u001b[0m \u001b[1;33m*\u001b[0m\u001b[0mmap\u001b[0m\u001b[1;33m(\u001b[0m\u001b[0msanitize_sequence\u001b[0m\u001b[1;33m,\u001b[0m \u001b[0margs\u001b[0m\u001b[1;33m)\u001b[0m\u001b[1;33m,\u001b[0m \u001b[1;33m**\u001b[0m\u001b[0mkwargs\u001b[0m\u001b[1;33m)\u001b[0m\u001b[1;33m\u001b[0m\u001b[1;33m\u001b[0m\u001b[0m\n\u001b[0m\u001b[0;32m   1448\u001b[0m \u001b[1;33m\u001b[0m\u001b[0m\n\u001b[0;32m   1449\u001b[0m         \u001b[0mbound\u001b[0m \u001b[1;33m=\u001b[0m \u001b[0mnew_sig\u001b[0m\u001b[1;33m.\u001b[0m\u001b[0mbind\u001b[0m\u001b[1;33m(\u001b[0m\u001b[0max\u001b[0m\u001b[1;33m,\u001b[0m \u001b[1;33m*\u001b[0m\u001b[0margs\u001b[0m\u001b[1;33m,\u001b[0m \u001b[1;33m**\u001b[0m\u001b[0mkwargs\u001b[0m\u001b[1;33m)\u001b[0m\u001b[1;33m\u001b[0m\u001b[1;33m\u001b[0m\u001b[0m\n",
      "\u001b[1;32mc:\\users\\fliqp_000\\appdata\\local\\programs\\python\\python38-32\\lib\\site-packages\\matplotlib\\cbook\\deprecation.py\u001b[0m in \u001b[0;36mwrapper\u001b[1;34m(*inner_args, **inner_kwargs)\u001b[0m\n\u001b[0;32m    409\u001b[0m                          \u001b[1;32melse\u001b[0m \u001b[0mdeprecation_addendum\u001b[0m\u001b[1;33m,\u001b[0m\u001b[1;33m\u001b[0m\u001b[1;33m\u001b[0m\u001b[0m\n\u001b[0;32m    410\u001b[0m                 **kwargs)\n\u001b[1;32m--> 411\u001b[1;33m         \u001b[1;32mreturn\u001b[0m \u001b[0mfunc\u001b[0m\u001b[1;33m(\u001b[0m\u001b[1;33m*\u001b[0m\u001b[0minner_args\u001b[0m\u001b[1;33m,\u001b[0m \u001b[1;33m**\u001b[0m\u001b[0minner_kwargs\u001b[0m\u001b[1;33m)\u001b[0m\u001b[1;33m\u001b[0m\u001b[1;33m\u001b[0m\u001b[0m\n\u001b[0m\u001b[0;32m    412\u001b[0m \u001b[1;33m\u001b[0m\u001b[0m\n\u001b[0;32m    413\u001b[0m     \u001b[1;32mreturn\u001b[0m \u001b[0mwrapper\u001b[0m\u001b[1;33m\u001b[0m\u001b[1;33m\u001b[0m\u001b[0m\n",
      "\u001b[1;32mc:\\users\\fliqp_000\\appdata\\local\\programs\\python\\python38-32\\lib\\site-packages\\matplotlib\\axes\\_axes.py\u001b[0m in \u001b[0;36mscatter\u001b[1;34m(self, x, y, s, c, marker, cmap, norm, vmin, vmax, alpha, linewidths, verts, edgecolors, plotnonfinite, **kwargs)\u001b[0m\n\u001b[0;32m   4439\u001b[0m         \u001b[0my\u001b[0m \u001b[1;33m=\u001b[0m \u001b[0mnp\u001b[0m\u001b[1;33m.\u001b[0m\u001b[0mma\u001b[0m\u001b[1;33m.\u001b[0m\u001b[0mravel\u001b[0m\u001b[1;33m(\u001b[0m\u001b[0my\u001b[0m\u001b[1;33m)\u001b[0m\u001b[1;33m\u001b[0m\u001b[1;33m\u001b[0m\u001b[0m\n\u001b[0;32m   4440\u001b[0m         \u001b[1;32mif\u001b[0m \u001b[0mx\u001b[0m\u001b[1;33m.\u001b[0m\u001b[0msize\u001b[0m \u001b[1;33m!=\u001b[0m \u001b[0my\u001b[0m\u001b[1;33m.\u001b[0m\u001b[0msize\u001b[0m\u001b[1;33m:\u001b[0m\u001b[1;33m\u001b[0m\u001b[1;33m\u001b[0m\u001b[0m\n\u001b[1;32m-> 4441\u001b[1;33m             \u001b[1;32mraise\u001b[0m \u001b[0mValueError\u001b[0m\u001b[1;33m(\u001b[0m\u001b[1;34m\"x and y must be the same size\"\u001b[0m\u001b[1;33m)\u001b[0m\u001b[1;33m\u001b[0m\u001b[1;33m\u001b[0m\u001b[0m\n\u001b[0m\u001b[0;32m   4442\u001b[0m \u001b[1;33m\u001b[0m\u001b[0m\n\u001b[0;32m   4443\u001b[0m         \u001b[1;32mif\u001b[0m \u001b[0ms\u001b[0m \u001b[1;32mis\u001b[0m \u001b[1;32mNone\u001b[0m\u001b[1;33m:\u001b[0m\u001b[1;33m\u001b[0m\u001b[1;33m\u001b[0m\u001b[0m\n",
      "\u001b[1;31mValueError\u001b[0m: x and y must be the same size"
     ]
    },
    {
     "data": {
      "image/png": "[encoded data removed]",
      "text/plain": [
       "<Figure size 432x288 with 1 Axes>"
      ]
     },
     "metadata": {
      "needs_background": "light"
     },
     "output_type": "display_data"
    }
   ],
   "source": [
    "#objects = gap_df['Year']\n",
    "\n",
    "plt.scatter(lee, years, align='center', alpha=0.5)\n",
    "plt.yticks(y_pos, objects)\n",
    "plt.xlabel('Usage')\n",
    "plt.title('Programming language usage')\n",
    "\n",
    "plt.show()"
   ]
  },
  {
   "cell_type": "markdown",
   "id": "external-congo",
   "metadata": {},
   "source": [
    "# Interactive"
   ]
  },
  {
   "cell_type": "code",
   "execution_count": 139,
   "id": "union-shipping",
   "metadata": {},
   "outputs": [],
   "source": [
    "from __future__ import print_function\n",
    "from ipywidgets import interact, interactive, fixed, interact_manual\n",
    "import ipywidgets as widgets\n",
    "%matplotlib inline\n",
    "import matplotlib.pyplot as plt\n",
    "import numpy as np\n",
    "import cufflinks as cf"
   ]
  },
  {
   "cell_type": "code",
   "execution_count": null,
   "id": "international-mention",
   "metadata": {},
   "outputs": [],
   "source": [
    "def y_selector(x):\n",
    "    return gap_df[gap_df['Year'] == x]"
   ]
  },
  {
   "cell_type": "code",
   "execution_count": null,
   "id": "interested-gallery",
   "metadata": {},
   "outputs": [],
   "source": [
    "def h(p, q):\n",
    "    return (p, q)"
   ]
  },
  {
   "cell_type": "code",
   "execution_count": null,
   "id": "toxic-sterling",
   "metadata": {},
   "outputs": [],
   "source": [
    "gap_df['Year'].value_counts()"
   ]
  },
  {
   "cell_type": "code",
   "execution_count": null,
   "id": "different-massage",
   "metadata": {
    "scrolled": true
   },
   "outputs": [],
   "source": [
    "dat = gap_df['Year'].value_counts()\n",
    "years = dat.index\n",
    "years = years.sort_values()\n",
    "years"
   ]
  },
  {
   "cell_type": "code",
   "execution_count": null,
   "id": "joined-guidance",
   "metadata": {
    "scrolled": true
   },
   "outputs": [],
   "source": [
    "yea = interact(y_selector, x=years);"
   ]
  },
  {
   "cell_type": "code",
   "execution_count": null,
   "id": "limited-position",
   "metadata": {},
   "outputs": [],
   "source": []
  },
  {
   "cell_type": "code",
   "execution_count": null,
   "id": "heavy-latvia",
   "metadata": {},
   "outputs": [],
   "source": []
  },
  {
   "cell_type": "markdown",
   "id": "handmade-terrace",
   "metadata": {},
   "source": [
    "Versions / year\n",
    "top authors / year\n",
    "data per year"
   ]
  },
  {
   "cell_type": "code",
   "execution_count": null,
   "id": "tough-capacity",
   "metadata": {},
   "outputs": [],
   "source": [
    "def get_info(db, food, nutrient):\n",
    "    food_info = db\n",
    "    for word in food.split():\n",
    "        food_info = food_info[food_info['Food'].str.contains(word, case=False)]\n",
    "    nutritional_info = food_info[food_info['Nutrient'] == nutrient]\n",
    "    return nutritional_info\n",
    "\n",
    "interact(lambda food, nutrient: get_info(db, food, nutrient),\n",
    "        food='',\n",
    "        nutrient=list(db['Nutrient'].unique()))"
   ]
  },
  {
   "cell_type": "code",
   "execution_count": 140,
   "id": "actual-holocaust",
   "metadata": {},
   "outputs": [
    {
     "data": {
      "application/vnd.jupyter.widget-view+json": {
       "model_id": "e22f7c4fd66d4f9aa5c7fbdeb3be17d4",
       "version_major": 2,
       "version_minor": 0
      },
      "text/plain": [
       "interactive(children=(Text(value='', description='author'), Dropdown(description='citation', options=('The GAP…"
      ]
     },
     "metadata": {},
     "output_type": "display_data"
    },
    {
     "data": {
      "text/plain": [
       "<function __main__.<lambda>(author, citation)>"
      ]
     },
     "execution_count": 140,
     "metadata": {},
     "output_type": "execute_result"
    }
   ],
   "source": [
    "def get_info(db, author, citation):\n",
    "    auth_info = db\n",
    "    for word in author.split():\n",
    "        auth_info = auth_info[auth_info['Author'].str.contains(word, case=False)]\n",
    "    cit_info = auth_info[auth_info['Citation'] == citation]\n",
    "    return cit_info\n",
    "\n",
    "interact(lambda author, citation: get_info(gap_df, author, citation),\n",
    "        author = '',\n",
    "        citation = list(gap_df['Citation'].unique()))"
   ]
  },
  {
   "cell_type": "code",
   "execution_count": 141,
   "id": "consistent-joining",
   "metadata": {},
   "outputs": [
    {
     "data": {
      "application/vnd.jupyter.widget-view+json": {
       "model_id": "cb2ab8406a1c4a20af52adb23c877794",
       "version_major": 2,
       "version_minor": 0
      },
      "text/plain": [
       "FloatSlider(value=1993.0, description='Year', max=2021.0, min=1993.0, step=1.0)"
      ]
     },
     "metadata": {},
     "output_type": "display_data"
    }
   ],
   "source": [
    "yea = widgets.FloatSlider(min=min(gap_df['Year']), max=max(gap_df['Year']), step=1, description='Year')\n",
    "display(yea)"
   ]
  },
  {
   "cell_type": "code",
   "execution_count": null,
   "id": "packed-processor",
   "metadata": {},
   "outputs": [],
   "source": [
    "import ipywidgets as widgets\n",
    "from IPython.display import display\n",
    "import matplotlib.pyplot as plt\n",
    "import numpy as np\n",
    "\n",
    "\n",
    "%matplotlib nbagg\n",
    "\n",
    "x = np.linspace(0, 2, 1000)\n",
    "fig, ax = plt.subplots(1, figsize=(10, 4))\n",
    "plt.suptitle('Sine Wave')\n",
    "\n",
    "\n",
    "def update_plot(amp, phase, freq):\n",
    "    \n",
    "    ax.clear()\n",
    "    y = amp * np.sin(freq * 2 * np.pi * x + phase * 2 * np.pi)\n",
    "    units = 'amp = {} $(psi)$ \\nphase = {} $(s)$ \\nfreq = {} $(Hz)$'\n",
    "    \n",
    "    ax.plot(x, y, label=units.format(amp, phase, freq))\n",
    "    ax.set_xlim(x[0], x[-1])\n",
    "    ax.legend(loc=1)\n",
    "    ax.set_xlabel('$(s)$')\n",
    "    plt.show()\n",
    "\n",
    "\n",
    "amp = widgets.FloatSlider(min=1, max=10, value=1, description='Amp:')\n",
    "phase = widgets.FloatSlider(min=0, max=5, value=0, description='Phase:')\n",
    "freq = widgets.FloatSlider(min=1, max=10, value=1, description='Freq:')\n",
    "    \n",
    "widgets.interactive(update_plot, amp=amp, phase=phase, freq=freq)"
   ]
  },
  {
   "cell_type": "code",
   "execution_count": null,
   "id": "advised-buffer",
   "metadata": {},
   "outputs": [],
   "source": []
  }
 ],
 "metadata": {
  "kernelspec": {
   "display_name": "Python 3",
   "language": "python",
   "name": "python3"
  },
  "language_info": {
   "codemirror_mode": {
    "name": "ipython",
    "version": 3
   },
   "file_extension": ".py",
   "mimetype": "text/x-python",
   "name": "python",
   "nbconvert_exporter": "python",
   "pygments_lexer": "ipython3",
   "version": "3.8.5"
  }
 },
 "nbformat": 4,
 "nbformat_minor": 5
}
