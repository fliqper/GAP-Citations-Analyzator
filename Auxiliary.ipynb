{
 "cells": [
  {
   "cell_type": "code",
   "execution_count": 1,
   "id": "capital-prediction",
   "metadata": {},
   "outputs": [],
   "source": [
    "from bs4 import BeautifulSoup\n",
    "import requests\n",
    "import re\n",
    "import pandas as pd\n",
    "import itertools"
   ]
  },
  {
   "cell_type": "code",
   "execution_count": 2,
   "id": "typical-probe",
   "metadata": {},
   "outputs": [],
   "source": [
    "MATCH_ALL = r'.*'\n",
    "\n",
    "\n",
    "def like(string):\n",
    "    \"\"\"\n",
    "    Return a compiled regular expression that matches the given\n",
    "    string with any prefix and postfix, e.g. if string = \"hello\",\n",
    "    the returned regex matches r\".*hello.*\"\n",
    "    \"\"\"\n",
    "    string_ = string\n",
    "    if not isinstance(string_, str):\n",
    "        string_ = str(string_)\n",
    "    regex = MATCH_ALL + re.escape(string_) + MATCH_ALL\n",
    "    return re.compile(regex, flags=re.DOTALL)\n",
    "\n",
    "\n",
    "def find_by_text(soup, text, tag, **kwargs):\n",
    "    \"\"\"\n",
    "    Find the tag in soup that matches all provided kwargs, and contains the\n",
    "    text.\n",
    "\n",
    "    If no match is found, raise ValueError.\n",
    "    \"\"\"\n",
    "    for i in range(len(url_list)):\n",
    "        matching_mrn = mrn[i]\n",
    "    \n",
    "    elements = soup.find_all(tag, **kwargs)\n",
    "    matches = []\n",
    "    for element in elements:\n",
    "        if element.find(text=like(text)):\n",
    "            full = (matching_mrn + element.text)\n",
    "            matches.append(full)\n",
    "    if len(matches) == 0:\n",
    "        raise ValueError(\"No matching citations were found\")\n",
    "    else:\n",
    "        return matches"
   ]
  },
  {
   "cell_type": "code",
   "execution_count": 3,
   "id": "double-buyer",
   "metadata": {
    "scrolled": false
   },
   "outputs": [
    {
     "name": "stdout",
     "output_type": "stream",
     "text": [
      "['https://sis1.host.cs.st-andrews.ac.uk/GAP/MR4044696.html', 'https://sis1.host.cs.st-andrews.ac.uk/GAP/MR2900886.html', 'https://sis1.host.cs.st-andrews.ac.uk/GAP/MR3169623.html', 'https://sis1.host.cs.st-andrews.ac.uk/GAP/MR4180136.html']\n"
     ]
    }
   ],
   "source": [
    "base_URL = \"https://sis1.host.cs.st-andrews.ac.uk/GAP/\"\n",
    "mrn = [\"MR4044696\", \"MR2900886\", \"MR3169623\", \"MR4180136\"]\n",
    "url_list = []\n",
    "\n",
    "for i in range(len(mrn)):\n",
    "    url = (base_URL + mrn[i] + '.html')\n",
    "    url_list.append(url)\n",
    "    \n",
    "print(url_list)\n",
    "\n",
    "all_content = []\n",
    "all_matches = []"
   ]
  },
  {
   "cell_type": "code",
   "execution_count": 33,
   "id": "contrary-recall",
   "metadata": {},
   "outputs": [
    {
     "name": "stdout",
     "output_type": "stream",
     "text": [
      "MR4044696\n",
      "MR2900886\n",
      "MR3169623\n",
      "MR4180136\n"
     ]
    }
   ],
   "source": [
    "for i in range(len(url_list)):\n",
    "    matching_mrn = mrn[i]\n",
    "    print(matching_mrn)"
   ]
  },
  {
   "cell_type": "code",
   "execution_count": 13,
   "id": "ambient-crown",
   "metadata": {},
   "outputs": [
    {
     "name": "stdout",
     "output_type": "stream",
     "text": [
      "<class 'str'>\n"
     ]
    }
   ],
   "source": [
    "print(type(matching_mrn))"
   ]
  },
  {
   "cell_type": "code",
   "execution_count": 14,
   "id": "recent-modification",
   "metadata": {},
   "outputs": [
    {
     "data": {
      "text/plain": [
       "'MR4180136'"
      ]
     },
     "execution_count": 14,
     "metadata": {},
     "output_type": "execute_result"
    }
   ],
   "source": [
    "mrn[i]"
   ]
  },
  {
   "cell_type": "code",
   "execution_count": 15,
   "id": "specified-potter",
   "metadata": {},
   "outputs": [
    {
     "data": {
      "text/plain": [
       "'MR2900886'"
      ]
     },
     "execution_count": 15,
     "metadata": {},
     "output_type": "execute_result"
    }
   ],
   "source": [
    "url_list[1][42:51]"
   ]
  },
  {
   "cell_type": "code",
   "execution_count": 16,
   "id": "handmade-transformation",
   "metadata": {},
   "outputs": [
    {
     "name": "stdout",
     "output_type": "stream",
     "text": [
      "<class 'str'>\n"
     ]
    }
   ],
   "source": [
    "print(type(url[42:51]))"
   ]
  },
  {
   "cell_type": "code",
   "execution_count": 6,
   "id": "focused-industry",
   "metadata": {
    "jupyter": {
     "outputs_hidden": true
    },
    "scrolled": false
   },
   "outputs": [
    {
     "name": "stdout",
     "output_type": "stream",
     "text": [
      "[['MR4180136\\n  The GAP Group, GAP – groups, algorithms and programming, version 4.10, Available from http://www.gap-system.org, 2018. \\n\\n'], ['MR4180136\\n  The GAP Group, $GAP$ groups, algorithms, and programming, version 4.4.12 (2008), http://www.gap-system.org. \\n\\n'], ['MR4180136\\n  Distler, A., Mitchell, J. D. (2011). Smallsemi - A Library of Small Semigroups. http://tinyurl.com/jdmitchell/smallsemi/, Oct A GAP 4 package [5], Version 0.6.4. \\n\\n', 'MR4180136\\n  The GAP Group, (2008). (http://www.gap-system.org). GAP–Groups, Algorithms, and Programming, Version 4.4.12.\\n'], ['MR4180136\\n  The GAP Group, 2019. GAP – Groups, Algorithms, and Programming, Version 4.10.1; https://www.gap-system.org. \\n\\n'], ['MR4180136\\n  The GAP Group, GAP – groups, algorithms and programming, version 4.10, Available from http://www.gap-system.org, 2018. \\n\\n'], ['MR4180136\\n  The GAP Group, $GAP$ groups, algorithms, and programming, version 4.4.12 (2008), http://www.gap-system.org. \\n\\n'], ['MR4180136\\n  Distler, A., Mitchell, J. D. (2011). Smallsemi - A Library of Small Semigroups. http://tinyurl.com/jdmitchell/smallsemi/, Oct A GAP 4 package [5], Version 0.6.4. \\n\\n', 'MR4180136\\n  The GAP Group, (2008). (http://www.gap-system.org). GAP–Groups, Algorithms, and Programming, Version 4.4.12.\\n'], ['MR4180136\\n  The GAP Group, 2019. GAP – Groups, Algorithms, and Programming, Version 4.10.1; https://www.gap-system.org. \\n\\n'], ['MR4180136\\n  The GAP Group, GAP – groups, algorithms and programming, version 4.10, Available from http://www.gap-system.org, 2018. \\n\\n'], ['MR4180136\\n  The GAP Group, $GAP$ groups, algorithms, and programming, version 4.4.12 (2008), http://www.gap-system.org. \\n\\n'], ['MR4180136\\n  Distler, A., Mitchell, J. D. (2011). Smallsemi - A Library of Small Semigroups. http://tinyurl.com/jdmitchell/smallsemi/, Oct A GAP 4 package [5], Version 0.6.4. \\n\\n', 'MR4180136\\n  The GAP Group, (2008). (http://www.gap-system.org). GAP–Groups, Algorithms, and Programming, Version 4.4.12.\\n'], ['MR4180136\\n  The GAP Group, 2019. GAP – Groups, Algorithms, and Programming, Version 4.10.1; https://www.gap-system.org. \\n\\n']]\n"
     ]
    }
   ],
   "source": [
    "for url in url_list:\n",
    "    page = requests.get(url)\n",
    "    soup = BeautifulSoup(page.content, 'html.parser')\n",
    "    match = (find_by_text(soup, 'GAP', 'li'))\n",
    "    all_matches.append(match)\n",
    "print(all_matches)"
   ]
  },
  {
   "cell_type": "code",
   "execution_count": 14,
   "id": "express-values",
   "metadata": {
    "scrolled": true
   },
   "outputs": [
    {
     "name": "stdout",
     "output_type": "stream",
     "text": [
      "<class 'list'>\n",
      "<class 'list'>\n",
      "<class 'bs4.element.Tag'>\n",
      "Results count is: 4\n",
      "[<li>\n",
      "  Distler, A., Mitchell, J. D. (2011). <span class=\"it\">Smallsemi - A Library of Small Semigroups.</span> http://tinyurl.com/jdmitchell/smallsemi/, Oct A GAP 4 package [5], Version 0.6.4. \n",
      "\n",
      "</li>, <li>\n",
      "  The GAP Group, (2008). (http://www.gap-system.org). <span class=\"it\">GAP–Groups, Algorithms, and Programming, Version 4.4.12.</span>\n",
      "</li>]\n"
     ]
    }
   ],
   "source": [
    "print(type(match))\n",
    "print(type(all_matches))\n",
    "print(type(match[0]))\n",
    "print('Results count is:', len(all_matches))\n",
    "print(all_matches[2])"
   ]
  },
  {
   "cell_type": "code",
   "execution_count": 24,
   "id": "decent-noise",
   "metadata": {},
   "outputs": [
    {
     "name": "stdout",
     "output_type": "stream",
     "text": [
      "['MR4180136\\n  The GAP Group, GAP – groups, algorithms and programming, version 4.10, Available from http://www.gap-system.org, 2018. \\n\\n', 'MR4180136\\n  The GAP Group, $GAP$ groups, algorithms, and programming, version 4.4.12 (2008), http://www.gap-system.org. \\n\\n', 'MR4180136\\n  Distler, A., Mitchell, J. D. (2011). Smallsemi - A Library of Small Semigroups. http://tinyurl.com/jdmitchell/smallsemi/, Oct A GAP 4 package [5], Version 0.6.4. \\n\\n', 'MR4180136\\n  The GAP Group, (2008). (http://www.gap-system.org). GAP–Groups, Algorithms, and Programming, Version 4.4.12.\\n', 'MR4180136\\n  The GAP Group, 2019. GAP – Groups, Algorithms, and Programming, Version 4.10.1; https://www.gap-system.org. \\n\\n']\n"
     ]
    }
   ],
   "source": [
    "joined = list(itertools.chain(*all_matches))\n",
    "\n",
    "print(joined)"
   ]
  },
  {
   "cell_type": "code",
   "execution_count": 8,
   "id": "involved-quick",
   "metadata": {
    "scrolled": false
   },
   "outputs": [
    {
     "ename": "NameError",
     "evalue": "name 'joined' is not defined",
     "output_type": "error",
     "traceback": [
      "\u001b[1;31m---------------------------------------------------------------------------\u001b[0m",
      "\u001b[1;31mNameError\u001b[0m                                 Traceback (most recent call last)",
      "\u001b[1;32m<ipython-input-8-21dc5f7f9ecf>\u001b[0m in \u001b[0;36m<module>\u001b[1;34m\u001b[0m\n\u001b[1;32m----> 1\u001b[1;33m \u001b[0mprint\u001b[0m\u001b[1;33m(\u001b[0m\u001b[0mjoined\u001b[0m\u001b[1;33m[\u001b[0m\u001b[1;36m1\u001b[0m\u001b[1;33m]\u001b[0m\u001b[1;33m)\u001b[0m\u001b[1;33m\u001b[0m\u001b[1;33m\u001b[0m\u001b[0m\n\u001b[0m\u001b[0;32m      2\u001b[0m \u001b[0mprint\u001b[0m\u001b[1;33m(\u001b[0m\u001b[0mjoined\u001b[0m\u001b[1;33m[\u001b[0m\u001b[1;36m3\u001b[0m\u001b[1;33m]\u001b[0m\u001b[1;33m.\u001b[0m\u001b[0mtext\u001b[0m\u001b[1;33m)\u001b[0m\u001b[1;33m\u001b[0m\u001b[1;33m\u001b[0m\u001b[0m\n\u001b[0;32m      3\u001b[0m \u001b[0mprint\u001b[0m\u001b[1;33m(\u001b[0m\u001b[0mtype\u001b[0m\u001b[1;33m(\u001b[0m\u001b[0mjoined\u001b[0m\u001b[1;33m)\u001b[0m\u001b[1;33m)\u001b[0m\u001b[1;33m\u001b[0m\u001b[1;33m\u001b[0m\u001b[0m\n\u001b[0;32m      4\u001b[0m \u001b[0mprint\u001b[0m\u001b[1;33m(\u001b[0m\u001b[0mtype\u001b[0m\u001b[1;33m(\u001b[0m\u001b[0mjoined\u001b[0m\u001b[1;33m[\u001b[0m\u001b[1;36m1\u001b[0m\u001b[1;33m]\u001b[0m\u001b[1;33m)\u001b[0m\u001b[1;33m)\u001b[0m\u001b[1;33m\u001b[0m\u001b[1;33m\u001b[0m\u001b[0m\n\u001b[0;32m      5\u001b[0m \u001b[0mprint\u001b[0m\u001b[1;33m(\u001b[0m\u001b[0mlen\u001b[0m\u001b[1;33m(\u001b[0m\u001b[0mjoined\u001b[0m\u001b[1;33m)\u001b[0m\u001b[1;33m)\u001b[0m\u001b[1;33m\u001b[0m\u001b[1;33m\u001b[0m\u001b[0m\n",
      "\u001b[1;31mNameError\u001b[0m: name 'joined' is not defined"
     ]
    }
   ],
   "source": [
    "print(joined[1])\n",
    "print(joined[3].text)\n",
    "print(type(joined))\n",
    "print(type(joined[1]))\n",
    "print(len(joined))"
   ]
  },
  {
   "cell_type": "code",
   "execution_count": 28,
   "id": "public-invitation",
   "metadata": {},
   "outputs": [
    {
     "name": "stdout",
     "output_type": "stream",
     "text": [
      "<class 'list'>\n",
      "<class 'str'>\n",
      "5\n"
     ]
    }
   ],
   "source": [
    "print(type(joined))\n",
    "print(type(joined[1]))\n",
    "print(len(joined))"
   ]
  },
  {
   "cell_type": "code",
   "execution_count": 26,
   "id": "finished-topic",
   "metadata": {
    "scrolled": false
   },
   "outputs": [
    {
     "ename": "AttributeError",
     "evalue": "'str' object has no attribute 'text'",
     "output_type": "error",
     "traceback": [
      "\u001b[1;31m---------------------------------------------------------------------------\u001b[0m",
      "\u001b[1;31mAttributeError\u001b[0m                            Traceback (most recent call last)",
      "\u001b[1;32m<ipython-input-26-2d84d90f55ff>\u001b[0m in \u001b[0;36m<module>\u001b[1;34m\u001b[0m\n\u001b[0;32m      1\u001b[0m \u001b[0mfinal\u001b[0m \u001b[1;33m=\u001b[0m \u001b[1;33m[\u001b[0m\u001b[1;33m]\u001b[0m\u001b[1;33m\u001b[0m\u001b[1;33m\u001b[0m\u001b[0m\n\u001b[0;32m      2\u001b[0m \u001b[1;32mfor\u001b[0m \u001b[0mi\u001b[0m \u001b[1;32min\u001b[0m \u001b[0mrange\u001b[0m\u001b[1;33m(\u001b[0m\u001b[0mlen\u001b[0m\u001b[1;33m(\u001b[0m\u001b[0mjoined\u001b[0m\u001b[1;33m)\u001b[0m\u001b[1;33m)\u001b[0m\u001b[1;33m:\u001b[0m\u001b[1;33m\u001b[0m\u001b[1;33m\u001b[0m\u001b[0m\n\u001b[1;32m----> 3\u001b[1;33m     \u001b[0mclean\u001b[0m \u001b[1;33m=\u001b[0m \u001b[1;33m(\u001b[0m\u001b[0mjoined\u001b[0m\u001b[1;33m[\u001b[0m\u001b[0mi\u001b[0m\u001b[1;33m]\u001b[0m\u001b[1;33m.\u001b[0m\u001b[0mtext\u001b[0m\u001b[1;33m.\u001b[0m\u001b[0mstrip\u001b[0m\u001b[1;33m(\u001b[0m\u001b[1;33m)\u001b[0m\u001b[1;33m)\u001b[0m\u001b[1;33m\u001b[0m\u001b[1;33m\u001b[0m\u001b[0m\n\u001b[0m\u001b[0;32m      4\u001b[0m     \u001b[0mfinal\u001b[0m\u001b[1;33m.\u001b[0m\u001b[0mappend\u001b[0m\u001b[1;33m(\u001b[0m\u001b[0mclean\u001b[0m\u001b[1;33m)\u001b[0m\u001b[1;33m\u001b[0m\u001b[1;33m\u001b[0m\u001b[0m\n\u001b[0;32m      5\u001b[0m \u001b[0mfinal\u001b[0m\u001b[1;33m\u001b[0m\u001b[1;33m\u001b[0m\u001b[0m\n",
      "\u001b[1;31mAttributeError\u001b[0m: 'str' object has no attribute 'text'"
     ]
    }
   ],
   "source": [
    "final = []\n",
    "for i in range(len(joined)):\n",
    "    clean = (joined[i].text.strip())\n",
    "    final.append(clean)\n",
    "final"
   ]
  },
  {
   "cell_type": "markdown",
   "id": "painted-samba",
   "metadata": {},
   "source": [
    "### Converting our data to Pandas dataframe for further analysis"
   ]
  },
  {
   "cell_type": "code",
   "execution_count": 15,
   "id": "beginning-observation",
   "metadata": {},
   "outputs": [],
   "source": [
    "df = pd.DataFrame(final)"
   ]
  },
  {
   "cell_type": "code",
   "execution_count": 16,
   "id": "optical-budapest",
   "metadata": {},
   "outputs": [
    {
     "data": {
      "text/plain": [
       "0    The GAP Group, $GAP$ groups, algorithms, and p...\n",
       "Name: 1, dtype: object"
      ]
     },
     "metadata": {},
     "output_type": "display_data"
    }
   ],
   "source": [
    "display(df.iloc[1])"
   ]
  },
  {
   "cell_type": "code",
   "execution_count": 17,
   "id": "abstract-inspection",
   "metadata": {
    "scrolled": true
   },
   "outputs": [
    {
     "data": {
      "text/html": [
       "<div>\n",
       "<style scoped>\n",
       "    .dataframe tbody tr th:only-of-type {\n",
       "        vertical-align: middle;\n",
       "    }\n",
       "\n",
       "    .dataframe tbody tr th {\n",
       "        vertical-align: top;\n",
       "    }\n",
       "\n",
       "    .dataframe thead th {\n",
       "        text-align: right;\n",
       "    }\n",
       "</style>\n",
       "<table border=\"1\" class=\"dataframe\">\n",
       "  <thead>\n",
       "    <tr style=\"text-align: right;\">\n",
       "      <th></th>\n",
       "      <th>0</th>\n",
       "    </tr>\n",
       "  </thead>\n",
       "  <tbody>\n",
       "    <tr>\n",
       "      <th>0</th>\n",
       "      <td>The GAP Group, GAP – groups, algorithms and pr...</td>\n",
       "    </tr>\n",
       "    <tr>\n",
       "      <th>1</th>\n",
       "      <td>The GAP Group, $GAP$ groups, algorithms, and p...</td>\n",
       "    </tr>\n",
       "    <tr>\n",
       "      <th>2</th>\n",
       "      <td>Distler, A., Mitchell, J. D. (2011). Smallsemi...</td>\n",
       "    </tr>\n",
       "    <tr>\n",
       "      <th>3</th>\n",
       "      <td>The GAP Group, (2008). (http://www.gap-system....</td>\n",
       "    </tr>\n",
       "    <tr>\n",
       "      <th>4</th>\n",
       "      <td>The GAP Group, 2019. GAP – Groups, Algorithms,...</td>\n",
       "    </tr>\n",
       "  </tbody>\n",
       "</table>\n",
       "</div>"
      ],
      "text/plain": [
       "                                                   0\n",
       "0  The GAP Group, GAP – groups, algorithms and pr...\n",
       "1  The GAP Group, $GAP$ groups, algorithms, and p...\n",
       "2  Distler, A., Mitchell, J. D. (2011). Smallsemi...\n",
       "3  The GAP Group, (2008). (http://www.gap-system....\n",
       "4  The GAP Group, 2019. GAP – Groups, Algorithms,..."
      ]
     },
     "execution_count": 17,
     "metadata": {},
     "output_type": "execute_result"
    }
   ],
   "source": [
    "df"
   ]
  },
  {
   "cell_type": "code",
   "execution_count": null,
   "id": "aboriginal-outreach",
   "metadata": {},
   "outputs": [],
   "source": []
  },
  {
   "cell_type": "code",
   "execution_count": null,
   "id": "increasing-target",
   "metadata": {},
   "outputs": [],
   "source": []
  },
  {
   "cell_type": "code",
   "execution_count": null,
   "id": "international-norway",
   "metadata": {},
   "outputs": [],
   "source": []
  },
  {
   "cell_type": "code",
   "execution_count": null,
   "id": "polish-macro",
   "metadata": {},
   "outputs": [],
   "source": []
  },
  {
   "cell_type": "code",
   "execution_count": null,
   "id": "expanded-robinson",
   "metadata": {},
   "outputs": [],
   "source": []
  },
  {
   "cell_type": "code",
   "execution_count": null,
   "id": "bibliographic-booth",
   "metadata": {},
   "outputs": [],
   "source": []
  },
  {
   "cell_type": "code",
   "execution_count": 9,
   "id": "fifteen-warning",
   "metadata": {
    "collapsed": true,
    "jupyter": {
     "outputs_hidden": true
    }
   },
   "outputs": [
    {
     "ename": "ExpatError",
     "evalue": "not well-formed (invalid token): line 9, column 50",
     "output_type": "error",
     "traceback": [
      "\u001b[1;31m---------------------------------------------------------------------------\u001b[0m",
      "\u001b[1;31mExpatError\u001b[0m                                Traceback (most recent call last)",
      "\u001b[1;32m<ipython-input-9-8977d3d2f38d>\u001b[0m in \u001b[0;36m<module>\u001b[1;34m\u001b[0m\n\u001b[0;32m      1\u001b[0m \u001b[1;32mfrom\u001b[0m \u001b[0mxml\u001b[0m\u001b[1;33m.\u001b[0m\u001b[0mdom\u001b[0m \u001b[1;32mimport\u001b[0m \u001b[0mminidom\u001b[0m\u001b[1;33m\u001b[0m\u001b[1;33m\u001b[0m\u001b[0m\n\u001b[1;32m----> 2\u001b[1;33m \u001b[0mxmldoc\u001b[0m \u001b[1;33m=\u001b[0m \u001b[0mminidom\u001b[0m\u001b[1;33m.\u001b[0m\u001b[0mparse\u001b[0m\u001b[1;33m(\u001b[0m\u001b[1;34m\"MR4044696.html\"\u001b[0m\u001b[1;33m,\u001b[0m\u001b[1;33m)\u001b[0m\u001b[1;33m\u001b[0m\u001b[1;33m\u001b[0m\u001b[0m\n\u001b[0m\u001b[0;32m      3\u001b[0m \u001b[0mitemlist\u001b[0m \u001b[1;33m=\u001b[0m \u001b[0mxmldoc\u001b[0m\u001b[1;33m.\u001b[0m\u001b[0mgetElementsByTagName\u001b[0m\u001b[1;33m(\u001b[0m\u001b[1;34m'li'\u001b[0m\u001b[1;33m)\u001b[0m\u001b[1;33m\u001b[0m\u001b[1;33m\u001b[0m\u001b[0m\n\u001b[0;32m      4\u001b[0m \u001b[0mprint\u001b[0m\u001b[1;33m(\u001b[0m\u001b[0mlen\u001b[0m\u001b[1;33m(\u001b[0m\u001b[0mitemlist\u001b[0m\u001b[1;33m)\u001b[0m\u001b[1;33m)\u001b[0m\u001b[1;33m\u001b[0m\u001b[1;33m\u001b[0m\u001b[0m\n\u001b[0;32m      5\u001b[0m \u001b[1;32mfor\u001b[0m \u001b[0ms\u001b[0m \u001b[1;32min\u001b[0m \u001b[0mitemlist\u001b[0m\u001b[1;33m:\u001b[0m\u001b[1;33m\u001b[0m\u001b[1;33m\u001b[0m\u001b[0m\n",
      "\u001b[1;32mc:\\users\\fliqp_000\\appdata\\local\\programs\\python\\python38-32\\lib\\xml\\dom\\minidom.py\u001b[0m in \u001b[0;36mparse\u001b[1;34m(file, parser, bufsize)\u001b[0m\n\u001b[0;32m   1957\u001b[0m     \u001b[1;32mif\u001b[0m \u001b[0mparser\u001b[0m \u001b[1;32mis\u001b[0m \u001b[1;32mNone\u001b[0m \u001b[1;32mand\u001b[0m \u001b[1;32mnot\u001b[0m \u001b[0mbufsize\u001b[0m\u001b[1;33m:\u001b[0m\u001b[1;33m\u001b[0m\u001b[1;33m\u001b[0m\u001b[0m\n\u001b[0;32m   1958\u001b[0m         \u001b[1;32mfrom\u001b[0m \u001b[0mxml\u001b[0m\u001b[1;33m.\u001b[0m\u001b[0mdom\u001b[0m \u001b[1;32mimport\u001b[0m \u001b[0mexpatbuilder\u001b[0m\u001b[1;33m\u001b[0m\u001b[1;33m\u001b[0m\u001b[0m\n\u001b[1;32m-> 1959\u001b[1;33m         \u001b[1;32mreturn\u001b[0m \u001b[0mexpatbuilder\u001b[0m\u001b[1;33m.\u001b[0m\u001b[0mparse\u001b[0m\u001b[1;33m(\u001b[0m\u001b[0mfile\u001b[0m\u001b[1;33m)\u001b[0m\u001b[1;33m\u001b[0m\u001b[1;33m\u001b[0m\u001b[0m\n\u001b[0m\u001b[0;32m   1960\u001b[0m     \u001b[1;32melse\u001b[0m\u001b[1;33m:\u001b[0m\u001b[1;33m\u001b[0m\u001b[1;33m\u001b[0m\u001b[0m\n\u001b[0;32m   1961\u001b[0m         \u001b[1;32mfrom\u001b[0m \u001b[0mxml\u001b[0m\u001b[1;33m.\u001b[0m\u001b[0mdom\u001b[0m \u001b[1;32mimport\u001b[0m \u001b[0mpulldom\u001b[0m\u001b[1;33m\u001b[0m\u001b[1;33m\u001b[0m\u001b[0m\n",
      "\u001b[1;32mc:\\users\\fliqp_000\\appdata\\local\\programs\\python\\python38-32\\lib\\xml\\dom\\expatbuilder.py\u001b[0m in \u001b[0;36mparse\u001b[1;34m(file, namespaces)\u001b[0m\n\u001b[0;32m    909\u001b[0m     \u001b[1;32mif\u001b[0m \u001b[0misinstance\u001b[0m\u001b[1;33m(\u001b[0m\u001b[0mfile\u001b[0m\u001b[1;33m,\u001b[0m \u001b[0mstr\u001b[0m\u001b[1;33m)\u001b[0m\u001b[1;33m:\u001b[0m\u001b[1;33m\u001b[0m\u001b[1;33m\u001b[0m\u001b[0m\n\u001b[0;32m    910\u001b[0m         \u001b[1;32mwith\u001b[0m \u001b[0mopen\u001b[0m\u001b[1;33m(\u001b[0m\u001b[0mfile\u001b[0m\u001b[1;33m,\u001b[0m \u001b[1;34m'rb'\u001b[0m\u001b[1;33m)\u001b[0m \u001b[1;32mas\u001b[0m \u001b[0mfp\u001b[0m\u001b[1;33m:\u001b[0m\u001b[1;33m\u001b[0m\u001b[1;33m\u001b[0m\u001b[0m\n\u001b[1;32m--> 911\u001b[1;33m             \u001b[0mresult\u001b[0m \u001b[1;33m=\u001b[0m \u001b[0mbuilder\u001b[0m\u001b[1;33m.\u001b[0m\u001b[0mparseFile\u001b[0m\u001b[1;33m(\u001b[0m\u001b[0mfp\u001b[0m\u001b[1;33m)\u001b[0m\u001b[1;33m\u001b[0m\u001b[1;33m\u001b[0m\u001b[0m\n\u001b[0m\u001b[0;32m    912\u001b[0m     \u001b[1;32melse\u001b[0m\u001b[1;33m:\u001b[0m\u001b[1;33m\u001b[0m\u001b[1;33m\u001b[0m\u001b[0m\n\u001b[0;32m    913\u001b[0m         \u001b[0mresult\u001b[0m \u001b[1;33m=\u001b[0m \u001b[0mbuilder\u001b[0m\u001b[1;33m.\u001b[0m\u001b[0mparseFile\u001b[0m\u001b[1;33m(\u001b[0m\u001b[0mfile\u001b[0m\u001b[1;33m)\u001b[0m\u001b[1;33m\u001b[0m\u001b[1;33m\u001b[0m\u001b[0m\n",
      "\u001b[1;32mc:\\users\\fliqp_000\\appdata\\local\\programs\\python\\python38-32\\lib\\xml\\dom\\expatbuilder.py\u001b[0m in \u001b[0;36mparseFile\u001b[1;34m(self, file)\u001b[0m\n\u001b[0;32m    205\u001b[0m                 \u001b[1;32mif\u001b[0m \u001b[1;32mnot\u001b[0m \u001b[0mbuffer\u001b[0m\u001b[1;33m:\u001b[0m\u001b[1;33m\u001b[0m\u001b[1;33m\u001b[0m\u001b[0m\n\u001b[0;32m    206\u001b[0m                     \u001b[1;32mbreak\u001b[0m\u001b[1;33m\u001b[0m\u001b[1;33m\u001b[0m\u001b[0m\n\u001b[1;32m--> 207\u001b[1;33m                 \u001b[0mparser\u001b[0m\u001b[1;33m.\u001b[0m\u001b[0mParse\u001b[0m\u001b[1;33m(\u001b[0m\u001b[0mbuffer\u001b[0m\u001b[1;33m,\u001b[0m \u001b[1;36m0\u001b[0m\u001b[1;33m)\u001b[0m\u001b[1;33m\u001b[0m\u001b[1;33m\u001b[0m\u001b[0m\n\u001b[0m\u001b[0;32m    208\u001b[0m                 \u001b[1;32mif\u001b[0m \u001b[0mfirst_buffer\u001b[0m \u001b[1;32mand\u001b[0m \u001b[0mself\u001b[0m\u001b[1;33m.\u001b[0m\u001b[0mdocument\u001b[0m\u001b[1;33m.\u001b[0m\u001b[0mdocumentElement\u001b[0m\u001b[1;33m:\u001b[0m\u001b[1;33m\u001b[0m\u001b[1;33m\u001b[0m\u001b[0m\n\u001b[0;32m    209\u001b[0m                     \u001b[0mself\u001b[0m\u001b[1;33m.\u001b[0m\u001b[0m_setup_subset\u001b[0m\u001b[1;33m(\u001b[0m\u001b[0mbuffer\u001b[0m\u001b[1;33m)\u001b[0m\u001b[1;33m\u001b[0m\u001b[1;33m\u001b[0m\u001b[0m\n",
      "\u001b[1;31mExpatError\u001b[0m: not well-formed (invalid token): line 9, column 50"
     ]
    }
   ],
   "source": [
    "from xml.dom import minidom\n",
    "xmldoc = minidom.parse(\"MR4044696.html\",)\n",
    "itemlist = xmldoc.getElementsByTagName('li')\n",
    "print(len(itemlist))\n",
    "for s in itemlist:\n",
    "    print(s.attributes['li'].value)"
   ]
  },
  {
   "cell_type": "markdown",
   "id": "fallen-enhancement",
   "metadata": {},
   "source": [
    "Another attempt"
   ]
  },
  {
   "cell_type": "code",
   "execution_count": null,
   "id": "suburban-laser",
   "metadata": {
    "jupyter": {
     "outputs_hidden": true
    }
   },
   "outputs": [],
   "source": [
    "import xml.etree.ElementTree as ET\n",
    "root = ET.parse('MR4044696.html').getroot()"
   ]
  },
  {
   "cell_type": "code",
   "execution_count": null,
   "id": "unlike-river",
   "metadata": {
    "jupyter": {
     "outputs_hidden": true
    }
   },
   "outputs": [],
   "source": [
    "import html2text\n",
    "html = open(\"mr4044696.html\").read()\n",
    "print(html2text.html2text(html))"
   ]
  },
  {
   "cell_type": "code",
   "execution_count": null,
   "id": "cubic-italian",
   "metadata": {},
   "outputs": [],
   "source": []
  },
  {
   "cell_type": "markdown",
   "id": "effective-wrong",
   "metadata": {},
   "source": [
    "### story from the beginning"
   ]
  },
  {
   "cell_type": "code",
   "execution_count": 1,
   "id": "earned-standard",
   "metadata": {},
   "outputs": [],
   "source": [
    "from lxml import html\n",
    "import requests"
   ]
  },
  {
   "cell_type": "code",
   "execution_count": 2,
   "id": "olympic-founder",
   "metadata": {},
   "outputs": [],
   "source": [
    "page = requests.get('https://sis1.host.cs.st-andrews.ac.uk/GAP/MR2900886.html')\n",
    "tree = html.fromstring(page.content)"
   ]
  },
  {
   "cell_type": "markdown",
   "id": "narrow-separation",
   "metadata": {},
   "source": [
    "### Manual selsection"
   ]
  },
  {
   "cell_type": "markdown",
   "id": "attractive-winner",
   "metadata": {},
   "source": [
    "Using the Chrome browser, I highlight the GAP citation text, right-click then select Inspect, then right-click on the text and select Copy Xpath - that gives me:\n",
    "\n",
    "```/html/body/li[15]/text()```"
   ]
  },
  {
   "cell_type": "code",
   "execution_count": 3,
   "id": "substantial-dance",
   "metadata": {},
   "outputs": [],
   "source": [
    "gap = tree.xpath('/html/body/li[15]/text()')"
   ]
  },
  {
   "cell_type": "code",
   "execution_count": 4,
   "id": "empty-equilibrium",
   "metadata": {},
   "outputs": [
    {
     "name": "stdout",
     "output_type": "stream",
     "text": [
      "['\\n  The GAP Group, ', ' groups, algorithms, and programming, version 4.4.12 (2008), http://www.gap-system.org. \\n\\n']\n"
     ]
    }
   ],
   "source": [
    "print(gap)"
   ]
  },
  {
   "cell_type": "markdown",
   "id": "severe-bankruptcy",
   "metadata": {},
   "source": [
    "The above works, but I manually pointed it to the location of the citation.\n",
    "I need to be able to find GAP citations in different result pages hence I will try the following:"
   ]
  },
  {
   "cell_type": "markdown",
   "id": "remarkable-lecture",
   "metadata": {},
   "source": [
    "### Xpath 'contains'"
   ]
  },
  {
   "cell_type": "code",
   "execution_count": 5,
   "id": "buried-globe",
   "metadata": {
    "scrolled": false
   },
   "outputs": [
    {
     "name": "stdout",
     "output_type": "stream",
     "text": [
      "\n",
      "  The GAP Group, \n"
     ]
    }
   ],
   "source": [
    "targets = tree.xpath('//li[contains(., \"gap\") or contains(.,\"GAP\")]')\n",
    "for target in targets:\n",
    "    print(target.text)"
   ]
  },
  {
   "cell_type": "markdown",
   "id": "polish-belgium",
   "metadata": {},
   "source": [
    "Fails due to extra tags inside some < li > elements - so it only displays the first part of the < li > element until it reachers the '<' of the extra tag inside, then it stops."
   ]
  },
  {
   "cell_type": "markdown",
   "id": "cordless-prisoner",
   "metadata": {},
   "source": [
    "### With multiple URLs"
   ]
  },
  {
   "cell_type": "code",
   "execution_count": 6,
   "id": "loved-germany",
   "metadata": {},
   "outputs": [],
   "source": [
    "base_URL = \"https://sis1.host.cs.st-andrews.ac.uk/GAP/\"\n",
    "mrn = [\"MR4044696\", \"MR2900886\", \"MR3169623\", \"MR4180136\"]\n",
    "url_list = []\n",
    "\n",
    "for i in range(len(mrn)):\n",
    "    url = (base_URL + mrn[i] + '.html')\n",
    "    url_list.append(url)\n",
    "    \n",
    "#print(url_list)"
   ]
  },
  {
   "cell_type": "code",
   "execution_count": 7,
   "id": "anonymous-concord",
   "metadata": {},
   "outputs": [
    {
     "ename": "NameError",
     "evalue": "name 'url_lst' is not defined",
     "output_type": "error",
     "traceback": [
      "\u001b[1;31m---------------------------------------------------------------------------\u001b[0m",
      "\u001b[1;31mNameError\u001b[0m                                 Traceback (most recent call last)",
      "\u001b[1;32m<ipython-input-7-96d0963b0d59>\u001b[0m in \u001b[0;36m<module>\u001b[1;34m\u001b[0m\n\u001b[1;32m----> 1\u001b[1;33m \u001b[1;32mfor\u001b[0m \u001b[0mpage3\u001b[0m \u001b[1;32min\u001b[0m \u001b[0murl_lst\u001b[0m\u001b[1;33m:\u001b[0m\u001b[1;33m\u001b[0m\u001b[1;33m\u001b[0m\u001b[0m\n\u001b[0m\u001b[0;32m      2\u001b[0m     \u001b[0mpage3\u001b[0m \u001b[1;33m=\u001b[0m \u001b[0mrequests\u001b[0m\u001b[1;33m.\u001b[0m\u001b[0mget\u001b[0m\u001b[1;33m(\u001b[0m\u001b[0mpage3\u001b[0m\u001b[1;33m)\u001b[0m\u001b[1;33m\u001b[0m\u001b[1;33m\u001b[0m\u001b[0m\n\u001b[0;32m      3\u001b[0m     \u001b[0mtree3\u001b[0m \u001b[1;33m=\u001b[0m \u001b[0mhtml\u001b[0m\u001b[1;33m.\u001b[0m\u001b[0mfromstring\u001b[0m\u001b[1;33m(\u001b[0m\u001b[0mpage3\u001b[0m\u001b[1;33m.\u001b[0m\u001b[0mcontent\u001b[0m\u001b[1;33m)\u001b[0m\u001b[1;33m\u001b[0m\u001b[1;33m\u001b[0m\u001b[0m\n\u001b[0;32m      4\u001b[0m     \u001b[0mtargets3\u001b[0m \u001b[1;33m=\u001b[0m \u001b[0mtree3\u001b[0m\u001b[1;33m.\u001b[0m\u001b[0mxpath\u001b[0m\u001b[1;33m(\u001b[0m\u001b[1;34m'//li[contains(., \"gap\") or contains(.,\"GAP\")]'\u001b[0m\u001b[1;33m)\u001b[0m\u001b[1;33m\u001b[0m\u001b[1;33m\u001b[0m\u001b[0m\n\u001b[0;32m      5\u001b[0m     \u001b[1;32mfor\u001b[0m \u001b[0mtarget\u001b[0m \u001b[1;32min\u001b[0m \u001b[0mtargets3\u001b[0m\u001b[1;33m:\u001b[0m\u001b[1;33m\u001b[0m\u001b[1;33m\u001b[0m\u001b[0m\n",
      "\u001b[1;31mNameError\u001b[0m: name 'url_lst' is not defined"
     ]
    }
   ],
   "source": [
    "for page3 in url_lst:\n",
    "    page3 = requests.get(page3)\n",
    "    tree3 = html.fromstring(page3.content)\n",
    "    targets3 = tree3.xpath('//li[contains(., \"gap\") or contains(.,\"GAP\")]')\n",
    "    for target in targets3:\n",
    "        print(target.text)"
   ]
  },
  {
   "cell_type": "code",
   "execution_count": null,
   "id": "optimum-paste",
   "metadata": {
    "scrolled": true
   },
   "outputs": [],
   "source": [
    "print(type(tree3))\n",
    "print(type(targets3))"
   ]
  },
  {
   "cell_type": "markdown",
   "id": "suburban-covering",
   "metadata": {},
   "source": [
    "It yields good results but the problem with extra tags inside ```<li>``` elements remains. Lets try with BeautifulSoup and Regex instead."
   ]
  },
  {
   "cell_type": "code",
   "execution_count": null,
   "id": "mineral-manner",
   "metadata": {},
   "outputs": [],
   "source": []
  }
 ],
 "metadata": {
  "kernelspec": {
   "display_name": "Python 3",
   "language": "python",
   "name": "python3"
  },
  "language_info": {
   "codemirror_mode": {
    "name": "ipython",
    "version": 3
   },
   "file_extension": ".py",
   "mimetype": "text/x-python",
   "name": "python",
   "nbconvert_exporter": "python",
   "pygments_lexer": "ipython3",
   "version": "3.8.5"
  }
 },
 "nbformat": 4,
 "nbformat_minor": 5
}
