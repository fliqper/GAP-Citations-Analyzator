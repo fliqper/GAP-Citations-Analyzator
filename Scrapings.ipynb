{
 "cells": [
  {
   "cell_type": "markdown",
   "metadata": {},
   "source": [
    "### Full scraping workflow using Requests, BeautifulSoup combined with Regex"
   ]
  },
  {
   "cell_type": "markdown",
   "metadata": {},
   "source": [
    "First we call the libraries needed."
   ]
  },
  {
   "cell_type": "code",
   "execution_count": 1,
   "metadata": {},
   "outputs": [],
   "source": [
    "from bs4 import BeautifulSoup\n",
    "import requests\n",
    "import re\n",
    "import pandas as pd\n",
    "import itertools"
   ]
  },
  {
   "cell_type": "markdown",
   "metadata": {},
   "source": [
    "We load the input .csv file containing the MR number and conver it to a Python ```list```."
   ]
  },
  {
   "cell_type": "code",
   "execution_count": 2,
   "metadata": {},
   "outputs": [
    {
     "name": "stdout",
     "output_type": "stream",
     "text": [
      "['MR3', 'MR4044696', 'MR2900886', 'MR3169623', 'MR4180136', 'MR11', 'MR1111111', 'MR5', 'MR7', 'MR9', 'MRMR4044697']\n"
     ]
    }
   ],
   "source": [
    "input_test = pd.read_csv('test_input.csv')\n",
    "mrn = (input_test['0'].tolist())\n",
    "print(mrn)"
   ]
  },
  {
   "cell_type": "markdown",
   "metadata": {},
   "source": [
    "We define two functions used together to find all GAP citations by HTMl element and text contained inside it. They can be re-used in future we-scraping projects too."
   ]
  },
  {
   "cell_type": "code",
   "execution_count": 12,
   "metadata": {},
   "outputs": [],
   "source": [
    "MATCH_ALL = r'.*'\n",
    "\n",
    "\n",
    "def like(string):\n",
    "    \"\"\"\n",
    "    Return a compiled regular expression that matches the given\n",
    "    string with any prefix and postfix, e.g. if string = \"hello\",\n",
    "    the returned regex matches r\".*hello.*\"\n",
    "    \"\"\"\n",
    "    string_ = string\n",
    "    if not isinstance(string_, str):\n",
    "        string_ = str(string_)\n",
    "    regex = MATCH_ALL + re.escape(string_) + MATCH_ALL\n",
    "    return re.compile(regex, flags=re.DOTALL)\n",
    "\n",
    "\n",
    "def find_by_text(soup, text, tag, mrn, **kwargs):\n",
    "    \"\"\"\n",
    "    Find the tag in soup that matches all provided kwargs, and contains the\n",
    "    text.\n",
    "\n",
    "    If no match is found, raise ValueError.\n",
    "    \"\"\"\n",
    "    empty = 1\n",
    "    elements = soup.find_all(tag, **kwargs)\n",
    "    matches = []\n",
    "    for element in elements:\n",
    "        if element.find(text=like(text)):\n",
    "            matches.append(mrn + ':')\n",
    "            matches.append(element.text.strip())\n",
    "    if len(matches) == 0:\n",
    "        pass\n",
    "    else:\n",
    "        return matches"
   ]
  },
  {
   "cell_type": "code",
   "execution_count": 13,
   "metadata": {
    "scrolled": true
   },
   "outputs": [
    {
     "data": {
      "text/plain": [
       "[None,\n",
       " ['MR4044696:',\n",
       "  'The GAP Group, GAP – groups, algorithms and programming, version 4.10, Available from http://www.gap-system.org, 2018.'],\n",
       " ['MR2900886:',\n",
       "  'The GAP Group, $GAP$ groups, algorithms, and programming, version 4.4.12 (2008), http://www.gap-system.org.'],\n",
       " ['MR3169623:',\n",
       "  'Distler, A., Mitchell, J. D. (2011). Smallsemi - A Library of Small Semigroups. http://tinyurl.com/jdmitchell/smallsemi/, Oct A GAP 4 package [5], Version 0.6.4.',\n",
       "  'MR3169623:',\n",
       "  'The GAP Group, (2008). (http://www.gap-system.org). GAP–Groups, Algorithms, and Programming, Version 4.4.12.'],\n",
       " ['MR4180136:',\n",
       "  'The GAP Group, 2019. GAP – Groups, Algorithms, and Programming, Version 4.10.1; https://www.gap-system.org.'],\n",
       " ['MR11:', 'GAP group'],\n",
       " ['MR1111111:',\n",
       "  'Distler, A., Mitchell, J. D. (2011). Smallsemi - A Library of Small Semigroups. http://tinyurl.com/jdmitchell/smallsemi/, Oct A GAP 4 package [5], Version 0.6.4.',\n",
       "  'MR1111111:',\n",
       "  'The GAP Group, (2008). (http://www.gap-system.org). GAP–Groups, Algorithms, and Programming, Version 4.4.12.'],\n",
       " ['MR5:',\n",
       "  'V. A. Artamonov and A. A. Bovdi, Integral gro GAP up rings: Groups of invertible elements and classical $K$-theory, in Algebra, Topology, Geometry, Vol. 27 (Russian), Itogi Nauki i Tekhniki, 232. (Vsesoyuz. Inst. Nauchn. i Tekhn. Inform., Moscow, 1989), pp. 3–43. \\nMR1039822',\n",
       "  'MR5:',\n",
       "  \"V. Bovdi, A. Grishkov and A. Konovalov, Kimmerle @GAP a lapa conjecture for the Held and O'Nan sporadic simple groups, Sci. Math. Jpn. 69(3) (2009) 353–361. \\nMR2510100\",\n",
       "  'MR5:',\n",
       "  'V. Bovdi and A. Konovalov, Integral group ringaper GAP? eg of the McLaughlin simple group, Algebra Discrete Math. 2 (2007) 43–53. \\nMR2364062'],\n",
       " ['MR7:',\n",
       "  'V. A. Artamonov and A. A. Bovdi, Integral gro GAP up rings: Groups of invertible elements and classical $K$-theory, in Algebra, Topology, Geometry, Vol. 27 (Russian), Itogi Nauki i Tekhniki, 232. (Vsesoyuz. Inst. Nauchn. i Tekhn. Inform., Moscow, 1989), pp. 3–43. \\nMR1039822',\n",
       "  'MR7:',\n",
       "  \"V. Bovdi, A. Grishkov and A. Konovalov, Kimmerle @GAP a lapa conjecture for the Held and O'Nan sporadic simple groups, Sci. Math. Jpn. 69(3) (2009) 353–361. \\nMR2510100\",\n",
       "  'MR7:',\n",
       "  'V. Bovdi, E. Jespers and A. Konovalov, Tors gap ion gap GAP gappen units in integral group rings of Janko sgapimple groups, Math. Comp. 80 (2011) 593–615. \\nMR2728996',\n",
       "  'MR7:',\n",
       "  'V. Bovdi and A. Konovalov, Integral group ringaper GAP? eg of the McLaughlin simple group, Algebra Discrete Math. 2 (2007) 43–53. \\nMR2364062'],\n",
       " ['MR9:',\n",
       "  'The GAP Group, $GAP$ groups, algorithms, and programming, version 4.4.12 (2008), http://www.gap-system.org.'],\n",
       " None]"
      ]
     },
     "execution_count": 13,
     "metadata": {},
     "output_type": "execute_result"
    }
   ],
   "source": [
    "base_URL = \"https://sis1.host.cs.st-andrews.ac.uk/GAP/\"\n",
    "#mrn = [\"MR3\", \"MR4044696\", \"MR2900886\", \"MR3169623\", \"MR4180136\", \"MR4044697\", \"MR7\", \"MR5\", \"MR1111111\", \"MR11\"]\n",
    "url_list = []\n",
    "all_matches = []\n",
    "\n",
    "for i in range(len(mrn)):\n",
    "    url = (base_URL + mrn[i] + '.html')\n",
    "    url_list.append(url) #for records keeping only, not really needed \n",
    "    page = requests.get(url)\n",
    "    soup = BeautifulSoup(page.content, 'html.parser')\n",
    "    match = (find_by_text(soup, 'GAP', 'li', mrn[i]))\n",
    "    all_matches.append(match)\n",
    "    \n",
    "all_matches"
   ]
  },
  {
   "cell_type": "code",
   "execution_count": 14,
   "metadata": {
    "scrolled": true
   },
   "outputs": [
    {
     "name": "stdout",
     "output_type": "stream",
     "text": [
      "<class 'NoneType'>\n"
     ]
    }
   ],
   "source": [
    "print(type(all_matches[0]))"
   ]
  },
  {
   "cell_type": "markdown",
   "metadata": {},
   "source": [
    "Some of the test HTMLs did not contain the word GAP and they returned NoneType elements. Using the following list comprehension we will remove them from the results before we continue."
   ]
  },
  {
   "cell_type": "code",
   "execution_count": 15,
   "metadata": {},
   "outputs": [
    {
     "data": {
      "text/plain": [
       "[['MR4044696:',\n",
       "  'The GAP Group, GAP – groups, algorithms and programming, version 4.10, Available from http://www.gap-system.org, 2018.'],\n",
       " ['MR2900886:',\n",
       "  'The GAP Group, $GAP$ groups, algorithms, and programming, version 4.4.12 (2008), http://www.gap-system.org.'],\n",
       " ['MR3169623:',\n",
       "  'Distler, A., Mitchell, J. D. (2011). Smallsemi - A Library of Small Semigroups. http://tinyurl.com/jdmitchell/smallsemi/, Oct A GAP 4 package [5], Version 0.6.4.',\n",
       "  'MR3169623:',\n",
       "  'The GAP Group, (2008). (http://www.gap-system.org). GAP–Groups, Algorithms, and Programming, Version 4.4.12.'],\n",
       " ['MR4180136:',\n",
       "  'The GAP Group, 2019. GAP – Groups, Algorithms, and Programming, Version 4.10.1; https://www.gap-system.org.'],\n",
       " ['MR11:', 'GAP group'],\n",
       " ['MR1111111:',\n",
       "  'Distler, A., Mitchell, J. D. (2011). Smallsemi - A Library of Small Semigroups. http://tinyurl.com/jdmitchell/smallsemi/, Oct A GAP 4 package [5], Version 0.6.4.',\n",
       "  'MR1111111:',\n",
       "  'The GAP Group, (2008). (http://www.gap-system.org). GAP–Groups, Algorithms, and Programming, Version 4.4.12.'],\n",
       " ['MR5:',\n",
       "  'V. A. Artamonov and A. A. Bovdi, Integral gro GAP up rings: Groups of invertible elements and classical $K$-theory, in Algebra, Topology, Geometry, Vol. 27 (Russian), Itogi Nauki i Tekhniki, 232. (Vsesoyuz. Inst. Nauchn. i Tekhn. Inform., Moscow, 1989), pp. 3–43. \\nMR1039822',\n",
       "  'MR5:',\n",
       "  \"V. Bovdi, A. Grishkov and A. Konovalov, Kimmerle @GAP a lapa conjecture for the Held and O'Nan sporadic simple groups, Sci. Math. Jpn. 69(3) (2009) 353–361. \\nMR2510100\",\n",
       "  'MR5:',\n",
       "  'V. Bovdi and A. Konovalov, Integral group ringaper GAP? eg of the McLaughlin simple group, Algebra Discrete Math. 2 (2007) 43–53. \\nMR2364062'],\n",
       " ['MR7:',\n",
       "  'V. A. Artamonov and A. A. Bovdi, Integral gro GAP up rings: Groups of invertible elements and classical $K$-theory, in Algebra, Topology, Geometry, Vol. 27 (Russian), Itogi Nauki i Tekhniki, 232. (Vsesoyuz. Inst. Nauchn. i Tekhn. Inform., Moscow, 1989), pp. 3–43. \\nMR1039822',\n",
       "  'MR7:',\n",
       "  \"V. Bovdi, A. Grishkov and A. Konovalov, Kimmerle @GAP a lapa conjecture for the Held and O'Nan sporadic simple groups, Sci. Math. Jpn. 69(3) (2009) 353–361. \\nMR2510100\",\n",
       "  'MR7:',\n",
       "  'V. Bovdi, E. Jespers and A. Konovalov, Tors gap ion gap GAP gappen units in integral group rings of Janko sgapimple groups, Math. Comp. 80 (2011) 593–615. \\nMR2728996',\n",
       "  'MR7:',\n",
       "  'V. Bovdi and A. Konovalov, Integral group ringaper GAP? eg of the McLaughlin simple group, Algebra Discrete Math. 2 (2007) 43–53. \\nMR2364062'],\n",
       " ['MR9:',\n",
       "  'The GAP Group, $GAP$ groups, algorithms, and programming, version 4.4.12 (2008), http://www.gap-system.org.']]"
      ]
     },
     "execution_count": 15,
     "metadata": {},
     "output_type": "execute_result"
    }
   ],
   "source": [
    "all_matches = [i for i in all_matches if i is not None]\n",
    "all_matches"
   ]
  },
  {
   "cell_type": "code",
   "execution_count": 16,
   "metadata": {
    "scrolled": false
   },
   "outputs": [
    {
     "name": "stdout",
     "output_type": "stream",
     "text": [
      "<class 'NoneType'>\n",
      "<class 'list'>\n",
      "Results count is: 9\n",
      "['MR3169623:', 'Distler, A., Mitchell, J. D. (2011). Smallsemi - A Library of Small Semigroups. http://tinyurl.com/jdmitchell/smallsemi/, Oct A GAP 4 package [5], Version 0.6.4.', 'MR3169623:', 'The GAP Group, (2008). (http://www.gap-system.org). GAP–Groups, Algorithms, and Programming, Version 4.4.12.']\n"
     ]
    }
   ],
   "source": [
    "print(type(match))\n",
    "print(type(all_matches))\n",
    "print('Results count is:', len(all_matches))\n",
    "print(all_matches[2])"
   ]
  },
  {
   "cell_type": "code",
   "execution_count": 19,
   "metadata": {},
   "outputs": [
    {
     "data": {
      "text/plain": [
       "['MR4044696:',\n",
       " 'The GAP Group, GAP – groups, algorithms and programming, version 4.10, Available from http://www.gap-system.org, 2018.',\n",
       " 'MR2900886:',\n",
       " 'The GAP Group, $GAP$ groups, algorithms, and programming, version 4.4.12 (2008), http://www.gap-system.org.',\n",
       " 'MR3169623:',\n",
       " 'Distler, A., Mitchell, J. D. (2011). Smallsemi - A Library of Small Semigroups. http://tinyurl.com/jdmitchell/smallsemi/, Oct A GAP 4 package [5], Version 0.6.4.',\n",
       " 'MR3169623:',\n",
       " 'The GAP Group, (2008). (http://www.gap-system.org). GAP–Groups, Algorithms, and Programming, Version 4.4.12.',\n",
       " 'MR4180136:',\n",
       " 'The GAP Group, 2019. GAP – Groups, Algorithms, and Programming, Version 4.10.1; https://www.gap-system.org.',\n",
       " 'MR11:',\n",
       " 'GAP group',\n",
       " 'MR1111111:',\n",
       " 'Distler, A., Mitchell, J. D. (2011). Smallsemi - A Library of Small Semigroups. http://tinyurl.com/jdmitchell/smallsemi/, Oct A GAP 4 package [5], Version 0.6.4.',\n",
       " 'MR1111111:',\n",
       " 'The GAP Group, (2008). (http://www.gap-system.org). GAP–Groups, Algorithms, and Programming, Version 4.4.12.',\n",
       " 'MR5:',\n",
       " 'V. A. Artamonov and A. A. Bovdi, Integral gro GAP up rings: Groups of invertible elements and classical $K$-theory, in Algebra, Topology, Geometry, Vol. 27 (Russian), Itogi Nauki i Tekhniki, 232. (Vsesoyuz. Inst. Nauchn. i Tekhn. Inform., Moscow, 1989), pp. 3–43. \\nMR1039822',\n",
       " 'MR5:',\n",
       " \"V. Bovdi, A. Grishkov and A. Konovalov, Kimmerle @GAP a lapa conjecture for the Held and O'Nan sporadic simple groups, Sci. Math. Jpn. 69(3) (2009) 353–361. \\nMR2510100\",\n",
       " 'MR5:',\n",
       " 'V. Bovdi and A. Konovalov, Integral group ringaper GAP? eg of the McLaughlin simple group, Algebra Discrete Math. 2 (2007) 43–53. \\nMR2364062',\n",
       " 'MR7:',\n",
       " 'V. A. Artamonov and A. A. Bovdi, Integral gro GAP up rings: Groups of invertible elements and classical $K$-theory, in Algebra, Topology, Geometry, Vol. 27 (Russian), Itogi Nauki i Tekhniki, 232. (Vsesoyuz. Inst. Nauchn. i Tekhn. Inform., Moscow, 1989), pp. 3–43. \\nMR1039822',\n",
       " 'MR7:',\n",
       " \"V. Bovdi, A. Grishkov and A. Konovalov, Kimmerle @GAP a lapa conjecture for the Held and O'Nan sporadic simple groups, Sci. Math. Jpn. 69(3) (2009) 353–361. \\nMR2510100\",\n",
       " 'MR7:',\n",
       " 'V. Bovdi, E. Jespers and A. Konovalov, Tors gap ion gap GAP gappen units in integral group rings of Janko sgapimple groups, Math. Comp. 80 (2011) 593–615. \\nMR2728996',\n",
       " 'MR7:',\n",
       " 'V. Bovdi and A. Konovalov, Integral group ringaper GAP? eg of the McLaughlin simple group, Algebra Discrete Math. 2 (2007) 43–53. \\nMR2364062',\n",
       " 'MR9:',\n",
       " 'The GAP Group, $GAP$ groups, algorithms, and programming, version 4.4.12 (2008), http://www.gap-system.org.']"
      ]
     },
     "execution_count": 19,
     "metadata": {},
     "output_type": "execute_result"
    }
   ],
   "source": [
    "joined = list(itertools.chain(*all_matches))\n",
    "joined"
   ]
  },
  {
   "cell_type": "code",
   "execution_count": 20,
   "metadata": {
    "scrolled": true
   },
   "outputs": [
    {
     "name": "stdout",
     "output_type": "stream",
     "text": [
      "The GAP Group, $GAP$ groups, algorithms, and programming, version 4.4.12 (2008), http://www.gap-system.org.\n",
      "<class 'list'>\n",
      "<class 'str'>\n",
      "Now the Results count is: 32  which confirms that our program also catches GAP Packages citation as separate results.\n"
     ]
    }
   ],
   "source": [
    "print(joined[3])\n",
    "print(type(joined))\n",
    "print(type(joined[1]))\n",
    "print('Now the Results count is:', len(joined), ' which confirms that our program also catches GAP Packages citation as separate results.')"
   ]
  },
  {
   "cell_type": "code",
   "execution_count": 62,
   "metadata": {},
   "outputs": [
    {
     "data": {
      "text/plain": [
       "['MR4044696',\n",
       " 'The GAP Group, GAP – groups, algorithms and programming, version 4.10, Available from http://www.gap-system.org, 2018.',\n",
       " 'MR2900886',\n",
       " 'The GAP Group, $GAP$ groups, algorithms, and programming, version 4.4.12 (2008), http://www.gap-system.org.',\n",
       " 'MR3169623',\n",
       " 'Distler, A., Mitchell, J. D. (2011). Smallsemi - A Library of Small Semigroups. http://tinyurl.com/jdmitchell/smallsemi/, Oct A GAP 4 package [5], Version 0.6.4.',\n",
       " 'MR3169623',\n",
       " 'The GAP Group, (2008). (http://www.gap-system.org). GAP–Groups, Algorithms, and Programming, Version 4.4.12.',\n",
       " 'MR4180136',\n",
       " 'The GAP Group, 2019. GAP – Groups, Algorithms, and Programming, Version 4.10.1; https://www.gap-system.org.',\n",
       " 'MR11',\n",
       " 'GAP group',\n",
       " 'MR1111111',\n",
       " 'Distler, A., Mitchell, J. D. (2011). Smallsemi - A Library of Small Semigroups. http://tinyurl.com/jdmitchell/smallsemi/, Oct A GAP 4 package [5], Version 0.6.4.',\n",
       " 'MR1111111',\n",
       " 'The GAP Group, (2008). (http://www.gap-system.org). GAP–Groups, Algorithms, and Programming, Version 4.4.12.',\n",
       " 'MR5',\n",
       " 'V. A. Artamonov and A. A. Bovdi, Integral gro GAP up rings: Groups of invertible elements and classical $K$-theory, in Algebra, Topology, Geometry, Vol. 27 (Russian), Itogi Nauki i Tekhniki, 232. (Vsesoyuz. Inst. Nauchn. i Tekhn. Inform., Moscow, 1989), pp. 3–43. \\nMR1039822',\n",
       " 'MR5',\n",
       " \"V. Bovdi, A. Grishkov and A. Konovalov, Kimmerle @GAP a lapa conjecture for the Held and O'Nan sporadic simple groups, Sci. Math. Jpn. 69(3) (2009) 353–361. \\nMR2510100\",\n",
       " 'MR5',\n",
       " 'V. Bovdi and A. Konovalov, Integral group ringaper GAP? eg of the McLaughlin simple group, Algebra Discrete Math. 2 (2007) 43–53. \\nMR2364062',\n",
       " 'MR7',\n",
       " 'V. A. Artamonov and A. A. Bovdi, Integral gro GAP up rings: Groups of invertible elements and classical $K$-theory, in Algebra, Topology, Geometry, Vol. 27 (Russian), Itogi Nauki i Tekhniki, 232. (Vsesoyuz. Inst. Nauchn. i Tekhn. Inform., Moscow, 1989), pp. 3–43. \\nMR1039822',\n",
       " 'MR7',\n",
       " \"V. Bovdi, A. Grishkov and A. Konovalov, Kimmerle @GAP a lapa conjecture for the Held and O'Nan sporadic simple groups, Sci. Math. Jpn. 69(3) (2009) 353–361. \\nMR2510100\",\n",
       " 'MR7',\n",
       " 'V. Bovdi, E. Jespers and A. Konovalov, Tors gap ion gap GAP gappen units in integral group rings of Janko sgapimple groups, Math. Comp. 80 (2011) 593–615. \\nMR2728996',\n",
       " 'MR7',\n",
       " 'V. Bovdi and A. Konovalov, Integral group ringaper GAP? eg of the McLaughlin simple group, Algebra Discrete Math. 2 (2007) 43–53. \\nMR2364062',\n",
       " 'MR9',\n",
       " 'The GAP Group, $GAP$ groups, algorithms, and programming, version 4.4.12 (2008), http://www.gap-system.org.']"
      ]
     },
     "execution_count": 62,
     "metadata": {},
     "output_type": "execute_result"
    }
   ],
   "source": [
    "joined"
   ]
  },
  {
   "cell_type": "code",
   "execution_count": 24,
   "metadata": {
    "scrolled": false
   },
   "outputs": [
    {
     "data": {
      "text/plain": [
       "['MR4044696:',\n",
       " 'The GAP Group, GAP – groups, algorithms and programming, version 4.10, Available from http://www.gap-system.org, 2018.',\n",
       " 'MR2900886:',\n",
       " 'The GAP Group, $GAP$ groups, algorithms, and programming, version 4.4.12 (2008), http://www.gap-system.org.',\n",
       " 'MR3169623:',\n",
       " 'Distler, A., Mitchell, J. D. (2011). Smallsemi - A Library of Small Semigroups. http://tinyurl.com/jdmitchell/smallsemi/, Oct A GAP 4 package [5], Version 0.6.4.',\n",
       " 'MR3169623:',\n",
       " 'The GAP Group, (2008). (http://www.gap-system.org). GAP–Groups, Algorithms, and Programming, Version 4.4.12.',\n",
       " 'MR4180136:',\n",
       " 'The GAP Group, 2019. GAP – Groups, Algorithms, and Programming, Version 4.10.1; https://www.gap-system.org.',\n",
       " 'MR11:',\n",
       " 'GAP group',\n",
       " 'MR1111111:',\n",
       " 'Distler, A., Mitchell, J. D. (2011). Smallsemi - A Library of Small Semigroups. http://tinyurl.com/jdmitchell/smallsemi/, Oct A GAP 4 package [5], Version 0.6.4.',\n",
       " 'MR1111111:',\n",
       " 'The GAP Group, (2008). (http://www.gap-system.org). GAP–Groups, Algorithms, and Programming, Version 4.4.12.',\n",
       " 'MR5:',\n",
       " 'V. A. Artamonov and A. A. Bovdi, Integral gro GAP up rings: Groups of invertible elements and classical $K$-theory, in Algebra, Topology, Geometry, Vol. 27 (Russian), Itogi Nauki i Tekhniki, 232. (Vsesoyuz. Inst. Nauchn. i Tekhn. Inform., Moscow, 1989), pp. 3–43. \\nMR1039822',\n",
       " 'MR5:',\n",
       " \"V. Bovdi, A. Grishkov and A. Konovalov, Kimmerle @GAP a lapa conjecture for the Held and O'Nan sporadic simple groups, Sci. Math. Jpn. 69(3) (2009) 353–361. \\nMR2510100\",\n",
       " 'MR5:',\n",
       " 'V. Bovdi and A. Konovalov, Integral group ringaper GAP? eg of the McLaughlin simple group, Algebra Discrete Math. 2 (2007) 43–53. \\nMR2364062',\n",
       " 'MR7:',\n",
       " 'V. A. Artamonov and A. A. Bovdi, Integral gro GAP up rings: Groups of invertible elements and classical $K$-theory, in Algebra, Topology, Geometry, Vol. 27 (Russian), Itogi Nauki i Tekhniki, 232. (Vsesoyuz. Inst. Nauchn. i Tekhn. Inform., Moscow, 1989), pp. 3–43. \\nMR1039822',\n",
       " 'MR7:',\n",
       " \"V. Bovdi, A. Grishkov and A. Konovalov, Kimmerle @GAP a lapa conjecture for the Held and O'Nan sporadic simple groups, Sci. Math. Jpn. 69(3) (2009) 353–361. \\nMR2510100\",\n",
       " 'MR7:',\n",
       " 'V. Bovdi, E. Jespers and A. Konovalov, Tors gap ion gap GAP gappen units in integral group rings of Janko sgapimple groups, Math. Comp. 80 (2011) 593–615. \\nMR2728996',\n",
       " 'MR7:',\n",
       " 'V. Bovdi and A. Konovalov, Integral group ringaper GAP? eg of the McLaughlin simple group, Algebra Discrete Math. 2 (2007) 43–53. \\nMR2364062',\n",
       " 'MR9:',\n",
       " 'The GAP Group, $GAP$ groups, algorithms, and programming, version 4.4.12 (2008), http://www.gap-system.org.']"
      ]
     },
     "execution_count": 24,
     "metadata": {},
     "output_type": "execute_result"
    }
   ],
   "source": [
    "final = []\n",
    "for i in range(len(joined)):\n",
    "    clean = (joined[i].strip())\n",
    "    final.append(clean)\n",
    "final"
   ]
  },
  {
   "cell_type": "code",
   "execution_count": 74,
   "metadata": {},
   "outputs": [
    {
     "name": "stdout",
     "output_type": "stream",
     "text": [
      "['MR4044696:', 'MR2900886:', 'MR3169623:', 'MR3169623:', 'MR4180136:', 'MR11:', 'MR1111111:', 'MR1111111:', 'MR5:', 'MR5:', 'MR5:', 'MR7:', 'MR7:', 'MR7:', 'MR7:', 'MR9:']\n",
      "['The GAP Group, GAP – groups, algorithms and programming, version 4.10, Available from http://www.gap-system.org, 2018.', 'The GAP Group, $GAP$ groups, algorithms, and programming, version 4.4.12 (2008), http://www.gap-system.org.', 'Distler, A., Mitchell, J. D. (2011). Smallsemi - A Library of Small Semigroups. http://tinyurl.com/jdmitchell/smallsemi/, Oct A GAP 4 package [5], Version 0.6.4.', 'The GAP Group, (2008). (http://www.gap-system.org). GAP–Groups, Algorithms, and Programming, Version 4.4.12.', 'The GAP Group, 2019. GAP – Groups, Algorithms, and Programming, Version 4.10.1; https://www.gap-system.org.', 'GAP group', 'Distler, A., Mitchell, J. D. (2011). Smallsemi - A Library of Small Semigroups. http://tinyurl.com/jdmitchell/smallsemi/, Oct A GAP 4 package [5], Version 0.6.4.', 'The GAP Group, (2008). (http://www.gap-system.org). GAP–Groups, Algorithms, and Programming, Version 4.4.12.', 'V. A. Artamonov and A. A. Bovdi, Integral gro GAP up rings: Groups of invertible elements and classical $K$-theory, in Algebra, Topology, Geometry, Vol. 27 (Russian), Itogi Nauki i Tekhniki, 232. (Vsesoyuz. Inst. Nauchn. i Tekhn. Inform., Moscow, 1989), pp. 3–43. \\nMR1039822', \"V. Bovdi, A. Grishkov and A. Konovalov, Kimmerle @GAP a lapa conjecture for the Held and O'Nan sporadic simple groups, Sci. Math. Jpn. 69(3) (2009) 353–361. \\nMR2510100\", 'V. Bovdi and A. Konovalov, Integral group ringaper GAP? eg of the McLaughlin simple group, Algebra Discrete Math. 2 (2007) 43–53. \\nMR2364062', 'V. A. Artamonov and A. A. Bovdi, Integral gro GAP up rings: Groups of invertible elements and classical $K$-theory, in Algebra, Topology, Geometry, Vol. 27 (Russian), Itogi Nauki i Tekhniki, 232. (Vsesoyuz. Inst. Nauchn. i Tekhn. Inform., Moscow, 1989), pp. 3–43. \\nMR1039822', \"V. Bovdi, A. Grishkov and A. Konovalov, Kimmerle @GAP a lapa conjecture for the Held and O'Nan sporadic simple groups, Sci. Math. Jpn. 69(3) (2009) 353–361. \\nMR2510100\", 'V. Bovdi, E. Jespers and A. Konovalov, Tors gap ion gap GAP gappen units in integral group rings of Janko sgapimple groups, Math. Comp. 80 (2011) 593–615. \\nMR2728996', 'V. Bovdi and A. Konovalov, Integral group ringaper GAP? eg of the McLaughlin simple group, Algebra Discrete Math. 2 (2007) 43–53. \\nMR2364062', 'The GAP Group, $GAP$ groups, algorithms, and programming, version 4.4.12 (2008), http://www.gap-system.org.']\n"
     ]
    }
   ],
   "source": [
    "mr_list = final[::2]\n",
    "cit_list = final[1::2]\n",
    "print(mr_list)\n",
    "print(cit_list)"
   ]
  },
  {
   "cell_type": "code",
   "execution_count": 45,
   "metadata": {
    "scrolled": false
   },
   "outputs": [
    {
     "data": {
      "text/plain": [
       "['MR4044696:The GAP Group, GAP – groups, algorithms and programming, version 4.10, Available from http://www.gap-system.org, 2018.',\n",
       " 'MR2900886:The GAP Group, $GAP$ groups, algorithms, and programming, version 4.4.12 (2008), http://www.gap-system.org.',\n",
       " 'MR3169623:Distler, A., Mitchell, J. D. (2011). Smallsemi - A Library of Small Semigroups. http://tinyurl.com/jdmitchell/smallsemi/, Oct A GAP 4 package [5], Version 0.6.4.',\n",
       " 'MR3169623:The GAP Group, (2008). (http://www.gap-system.org). GAP–Groups, Algorithms, and Programming, Version 4.4.12.',\n",
       " 'MR4180136:The GAP Group, 2019. GAP – Groups, Algorithms, and Programming, Version 4.10.1; https://www.gap-system.org.',\n",
       " 'MR11:GAP group',\n",
       " 'MR1111111:Distler, A., Mitchell, J. D. (2011). Smallsemi - A Library of Small Semigroups. http://tinyurl.com/jdmitchell/smallsemi/, Oct A GAP 4 package [5], Version 0.6.4.',\n",
       " 'MR1111111:The GAP Group, (2008). (http://www.gap-system.org). GAP–Groups, Algorithms, and Programming, Version 4.4.12.',\n",
       " 'MR5:V. A. Artamonov and A. A. Bovdi, Integral gro GAP up rings: Groups of invertible elements and classical $K$-theory, in Algebra, Topology, Geometry, Vol. 27 (Russian), Itogi Nauki i Tekhniki, 232. (Vsesoyuz. Inst. Nauchn. i Tekhn. Inform., Moscow, 1989), pp. 3–43. \\nMR1039822',\n",
       " \"MR5:V. Bovdi, A. Grishkov and A. Konovalov, Kimmerle @GAP a lapa conjecture for the Held and O'Nan sporadic simple groups, Sci. Math. Jpn. 69(3) (2009) 353–361. \\nMR2510100\",\n",
       " 'MR5:V. Bovdi and A. Konovalov, Integral group ringaper GAP? eg of the McLaughlin simple group, Algebra Discrete Math. 2 (2007) 43–53. \\nMR2364062',\n",
       " 'MR7:V. A. Artamonov and A. A. Bovdi, Integral gro GAP up rings: Groups of invertible elements and classical $K$-theory, in Algebra, Topology, Geometry, Vol. 27 (Russian), Itogi Nauki i Tekhniki, 232. (Vsesoyuz. Inst. Nauchn. i Tekhn. Inform., Moscow, 1989), pp. 3–43. \\nMR1039822',\n",
       " \"MR7:V. Bovdi, A. Grishkov and A. Konovalov, Kimmerle @GAP a lapa conjecture for the Held and O'Nan sporadic simple groups, Sci. Math. Jpn. 69(3) (2009) 353–361. \\nMR2510100\",\n",
       " 'MR7:V. Bovdi, E. Jespers and A. Konovalov, Tors gap ion gap GAP gappen units in integral group rings of Janko sgapimple groups, Math. Comp. 80 (2011) 593–615. \\nMR2728996',\n",
       " 'MR7:V. Bovdi and A. Konovalov, Integral group ringaper GAP? eg of the McLaughlin simple group, Algebra Discrete Math. 2 (2007) 43–53. \\nMR2364062',\n",
       " 'MR9:The GAP Group, $GAP$ groups, algorithms, and programming, version 4.4.12 (2008), http://www.gap-system.org.']"
      ]
     },
     "execution_count": 45,
     "metadata": {},
     "output_type": "execute_result"
    }
   ],
   "source": [
    "new_ = [a + b for a, b in zip(mr_list, cit_list)]\n",
    "new_"
   ]
  },
  {
   "cell_type": "code",
   "execution_count": 57,
   "metadata": {},
   "outputs": [],
   "source": [
    "c= []\n",
    "for i in range(0,len(mr_list)):\n",
    "    c.append(mr_list[i]+ cit_list[i])"
   ]
  },
  {
   "cell_type": "code",
   "execution_count": 58,
   "metadata": {},
   "outputs": [
    {
     "data": {
      "text/plain": [
       "['MR4044696:The GAP Group, GAP – groups, algorithms and programming, version 4.10, Available from http://www.gap-system.org, 2018.',\n",
       " 'MR2900886:The GAP Group, $GAP$ groups, algorithms, and programming, version 4.4.12 (2008), http://www.gap-system.org.',\n",
       " 'MR3169623:Distler, A., Mitchell, J. D. (2011). Smallsemi - A Library of Small Semigroups. http://tinyurl.com/jdmitchell/smallsemi/, Oct A GAP 4 package [5], Version 0.6.4.',\n",
       " 'MR3169623:The GAP Group, (2008). (http://www.gap-system.org). GAP–Groups, Algorithms, and Programming, Version 4.4.12.',\n",
       " 'MR4180136:The GAP Group, 2019. GAP – Groups, Algorithms, and Programming, Version 4.10.1; https://www.gap-system.org.',\n",
       " 'MR11:GAP group',\n",
       " 'MR1111111:Distler, A., Mitchell, J. D. (2011). Smallsemi - A Library of Small Semigroups. http://tinyurl.com/jdmitchell/smallsemi/, Oct A GAP 4 package [5], Version 0.6.4.',\n",
       " 'MR1111111:The GAP Group, (2008). (http://www.gap-system.org). GAP–Groups, Algorithms, and Programming, Version 4.4.12.',\n",
       " 'MR5:V. A. Artamonov and A. A. Bovdi, Integral gro GAP up rings: Groups of invertible elements and classical $K$-theory, in Algebra, Topology, Geometry, Vol. 27 (Russian), Itogi Nauki i Tekhniki, 232. (Vsesoyuz. Inst. Nauchn. i Tekhn. Inform., Moscow, 1989), pp. 3–43. \\nMR1039822',\n",
       " \"MR5:V. Bovdi, A. Grishkov and A. Konovalov, Kimmerle @GAP a lapa conjecture for the Held and O'Nan sporadic simple groups, Sci. Math. Jpn. 69(3) (2009) 353–361. \\nMR2510100\",\n",
       " 'MR5:V. Bovdi and A. Konovalov, Integral group ringaper GAP? eg of the McLaughlin simple group, Algebra Discrete Math. 2 (2007) 43–53. \\nMR2364062',\n",
       " 'MR7:V. A. Artamonov and A. A. Bovdi, Integral gro GAP up rings: Groups of invertible elements and classical $K$-theory, in Algebra, Topology, Geometry, Vol. 27 (Russian), Itogi Nauki i Tekhniki, 232. (Vsesoyuz. Inst. Nauchn. i Tekhn. Inform., Moscow, 1989), pp. 3–43. \\nMR1039822',\n",
       " \"MR7:V. Bovdi, A. Grishkov and A. Konovalov, Kimmerle @GAP a lapa conjecture for the Held and O'Nan sporadic simple groups, Sci. Math. Jpn. 69(3) (2009) 353–361. \\nMR2510100\",\n",
       " 'MR7:V. Bovdi, E. Jespers and A. Konovalov, Tors gap ion gap GAP gappen units in integral group rings of Janko sgapimple groups, Math. Comp. 80 (2011) 593–615. \\nMR2728996',\n",
       " 'MR7:V. Bovdi and A. Konovalov, Integral group ringaper GAP? eg of the McLaughlin simple group, Algebra Discrete Math. 2 (2007) 43–53. \\nMR2364062',\n",
       " 'MR9:The GAP Group, $GAP$ groups, algorithms, and programming, version 4.4.12 (2008), http://www.gap-system.org.']"
      ]
     },
     "execution_count": 58,
     "metadata": {},
     "output_type": "execute_result"
    }
   ],
   "source": [
    "c"
   ]
  },
  {
   "cell_type": "markdown",
   "metadata": {},
   "source": [
    "### Converting our data to Pandas dataframe for further analysis"
   ]
  },
  {
   "cell_type": "code",
   "execution_count": 52,
   "metadata": {
    "scrolled": true
   },
   "outputs": [],
   "source": [
    "df = pd.DataFrame(final)"
   ]
  },
  {
   "cell_type": "code",
   "execution_count": 55,
   "metadata": {
    "scrolled": true
   },
   "outputs": [
    {
     "data": {
      "text/plain": [
       "0    The GAP Group, GAP – groups, algorithms and pr...\n",
       "Name: 1, dtype: object"
      ]
     },
     "metadata": {},
     "output_type": "display_data"
    }
   ],
   "source": [
    "display(df.iloc[1])"
   ]
  },
  {
   "cell_type": "code",
   "execution_count": 56,
   "metadata": {
    "scrolled": true
   },
   "outputs": [
    {
     "data": {
      "text/html": [
       "<div>\n",
       "<style scoped>\n",
       "    .dataframe tbody tr th:only-of-type {\n",
       "        vertical-align: middle;\n",
       "    }\n",
       "\n",
       "    .dataframe tbody tr th {\n",
       "        vertical-align: top;\n",
       "    }\n",
       "\n",
       "    .dataframe thead th {\n",
       "        text-align: right;\n",
       "    }\n",
       "</style>\n",
       "<table border=\"1\" class=\"dataframe\">\n",
       "  <thead>\n",
       "    <tr style=\"text-align: right;\">\n",
       "      <th></th>\n",
       "      <th>0</th>\n",
       "    </tr>\n",
       "  </thead>\n",
       "  <tbody>\n",
       "    <tr>\n",
       "      <th>0</th>\n",
       "      <td>MR4044696:</td>\n",
       "    </tr>\n",
       "    <tr>\n",
       "      <th>1</th>\n",
       "      <td>The GAP Group, GAP – groups, algorithms and pr...</td>\n",
       "    </tr>\n",
       "    <tr>\n",
       "      <th>2</th>\n",
       "      <td>MR2900886:</td>\n",
       "    </tr>\n",
       "    <tr>\n",
       "      <th>3</th>\n",
       "      <td>The GAP Group, $GAP$ groups, algorithms, and p...</td>\n",
       "    </tr>\n",
       "    <tr>\n",
       "      <th>4</th>\n",
       "      <td>MR3169623:</td>\n",
       "    </tr>\n",
       "    <tr>\n",
       "      <th>5</th>\n",
       "      <td>Distler, A., Mitchell, J. D. (2011). Smallsemi...</td>\n",
       "    </tr>\n",
       "    <tr>\n",
       "      <th>6</th>\n",
       "      <td>MR3169623:</td>\n",
       "    </tr>\n",
       "    <tr>\n",
       "      <th>7</th>\n",
       "      <td>The GAP Group, (2008). (http://www.gap-system....</td>\n",
       "    </tr>\n",
       "    <tr>\n",
       "      <th>8</th>\n",
       "      <td>MR4180136:</td>\n",
       "    </tr>\n",
       "    <tr>\n",
       "      <th>9</th>\n",
       "      <td>The GAP Group, 2019. GAP – Groups, Algorithms,...</td>\n",
       "    </tr>\n",
       "    <tr>\n",
       "      <th>10</th>\n",
       "      <td>MR11:</td>\n",
       "    </tr>\n",
       "    <tr>\n",
       "      <th>11</th>\n",
       "      <td>GAP group</td>\n",
       "    </tr>\n",
       "    <tr>\n",
       "      <th>12</th>\n",
       "      <td>MR1111111:</td>\n",
       "    </tr>\n",
       "    <tr>\n",
       "      <th>13</th>\n",
       "      <td>Distler, A., Mitchell, J. D. (2011). Smallsemi...</td>\n",
       "    </tr>\n",
       "    <tr>\n",
       "      <th>14</th>\n",
       "      <td>MR1111111:</td>\n",
       "    </tr>\n",
       "    <tr>\n",
       "      <th>15</th>\n",
       "      <td>The GAP Group, (2008). (http://www.gap-system....</td>\n",
       "    </tr>\n",
       "    <tr>\n",
       "      <th>16</th>\n",
       "      <td>MR5:</td>\n",
       "    </tr>\n",
       "    <tr>\n",
       "      <th>17</th>\n",
       "      <td>V. A. Artamonov and A. A. Bovdi, Integral gro ...</td>\n",
       "    </tr>\n",
       "    <tr>\n",
       "      <th>18</th>\n",
       "      <td>MR5:</td>\n",
       "    </tr>\n",
       "    <tr>\n",
       "      <th>19</th>\n",
       "      <td>V. Bovdi, A. Grishkov and A. Konovalov, Kimmer...</td>\n",
       "    </tr>\n",
       "    <tr>\n",
       "      <th>20</th>\n",
       "      <td>MR5:</td>\n",
       "    </tr>\n",
       "    <tr>\n",
       "      <th>21</th>\n",
       "      <td>V. Bovdi and A. Konovalov, Integral group ring...</td>\n",
       "    </tr>\n",
       "    <tr>\n",
       "      <th>22</th>\n",
       "      <td>MR7:</td>\n",
       "    </tr>\n",
       "    <tr>\n",
       "      <th>23</th>\n",
       "      <td>V. A. Artamonov and A. A. Bovdi, Integral gro ...</td>\n",
       "    </tr>\n",
       "    <tr>\n",
       "      <th>24</th>\n",
       "      <td>MR7:</td>\n",
       "    </tr>\n",
       "    <tr>\n",
       "      <th>25</th>\n",
       "      <td>V. Bovdi, A. Grishkov and A. Konovalov, Kimmer...</td>\n",
       "    </tr>\n",
       "    <tr>\n",
       "      <th>26</th>\n",
       "      <td>MR7:</td>\n",
       "    </tr>\n",
       "    <tr>\n",
       "      <th>27</th>\n",
       "      <td>V. Bovdi, E. Jespers and A. Konovalov, Tors ga...</td>\n",
       "    </tr>\n",
       "    <tr>\n",
       "      <th>28</th>\n",
       "      <td>MR7:</td>\n",
       "    </tr>\n",
       "    <tr>\n",
       "      <th>29</th>\n",
       "      <td>V. Bovdi and A. Konovalov, Integral group ring...</td>\n",
       "    </tr>\n",
       "    <tr>\n",
       "      <th>30</th>\n",
       "      <td>MR9:</td>\n",
       "    </tr>\n",
       "    <tr>\n",
       "      <th>31</th>\n",
       "      <td>The GAP Group, $GAP$ groups, algorithms, and p...</td>\n",
       "    </tr>\n",
       "  </tbody>\n",
       "</table>\n",
       "</div>"
      ],
      "text/plain": [
       "                                                    0\n",
       "0                                          MR4044696:\n",
       "1   The GAP Group, GAP – groups, algorithms and pr...\n",
       "2                                          MR2900886:\n",
       "3   The GAP Group, $GAP$ groups, algorithms, and p...\n",
       "4                                          MR3169623:\n",
       "5   Distler, A., Mitchell, J. D. (2011). Smallsemi...\n",
       "6                                          MR3169623:\n",
       "7   The GAP Group, (2008). (http://www.gap-system....\n",
       "8                                          MR4180136:\n",
       "9   The GAP Group, 2019. GAP – Groups, Algorithms,...\n",
       "10                                              MR11:\n",
       "11                                          GAP group\n",
       "12                                         MR1111111:\n",
       "13  Distler, A., Mitchell, J. D. (2011). Smallsemi...\n",
       "14                                         MR1111111:\n",
       "15  The GAP Group, (2008). (http://www.gap-system....\n",
       "16                                               MR5:\n",
       "17  V. A. Artamonov and A. A. Bovdi, Integral gro ...\n",
       "18                                               MR5:\n",
       "19  V. Bovdi, A. Grishkov and A. Konovalov, Kimmer...\n",
       "20                                               MR5:\n",
       "21  V. Bovdi and A. Konovalov, Integral group ring...\n",
       "22                                               MR7:\n",
       "23  V. A. Artamonov and A. A. Bovdi, Integral gro ...\n",
       "24                                               MR7:\n",
       "25  V. Bovdi, A. Grishkov and A. Konovalov, Kimmer...\n",
       "26                                               MR7:\n",
       "27  V. Bovdi, E. Jespers and A. Konovalov, Tors ga...\n",
       "28                                               MR7:\n",
       "29  V. Bovdi and A. Konovalov, Integral group ring...\n",
       "30                                               MR9:\n",
       "31  The GAP Group, $GAP$ groups, algorithms, and p..."
      ]
     },
     "execution_count": 56,
     "metadata": {},
     "output_type": "execute_result"
    }
   ],
   "source": [
    "df"
   ]
  },
  {
   "cell_type": "markdown",
   "metadata": {},
   "source": [
    "Now we convert the dataframe to a .csv file which can be loaded by the next notebook for pre-processing and analysis."
   ]
  },
  {
   "cell_type": "code",
   "execution_count": 49,
   "metadata": {},
   "outputs": [],
   "source": [
    "df.to_csv('test_output.csv', encoding='utf-8', index=False)"
   ]
  },
  {
   "cell_type": "code",
   "execution_count": 50,
   "metadata": {},
   "outputs": [],
   "source": [
    "output = pd.read_csv('test_output.csv')"
   ]
  },
  {
   "cell_type": "code",
   "execution_count": 51,
   "metadata": {
    "scrolled": true
   },
   "outputs": [
    {
     "data": {
      "text/html": [
       "<div>\n",
       "<style scoped>\n",
       "    .dataframe tbody tr th:only-of-type {\n",
       "        vertical-align: middle;\n",
       "    }\n",
       "\n",
       "    .dataframe tbody tr th {\n",
       "        vertical-align: top;\n",
       "    }\n",
       "\n",
       "    .dataframe thead th {\n",
       "        text-align: right;\n",
       "    }\n",
       "</style>\n",
       "<table border=\"1\" class=\"dataframe\">\n",
       "  <thead>\n",
       "    <tr style=\"text-align: right;\">\n",
       "      <th></th>\n",
       "      <th>0</th>\n",
       "    </tr>\n",
       "  </thead>\n",
       "  <tbody>\n",
       "    <tr>\n",
       "      <th>0</th>\n",
       "      <td>MR4044696:The GAP Group, GAP – groups, algorit...</td>\n",
       "    </tr>\n",
       "    <tr>\n",
       "      <th>1</th>\n",
       "      <td>MR2900886:The GAP Group, $GAP$ groups, algorit...</td>\n",
       "    </tr>\n",
       "    <tr>\n",
       "      <th>2</th>\n",
       "      <td>MR3169623:Distler, A., Mitchell, J. D. (2011)....</td>\n",
       "    </tr>\n",
       "    <tr>\n",
       "      <th>3</th>\n",
       "      <td>MR3169623:The GAP Group, (2008). (http://www.g...</td>\n",
       "    </tr>\n",
       "    <tr>\n",
       "      <th>4</th>\n",
       "      <td>MR4180136:The GAP Group, 2019. GAP – Groups, A...</td>\n",
       "    </tr>\n",
       "    <tr>\n",
       "      <th>5</th>\n",
       "      <td>MR11:GAP group</td>\n",
       "    </tr>\n",
       "    <tr>\n",
       "      <th>6</th>\n",
       "      <td>MR1111111:Distler, A., Mitchell, J. D. (2011)....</td>\n",
       "    </tr>\n",
       "    <tr>\n",
       "      <th>7</th>\n",
       "      <td>MR1111111:The GAP Group, (2008). (http://www.g...</td>\n",
       "    </tr>\n",
       "    <tr>\n",
       "      <th>8</th>\n",
       "      <td>MR5:V. A. Artamonov and A. A. Bovdi, Integral ...</td>\n",
       "    </tr>\n",
       "    <tr>\n",
       "      <th>9</th>\n",
       "      <td>MR5:V. Bovdi, A. Grishkov and A. Konovalov, Ki...</td>\n",
       "    </tr>\n",
       "    <tr>\n",
       "      <th>10</th>\n",
       "      <td>MR5:V. Bovdi and A. Konovalov, Integral group ...</td>\n",
       "    </tr>\n",
       "    <tr>\n",
       "      <th>11</th>\n",
       "      <td>MR7:V. A. Artamonov and A. A. Bovdi, Integral ...</td>\n",
       "    </tr>\n",
       "    <tr>\n",
       "      <th>12</th>\n",
       "      <td>MR7:V. Bovdi, A. Grishkov and A. Konovalov, Ki...</td>\n",
       "    </tr>\n",
       "    <tr>\n",
       "      <th>13</th>\n",
       "      <td>MR7:V. Bovdi, E. Jespers and A. Konovalov, Tor...</td>\n",
       "    </tr>\n",
       "    <tr>\n",
       "      <th>14</th>\n",
       "      <td>MR7:V. Bovdi and A. Konovalov, Integral group ...</td>\n",
       "    </tr>\n",
       "    <tr>\n",
       "      <th>15</th>\n",
       "      <td>MR9:The GAP Group, $GAP$ groups, algorithms, a...</td>\n",
       "    </tr>\n",
       "  </tbody>\n",
       "</table>\n",
       "</div>"
      ],
      "text/plain": [
       "                                                    0\n",
       "0   MR4044696:The GAP Group, GAP – groups, algorit...\n",
       "1   MR2900886:The GAP Group, $GAP$ groups, algorit...\n",
       "2   MR3169623:Distler, A., Mitchell, J. D. (2011)....\n",
       "3   MR3169623:The GAP Group, (2008). (http://www.g...\n",
       "4   MR4180136:The GAP Group, 2019. GAP – Groups, A...\n",
       "5                                      MR11:GAP group\n",
       "6   MR1111111:Distler, A., Mitchell, J. D. (2011)....\n",
       "7   MR1111111:The GAP Group, (2008). (http://www.g...\n",
       "8   MR5:V. A. Artamonov and A. A. Bovdi, Integral ...\n",
       "9   MR5:V. Bovdi, A. Grishkov and A. Konovalov, Ki...\n",
       "10  MR5:V. Bovdi and A. Konovalov, Integral group ...\n",
       "11  MR7:V. A. Artamonov and A. A. Bovdi, Integral ...\n",
       "12  MR7:V. Bovdi, A. Grishkov and A. Konovalov, Ki...\n",
       "13  MR7:V. Bovdi, E. Jespers and A. Konovalov, Tor...\n",
       "14  MR7:V. Bovdi and A. Konovalov, Integral group ...\n",
       "15  MR9:The GAP Group, $GAP$ groups, algorithms, a..."
      ]
     },
     "execution_count": 51,
     "metadata": {},
     "output_type": "execute_result"
    }
   ],
   "source": [
    "output"
   ]
  },
  {
   "cell_type": "code",
   "execution_count": null,
   "metadata": {},
   "outputs": [],
   "source": []
  }
 ],
 "metadata": {
  "kernelspec": {
   "display_name": "Python 3",
   "language": "python",
   "name": "python3"
  },
  "language_info": {
   "codemirror_mode": {
    "name": "ipython",
    "version": 3
   },
   "file_extension": ".py",
   "mimetype": "text/x-python",
   "name": "python",
   "nbconvert_exporter": "python",
   "pygments_lexer": "ipython3",
   "version": "3.8.5"
  }
 },
 "nbformat": 4,
 "nbformat_minor": 4
}
